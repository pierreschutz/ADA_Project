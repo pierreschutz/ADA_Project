{
 "cells": [
  {
   "cell_type": "markdown",
   "metadata": {},
   "source": [
    "# Dataset : Flu clinics "
   ]
  },
  {
   "cell_type": "markdown",
   "metadata": {},
   "source": [
    "This dataset contains all the flu clinics offered in the city of Chicago in collaboration with the departement of public Health starting form 2014. "
   ]
  },
  {
   "cell_type": "markdown",
   "metadata": {},
   "source": [
    "## 1.Loading/Overview"
   ]
  },
  {
   "cell_type": "code",
   "execution_count": 108,
   "metadata": {},
   "outputs": [],
   "source": [
    "import pandas as pd\n",
    "import numpy as np\n",
    "import request\n",
    "from pathlib import Path\n",
    "import matplotlib.pyplot as plt"
   ]
  },
  {
   "cell_type": "code",
   "execution_count": 109,
   "metadata": {},
   "outputs": [],
   "source": [
    "data_path = Path('data')"
   ]
  },
  {
   "cell_type": "code",
   "execution_count": 110,
   "metadata": {},
   "outputs": [],
   "source": [
    "flu_clinics = pd.read_csv(data_path/'fluu.csv')"
   ]
  },
  {
   "cell_type": "code",
   "execution_count": 111,
   "metadata": {},
   "outputs": [
    {
     "data": {
      "text/plain": [
       "(1862, 27)"
      ]
     },
     "execution_count": 111,
     "metadata": {},
     "output_type": "execute_result"
    }
   ],
   "source": [
    "flu_clinics.shape"
   ]
  },
  {
   "cell_type": "markdown",
   "metadata": {},
   "source": [
    "We have in total 1862 flu clinics. Lets now have a look at the data columns of our data"
   ]
  },
  {
   "cell_type": "code",
   "execution_count": 112,
   "metadata": {},
   "outputs": [
    {
     "data": {
      "text/plain": [
       "Index(['Season', 'Facility ID', 'Latitude', 'Longitude', 'Street1', 'Street2',\n",
       "       'City', 'State', 'Postal Code', 'Country', 'Facility Name', 'URL',\n",
       "       'Phone', 'Contact', 'Begin Date', 'End Date', 'Begin Time', 'End Time',\n",
       "       'Begin DateTime', 'End DateTime', 'Recurrence Days', 'Hours',\n",
       "       'Eligibility', 'Cost', 'Notes', 'Record ID', 'Location'],\n",
       "      dtype='object')"
      ]
     },
     "execution_count": 112,
     "metadata": {},
     "output_type": "execute_result"
    }
   ],
   "source": [
    "flu_clinics.columns"
   ]
  },
  {
   "cell_type": "code",
   "execution_count": 113,
   "metadata": {},
   "outputs": [
    {
     "name": "stdout",
     "output_type": "stream",
     "text": [
      "Season              object\n",
      "Facility ID          int64\n",
      "Latitude           float64\n",
      "Longitude          float64\n",
      "Street1             object\n",
      "Street2             object\n",
      "City                object\n",
      "State               object\n",
      "Postal Code          int64\n",
      "Country             object\n",
      "Facility Name       object\n",
      "URL                 object\n",
      "Phone               object\n",
      "Contact             object\n",
      "Begin Date          object\n",
      "End Date            object\n",
      "Begin Time          object\n",
      "End Time            object\n",
      "Begin DateTime      object\n",
      "End DateTime        object\n",
      "Recurrence Days     object\n",
      "Hours               object\n",
      "Eligibility         object\n",
      "Cost                object\n",
      "Notes               object\n",
      "Record ID           object\n",
      "Location            object\n",
      "dtype: object\n"
     ]
    }
   ],
   "source": [
    "print(flu_clinics.dtypes)"
   ]
  },
  {
   "cell_type": "code",
   "execution_count": 114,
   "metadata": {},
   "outputs": [
    {
     "data": {
      "text/plain": [
       "'Sunday, Monday, Tuesday, Wednesday, Thursday, Friday, Saturday'"
      ]
     },
     "execution_count": 114,
     "metadata": {},
     "output_type": "execute_result"
    }
   ],
   "source": [
    "flu_clinics['Recurrence Days'].iloc[0]"
   ]
  },
  {
   "cell_type": "markdown",
   "metadata": {},
   "source": [
    "Here is the description of the data \n",
    "\n",
    "- **Facility name** (String): The name of the facility providing flu vaccinations.\n",
    "- **Facility ID** (Number): The unique identifier for the facility providing flu vaccinations.\n",
    "- **Facility type** (String): Denotes the type of facility providing flu vaccinations.\n",
    "- **Street1** (String): The street address of the facility providing flu vaccinations.\n",
    "- **Street2** (String): Supplementary street address information of the facility providing flu vaccinations.\n",
    "- **City** (String): The city of the facility providing flu vaccinations.\n",
    "- **State** (String): The state or province of the facility providing flu vaccinations.\n",
    "- **Postal Code** (String): The postal code of the facility providing flu vaccinations.\n",
    "- **Country** (String): The country of the facility providing flu vaccinations. (ISO 3166-1 alpha-2 format)\n",
    "- **Latitude** (decimal): The latitude of the facility providing flu vaccinations. (Value in decimal degrees to an accuracy of no less than 5 decimal places)\n",
    "\n",
    "- **Longitude** (decimal):The longitude of the facility providing flu vaccinations. (Value in decimal degrees to an accuracy of no less than 5 decimal places)\n",
    "- **Phone** (String): A contact phone number for the facility providing flu vaccinations.\n",
    "- **Contact** (String): The name of a contact person for the facility providing flu vaccinations.\n",
    "- **URL** (String): A website providing additional information about the business or entity administering flu vaccinations.\n",
    "- **Begin DateTime** (date): The date on which vaccinations begin at a specified location. (ISO 8601 format)\n",
    "- **End DateTime** (date): The date on which vaccinations end at a specified location. (ISO 8601 format)\n",
    "- **Begin Time** (time): The local time at which vaccinations begin being dispensed at a specified location. (ISO 8601 format)\n",
    "- **End Time** (time): The local time at which vaccinations begin being dispensed at a specified location. (ISO 8601 format)\n",
    "- **Eligibility** (String): Limitations on eligibility for vaccinations at a specific location.\n",
    "- **Notes** (String): List of any documents or documentation that might be needed to receive vaccination. Use the pipe (‘|’) delimiter to separate document names if multiple documents are required.\n",
    "- **Location** (decimal): Longitude and Latiude\n",
    "- **Cost** (decimal): The cost for vaccinations at a specified location (if any).\n",
    "- **Season** (String): Season when is was given \n",
    "- **Record ID** (String): An id for the record (unique)\n",
    "- **Recurrence Days** (String): Which day of the week it was given"
   ]
  },
  {
   "cell_type": "markdown",
   "metadata": {},
   "source": [
    "As we can see we have a lot of information for each of the flu clinics. This will allow us to have a multitude of different analysis."
   ]
  },
  {
   "cell_type": "markdown",
   "metadata": {},
   "source": [
    "## 2.Cleaning"
   ]
  },
  {
   "cell_type": "code",
   "execution_count": 115,
   "metadata": {},
   "outputs": [],
   "source": [
    "flu_clinics_init = flu_clinics.copy() # storing a copy of the original df"
   ]
  },
  {
   "cell_type": "markdown",
   "metadata": {},
   "source": [
    "First of all, ther are some columns that are cleary not relevant"
   ]
  },
  {
   "cell_type": "markdown",
   "metadata": {},
   "source": [
    "- **Contact, URL, ELigibility, Record ID, Phone** : Clearly we have no use for them\n",
    "- **Location** : It is redundant as we already have columns Longitude and Latitude"
   ]
  },
  {
   "cell_type": "code",
   "execution_count": 116,
   "metadata": {},
   "outputs": [],
   "source": [
    "to_drop = ['Contact', 'URL', 'Eligibility', 'Record ID', 'Phone', 'Location']"
   ]
  },
  {
   "cell_type": "code",
   "execution_count": 117,
   "metadata": {},
   "outputs": [],
   "source": [
    "flu_clinics = flu_clinics.drop(columns=to_drop)"
   ]
  },
  {
   "cell_type": "markdown",
   "metadata": {},
   "source": [
    "Now we need to look at the missing values and what to do with them"
   ]
  },
  {
   "cell_type": "code",
   "execution_count": 118,
   "metadata": {},
   "outputs": [
    {
     "data": {
      "text/plain": [
       "Season             0.000000\n",
       "Facility ID        0.000000\n",
       "Latitude           0.000000\n",
       "Longitude          0.000000\n",
       "Street1            0.000000\n",
       "Street2            0.988185\n",
       "City               0.000000\n",
       "State              0.000000\n",
       "Postal Code        0.000000\n",
       "Country            0.000000\n",
       "Facility Name      0.000000\n",
       "Begin Date         0.000000\n",
       "End Date           0.000000\n",
       "Begin Time         0.769603\n",
       "End Time           0.769603\n",
       "Begin DateTime     0.769603\n",
       "End DateTime       0.769603\n",
       "Recurrence Days    0.000000\n",
       "Hours              0.230397\n",
       "Cost               0.081633\n",
       "Notes              0.752417\n",
       "dtype: float64"
      ]
     },
     "execution_count": 118,
     "metadata": {},
     "output_type": "execute_result"
    }
   ],
   "source": [
    "flu_clinics.isnull().mean() "
   ]
  },
  {
   "cell_type": "markdown",
   "metadata": {},
   "source": [
    "Notes, Street2, and the Begin and End Time and DateTime can be dropped as they have too over 75% of missing values"
   ]
  },
  {
   "cell_type": "code",
   "execution_count": 119,
   "metadata": {},
   "outputs": [],
   "source": [
    "to_drop_m = ['Street2', 'Notes', 'Begin Date', 'End Date', 'Begin DateTime', 'End DateTime', 'Begin Time', 'End Time']"
   ]
  },
  {
   "cell_type": "code",
   "execution_count": 120,
   "metadata": {},
   "outputs": [],
   "source": [
    "flu_clinics = flu_clinics.drop(columns=to_drop_m)"
   ]
  },
  {
   "cell_type": "markdown",
   "metadata": {},
   "source": [
    "We cannot really do much more with the remaining missing values as it is not possible infer them. Let's look at how disparse the data is"
   ]
  },
  {
   "cell_type": "code",
   "execution_count": 121,
   "metadata": {},
   "outputs": [
    {
     "data": {
      "text/plain": [
       "Season               6\n",
       "Facility ID        342\n",
       "Latitude           913\n",
       "Longitude          927\n",
       "Street1            491\n",
       "City                 5\n",
       "State                1\n",
       "Postal Code         58\n",
       "Country              1\n",
       "Facility Name      245\n",
       "Recurrence Days     15\n",
       "Hours               87\n",
       "Cost                 5\n",
       "dtype: int64"
      ]
     },
     "execution_count": 121,
     "metadata": {},
     "output_type": "execute_result"
    }
   ],
   "source": [
    "flu_clinics.nunique()"
   ]
  },
  {
   "cell_type": "markdown",
   "metadata": {},
   "source": [
    "First of all, we can directly delete Country and State as they obviously only have one element"
   ]
  },
  {
   "cell_type": "code",
   "execution_count": 184,
   "metadata": {},
   "outputs": [],
   "source": [
    "to_drop_u = ['Country', 'State']"
   ]
  },
  {
   "cell_type": "markdown",
   "metadata": {},
   "source": [
    "The City oddly has 5 different elements"
   ]
  },
  {
   "cell_type": "code",
   "execution_count": 123,
   "metadata": {},
   "outputs": [
    {
     "data": {
      "text/plain": [
       "array(['CHICAGO', 'Chicago', 'CHICAGO HEIGHTS', 'NORRIDGE', 'LANSING'],\n",
       "      dtype=object)"
      ]
     },
     "execution_count": 123,
     "metadata": {},
     "output_type": "execute_result"
    }
   ],
   "source": [
    "flu_clinics['City'].unique()"
   ]
  },
  {
   "cell_type": "markdown",
   "metadata": {},
   "source": [
    "By doing some research we can see that Chicago Heights, Norridge and Lansing are all part of Chicago Geographically. So we can also drop the City column as it only has Chicago "
   ]
  },
  {
   "cell_type": "code",
   "execution_count": 124,
   "metadata": {},
   "outputs": [],
   "source": [
    "to_drop_u.append('City')"
   ]
  },
  {
   "cell_type": "code",
   "execution_count": 125,
   "metadata": {},
   "outputs": [],
   "source": [
    "flu_clinics = flu_clinics.drop(columns=to_drop_u)"
   ]
  },
  {
   "cell_type": "markdown",
   "metadata": {},
   "source": [
    "## 3.Analysis"
   ]
  },
  {
   "cell_type": "markdown",
   "metadata": {},
   "source": [
    "### 3.1 Day of the week distribution"
   ]
  },
  {
   "cell_type": "markdown",
   "metadata": {},
   "source": [
    "Let us look at when in the week do the clinics tend to give flu vaccines"
   ]
  },
  {
   "cell_type": "code",
   "execution_count": 128,
   "metadata": {},
   "outputs": [
    {
     "data": {
      "text/plain": [
       "Sunday, Monday, Tuesday, Wednesday, Thursday, Friday, Saturday      1243\n",
       "Saturday                                                             112\n",
       "Monday, Tuesday, Wednesday, Thursday, Friday, Saturday, Sunday        80\n",
       "Thursday                                                              69\n",
       "Monday, Tuesday, Wednesday, Thursday, Friday                          64\n",
       "Friday                                                                59\n",
       "Wednesday                                                             57\n",
       "Tuesday                                                               53\n",
       "Sunday                                                                41\n",
       "Monday                                                                38\n",
       "Monday, Tuesday, Wednesday, Thursday, Friday, Saturday                16\n",
       "Monday, Tuesday, Wednesday                                            12\n",
       "Thursday, Friday                                                      12\n",
       "Sunday, Monday, Tuesday, Wednesday, Thursday, Friday                   4\n",
       "Saturday, Monday, Tuesday, Wednesday, Thursday, Friday, Saturday       2\n",
       "Name: Recurrence Days, dtype: int64"
      ]
     },
     "execution_count": 128,
     "metadata": {},
     "output_type": "execute_result"
    }
   ],
   "source": [
    "flu_clinics['Recurrence Days'].value_counts()"
   ]
  },
  {
   "cell_type": "code",
   "execution_count": 134,
   "metadata": {},
   "outputs": [],
   "source": [
    "day_of_week = flu_clinics['Recurrence Days'].apply(lambda x : x.replace(' ', '').split(',')).explode()"
   ]
  },
  {
   "cell_type": "code",
   "execution_count": 155,
   "metadata": {},
   "outputs": [
    {
     "data": {
      "text/plain": [
       "Thursday     1490\n",
       "Friday       1480\n",
       "Wednesday    1478\n",
       "Tuesday      1474\n",
       "Monday       1459\n",
       "Saturday     1455\n",
       "Sunday       1368\n",
       "Name: Recurrence Days, dtype: int64"
      ]
     },
     "execution_count": 155,
     "metadata": {},
     "output_type": "execute_result"
    }
   ],
   "source": [
    "count_per_day = day_of_week.value_counts()\n",
    "count_per_day"
   ]
  },
  {
   "cell_type": "markdown",
   "metadata": {},
   "source": [
    "As we can see, those values are pretty, let's plot it to have a better look at it"
   ]
  },
  {
   "cell_type": "code",
   "execution_count": 159,
   "metadata": {},
   "outputs": [
    {
     "data": {
      "image/png": "[encoded data removed]",
      "text/plain": [
       "<Figure size 1008x576 with 1 Axes>"
      ]
     },
     "metadata": {
      "needs_background": "light"
     },
     "output_type": "display_data"
    }
   ],
   "source": [
    "plt.figure(figsize=(14, 8))\n",
    "count_per_day.plot(kind='barh', color='mediumaquamarine', xlim=[1300, 1500])\n",
    "plt.title('Flu vaccines per day of week')\n",
    "plt.show()\n"
   ]
  },
  {
   "cell_type": "markdown",
   "metadata": {},
   "source": [
    "## 3.2 Overall flu vaccines over time"
   ]
  },
  {
   "cell_type": "markdown",
   "metadata": {},
   "source": [
    "It would be interesting to see if the amount of flu vaccines changed over the years"
   ]
  },
  {
   "cell_type": "code",
   "execution_count": 162,
   "metadata": {},
   "outputs": [
    {
     "data": {
      "text/plain": [
       "array(['2015-2016', '2018-2019', '2017-2018', '2014-2015', '2019-2020',\n",
       "       '2016-2017'], dtype=object)"
      ]
     },
     "execution_count": 162,
     "metadata": {},
     "output_type": "execute_result"
    }
   ],
   "source": [
    "flu_clinics.Season.unique()"
   ]
  },
  {
   "cell_type": "code",
   "execution_count": 182,
   "metadata": {},
   "outputs": [
    {
     "data": {
      "text/plain": [
       "2014-2015    332\n",
       "2015-2016    342\n",
       "2016-2017    299\n",
       "2017-2018    297\n",
       "2018-2019    288\n",
       "2019-2020    304\n",
       "Name: Season, dtype: int64"
      ]
     },
     "execution_count": 182,
     "metadata": {},
     "output_type": "execute_result"
    }
   ],
   "source": [
    "count_per_season = flu_clinics.Season.value_counts() \n",
    "count_per_season = count_per_season.sort_index()\n",
    "count_per_season"
   ]
  },
  {
   "cell_type": "code",
   "execution_count": 183,
   "metadata": {},
   "outputs": [
    {
     "data": {
      "image/png": "[encoded data removed]",
      "text/plain": [
       "<Figure size 432x288 with 1 Axes>"
      ]
     },
     "metadata": {
      "needs_background": "light"
     },
     "output_type": "display_data"
    }
   ],
   "source": [
    "count_per_season.plot(kind='line', marker='o', xlim=[-0.2, 5.2])\n",
    "plt.title('Flu vaccines over the years')\n",
    "plt.tight_layout()\n",
    "plt.show()"
   ]
  },
  {
   "cell_type": "markdown",
   "metadata": {},
   "source": [
    "As we can see, they are less and less flu vaccines over the year with a slight augmentation in 2019-2020"
   ]
  },
  {
   "cell_type": "markdown",
   "metadata": {},
   "source": [
    "### 3.2 Flu vaccines location"
   ]
  },
  {
   "cell_type": "code",
   "execution_count": 188,
   "metadata": {},
   "outputs": [],
   "source": [
    "import seaborn as sns"
   ]
  },
  {
   "cell_type": "markdown",
   "metadata": {},
   "source": [
    "Let us look at the distribution of the clinics who gave flu vaccinations in Chicago and see if we can get some insight from it"
   ]
  },
  {
   "cell_type": "markdown",
   "metadata": {},
   "source": [
    "Here is the map of Chicago : \n",
    "\n",
    "![Chicago Map](data/chicagomap.png)"
   ]
  },
  {
   "cell_type": "markdown",
   "metadata": {},
   "source": [
    "As for the locations :"
   ]
  },
  {
   "cell_type": "code",
   "execution_count": 201,
   "metadata": {},
   "outputs": [],
   "source": [
    "data = flu_clinics[['Latitude', 'Longitude']]"
   ]
  },
  {
   "cell_type": "code",
   "execution_count": 205,
   "metadata": {},
   "outputs": [
    {
     "data": {
      "image/png": "[encoded data removed]",
      "text/plain": [
       "<Figure size 720x936 with 1 Axes>"
      ]
     },
     "metadata": {
      "needs_background": "light"
     },
     "output_type": "display_data"
    }
   ],
   "source": [
    "plt.figure(figsize=(10, 13))\n",
    "sns.scatterplot(x='Longitude', y='Latitude', data = data)\n",
    "plt.title('Flu clinics map')\n",
    "plt.show()"
   ]
  },
  {
   "cell_type": "markdown",
   "metadata": {},
   "source": [
    "We can clearly see that there is bigger amount of clinics that gave flu vaccines closer to the lake, otherwise it looks like i is uniformly distributed"
   ]
  }
 ],
 "metadata": {
  "kernelspec": {
   "display_name": "Python 3",
   "language": "python",
   "name": "python3"
  },
  "language_info": {
   "codemirror_mode": {
    "name": "ipython",
    "version": 3
   },
   "file_extension": ".py",
   "mimetype": "text/x-python",
   "name": "python",
   "nbconvert_exporter": "python",
   "pygments_lexer": "ipython3",
   "version": "3.7.1"
  }
 },
 "nbformat": 4,
 "nbformat_minor": 2
}
