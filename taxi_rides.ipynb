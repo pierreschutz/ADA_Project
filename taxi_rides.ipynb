{
 "cells": [
  {
   "cell_type": "markdown",
   "metadata": {},
   "source": [
    "# Chicago taxi rides in 2016"
   ]
  },
  {
   "cell_type": "markdown",
   "metadata": {},
   "source": [
    "***Work on \"Chicago taxi rides in 2016\" dataset including :*** \n",
    "    \n",
    "-Clean the datasets (remove outliers, fill missing values)\n",
    "\n",
    "-Compute interesting derivatives of the datasets\n",
    "\n",
    "-Extract as many information as possible from the different datasets\n",
    "\n",
    "-Visualize the data: Draw chart and plot to get more insight into the data\n"
   ]
  },
  {
   "cell_type": "markdown",
   "metadata": {},
   "source": [
    "### Getting a sense of the data & preprocessing"
   ]
  },
  {
   "cell_type": "code",
   "execution_count": 4,
   "metadata": {},
   "outputs": [],
   "source": [
    "import pandas as pd\n",
    "import numpy as np\n",
    "import matplotlib.pyplot as plt\n",
    "import seaborn as sns\n",
    "import folium"
   ]
  },
  {
   "cell_type": "code",
   "execution_count": 44,
   "metadata": {},
   "outputs": [],
   "source": [
    "CHICAGO_TAXI_RIDES_PATH = \"./data/chicago-taxi-rides-2016/\""
   ]
  },
  {
   "cell_type": "code",
   "execution_count": 7,
   "metadata": {},
   "outputs": [],
   "source": [
    "# Generate all the paths to query the data\n",
    "all_df = []\n",
    "\n",
    "init_path = CHICAGO_TAXI_RIDES_PATH + \"chicago_taxi_trips_2016_\"\n",
    "for i in range (1,13):\n",
    "    # Append the month to the path\n",
    "    path = init_path + \"{:02d}\".format(i) + \".csv\"\n",
    "    # Read the file at the given path\n",
    "    file_data = pd.read_csv(path)\n",
    "    # Add the content a list of files content\n",
    "    all_df.append(file_data)"
   ]
  },
  {
   "cell_type": "code",
   "execution_count": 8,
   "metadata": {},
   "outputs": [],
   "source": [
    "data = pd.concat(all_df)"
   ]
  },
  {
   "cell_type": "code",
   "execution_count": 9,
   "metadata": {},
   "outputs": [
    {
     "name": "stdout",
     "output_type": "stream",
     "text": [
      "<class 'pandas.core.frame.DataFrame'>\n",
      "Int64Index: 19866157 entries, 0 to 1245711\n",
      "Data columns (total 20 columns):\n",
      "taxi_id                   float64\n",
      "trip_start_timestamp      object\n",
      "trip_end_timestamp        object\n",
      "trip_seconds              float64\n",
      "trip_miles                float64\n",
      "pickup_census_tract       float64\n",
      "dropoff_census_tract      float64\n",
      "pickup_community_area     float64\n",
      "dropoff_community_area    float64\n",
      "fare                      float64\n",
      "tips                      float64\n",
      "tolls                     float64\n",
      "extras                    float64\n",
      "trip_total                float64\n",
      "payment_type              object\n",
      "company                   float64\n",
      "pickup_latitude           float64\n",
      "pickup_longitude          float64\n",
      "dropoff_latitude          float64\n",
      "dropoff_longitude         float64\n",
      "dtypes: float64(17), object(3)\n",
      "memory usage: 3.1+ GB\n"
     ]
    }
   ],
   "source": [
    "data.info()"
   ]
  },
  {
   "cell_type": "code",
   "execution_count": 10,
   "metadata": {},
   "outputs": [
    {
     "data": {
      "text/plain": [
       "(19866157, 20)"
      ]
     },
     "execution_count": 10,
     "metadata": {},
     "output_type": "execute_result"
    }
   ],
   "source": [
    "data.shape"
   ]
  },
  {
   "cell_type": "code",
   "execution_count": 11,
   "metadata": {},
   "outputs": [],
   "source": [
    "data = data.drop(columns= [\"trip_seconds\", \"trip_miles\", \"pickup_census_tract\", \"dropoff_census_tract\", \"fare\", \"tips\", \"tolls\", \"extras\", \"trip_total\", \"payment_type\", \"company\"])"
   ]
  },
  {
   "cell_type": "code",
   "execution_count": 12,
   "metadata": {},
   "outputs": [
    {
     "data": {
      "text/html": [
       "<div>\n",
       "<style scoped>\n",
       "    .dataframe tbody tr th:only-of-type {\n",
       "        vertical-align: middle;\n",
       "    }\n",
       "\n",
       "    .dataframe tbody tr th {\n",
       "        vertical-align: top;\n",
       "    }\n",
       "\n",
       "    .dataframe thead th {\n",
       "        text-align: right;\n",
       "    }\n",
       "</style>\n",
       "<table border=\"1\" class=\"dataframe\">\n",
       "  <thead>\n",
       "    <tr style=\"text-align: right;\">\n",
       "      <th></th>\n",
       "      <th>taxi_id</th>\n",
       "      <th>trip_start_timestamp</th>\n",
       "      <th>trip_end_timestamp</th>\n",
       "      <th>pickup_community_area</th>\n",
       "      <th>dropoff_community_area</th>\n",
       "      <th>pickup_latitude</th>\n",
       "      <th>pickup_longitude</th>\n",
       "      <th>dropoff_latitude</th>\n",
       "      <th>dropoff_longitude</th>\n",
       "    </tr>\n",
       "  </thead>\n",
       "  <tbody>\n",
       "    <tr>\n",
       "      <th>0</th>\n",
       "      <td>85.0</td>\n",
       "      <td>2016-1-13 06:15:00</td>\n",
       "      <td>2016-1-13 06:15:00</td>\n",
       "      <td>24.0</td>\n",
       "      <td>24.0</td>\n",
       "      <td>199.0</td>\n",
       "      <td>510.0</td>\n",
       "      <td>199.0</td>\n",
       "      <td>510.0</td>\n",
       "    </tr>\n",
       "    <tr>\n",
       "      <th>1</th>\n",
       "      <td>2776.0</td>\n",
       "      <td>2016-1-22 09:30:00</td>\n",
       "      <td>2016-1-22 09:45:00</td>\n",
       "      <td>NaN</td>\n",
       "      <td>NaN</td>\n",
       "      <td>NaN</td>\n",
       "      <td>NaN</td>\n",
       "      <td>NaN</td>\n",
       "      <td>NaN</td>\n",
       "    </tr>\n",
       "    <tr>\n",
       "      <th>2</th>\n",
       "      <td>3168.0</td>\n",
       "      <td>2016-1-31 21:30:00</td>\n",
       "      <td>2016-1-31 21:30:00</td>\n",
       "      <td>NaN</td>\n",
       "      <td>NaN</td>\n",
       "      <td>NaN</td>\n",
       "      <td>NaN</td>\n",
       "      <td>NaN</td>\n",
       "      <td>NaN</td>\n",
       "    </tr>\n",
       "    <tr>\n",
       "      <th>3</th>\n",
       "      <td>4237.0</td>\n",
       "      <td>2016-1-23 17:30:00</td>\n",
       "      <td>2016-1-23 17:30:00</td>\n",
       "      <td>6.0</td>\n",
       "      <td>6.0</td>\n",
       "      <td>686.0</td>\n",
       "      <td>500.0</td>\n",
       "      <td>686.0</td>\n",
       "      <td>500.0</td>\n",
       "    </tr>\n",
       "    <tr>\n",
       "      <th>4</th>\n",
       "      <td>5710.0</td>\n",
       "      <td>2016-1-14 05:45:00</td>\n",
       "      <td>2016-1-14 06:00:00</td>\n",
       "      <td>32.0</td>\n",
       "      <td>NaN</td>\n",
       "      <td>385.0</td>\n",
       "      <td>478.0</td>\n",
       "      <td>NaN</td>\n",
       "      <td>NaN</td>\n",
       "    </tr>\n",
       "  </tbody>\n",
       "</table>\n",
       "</div>"
      ],
      "text/plain": [
       "   taxi_id trip_start_timestamp  trip_end_timestamp  pickup_community_area  \\\n",
       "0     85.0   2016-1-13 06:15:00  2016-1-13 06:15:00                   24.0   \n",
       "1   2776.0   2016-1-22 09:30:00  2016-1-22 09:45:00                    NaN   \n",
       "2   3168.0   2016-1-31 21:30:00  2016-1-31 21:30:00                    NaN   \n",
       "3   4237.0   2016-1-23 17:30:00  2016-1-23 17:30:00                    6.0   \n",
       "4   5710.0   2016-1-14 05:45:00  2016-1-14 06:00:00                   32.0   \n",
       "\n",
       "   dropoff_community_area  pickup_latitude  pickup_longitude  \\\n",
       "0                    24.0            199.0             510.0   \n",
       "1                     NaN              NaN               NaN   \n",
       "2                     NaN              NaN               NaN   \n",
       "3                     6.0            686.0             500.0   \n",
       "4                     NaN            385.0             478.0   \n",
       "\n",
       "   dropoff_latitude  dropoff_longitude  \n",
       "0             199.0              510.0  \n",
       "1               NaN                NaN  \n",
       "2               NaN                NaN  \n",
       "3             686.0              500.0  \n",
       "4               NaN                NaN  "
      ]
     },
     "execution_count": 12,
     "metadata": {},
     "output_type": "execute_result"
    }
   ],
   "source": [
    "data.head()"
   ]
  },
  {
   "cell_type": "code",
   "execution_count": 13,
   "metadata": {},
   "outputs": [],
   "source": [
    "import pickle\n",
    "\n",
    "# If file exists then load it\n",
    "try:\n",
    "    taxi_rides_init = pickle.load(open(CHICAGO_TAXI_RIDES_PATH + \"taxi_rides_init.pickle\", \"rb\"))\n",
    "# Otherwise create it\n",
    "except (OSError, IOError) as e:\n",
    "    taxi_rides_init = data\n",
    "    pickle.dump(taxi_rides_init, open(CHICAGO_TAXI_RIDES_PATH + \"taxi_rides_init.pickle\", \"wb\"))"
   ]
  },
  {
   "cell_type": "markdown",
   "metadata": {},
   "source": [
    "_Let's look at the types of the data:_"
   ]
  },
  {
   "cell_type": "code",
   "execution_count": 15,
   "metadata": {},
   "outputs": [
    {
     "data": {
      "text/plain": [
       "taxi_id                   float64\n",
       "trip_start_timestamp       object\n",
       "trip_end_timestamp         object\n",
       "pickup_community_area     float64\n",
       "dropoff_community_area    float64\n",
       "pickup_latitude           float64\n",
       "pickup_longitude          float64\n",
       "dropoff_latitude          float64\n",
       "dropoff_longitude         float64\n",
       "dtype: object"
      ]
     },
     "execution_count": 15,
     "metadata": {},
     "output_type": "execute_result"
    }
   ],
   "source": [
    "taxi_rides_init.dtypes"
   ]
  },
  {
   "cell_type": "code",
   "execution_count": 16,
   "metadata": {},
   "outputs": [
    {
     "data": {
      "text/html": [
       "<div>\n",
       "<style scoped>\n",
       "    .dataframe tbody tr th:only-of-type {\n",
       "        vertical-align: middle;\n",
       "    }\n",
       "\n",
       "    .dataframe tbody tr th {\n",
       "        vertical-align: top;\n",
       "    }\n",
       "\n",
       "    .dataframe thead th {\n",
       "        text-align: right;\n",
       "    }\n",
       "</style>\n",
       "<table border=\"1\" class=\"dataframe\">\n",
       "  <thead>\n",
       "    <tr style=\"text-align: right;\">\n",
       "      <th></th>\n",
       "      <th>taxi_id</th>\n",
       "      <th>trip_start_timestamp</th>\n",
       "      <th>trip_end_timestamp</th>\n",
       "      <th>pickup_community_area</th>\n",
       "      <th>dropoff_community_area</th>\n",
       "      <th>pickup_latitude</th>\n",
       "      <th>pickup_longitude</th>\n",
       "      <th>dropoff_latitude</th>\n",
       "      <th>dropoff_longitude</th>\n",
       "    </tr>\n",
       "  </thead>\n",
       "  <tbody>\n",
       "    <tr>\n",
       "      <th>0</th>\n",
       "      <td>85.0</td>\n",
       "      <td>2016-1-13 06:15:00</td>\n",
       "      <td>2016-1-13 06:15:00</td>\n",
       "      <td>24.0</td>\n",
       "      <td>24.0</td>\n",
       "      <td>199.0</td>\n",
       "      <td>510.0</td>\n",
       "      <td>199.0</td>\n",
       "      <td>510.0</td>\n",
       "    </tr>\n",
       "    <tr>\n",
       "      <th>1</th>\n",
       "      <td>2776.0</td>\n",
       "      <td>2016-1-22 09:30:00</td>\n",
       "      <td>2016-1-22 09:45:00</td>\n",
       "      <td>NaN</td>\n",
       "      <td>NaN</td>\n",
       "      <td>NaN</td>\n",
       "      <td>NaN</td>\n",
       "      <td>NaN</td>\n",
       "      <td>NaN</td>\n",
       "    </tr>\n",
       "    <tr>\n",
       "      <th>2</th>\n",
       "      <td>3168.0</td>\n",
       "      <td>2016-1-31 21:30:00</td>\n",
       "      <td>2016-1-31 21:30:00</td>\n",
       "      <td>NaN</td>\n",
       "      <td>NaN</td>\n",
       "      <td>NaN</td>\n",
       "      <td>NaN</td>\n",
       "      <td>NaN</td>\n",
       "      <td>NaN</td>\n",
       "    </tr>\n",
       "    <tr>\n",
       "      <th>3</th>\n",
       "      <td>4237.0</td>\n",
       "      <td>2016-1-23 17:30:00</td>\n",
       "      <td>2016-1-23 17:30:00</td>\n",
       "      <td>6.0</td>\n",
       "      <td>6.0</td>\n",
       "      <td>686.0</td>\n",
       "      <td>500.0</td>\n",
       "      <td>686.0</td>\n",
       "      <td>500.0</td>\n",
       "    </tr>\n",
       "    <tr>\n",
       "      <th>4</th>\n",
       "      <td>5710.0</td>\n",
       "      <td>2016-1-14 05:45:00</td>\n",
       "      <td>2016-1-14 06:00:00</td>\n",
       "      <td>32.0</td>\n",
       "      <td>NaN</td>\n",
       "      <td>385.0</td>\n",
       "      <td>478.0</td>\n",
       "      <td>NaN</td>\n",
       "      <td>NaN</td>\n",
       "    </tr>\n",
       "  </tbody>\n",
       "</table>\n",
       "</div>"
      ],
      "text/plain": [
       "   taxi_id trip_start_timestamp  trip_end_timestamp  pickup_community_area  \\\n",
       "0     85.0   2016-1-13 06:15:00  2016-1-13 06:15:00                   24.0   \n",
       "1   2776.0   2016-1-22 09:30:00  2016-1-22 09:45:00                    NaN   \n",
       "2   3168.0   2016-1-31 21:30:00  2016-1-31 21:30:00                    NaN   \n",
       "3   4237.0   2016-1-23 17:30:00  2016-1-23 17:30:00                    6.0   \n",
       "4   5710.0   2016-1-14 05:45:00  2016-1-14 06:00:00                   32.0   \n",
       "\n",
       "   dropoff_community_area  pickup_latitude  pickup_longitude  \\\n",
       "0                    24.0            199.0             510.0   \n",
       "1                     NaN              NaN               NaN   \n",
       "2                     NaN              NaN               NaN   \n",
       "3                     6.0            686.0             500.0   \n",
       "4                     NaN            385.0             478.0   \n",
       "\n",
       "   dropoff_latitude  dropoff_longitude  \n",
       "0             199.0              510.0  \n",
       "1               NaN                NaN  \n",
       "2               NaN                NaN  \n",
       "3             686.0              500.0  \n",
       "4               NaN                NaN  "
      ]
     },
     "execution_count": 16,
     "metadata": {},
     "output_type": "execute_result"
    }
   ],
   "source": [
    "taxi_rides_init.head()"
   ]
  },
  {
   "cell_type": "markdown",
   "metadata": {},
   "source": [
    "_We can see here that a lot of types could be simplified using integers. We can also parse the different times as well as trip times. Also, there is some null values in the data. Let's have a look at it._"
   ]
  },
  {
   "cell_type": "code",
   "execution_count": 19,
   "metadata": {},
   "outputs": [
    {
     "data": {
      "text/plain": [
       "taxi_id                      2933\n",
       "trip_start_timestamp            0\n",
       "trip_end_timestamp           2413\n",
       "pickup_community_area     2755980\n",
       "dropoff_community_area    3086050\n",
       "pickup_latitude           2755600\n",
       "pickup_longitude          2755600\n",
       "dropoff_latitude          3047662\n",
       "dropoff_longitude         3047662\n",
       "dtype: int64"
      ]
     },
     "execution_count": 19,
     "metadata": {},
     "output_type": "execute_result"
    }
   ],
   "source": [
    "taxi_rides_init.isnull().sum()"
   ]
  },
  {
   "cell_type": "code",
   "execution_count": 21,
   "metadata": {},
   "outputs": [],
   "source": [
    "# Convert the latitude and longitude features into their actual values.\n",
    "def convert_coord(coord, nb):\n",
    "    s = str(coord)\n",
    "    res=\"\"\n",
    "    if nb == 1:\n",
    "        res = \"41.8\"+s.split('.')[0]+s.split('.')[1]\n",
    "    else: \n",
    "        res = \"-87.6\"+s.split('.')[0]+ s.split('.')[1]\n",
    "    return float(res)"
   ]
  },
  {
   "cell_type": "markdown",
   "metadata": {},
   "source": [
    "_We have a lot of null values. As we are really interested in the locations, we are going to drop the entries that have missing values._"
   ]
  },
  {
   "cell_type": "code",
   "execution_count": 27,
   "metadata": {},
   "outputs": [],
   "source": [
    "taxi_rides_init = taxi_rides_init.dropna(subset=['taxi_id', 'pickup_community_area',\n",
    "                                                 'dropoff_community_area',\n",
    "                                                 'pickup_latitude',\n",
    "                                                 'pickup_longitude', \n",
    "                                                 'dropoff_latitude',\n",
    "                                                 'dropoff_longitude'])"
   ]
  },
  {
   "cell_type": "code",
   "execution_count": 31,
   "metadata": {},
   "outputs": [
    {
     "ename": "AttributeError",
     "evalue": "'Series' object has no attribute 'total_seconds'",
     "output_type": "error",
     "traceback": [
      "\u001b[0;31m---------------------------------------------------------------------------\u001b[0m",
      "\u001b[0;31mAttributeError\u001b[0m                            Traceback (most recent call last)",
      "\u001b[0;32m<ipython-input-31-e08e00cfac20>\u001b[0m in \u001b[0;36m<module>\u001b[0;34m\u001b[0m\n\u001b[1;32m      4\u001b[0m \u001b[0mtaxi_rides_init\u001b[0m\u001b[0;34m[\u001b[0m\u001b[0;34m'may'\u001b[0m\u001b[0;34m]\u001b[0m \u001b[0;34m=\u001b[0m \u001b[0mtaxi_rides_init\u001b[0m\u001b[0;34m.\u001b[0m\u001b[0mtrip_start_timestamp\u001b[0m\u001b[0;34m.\u001b[0m\u001b[0mapply\u001b[0m\u001b[0;34m(\u001b[0m\u001b[0;32mlambda\u001b[0m \u001b[0mx\u001b[0m\u001b[0;34m:\u001b[0m \u001b[0mx\u001b[0m\u001b[0;34m.\u001b[0m\u001b[0mday\u001b[0m\u001b[0;34m)\u001b[0m\u001b[0;34m\u001b[0m\u001b[0;34m\u001b[0m\u001b[0m\n\u001b[1;32m      5\u001b[0m \u001b[0mtaxi_rides_init\u001b[0m\u001b[0;34m[\u001b[0m\u001b[0;34m'start_hour'\u001b[0m\u001b[0;34m]\u001b[0m \u001b[0;34m=\u001b[0m \u001b[0mtaxi_rides_init\u001b[0m\u001b[0;34m.\u001b[0m\u001b[0mtrip_start_timestamp\u001b[0m\u001b[0;34m.\u001b[0m\u001b[0mapply\u001b[0m\u001b[0;34m(\u001b[0m\u001b[0;32mlambda\u001b[0m \u001b[0mx\u001b[0m\u001b[0;34m:\u001b[0m \u001b[0mx\u001b[0m\u001b[0;34m.\u001b[0m\u001b[0mhour\u001b[0m\u001b[0;34m)\u001b[0m\u001b[0;34m\u001b[0m\u001b[0;34m\u001b[0m\u001b[0m\n\u001b[0;32m----> 6\u001b[0;31m \u001b[0mtaxi_rides_init\u001b[0m\u001b[0;34m[\u001b[0m\u001b[0;34m'duration'\u001b[0m\u001b[0;34m]\u001b[0m \u001b[0;34m=\u001b[0m \u001b[0;34m(\u001b[0m\u001b[0mtaxi_rides_init\u001b[0m\u001b[0;34m.\u001b[0m\u001b[0mtrip_start_timestamp\u001b[0m \u001b[0;34m-\u001b[0m \u001b[0mtaxi_rides_init\u001b[0m\u001b[0;34m.\u001b[0m\u001b[0mtrip_end_timestamp\u001b[0m\u001b[0;34m)\u001b[0m\u001b[0;34m.\u001b[0m\u001b[0mtotal_seconds\u001b[0m\u001b[0;34m(\u001b[0m\u001b[0;34m)\u001b[0m\u001b[0;34m\u001b[0m\u001b[0;34m\u001b[0m\u001b[0m\n\u001b[0m",
      "\u001b[0;32m/anaconda3/lib/python3.7/site-packages/pandas/core/generic.py\u001b[0m in \u001b[0;36m__getattr__\u001b[0;34m(self, name)\u001b[0m\n\u001b[1;32m   4374\u001b[0m             \u001b[0;32mif\u001b[0m \u001b[0mself\u001b[0m\u001b[0;34m.\u001b[0m\u001b[0m_info_axis\u001b[0m\u001b[0;34m.\u001b[0m\u001b[0m_can_hold_identifiers_and_holds_name\u001b[0m\u001b[0;34m(\u001b[0m\u001b[0mname\u001b[0m\u001b[0;34m)\u001b[0m\u001b[0;34m:\u001b[0m\u001b[0;34m\u001b[0m\u001b[0;34m\u001b[0m\u001b[0m\n\u001b[1;32m   4375\u001b[0m                 \u001b[0;32mreturn\u001b[0m \u001b[0mself\u001b[0m\u001b[0;34m[\u001b[0m\u001b[0mname\u001b[0m\u001b[0;34m]\u001b[0m\u001b[0;34m\u001b[0m\u001b[0;34m\u001b[0m\u001b[0m\n\u001b[0;32m-> 4376\u001b[0;31m             \u001b[0;32mreturn\u001b[0m \u001b[0mobject\u001b[0m\u001b[0;34m.\u001b[0m\u001b[0m__getattribute__\u001b[0m\u001b[0;34m(\u001b[0m\u001b[0mself\u001b[0m\u001b[0;34m,\u001b[0m \u001b[0mname\u001b[0m\u001b[0;34m)\u001b[0m\u001b[0;34m\u001b[0m\u001b[0;34m\u001b[0m\u001b[0m\n\u001b[0m\u001b[1;32m   4377\u001b[0m \u001b[0;34m\u001b[0m\u001b[0m\n\u001b[1;32m   4378\u001b[0m     \u001b[0;32mdef\u001b[0m \u001b[0m__setattr__\u001b[0m\u001b[0;34m(\u001b[0m\u001b[0mself\u001b[0m\u001b[0;34m,\u001b[0m \u001b[0mname\u001b[0m\u001b[0;34m,\u001b[0m \u001b[0mvalue\u001b[0m\u001b[0;34m)\u001b[0m\u001b[0;34m:\u001b[0m\u001b[0;34m\u001b[0m\u001b[0;34m\u001b[0m\u001b[0m\n",
      "\u001b[0;31mAttributeError\u001b[0m: 'Series' object has no attribute 'total_seconds'"
     ]
    }
   ],
   "source": [
    "taxi_rides_init.trip_start_timestamp = pd.to_datetime(taxi_rides_init.trip_start_timestamp, format='%Y-%m-%d %H:%M:%S')\n",
    "taxi_rides_init.trip_end_timestamp = pd.to_datetime(taxi_rides_init.trip_end_timestamp, format='%Y-%m-%d %H:%M:%S')"
   ]
  },
  {
   "cell_type": "code",
   "execution_count": null,
   "metadata": {},
   "outputs": [],
   "source": [
    "taxi_rides_init['month'] = taxi_rides_init.trip_start_timestamp.apply(lambda x: x.month)\n",
    "taxi_rides_init['day'] = taxi_rides_init.trip_start_timestamp.apply(lambda x: x.day)\n",
    "taxi_rides_init['start_hour'] = taxi_rides_init.trip_start_timestamp.apply(lambda x: x.hour)"
   ]
  },
  {
   "cell_type": "code",
   "execution_count": 34,
   "metadata": {},
   "outputs": [],
   "source": [
    "taxi_rides_init['duration'] = (taxi_rides_init.trip_end_timestamp \n",
    "                               - taxi_rides_init.trip_start_timestamp).apply(lambda x : x.total_seconds())"
   ]
  },
  {
   "cell_type": "code",
   "execution_count": 36,
   "metadata": {},
   "outputs": [],
   "source": [
    "# Replace the latitude and longitude \n",
    "taxi_rides_init['pickup_latitude'] = taxi_rides_init['pickup_latitude'].apply(lambda x: convert_coord(x, 1))\n",
    "taxi_rides_init['pickup_longitude'] = taxi_rides_init['pickup_longitude'].apply(lambda x: convert_coord(x, 2))\n",
    "taxi_rides_init['dropoff_latitude'] = taxi_rides_init['dropoff_latitude'].apply(lambda x: convert_coord(x, 1))\n",
    "taxi_rides_init['dropoff_longitude'] = taxi_rides_init['dropoff_longitude'].apply(lambda x: convert_coord(x, 2))"
   ]
  },
  {
   "cell_type": "markdown",
   "metadata": {},
   "source": [
    "_Now let's have a look at our new data to see how clean it is._\n",
    "\n",
    "_Something that we can do is replace the data types to reduce the size of the data in memory._"
   ]
  },
  {
   "cell_type": "code",
   "execution_count": 37,
   "metadata": {},
   "outputs": [
    {
     "data": {
      "text/html": [
       "<div>\n",
       "<style scoped>\n",
       "    .dataframe tbody tr th:only-of-type {\n",
       "        vertical-align: middle;\n",
       "    }\n",
       "\n",
       "    .dataframe tbody tr th {\n",
       "        vertical-align: top;\n",
       "    }\n",
       "\n",
       "    .dataframe thead th {\n",
       "        text-align: right;\n",
       "    }\n",
       "</style>\n",
       "<table border=\"1\" class=\"dataframe\">\n",
       "  <thead>\n",
       "    <tr style=\"text-align: right;\">\n",
       "      <th></th>\n",
       "      <th>taxi_id</th>\n",
       "      <th>trip_start_timestamp</th>\n",
       "      <th>trip_end_timestamp</th>\n",
       "      <th>pickup_community_area</th>\n",
       "      <th>dropoff_community_area</th>\n",
       "      <th>pickup_latitude</th>\n",
       "      <th>pickup_longitude</th>\n",
       "      <th>dropoff_latitude</th>\n",
       "      <th>dropoff_longitude</th>\n",
       "      <th>month</th>\n",
       "      <th>may</th>\n",
       "      <th>start_hour</th>\n",
       "      <th>duration</th>\n",
       "    </tr>\n",
       "  </thead>\n",
       "  <tbody>\n",
       "    <tr>\n",
       "      <th>0</th>\n",
       "      <td>85.0</td>\n",
       "      <td>2016-01-13 06:15:00</td>\n",
       "      <td>2016-01-13 06:15:00</td>\n",
       "      <td>24.0</td>\n",
       "      <td>24.0</td>\n",
       "      <td>41.8199</td>\n",
       "      <td>-87.6510</td>\n",
       "      <td>41.8199</td>\n",
       "      <td>-87.6510</td>\n",
       "      <td>1</td>\n",
       "      <td>13</td>\n",
       "      <td>6</td>\n",
       "      <td>0.0</td>\n",
       "    </tr>\n",
       "    <tr>\n",
       "      <th>3</th>\n",
       "      <td>4237.0</td>\n",
       "      <td>2016-01-23 17:30:00</td>\n",
       "      <td>2016-01-23 17:30:00</td>\n",
       "      <td>6.0</td>\n",
       "      <td>6.0</td>\n",
       "      <td>41.8686</td>\n",
       "      <td>-87.6500</td>\n",
       "      <td>41.8686</td>\n",
       "      <td>-87.6500</td>\n",
       "      <td>1</td>\n",
       "      <td>23</td>\n",
       "      <td>17</td>\n",
       "      <td>0.0</td>\n",
       "    </tr>\n",
       "    <tr>\n",
       "      <th>5</th>\n",
       "      <td>1987.0</td>\n",
       "      <td>2016-01-08 18:15:00</td>\n",
       "      <td>2016-01-08 18:45:00</td>\n",
       "      <td>8.0</td>\n",
       "      <td>3.0</td>\n",
       "      <td>41.8599</td>\n",
       "      <td>-87.6346</td>\n",
       "      <td>41.8660</td>\n",
       "      <td>-87.6120</td>\n",
       "      <td>1</td>\n",
       "      <td>8</td>\n",
       "      <td>18</td>\n",
       "      <td>1800.0</td>\n",
       "    </tr>\n",
       "    <tr>\n",
       "      <th>7</th>\n",
       "      <td>6400.0</td>\n",
       "      <td>2016-01-26 04:15:00</td>\n",
       "      <td>2016-01-26 04:15:00</td>\n",
       "      <td>16.0</td>\n",
       "      <td>16.0</td>\n",
       "      <td>41.8527</td>\n",
       "      <td>-87.6240</td>\n",
       "      <td>41.8527</td>\n",
       "      <td>-87.6240</td>\n",
       "      <td>1</td>\n",
       "      <td>26</td>\n",
       "      <td>4</td>\n",
       "      <td>0.0</td>\n",
       "    </tr>\n",
       "    <tr>\n",
       "      <th>8</th>\n",
       "      <td>7418.0</td>\n",
       "      <td>2016-01-22 11:30:00</td>\n",
       "      <td>2016-01-22 11:45:00</td>\n",
       "      <td>8.0</td>\n",
       "      <td>32.0</td>\n",
       "      <td>41.8210</td>\n",
       "      <td>-87.6470</td>\n",
       "      <td>41.8744</td>\n",
       "      <td>-87.6605</td>\n",
       "      <td>1</td>\n",
       "      <td>22</td>\n",
       "      <td>11</td>\n",
       "      <td>900.0</td>\n",
       "    </tr>\n",
       "  </tbody>\n",
       "</table>\n",
       "</div>"
      ],
      "text/plain": [
       "   taxi_id trip_start_timestamp  trip_end_timestamp  pickup_community_area  \\\n",
       "0     85.0  2016-01-13 06:15:00 2016-01-13 06:15:00                   24.0   \n",
       "3   4237.0  2016-01-23 17:30:00 2016-01-23 17:30:00                    6.0   \n",
       "5   1987.0  2016-01-08 18:15:00 2016-01-08 18:45:00                    8.0   \n",
       "7   6400.0  2016-01-26 04:15:00 2016-01-26 04:15:00                   16.0   \n",
       "8   7418.0  2016-01-22 11:30:00 2016-01-22 11:45:00                    8.0   \n",
       "\n",
       "   dropoff_community_area  pickup_latitude  pickup_longitude  \\\n",
       "0                    24.0          41.8199          -87.6510   \n",
       "3                     6.0          41.8686          -87.6500   \n",
       "5                     3.0          41.8599          -87.6346   \n",
       "7                    16.0          41.8527          -87.6240   \n",
       "8                    32.0          41.8210          -87.6470   \n",
       "\n",
       "   dropoff_latitude  dropoff_longitude  month  may  start_hour  duration  \n",
       "0           41.8199           -87.6510      1   13           6       0.0  \n",
       "3           41.8686           -87.6500      1   23          17       0.0  \n",
       "5           41.8660           -87.6120      1    8          18    1800.0  \n",
       "7           41.8527           -87.6240      1   26           4       0.0  \n",
       "8           41.8744           -87.6605      1   22          11     900.0  "
      ]
     },
     "execution_count": 37,
     "metadata": {},
     "output_type": "execute_result"
    }
   ],
   "source": [
    "taxi_rides_init.head()"
   ]
  },
  {
   "cell_type": "code",
   "execution_count": 38,
   "metadata": {},
   "outputs": [
    {
     "data": {
      "text/plain": [
       "taxi_id                          float64\n",
       "trip_start_timestamp      datetime64[ns]\n",
       "trip_end_timestamp        datetime64[ns]\n",
       "pickup_community_area            float64\n",
       "dropoff_community_area           float64\n",
       "pickup_latitude                  float64\n",
       "pickup_longitude                 float64\n",
       "dropoff_latitude                 float64\n",
       "dropoff_longitude                float64\n",
       "month                              int64\n",
       "may                                int64\n",
       "start_hour                         int64\n",
       "duration                         float64\n",
       "dtype: object"
      ]
     },
     "execution_count": 38,
     "metadata": {},
     "output_type": "execute_result"
    }
   ],
   "source": [
    "taxi_rides_init.dtypes"
   ]
  },
  {
   "cell_type": "code",
   "execution_count": 39,
   "metadata": {},
   "outputs": [],
   "source": [
    "taxi_rides_init['taxi_id'] = taxi_rides_init['taxi_id'].apply(lambda x : int(x))\n",
    "taxi_rides_init['pickup_community_area'] = taxi_rides_init['pickup_community_area'].apply(lambda x : int(x))\n",
    "taxi_rides_init['dropoff_community_area'] = taxi_rides_init['dropoff_community_area'].apply(lambda x : int(x))\n",
    "taxi_rides_init['duration'] = taxi_rides_init['duration'].apply(lambda x : int(x))"
   ]
  },
  {
   "cell_type": "code",
   "execution_count": 43,
   "metadata": {},
   "outputs": [
    {
     "data": {
      "text/plain": [
       "900     8086352\n",
       "0       6046981\n",
       "1800    1622074\n",
       "2700     574762\n",
       "3600     210229\n",
       "4500      62017\n",
       "5400      16472\n",
       "6300       5095\n",
       "7200       2406\n",
       "8100       1539\n",
       "Name: duration, dtype: int64"
      ]
     },
     "execution_count": 43,
     "metadata": {},
     "output_type": "execute_result"
    }
   ],
   "source": [
    "taxi_rides_init['duration'].value_counts().head(10)"
   ]
  },
  {
   "cell_type": "markdown",
   "metadata": {},
   "source": [
    "_We can see that a lot of drives have a duration of 0 minutes. Some have negative durations too. We can consider that those drives are erroneous and will therefore delete them._"
   ]
  },
  {
   "cell_type": "code",
   "execution_count": 49,
   "metadata": {},
   "outputs": [],
   "source": [
    "taxi_rides_init = taxi_rides_init[taxi_rides_init['duration'] > 0]"
   ]
  },
  {
   "cell_type": "code",
   "execution_count": 51,
   "metadata": {},
   "outputs": [
    {
     "data": {
      "text/plain": [
       "900     8086352\n",
       "1800    1622074\n",
       "2700     574762\n",
       "3600     210229\n",
       "4500      62017\n",
       "Name: duration, dtype: int64"
      ]
     },
     "execution_count": 51,
     "metadata": {},
     "output_type": "execute_result"
    }
   ],
   "source": [
    "taxi_rides_init['duration'].value_counts().head()"
   ]
  },
  {
   "cell_type": "code",
   "execution_count": 53,
   "metadata": {},
   "outputs": [],
   "source": [
    "del taxi_rides_init['trip_start_timestamp']\n",
    "del taxi_rides_init['trip_end_timestamp']"
   ]
  },
  {
   "cell_type": "markdown",
   "metadata": {},
   "source": [
    "_Now that our data is cleaner, let's looks at the number of taxis drive per comminity areas in chicago._"
   ]
  },
  {
   "cell_type": "code",
   "execution_count": 54,
   "metadata": {},
   "outputs": [],
   "source": [
    "# First, let's save the data in a pickle file that we can reuse in the future\n",
    "# If file exists then load it\n",
    "try:\n",
    "    taxi_rides = pickle.load(open(CHICAGO_TAXI_RIDES_PATH + \"taxi_rides.pickle\", \"rb\"))\n",
    "# Otherwise create it\n",
    "except (OSError, IOError) as e:\n",
    "    taxi_rides = taxi_rides_init\n",
    "    pickle.dump(taxi_rides, open(CHICAGO_TAXI_RIDES_PATH + \"taxi_rides.pickle\", \"wb\"))"
   ]
  },
  {
   "cell_type": "code",
   "execution_count": 60,
   "metadata": {},
   "outputs": [
    {
     "data": {
      "text/plain": [
       "76"
      ]
     },
     "execution_count": 60,
     "metadata": {},
     "output_type": "execute_result"
    }
   ],
   "source": [
    "community_area_min = min(np.min(data[\"pickup_community_area\"]), np.min(data[\"dropoff_community_area\"]))\n",
    "community_area_max = max(np.max(data[\"pickup_community_area\"]), np.max(data[\"dropoff_community_area\"]))\n",
    "community_area_range = int(community_area_max - community_area_min)\n",
    "community_area_range"
   ]
  },
  {
   "cell_type": "code",
   "execution_count": 63,
   "metadata": {},
   "outputs": [
    {
     "data": {
      "text/plain": [
       "Text(0.5, 0, 'Community area')"
      ]
     },
     "execution_count": 63,
     "metadata": {},
     "output_type": "execute_result"
    },
    {
     "data": {
      "image/png": "[encoded data removed]",
      "text/plain": [
       "<Figure size 960x480 with 1 Axes>"
      ]
     },
     "metadata": {
      "needs_background": "light"
     },
     "output_type": "display_data"
    }
   ],
   "source": [
    "plt.figure(figsize=(12, 6), dpi = 80)\n",
    "ax, _, _ = plt.hist(taxi_rides[\"pickup_community_area\"], bins = community_area_range)\n",
    "plt.ylabel('#Pick-up')\n",
    "plt.xlabel('Community area')"
   ]
  },
  {
   "cell_type": "markdown",
   "metadata": {},
   "source": [
    "_From the plot above, we can see that only a few community areas have much more taxi rides departure than others. A guess could be that those areas are either rich residence, very urban areas, or transport areas (ex. Airport, Train station, ..)._\n",
    "\n",
    "\n",
    "_Let's now have a look at the dropoff_\\__community_\\__areas:_ "
   ]
  },
  {
   "cell_type": "code",
   "execution_count": 64,
   "metadata": {},
   "outputs": [
    {
     "data": {
      "text/plain": [
       "Text(0.5, 0, 'Community area')"
      ]
     },
     "execution_count": 64,
     "metadata": {},
     "output_type": "execute_result"
    },
    {
     "data": {
      "image/png": "[encoded data removed]",
      "text/plain": [
       "<Figure size 960x480 with 1 Axes>"
      ]
     },
     "metadata": {
      "needs_background": "light"
     },
     "output_type": "display_data"
    }
   ],
   "source": [
    "plt.figure(figsize=(12, 6), dpi = 80)\n",
    "ax, _, _ = plt.hist(taxi_rides[\"dropoff_community_area\"], bins = community_area_range)\n",
    "plt.ylabel('#Pick-up')\n",
    "plt.xlabel('Community area')"
   ]
  },
  {
   "cell_type": "markdown",
   "metadata": {},
   "source": [
    "_Let's look at the sum between pickup and drop off areas to look at the most and least frequented areas._"
   ]
  },
  {
   "cell_type": "code",
   "execution_count": 105,
   "metadata": {},
   "outputs": [],
   "source": [
    "total_area_frequency = taxi_rides[\"pickup_community_area\"].value_counts() + taxi_rides[\"dropoff_community_area\"].value_counts()"
   ]
  },
  {
   "cell_type": "code",
   "execution_count": 111,
   "metadata": {},
   "outputs": [
    {
     "data": {
      "text/plain": [
       "<matplotlib.axes._subplots.AxesSubplot at 0x1a3d9b3828>"
      ]
     },
     "execution_count": 111,
     "metadata": {},
     "output_type": "execute_result"
    },
    {
     "data": {
      "image/png": "[encoded data removed]",
      "text/plain": [
       "<Figure size 960x960 with 1 Axes>"
      ]
     },
     "metadata": {
      "needs_background": "light"
     },
     "output_type": "display_data"
    }
   ],
   "source": [
    "plt.figure(figsize=(12, 12), dpi = 80)\n",
    "total_area_frequency.plot(kind='barh')"
   ]
  },
  {
   "cell_type": "markdown",
   "metadata": {},
   "source": [
    "_We can see here that the important pickup and dropoff areas are the same._\n",
    "\n",
    "_Let's look at the relationship between pickup and dropoff areas:_"
   ]
  },
  {
   "cell_type": "code",
   "execution_count": 88,
   "metadata": {},
   "outputs": [
    {
     "data": {
      "text/plain": [
       "8     3499130\n",
       "32    2547472\n",
       "28     970935\n",
       "76     894988\n",
       "6      622094\n",
       "Name: pickup_community_area, dtype: int64"
      ]
     },
     "execution_count": 88,
     "metadata": {},
     "output_type": "execute_result"
    }
   ],
   "source": [
    "taxi_rides[\"pickup_community_area\"].value_counts().head()"
   ]
  },
  {
   "cell_type": "code",
   "execution_count": 80,
   "metadata": {},
   "outputs": [
    {
     "data": {
      "text/plain": [
       "array([ 1,  2,  3,  4,  5,  6,  7,  8,  9, 10, 11, 12, 13, 14, 15, 16, 17,\n",
       "       18, 19, 20, 21, 22, 23, 24, 25, 26, 27, 28, 29, 30, 31, 32, 33, 34,\n",
       "       35, 36, 37, 38, 39, 40, 41, 42, 43, 44, 45, 46, 47, 48, 49, 50, 51,\n",
       "       52, 53, 54, 55, 56, 57, 58, 59, 60, 61, 62, 63, 64, 65, 66, 67, 68,\n",
       "       69, 70, 71, 72, 73, 74, 75, 76, 77])"
      ]
     },
     "execution_count": 80,
     "metadata": {},
     "output_type": "execute_result"
    }
   ],
   "source": [
    "np.sort(taxi_rides[\"pickup_community_area\"].value_counts().index)"
   ]
  },
  {
   "cell_type": "markdown",
   "metadata": {},
   "source": [
    "_Let's select the main taxis areas and show them on a map. We are fixing a thereshold to more than 200000 trips._"
   ]
  },
  {
   "cell_type": "code",
   "execution_count": 73,
   "metadata": {},
   "outputs": [
    {
     "data": {
      "text/plain": [
       "array([ 8, 32, 28, 76,  6,  7, 33, 24, 56])"
      ]
     },
     "execution_count": 73,
     "metadata": {},
     "output_type": "execute_result"
    }
   ],
   "source": [
    "# Get a list of the main taxi rides areas\n",
    "main_areas = taxi_rides[\"pickup_community_area\"].value_counts().where(lambda x : x > 200000).dropna().index.values\n",
    "main_areas"
   ]
  },
  {
   "cell_type": "markdown",
   "metadata": {},
   "source": [
    "_We are also going to have a look to the least frequented areas:_"
   ]
  },
  {
   "cell_type": "code",
   "execution_count": 93,
   "metadata": {},
   "outputs": [],
   "source": [
    "least_areas = taxi_rides[\"pickup_community_area\"].value_counts().tail(10).index.values"
   ]
  },
  {
   "cell_type": "code",
   "execution_count": 97,
   "metadata": {},
   "outputs": [],
   "source": [
    "taxi_main_areas_rides = taxi_rides[taxi_rides['pickup_community_area'].apply(lambda x : x in main_areas)]"
   ]
  },
  {
   "cell_type": "code",
   "execution_count": 98,
   "metadata": {},
   "outputs": [
    {
     "data": {
      "text/plain": [
       "(9842959, 11)"
      ]
     },
     "execution_count": 98,
     "metadata": {},
     "output_type": "execute_result"
    }
   ],
   "source": [
    "taxi_main_areas_rides.shape"
   ]
  },
  {
   "cell_type": "code",
   "execution_count": 99,
   "metadata": {},
   "outputs": [],
   "source": [
    "taxi_least_areas_rides = taxi_rides[taxi_rides['pickup_community_area'].apply(lambda x: x in least_areas)]"
   ]
  },
  {
   "cell_type": "markdown",
   "metadata": {},
   "source": [
    "From now on we will work with the 15 less frequented areas \n",
    "To refine my analysis I decide to study the sum of pick ups and dropoffs"
   ]
  },
  {
   "cell_type": "code",
   "execution_count": 30,
   "metadata": {},
   "outputs": [],
   "source": [
    "less_freq_count = do_nb+pu_nb #Areas with total frequentation (drop off + pick up)"
   ]
  },
  {
   "cell_type": "code",
   "execution_count": 31,
   "metadata": {},
   "outputs": [],
   "source": [
    "less_freq_count = less_freq_count.sort_values().head(15)"
   ]
  },
  {
   "cell_type": "code",
   "execution_count": 32,
   "metadata": {},
   "outputs": [
    {
     "data": {
      "text/plain": [
       "Text(0.5, 0, '#PU+DO')"
      ]
     },
     "execution_count": 32,
     "metadata": {},
     "output_type": "execute_result"
    },
    {
     "data": {
      "image/png": "[encoded data removed]",
      "text/plain": [
       "<Figure size 432x288 with 1 Axes>"
      ]
     },
     "metadata": {
      "needs_background": "light"
     },
     "output_type": "display_data"
    }
   ],
   "source": [
    "p = less_freq_count.plot(kind = 'barh')\n",
    "p.set_ylabel(\"Community area\")\n",
    "p.set_xlabel('#PU+DO')"
   ]
  },
  {
   "cell_type": "markdown",
   "metadata": {},
   "source": [
    "I'm going to stick with the 4 less frequented areas wich are : \n",
    "- RIVERDALE\n",
    "- HEGEWISH\n",
    "- EAST SIDE\n",
    "- BURNSIDE"
   ]
  },
  {
   "cell_type": "code",
   "execution_count": 33,
   "metadata": {},
   "outputs": [],
   "source": [
    "most_freq = pu_ca[2:10] # most frequented areas without first two to have more significant results\n",
    "less_freq = [54.0, 55.0, 52.0, 47.0] # 4 less frequented areas"
   ]
  },
  {
   "cell_type": "code",
   "execution_count": 34,
   "metadata": {},
   "outputs": [],
   "source": [
    "data_less_freq_pu = data[data[\"pickup_community_area\"].isin(less_freq)]"
   ]
  },
  {
   "cell_type": "code",
   "execution_count": 35,
   "metadata": {},
   "outputs": [
    {
     "data": {
      "text/plain": [
       "<matplotlib.axes._subplots.AxesSubplot at 0x1a1d8f5748>"
      ]
     },
     "execution_count": 35,
     "metadata": {},
     "output_type": "execute_result"
    },
    {
     "data": {
      "image/png": "[encoded data removed]",
      "text/plain": [
       "<Figure size 720x432 with 2 Axes>"
      ]
     },
     "metadata": {
      "needs_background": "light"
     },
     "output_type": "display_data"
    }
   ],
   "source": [
    "hour_pu = data_less_freq_pu[[\"pickup_community_area\",\"Hour\",\"taxi_id\"  ]].groupby([\"pickup_community_area\", \"Hour\"]).count()\n",
    "hour_pu = hour_pu.rename(columns={'taxi_id':'Count'})\n",
    "hour_pu = hour_pu.reset_index()\n",
    "hour_pu = hour_pu.pivot(\"pickup_community_area\",\"Hour\",\"Count\").fillna(0)\n",
    "fig, ax = plt.subplots(figsize=(10,6))      \n",
    "plt.title(\"Number of taxi pick ups per hour in the less frequented areas\")\n",
    "sns.heatmap(hour_pu, linewidths=.5, ax=ax, cmap=\"OrRd\")"
   ]
  },
  {
   "cell_type": "code",
   "execution_count": 36,
   "metadata": {},
   "outputs": [
    {
     "data": {
      "text/plain": [
       "<matplotlib.axes._subplots.AxesSubplot at 0x1a1da30c18>"
      ]
     },
     "execution_count": 36,
     "metadata": {},
     "output_type": "execute_result"
    },
    {
     "data": {
      "image/png": "[encoded data removed]",
      "text/plain": [
       "<Figure size 720x432 with 2 Axes>"
      ]
     },
     "metadata": {
      "needs_background": "light"
     },
     "output_type": "display_data"
    }
   ],
   "source": [
    "data_most_freq_pu = data[data[\"pickup_community_area\"].isin(most_freq)]\n",
    "hour_pu = data_most_freq_pu[[\"pickup_community_area\",\"Hour\",\"taxi_id\"  ]].groupby([\"pickup_community_area\", \"Hour\"]).count()\n",
    "hour_pu = hour_pu.rename(columns={'taxi_id':'Count'})\n",
    "hour_pu = hour_pu.reset_index()\n",
    "hour_pu = hour_pu.pivot(\"pickup_community_area\",\"Hour\",\"Count\").fillna(0)\n",
    "fig, ax = plt.subplots(figsize=(10,6))      \n",
    "plt.title(\"Number of taxi pick ups per hour in the most frequented areas\")\n",
    "sns.heatmap(hour_pu, linewidths=.5, ax=ax, cmap=\"OrRd\")"
   ]
  },
  {
   "cell_type": "code",
   "execution_count": 37,
   "metadata": {},
   "outputs": [
    {
     "data": {
      "text/plain": [
       "<matplotlib.axes._subplots.AxesSubplot at 0x1a1cd5cba8>"
      ]
     },
     "execution_count": 37,
     "metadata": {},
     "output_type": "execute_result"
    },
    {
     "data": {
      "image/png": "[encoded data removed]",
      "text/plain": [
       "<Figure size 720x432 with 2 Axes>"
      ]
     },
     "metadata": {
      "needs_background": "light"
     },
     "output_type": "display_data"
    }
   ],
   "source": [
    "data_less_freq_do = data[data[\"dropoff_community_area\"].isin(less_freq)]\n",
    "hour_pu = data_less_freq_do[[\"dropoff_community_area\",\"Hour\",\"taxi_id\"  ]].groupby([\"dropoff_community_area\", \"Hour\"]).count()\n",
    "hour_pu = hour_pu.rename(columns={'taxi_id':'Count'})\n",
    "hour_pu = hour_pu.reset_index()\n",
    "hour_pu = hour_pu.pivot(\"dropoff_community_area\",\"Hour\",\"Count\").fillna(0)\n",
    "fig, ax = plt.subplots(figsize=(10,6))      \n",
    "plt.title(\"Number of taxi drop offs per hour in the less frequented areas\")\n",
    "sns.heatmap(hour_pu, linewidths=.5, ax=ax, cmap=\"OrRd\")"
   ]
  },
  {
   "cell_type": "code",
   "execution_count": 38,
   "metadata": {},
   "outputs": [
    {
     "data": {
      "text/plain": [
       "<matplotlib.axes._subplots.AxesSubplot at 0x1a1d4efbe0>"
      ]
     },
     "execution_count": 38,
     "metadata": {},
     "output_type": "execute_result"
    },
    {
     "data": {
      "image/png": "[encoded data removed]",
      "text/plain": [
       "<Figure size 720x432 with 2 Axes>"
      ]
     },
     "metadata": {
      "needs_background": "light"
     },
     "output_type": "display_data"
    }
   ],
   "source": [
    "data_most_freq_pu = data[data[\"dropoff_community_area\"].isin(most_freq)]\n",
    "hour_pu = data_most_freq_pu[[\"dropoff_community_area\",\"Hour\",\"taxi_id\"  ]].groupby([\"dropoff_community_area\", \"Hour\"]).count()\n",
    "hour_pu = hour_pu.rename(columns={'taxi_id':'Count'})\n",
    "hour_pu = hour_pu.reset_index()\n",
    "hour_pu = hour_pu.pivot(\"dropoff_community_area\",\"Hour\",\"Count\").fillna(0) \n",
    "fig, ax = plt.subplots(figsize=(10,6))      \n",
    "plt.title(\"Number of taxi drop offs per hour in the most frequented areas\")\n",
    "sns.heatmap(hour_pu, linewidths=.5, ax=ax, cmap=\"OrRd\")"
   ]
  },
  {
   "cell_type": "code",
   "execution_count": 39,
   "metadata": {},
   "outputs": [],
   "source": [
    "#Function to generate a base map to work on with\n",
    "def gen_map(default_loc =[41.84, -87.623177], default_zoom = 12):\n",
    "    base_map = folium.Map(location = default_loc, control_scale=True, zoom_start=default_zoom)\n",
    "    return base_map"
   ]
  },
  {
   "cell_type": "code",
   "execution_count": 43,
   "metadata": {},
   "outputs": [
    {
     "data": {
      "text/plain": [
       "<folium.plugins.heat_map.HeatMap at 0x1a1d44ae80>"
      ]
     },
     "execution_count": 43,
     "metadata": {},
     "output_type": "execute_result"
    }
   ],
   "source": [
    "from folium.plugins import HeatMap\n",
    "data_copy_pu = data.copy()\n",
    "data_copy_pu['count'] = 1\n",
    "base_map_pu = gen_map()\n",
    "HeatMap(data=data_copy_pu[['gen_pickup_latitude', 'gen_pickup_longitude', 'count']].groupby(['gen_pickup_latitude', 'gen_pickup_longitude']).sum().reset_index().values.tolist(), radius=8, max_zoom=13).add_to(base_map_pu)"
   ]
  },
  {
   "cell_type": "markdown",
   "metadata": {},
   "source": [
    "### Heat Map of the number of pick-ups"
   ]
  },
  {
   "cell_type": "code",
   "execution_count": 44,
   "metadata": {},
   "outputs": [
    {
     "data": {
      "text/html": [
       "<div style=\"width:100%;\"><div style=\"position:relative;width:100%;height:0;padding-bottom:60%;\"><iframe src=\"data:text/html;charset=utf-8;base64,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\" style=\"position:absolute;width:100%;height:100%;left:0;top:0;border:none !important;\" allowfullscreen webkitallowfullscreen mozallowfullscreen></iframe></div></div>"
      ],
      "text/plain": [
       "<folium.folium.Map at 0x1a1d44a518>"
      ]
     },
     "execution_count": 44,
     "metadata": {},
     "output_type": "execute_result"
    }
   ],
   "source": [
    "base_map_pu"
   ]
  },
  {
   "cell_type": "code",
   "execution_count": 45,
   "metadata": {},
   "outputs": [
    {
     "data": {
      "text/plain": [
       "<folium.plugins.heat_map.HeatMap at 0x1a1d444a90>"
      ]
     },
     "execution_count": 45,
     "metadata": {},
     "output_type": "execute_result"
    }
   ],
   "source": [
    "data_copy_do = data.copy()\n",
    "data_copy_do['count'] = 1\n",
    "base_map_do = gen_map()\n",
    "HeatMap(data=data_copy_do[['gen_dropoff_latitude', 'gen_dropoff_longitude', 'count']].groupby(['gen_dropoff_latitude', 'gen_dropoff_longitude']).sum().reset_index().values.tolist(), radius=8, max_zoom=13).add_to(base_map_do)"
   ]
  },
  {
   "cell_type": "markdown",
   "metadata": {},
   "source": [
    "### Heat Map of the number of drop-offs"
   ]
  },
  {
   "cell_type": "code",
   "execution_count": 46,
   "metadata": {},
   "outputs": [
    {
     "data": {
      "text/html": [
       "<div style=\"width:100%;\"><div style=\"position:relative;width:100%;height:0;padding-bottom:60%;\"><iframe src=\"data:text/html;charset=utf-8;base64,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\" style=\"position:absolute;width:100%;height:100%;left:0;top:0;border:none !important;\" allowfullscreen webkitallowfullscreen mozallowfullscreen></iframe></div></div>"
      ],
      "text/plain": [
       "<folium.folium.Map at 0x1a1d4699e8>"
      ]
     },
     "execution_count": 46,
     "metadata": {},
     "output_type": "execute_result"
    }
   ],
   "source": [
    "base_map_do"
   ]
  },
  {
   "cell_type": "code",
   "execution_count": null,
   "metadata": {},
   "outputs": [],
   "source": [
    "data_hour_list = []\n",
    "for hour in data_copy_pu.Hour.sort_values().unique():\n",
    "    data_hour_list.append(data_copy_pu.loc[data_copy_pu.Hour == hour, ['gen_pickup_latitude', 'gen_pickup_longitude', 'count']].groupby(['gen_pickup_latitude', 'gen_pickup_longitude']).sum().reset_index().values.tolist())"
   ]
  },
  {
   "cell_type": "code",
   "execution_count": null,
   "metadata": {},
   "outputs": [],
   "source": [
    "from folium.plugins import HeatMapWithTime\n",
    "base_map = gen_map()\n",
    "HeatMapWithTime(data_hour_list, radius=5, gradient={0.2: 'blue', 0.4: 'lime', 0.6: 'orange', 1: 'red'}, min_opacity=0.5, max_opacity=0.8).add_to(base_map)\n",
    "base_map"
   ]
  },
  {
   "cell_type": "code",
   "execution_count": null,
   "metadata": {},
   "outputs": [],
   "source": []
  }
 ],
 "metadata": {
  "kernelspec": {
   "display_name": "Python 3",
   "language": "python",
   "name": "python3"
  },
  "language_info": {
   "codemirror_mode": {
    "name": "ipython",
    "version": 3
   },
   "file_extension": ".py",
   "mimetype": "text/x-python",
   "name": "python",
   "nbconvert_exporter": "python",
   "pygments_lexer": "ipython3",
   "version": "3.7.1"
  }
 },
 "nbformat": 4,
 "nbformat_minor": 4
}
