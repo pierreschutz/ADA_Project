{
 "cells": [
  {
   "cell_type": "code",
   "execution_count": 50,
   "metadata": {},
   "outputs": [],
   "source": [
    "import pandas as pd\n",
    "import numpy as np\n",
    "import pickle\n",
    "import warnings\n",
    "import matplotlib.pyplot as plt\n",
    "from pandas import DataFrame\n",
    "warnings.filterwarnings('ignore')"
   ]
  },
  {
   "cell_type": "markdown",
   "metadata": {},
   "source": [
    "## Chicago models"
   ]
  },
  {
   "cell_type": "markdown",
   "metadata": {},
   "source": [
    "For this part in our analysis of the crime in Chicago, we will try to find patterns in the chicago crime dataset by modeling it for different purposes using a variety of machine learning methods. The idea is to build two kind of models : \n",
    "1. **Arrest prediction model** : This model will try to , given the various information of a crime that are available to our crime dataset and which might correspond to the amount of information the autority would have about a recent unsolved crime, return the probability of the culprit of the crime beeing arrested.\n",
    "\n",
    "2. **Crime type predicton model** : The goal of this model would be to give the probability of the type of crimes given again the data of the crime dataset except the Description (obviously it is highly correllated to the type of crime) and the Arrest (usually if we want to know the type of crime, the culprit isn't arrested). This model could be useful in several ways, for example the police might find it useful for knowing what to expect of a potential crime in a given location."
   ]
  },
  {
   "cell_type": "markdown",
   "metadata": {},
   "source": [
    "### Data Loading"
   ]
  },
  {
   "cell_type": "markdown",
   "metadata": {},
   "source": [
    "We use the near fully cleaned chicago crime dataset that we use in milestone 2"
   ]
  },
  {
   "cell_type": "code",
   "execution_count": 2,
   "metadata": {},
   "outputs": [],
   "source": [
    "chicago_crime = pickle.load(open('./data/chicago_crime.pickle', 'rb'))"
   ]
  },
  {
   "cell_type": "code",
   "execution_count": 3,
   "metadata": {},
   "outputs": [],
   "source": [
    "chicago_crime_init = chicago_crime.copy()"
   ]
  },
  {
   "cell_type": "code",
   "execution_count": 4,
   "metadata": {},
   "outputs": [
    {
     "data": {
      "text/html": [
       "<div>\n",
       "<style scoped>\n",
       "    .dataframe tbody tr th:only-of-type {\n",
       "        vertical-align: middle;\n",
       "    }\n",
       "\n",
       "    .dataframe tbody tr th {\n",
       "        vertical-align: top;\n",
       "    }\n",
       "\n",
       "    .dataframe thead th {\n",
       "        text-align: right;\n",
       "    }\n",
       "</style>\n",
       "<table border=\"1\" class=\"dataframe\">\n",
       "  <thead>\n",
       "    <tr style=\"text-align: right;\">\n",
       "      <th></th>\n",
       "      <th>Date</th>\n",
       "      <th>Primary Type</th>\n",
       "      <th>Description</th>\n",
       "      <th>Location Description</th>\n",
       "      <th>Arrest</th>\n",
       "      <th>Domestic</th>\n",
       "      <th>Community Area</th>\n",
       "      <th>Year</th>\n",
       "      <th>Latitude</th>\n",
       "      <th>Longitude</th>\n",
       "      <th>Hour</th>\n",
       "      <th>Day</th>\n",
       "      <th>Month</th>\n",
       "    </tr>\n",
       "  </thead>\n",
       "  <tbody>\n",
       "    <tr>\n",
       "      <th>60345</th>\n",
       "      <td>2019-01-03 19:00:00</td>\n",
       "      <td>PUBLIC PEACE VIOLATION</td>\n",
       "      <td>OTHER VIOLATION</td>\n",
       "      <td>AIRCRAFT</td>\n",
       "      <td>False</td>\n",
       "      <td>False</td>\n",
       "      <td>76</td>\n",
       "      <td>2019</td>\n",
       "      <td>42.002816</td>\n",
       "      <td>-87.906094</td>\n",
       "      <td>19</td>\n",
       "      <td>3</td>\n",
       "      <td>1</td>\n",
       "    </tr>\n",
       "    <tr>\n",
       "      <th>62272</th>\n",
       "      <td>2019-03-16 18:00:00</td>\n",
       "      <td>BATTERY</td>\n",
       "      <td>SIMPLE</td>\n",
       "      <td>STREET</td>\n",
       "      <td>False</td>\n",
       "      <td>False</td>\n",
       "      <td>32</td>\n",
       "      <td>2019</td>\n",
       "      <td>41.883369</td>\n",
       "      <td>-87.633860</td>\n",
       "      <td>18</td>\n",
       "      <td>16</td>\n",
       "      <td>3</td>\n",
       "    </tr>\n",
       "    <tr>\n",
       "      <th>62615</th>\n",
       "      <td>2019-03-12 22:00:00</td>\n",
       "      <td>THEFT</td>\n",
       "      <td>$500 AND UNDER</td>\n",
       "      <td>RESIDENTIAL YARD (FRONT/BACK)</td>\n",
       "      <td>False</td>\n",
       "      <td>False</td>\n",
       "      <td>36</td>\n",
       "      <td>2019</td>\n",
       "      <td>41.825347</td>\n",
       "      <td>-87.606781</td>\n",
       "      <td>22</td>\n",
       "      <td>12</td>\n",
       "      <td>3</td>\n",
       "    </tr>\n",
       "    <tr>\n",
       "      <th>62648</th>\n",
       "      <td>2019-03-14 19:00:00</td>\n",
       "      <td>BATTERY</td>\n",
       "      <td>SIMPLE</td>\n",
       "      <td>RESIDENCE</td>\n",
       "      <td>False</td>\n",
       "      <td>False</td>\n",
       "      <td>1</td>\n",
       "      <td>2019</td>\n",
       "      <td>42.016542</td>\n",
       "      <td>-87.672499</td>\n",
       "      <td>19</td>\n",
       "      <td>14</td>\n",
       "      <td>3</td>\n",
       "    </tr>\n",
       "    <tr>\n",
       "      <th>62649</th>\n",
       "      <td>2019-03-14 16:00:00</td>\n",
       "      <td>OTHER OFFENSE</td>\n",
       "      <td>OTHER VEHICLE OFFENSE</td>\n",
       "      <td>STREET</td>\n",
       "      <td>False</td>\n",
       "      <td>True</td>\n",
       "      <td>36</td>\n",
       "      <td>2019</td>\n",
       "      <td>41.825299</td>\n",
       "      <td>-87.606961</td>\n",
       "      <td>16</td>\n",
       "      <td>14</td>\n",
       "      <td>3</td>\n",
       "    </tr>\n",
       "  </tbody>\n",
       "</table>\n",
       "</div>"
      ],
      "text/plain": [
       "                     Date            Primary Type            Description  \\\n",
       "60345 2019-01-03 19:00:00  PUBLIC PEACE VIOLATION        OTHER VIOLATION   \n",
       "62272 2019-03-16 18:00:00                 BATTERY                 SIMPLE   \n",
       "62615 2019-03-12 22:00:00                   THEFT         $500 AND UNDER   \n",
       "62648 2019-03-14 19:00:00                 BATTERY                 SIMPLE   \n",
       "62649 2019-03-14 16:00:00           OTHER OFFENSE  OTHER VEHICLE OFFENSE   \n",
       "\n",
       "                Location Description  Arrest  Domestic  Community Area  Year  \\\n",
       "60345                       AIRCRAFT   False     False              76  2019   \n",
       "62272                         STREET   False     False              32  2019   \n",
       "62615  RESIDENTIAL YARD (FRONT/BACK)   False     False              36  2019   \n",
       "62648                      RESIDENCE   False     False               1  2019   \n",
       "62649                         STREET   False      True              36  2019   \n",
       "\n",
       "        Latitude  Longitude  Hour  Day  Month  \n",
       "60345  42.002816 -87.906094    19    3      1  \n",
       "62272  41.883369 -87.633860    18   16      3  \n",
       "62615  41.825347 -87.606781    22   12      3  \n",
       "62648  42.016542 -87.672499    19   14      3  \n",
       "62649  41.825299 -87.606961    16   14      3  "
      ]
     },
     "execution_count": 4,
     "metadata": {},
     "output_type": "execute_result"
    }
   ],
   "source": [
    "chicago_crime.head()"
   ]
  },
  {
   "cell_type": "code",
   "execution_count": 5,
   "metadata": {},
   "outputs": [
    {
     "data": {
      "text/plain": [
       "(6944360, 13)"
      ]
     },
     "execution_count": 5,
     "metadata": {},
     "output_type": "execute_result"
    }
   ],
   "source": [
    "chicago_crime.shape"
   ]
  },
  {
   "cell_type": "markdown",
   "metadata": {},
   "source": [
    "### Feature cleaning and engineering"
   ]
  },
  {
   "cell_type": "markdown",
   "metadata": {},
   "source": [
    "We will need to do some cleaning and see if we need some potential feature engineering that could help our models"
   ]
  },
  {
   "cell_type": "markdown",
   "metadata": {},
   "source": [
    "Let's first see if we still have missing data"
   ]
  },
  {
   "cell_type": "code",
   "execution_count": 7,
   "metadata": {
    "scrolled": true
   },
   "outputs": [
    {
     "data": {
      "text/plain": [
       "Date                    0.000000\n",
       "Primary Type            0.000000\n",
       "Description             0.000000\n",
       "Location Description    0.000000\n",
       "Arrest                  0.000000\n",
       "Domestic                0.000000\n",
       "Community Area          0.087011\n",
       "Year                    0.000000\n",
       "Latitude                0.000000\n",
       "Longitude               0.000000\n",
       "Hour                    0.000000\n",
       "Day                     0.000000\n",
       "Month                   0.000000\n",
       "dtype: float64"
      ]
     },
     "execution_count": 7,
     "metadata": {},
     "output_type": "execute_result"
    }
   ],
   "source": [
    "chicago_crime.isnull().mean()"
   ]
  },
  {
   "cell_type": "markdown",
   "metadata": {},
   "source": [
    "Only the community area has some missing values, as it is only a small portion of the dataset we will simply disregard the rows with missing value"
   ]
  },
  {
   "cell_type": "code",
   "execution_count": 8,
   "metadata": {},
   "outputs": [],
   "source": [
    "chicago_crime = chicago_crime[chicago_crime.notna().all(1)]"
   ]
  },
  {
   "cell_type": "code",
   "execution_count": 9,
   "metadata": {},
   "outputs": [
    {
     "data": {
      "text/plain": [
       "Date                    0\n",
       "Primary Type            0\n",
       "Description             0\n",
       "Location Description    0\n",
       "Arrest                  0\n",
       "Domestic                0\n",
       "Community Area          0\n",
       "Year                    0\n",
       "Latitude                0\n",
       "Longitude               0\n",
       "Hour                    0\n",
       "Day                     0\n",
       "Month                   0\n",
       "dtype: int64"
      ]
     },
     "execution_count": 9,
     "metadata": {},
     "output_type": "execute_result"
    }
   ],
   "source": [
    "chicago_crime.isnull().sum()"
   ]
  },
  {
   "cell_type": "markdown",
   "metadata": {},
   "source": [
    "- **Date**\n",
    "\n",
    "The information about the date and time is already in other columns so we can remove the Date column"
   ]
  },
  {
   "cell_type": "code",
   "execution_count": 10,
   "metadata": {},
   "outputs": [],
   "source": [
    "chicago_crime.drop(columns='Date', inplace=True)"
   ]
  },
  {
   "cell_type": "markdown",
   "metadata": {},
   "source": [
    "- **Primary Type**"
   ]
  },
  {
   "cell_type": "code",
   "execution_count": 11,
   "metadata": {},
   "outputs": [],
   "source": [
    "p_type = chicago_crime['Primary Type']"
   ]
  },
  {
   "cell_type": "code",
   "execution_count": 12,
   "metadata": {},
   "outputs": [
    {
     "data": {
      "text/plain": [
       "34"
      ]
     },
     "execution_count": 12,
     "metadata": {},
     "output_type": "execute_result"
    }
   ],
   "source": [
    "p_type.nunique()"
   ]
  },
  {
   "cell_type": "code",
   "execution_count": 13,
   "metadata": {
    "scrolled": true
   },
   "outputs": [
    {
     "data": {
      "text/plain": [
       "THEFT                                1344440\n",
       "BATTERY                              1159460\n",
       "CRIMINAL DAMAGE                       724093\n",
       "NARCOTICS                             649432\n",
       "ASSAULT                               398093\n",
       "OTHER OFFENSE                         393281\n",
       "BURGLARY                              364091\n",
       "MOTOR VEHICLE THEFT                   288011\n",
       "DECEPTIVE PRACTICE                    253592\n",
       "ROBBERY                               239517\n",
       "CRIMINAL TRESPASS                     182296\n",
       "WEAPONS VIOLATION                      71076\n",
       "PROSTITUTION                           60505\n",
       "PUBLIC PEACE VIOLATION                 45788\n",
       "OFFENSE INVOLVING CHILDREN             42838\n",
       "CRIM SEXUAL ASSAULT                    25313\n",
       "SEX OFFENSE                            22626\n",
       "INTERFERENCE WITH PUBLIC OFFICER       16103\n",
       "GAMBLING                               13351\n",
       "LIQUOR LAW VIOLATION                   12186\n",
       "ARSON                                  10149\n",
       "HOMICIDE                                9595\n",
       "KIDNAPPING                              5628\n",
       "INTIMIDATION                            3718\n",
       "STALKING                                3295\n",
       "OBSCENITY                                586\n",
       "CONCEALED CARRY LICENSE VIOLATION        499\n",
       "NON-CRIMINAL                             162\n",
       "PUBLIC INDECENCY                         161\n",
       "OTHER NARCOTIC VIOLATION                 118\n",
       "HUMAN TRAFFICKING                         59\n",
       "NON - CRIMINAL                            38\n",
       "RITUALISM                                 14\n",
       "NON-CRIMINAL (SUBJECT SPECIFIED)           9\n",
       "Name: Primary Type, dtype: int64"
      ]
     },
     "execution_count": 13,
     "metadata": {},
     "output_type": "execute_result"
    }
   ],
   "source": [
    "p_type_vc = p_type.value_counts()\n",
    "p_type_vc"
   ]
  },
  {
   "cell_type": "markdown",
   "metadata": {},
   "source": [
    "So we have 34 different type of crimes which as we can see are not equally distributed"
   ]
  },
  {
   "cell_type": "markdown",
   "metadata": {},
   "source": [
    "We can first regroup some types that are similar"
   ]
  },
  {
   "cell_type": "code",
   "execution_count": 14,
   "metadata": {},
   "outputs": [],
   "source": [
    "similar_types = {'NARCOTICS' : ['NARCOTICS', 'OTHER NARCOTIC VIOLATION'], 'SEXUAL CRIME' : ['SEX OFFENSE', 'CRIM SEXUAL ASSAULT', 'PROSTITUTION'], 'PUBLIC PEACE VIOLATION' : ['OBSCENITY', 'PUBLIC INDECENCY']}\n",
    "type_to_group ={e : v for v in similar_types for e in similar_types[v]}"
   ]
  },
  {
   "cell_type": "code",
   "execution_count": 15,
   "metadata": {},
   "outputs": [],
   "source": [
    "chicago_crime['Primary Type'].replace(type_to_group, inplace=True)"
   ]
  },
  {
   "cell_type": "code",
   "execution_count": 16,
   "metadata": {},
   "outputs": [
    {
     "data": {
      "text/plain": [
       "THEFT                                1344440\n",
       "BATTERY                              1159460\n",
       "CRIMINAL DAMAGE                       724093\n",
       "NARCOTICS                             649550\n",
       "ASSAULT                               398093\n",
       "OTHER OFFENSE                         393281\n",
       "BURGLARY                              364091\n",
       "MOTOR VEHICLE THEFT                   288011\n",
       "DECEPTIVE PRACTICE                    253592\n",
       "ROBBERY                               239517\n",
       "CRIMINAL TRESPASS                     182296\n",
       "SEXUAL CRIME                          108444\n",
       "WEAPONS VIOLATION                      71076\n",
       "PUBLIC PEACE VIOLATION                 46535\n",
       "OFFENSE INVOLVING CHILDREN             42838\n",
       "INTERFERENCE WITH PUBLIC OFFICER       16103\n",
       "GAMBLING                               13351\n",
       "LIQUOR LAW VIOLATION                   12186\n",
       "ARSON                                  10149\n",
       "HOMICIDE                                9595\n",
       "KIDNAPPING                              5628\n",
       "INTIMIDATION                            3718\n",
       "STALKING                                3295\n",
       "CONCEALED CARRY LICENSE VIOLATION        499\n",
       "NON-CRIMINAL                             162\n",
       "HUMAN TRAFFICKING                         59\n",
       "NON - CRIMINAL                            38\n",
       "RITUALISM                                 14\n",
       "NON-CRIMINAL (SUBJECT SPECIFIED)           9\n",
       "Name: Primary Type, dtype: int64"
      ]
     },
     "execution_count": 16,
     "metadata": {},
     "output_type": "execute_result"
    }
   ],
   "source": [
    "p_type_vc = p_type.value_counts()\n",
    "p_type_vc"
   ]
  },
  {
   "cell_type": "markdown",
   "metadata": {},
   "source": [
    "Some types have too low frequency to be of use in our future models. To address thid issue, we simply regroup the low frequency types in the type : 'OTHER OFFENSE'"
   ]
  },
  {
   "cell_type": "code",
   "execution_count": 17,
   "metadata": {},
   "outputs": [],
   "source": [
    "def regroup_low_fred(data, column, min_freq, name='OTHER') :\n",
    "    freq = data[column].value_counts()\n",
    "    lowf_types = list(freq[freq <min_freq].index)\n",
    "    data[column] = data[column].apply(lambda x : name if x in lowf_types else x)"
   ]
  },
  {
   "cell_type": "code",
   "execution_count": 18,
   "metadata": {},
   "outputs": [],
   "source": [
    "regroup_low_fred(chicago_crime, 'Primary Type', 9500, 'OTHER OFFENSE')"
   ]
  },
  {
   "cell_type": "code",
   "execution_count": 19,
   "metadata": {
    "scrolled": true
   },
   "outputs": [
    {
     "data": {
      "text/plain": [
       "THEFT                               1344440\n",
       "BATTERY                             1159460\n",
       "CRIMINAL DAMAGE                      724093\n",
       "NARCOTICS                            649550\n",
       "OTHER OFFENSE                        406703\n",
       "ASSAULT                              398093\n",
       "BURGLARY                             364091\n",
       "MOTOR VEHICLE THEFT                  288011\n",
       "DECEPTIVE PRACTICE                   253592\n",
       "ROBBERY                              239517\n",
       "CRIMINAL TRESPASS                    182296\n",
       "SEXUAL CRIME                         108444\n",
       "WEAPONS VIOLATION                     71076\n",
       "PUBLIC PEACE VIOLATION                46535\n",
       "OFFENSE INVOLVING CHILDREN            42838\n",
       "INTERFERENCE WITH PUBLIC OFFICER      16103\n",
       "GAMBLING                              13351\n",
       "LIQUOR LAW VIOLATION                  12186\n",
       "ARSON                                 10149\n",
       "HOMICIDE                               9595\n",
       "Name: Primary Type, dtype: int64"
      ]
     },
     "execution_count": 19,
     "metadata": {},
     "output_type": "execute_result"
    }
   ],
   "source": [
    "chicago_crime['Primary Type'].value_counts()"
   ]
  },
  {
   "cell_type": "markdown",
   "metadata": {},
   "source": [
    "- **Description**"
   ]
  },
  {
   "cell_type": "code",
   "execution_count": 20,
   "metadata": {},
   "outputs": [
    {
     "data": {
      "text/plain": [
       "378"
      ]
     },
     "execution_count": 20,
     "metadata": {},
     "output_type": "execute_result"
    }
   ],
   "source": [
    "chicago_crime['Description'].nunique()"
   ]
  },
  {
   "cell_type": "code",
   "execution_count": 21,
   "metadata": {
    "scrolled": true
   },
   "outputs": [
    {
     "data": {
      "text/plain": [
       "SIMPLE                                          697667\n",
       "DOMESTIC BATTERY SIMPLE                         539453\n",
       "$500 AND UNDER                                  490446\n",
       "TO VEHICLE                                      350456\n",
       "TO PROPERTY                                     330926\n",
       "OVER $500                                       319577\n",
       "POSS: CANNABIS 30GMS OR LESS                    256654\n",
       "FORCIBLE ENTRY                                  244762\n",
       "FROM BUILDING                                   235493\n",
       "AUTOMOBILE                                      227583\n",
       "RETAIL THEFT                                    177448\n",
       "TELEPHONE THREAT                                124703\n",
       "TO LAND                                         111883\n",
       "POSS: CRACK                                     101271\n",
       "UNLAWFUL ENTRY                                   98411\n",
       "HARASSMENT BY TELEPHONE                          90845\n",
       "ARMED: HANDGUN                                   85009\n",
       "POSS: HEROIN(WHITE)                              83877\n",
       "STRONGARM - NO WEAPON                            83490\n",
       "AGGRAVATED: OTHER DANG WEAPON                    82930\n",
       "AGGRAVATED: HANDGUN                              79468\n",
       "CREDIT CARD FRAUD                                53850\n",
       "AGGRAVATED:KNIFE/CUTTING INSTR                   51385\n",
       "UNLAWFUL POSS OF HANDGUN                         47647\n",
       "SOLICIT ON PUBLIC WAY                            41537\n",
       "FINANCIAL ID THEFT: OVER $300                    37861\n",
       "POCKET-PICKING                                   35170\n",
       "CRIMINAL DEFACEMENT                              34417\n",
       "OTHER VEHICLE OFFENSE                            32604\n",
       "ILLEGAL USE CASH CARD                            32476\n",
       "                                                 ...  \n",
       "ADULTRY                                              6\n",
       "ALTER COINS                                          6\n",
       "VIOLATION OF SUMMARY CLOSURE                         6\n",
       "CONTRABAND IN PRISON                                 6\n",
       "LOTTERY/PARLAY CARDS                                 5\n",
       "INTIMIDATION OF LAW ENFORCEMENT OFFICIAL             5\n",
       "FAIL REGISTER LIC:CONT SUBS                          5\n",
       "FOUND PASSPORT                                       4\n",
       "AGG RIT MUT: HANDS/FIST/FEET SERIOUS INJURY          4\n",
       "USE OF METAL PIERCING BULLETS                        4\n",
       "AGG RITUAL MUT:HANDGUN                               4\n",
       "ARSONIST: DUTY TO REGISTER                           4\n",
       "ARSONIST: FAIL TO REGISTER NEW ADDRESS               3\n",
       "GUN OFFENDER NOTIFICATION-NO CONTACT                 3\n",
       "ATTEMPT AGG: OTHER FIREARM                           3\n",
       "INVOLUNTARY MANSLAUGHTER                             3\n",
       "LOTTERY/OTHER                                        3\n",
       "ATT AGG CRIM SEXUAL ABUSE                            3\n",
       "AGG RIT MUT: HANDS/FIST/FEET NO/MINOR INJURY         3\n",
       "REGISTER FED GAMBLING STAMP                          2\n",
       "REGISTER OF SALES BY DEALER                          2\n",
       "NATIONAL LOTTERY                                     2\n",
       "AGG RITUAL MUT:OTH DANG WEAPON                       2\n",
       "SPORTS TAMPERING                                     1\n",
       "DISCLOSE DV VICTIM LOCATION                          1\n",
       "AGG RITUAL MUT:KNIFE/CUTTING I                       1\n",
       "POLICY/OTHER                                         1\n",
       "MARRYING A BIGAMIST                                  1\n",
       "KEEP PLACE OF JUV PROSTITUTION                       1\n",
       "THEFT RETAIL                                         1\n",
       "Name: Description, Length: 378, dtype: int64"
      ]
     },
     "execution_count": 21,
     "metadata": {},
     "output_type": "execute_result"
    }
   ],
   "source": [
    "chicago_crime['Description'].value_counts()"
   ]
  },
  {
   "cell_type": "markdown",
   "metadata": {},
   "source": [
    "Again we have quite a lot of descriptions. We will regroup the low frequencies again"
   ]
  },
  {
   "cell_type": "code",
   "execution_count": 22,
   "metadata": {},
   "outputs": [],
   "source": [
    "regroup_low_fred(chicago_crime, 'Description', 10000)"
   ]
  },
  {
   "cell_type": "code",
   "execution_count": 23,
   "metadata": {},
   "outputs": [
    {
     "data": {
      "text/plain": [
       "70"
      ]
     },
     "execution_count": 23,
     "metadata": {},
     "output_type": "execute_result"
    }
   ],
   "source": [
    "chicago_crime['Description'].nunique()"
   ]
  },
  {
   "cell_type": "code",
   "execution_count": 24,
   "metadata": {
    "scrolled": true
   },
   "outputs": [
    {
     "data": {
      "text/plain": [
       "SIMPLE                                             697667\n",
       "DOMESTIC BATTERY SIMPLE                            539453\n",
       "$500 AND UNDER                                     490446\n",
       "OTHER                                              422039\n",
       "TO VEHICLE                                         350456\n",
       "TO PROPERTY                                        330926\n",
       "OVER $500                                          319577\n",
       "POSS: CANNABIS 30GMS OR LESS                       256654\n",
       "FORCIBLE ENTRY                                     244762\n",
       "FROM BUILDING                                      235493\n",
       "AUTOMOBILE                                         227583\n",
       "RETAIL THEFT                                       177448\n",
       "TELEPHONE THREAT                                   124703\n",
       "TO LAND                                            111883\n",
       "POSS: CRACK                                        101271\n",
       "UNLAWFUL ENTRY                                      98411\n",
       "HARASSMENT BY TELEPHONE                             90845\n",
       "ARMED: HANDGUN                                      85009\n",
       "POSS: HEROIN(WHITE)                                 83877\n",
       "STRONGARM - NO WEAPON                               83490\n",
       "AGGRAVATED: OTHER DANG WEAPON                       82930\n",
       "AGGRAVATED: HANDGUN                                 79468\n",
       "CREDIT CARD FRAUD                                   53850\n",
       "AGGRAVATED:KNIFE/CUTTING INSTR                      51385\n",
       "UNLAWFUL POSS OF HANDGUN                            47647\n",
       "SOLICIT ON PUBLIC WAY                               41537\n",
       "FINANCIAL ID THEFT: OVER $300                       37861\n",
       "POCKET-PICKING                                      35170\n",
       "CRIMINAL DEFACEMENT                                 34417\n",
       "OTHER VEHICLE OFFENSE                               32604\n",
       "                                                    ...  \n",
       "FINANCIAL IDENTITY THEFT OVER $ 300                 23990\n",
       "MANU/DELIVER: HEROIN (WHITE)                        23111\n",
       "POSS: COCAINE                                       22862\n",
       "TRUCK, BUS, MOTOR HOME                              22518\n",
       "FALSE/STOLEN/ALTERED TRP                            21534\n",
       "MANU/DELIVER:CRACK                                  20553\n",
       "AGG PO HANDS NO/MIN INJURY                          19779\n",
       "ATTEMPT POSSESSION NARCOTICS                        19412\n",
       "AGGRAVATED DOMESTIC BATTERY: OTHER DANG WEAPON      19408\n",
       "THEFT/RECOVERY: AUTOMOBILE                          19187\n",
       "PURSE-SNATCHING                                     17093\n",
       "POSS: CANNABIS MORE THAN 30GMS                      16361\n",
       "FOUND SUSPECT NARCOTICS                             15695\n",
       "ATTEMPT FORCIBLE ENTRY                              15629\n",
       "FORGERY                                             15481\n",
       "NON-AGGRAVATED                                      14714\n",
       "AGGRAVATED                                          14483\n",
       "TO CITY OF CHICAGO PROPERTY                         13793\n",
       "CHILD ABUSE                                         13614\n",
       "FINANCIAL ID THEFT:$300 &UNDER                      13312\n",
       "AGGRAVATED DOMESTIC BATTERY: KNIFE/CUTTING INST     13295\n",
       "SOLICIT FOR BUSINESS                                13093\n",
       "BOGUS CHECK                                         12345\n",
       "COUNTERFEITING DOCUMENT                             11811\n",
       "ARMED: OTHER DANGEROUS WEAPON                       11555\n",
       "GAME/DICE                                           11469\n",
       "MANU/DEL:CANNABIS OVER 10 GMS                       11312\n",
       "MANU/DEL:CANNABIS 10GM OR LESS                      10808\n",
       "ARMED:KNIFE/CUTTING INSTRUMENT                      10737\n",
       "ATTEMPT THEFT                                       10564\n",
       "Name: Description, Length: 70, dtype: int64"
      ]
     },
     "execution_count": 24,
     "metadata": {},
     "output_type": "execute_result"
    }
   ],
   "source": [
    "chicago_crime['Description'].value_counts()"
   ]
  },
  {
   "cell_type": "markdown",
   "metadata": {},
   "source": [
    "- **Local Description**\n"
   ]
  },
  {
   "cell_type": "code",
   "execution_count": 25,
   "metadata": {
    "scrolled": true
   },
   "outputs": [
    {
     "data": {
      "text/plain": [
       "180"
      ]
     },
     "execution_count": 25,
     "metadata": {},
     "output_type": "execute_result"
    }
   ],
   "source": [
    "chicago_crime['Location Description'].nunique()"
   ]
  },
  {
   "cell_type": "code",
   "execution_count": 26,
   "metadata": {
    "scrolled": true
   },
   "outputs": [
    {
     "data": {
      "text/plain": [
       "STREET                            1627757\n",
       "RESIDENCE                         1051303\n",
       "APARTMENT                          689487\n",
       "SIDEWALK                           644724\n",
       "OTHER                              236698\n",
       "PARKING LOT/GARAGE(NON.RESID.)     180229\n",
       "ALLEY                              141841\n",
       "SCHOOL, PUBLIC, BUILDING           130375\n",
       "RESIDENCE-GARAGE                   121553\n",
       "SMALL RETAIL STORE                 115926\n",
       "RESIDENCE PORCH/HALLWAY            110885\n",
       "VEHICLE NON-COMMERCIAL             106327\n",
       "RESTAURANT                         103175\n",
       "DEPARTMENT STORE                    79884\n",
       "GROCERY FOOD STORE                  79494\n",
       "RESIDENTIAL YARD (FRONT/BACK)       73933\n",
       "GAS STATION                         69614\n",
       "PARK PROPERTY                       49215\n",
       "CHA PARKING LOT/GROUNDS             44825\n",
       "COMMERCIAL / BUSINESS OFFICE        43543\n",
       "BAR OR TAVERN                       35621\n",
       "CTA PLATFORM                        33151\n",
       "CHA APARTMENT                       29070\n",
       "DRUG STORE                          28138\n",
       "SCHOOL, PUBLIC, GROUNDS             27460\n",
       "HOTEL/MOTEL                         26410\n",
       "BANK                                25351\n",
       "CTA TRAIN                           24794\n",
       "VACANT LOT/LAND                     22726\n",
       "CTA BUS                             20899\n",
       "                                   ...   \n",
       "CHA PLAY LOT                            4\n",
       "YMCA                                    3\n",
       "COACH HOUSE                             3\n",
       "SEWER                                   3\n",
       "ROOMING HOUSE                           2\n",
       "LIVERY STAND OFFICE                     2\n",
       "PUBLIC HIGH SCHOOL                      2\n",
       "GOVERNMENT BUILDING                     2\n",
       "LAUNDRY ROOM                            2\n",
       "CHA BREEZEWAY                           2\n",
       "FACTORY                                 2\n",
       "HORSE STABLE                            2\n",
       "CHA ELEVATOR                            2\n",
       "LAKE                                    2\n",
       "PRAIRIE                                 2\n",
       "CTA \"L\" TRAIN                           2\n",
       "LAGOON                                  1\n",
       "COUNTY JAIL                             1\n",
       "EXPRESSWAY EMBANKMENT                   1\n",
       "CHURCH PROPERTY                         1\n",
       "TRUCKING TERMINAL                       1\n",
       "PUBLIC GRAMMAR SCHOOL                   1\n",
       "FUNERAL PARLOR                          1\n",
       "CLEANERS/LAUNDROMAT                     1\n",
       "JUNK YARD/GARBAGE DUMP                  1\n",
       "BANQUET HALL                            1\n",
       "ELEVATOR                                1\n",
       "POOLROOM                                1\n",
       "LIVERY AUTO                             1\n",
       "LOADING DOCK                            1\n",
       "Name: Location Description, Length: 180, dtype: int64"
      ]
     },
     "execution_count": 26,
     "metadata": {},
     "output_type": "execute_result"
    }
   ],
   "source": [
    "chicago_crime['Location Description'].value_counts()"
   ]
  },
  {
   "cell_type": "markdown",
   "metadata": {},
   "source": [
    "Same as for Description"
   ]
  },
  {
   "cell_type": "code",
   "execution_count": 27,
   "metadata": {},
   "outputs": [],
   "source": [
    "regroup_low_fred(chicago_crime, 'Location Description', 10000 )"
   ]
  },
  {
   "cell_type": "code",
   "execution_count": 28,
   "metadata": {},
   "outputs": [
    {
     "data": {
      "text/plain": [
       "44"
      ]
     },
     "execution_count": 28,
     "metadata": {},
     "output_type": "execute_result"
    }
   ],
   "source": [
    "chicago_crime['Location Description'].nunique()"
   ]
  },
  {
   "cell_type": "code",
   "execution_count": 29,
   "metadata": {
    "scrolled": true
   },
   "outputs": [
    {
     "data": {
      "text/plain": [
       "STREET                               1627757\n",
       "RESIDENCE                            1051303\n",
       "APARTMENT                             689487\n",
       "SIDEWALK                              644724\n",
       "OTHER                                 389773\n",
       "PARKING LOT/GARAGE(NON.RESID.)        180229\n",
       "ALLEY                                 141841\n",
       "SCHOOL, PUBLIC, BUILDING              130375\n",
       "RESIDENCE-GARAGE                      121553\n",
       "SMALL RETAIL STORE                    115926\n",
       "RESIDENCE PORCH/HALLWAY               110885\n",
       "VEHICLE NON-COMMERCIAL                106327\n",
       "RESTAURANT                            103175\n",
       "DEPARTMENT STORE                       79884\n",
       "GROCERY FOOD STORE                     79494\n",
       "RESIDENTIAL YARD (FRONT/BACK)          73933\n",
       "GAS STATION                            69614\n",
       "PARK PROPERTY                          49215\n",
       "CHA PARKING LOT/GROUNDS                44825\n",
       "COMMERCIAL / BUSINESS OFFICE           43543\n",
       "BAR OR TAVERN                          35621\n",
       "CTA PLATFORM                           33151\n",
       "CHA APARTMENT                          29070\n",
       "DRUG STORE                             28138\n",
       "SCHOOL, PUBLIC, GROUNDS                27460\n",
       "HOTEL/MOTEL                            26410\n",
       "BANK                                   25351\n",
       "CTA TRAIN                              24794\n",
       "VACANT LOT/LAND                        22726\n",
       "CTA BUS                                20899\n",
       "CHA HALLWAY/STAIRWELL/ELEVATOR         20332\n",
       "HOSPITAL BUILDING/GROUNDS              19781\n",
       "DRIVEWAY - RESIDENTIAL                 18769\n",
       "TAVERN/LIQUOR STORE                    18766\n",
       "CONVENIENCE STORE                      18137\n",
       "POLICE FACILITY/VEH PARKING LOT        16580\n",
       "AIRPORT/AIRCRAFT                       15093\n",
       "CHURCH/SYNAGOGUE/PLACE OF WORSHIP      14044\n",
       "NURSING HOME/RETIREMENT HOME           12886\n",
       "GOVERNMENT BUILDING/PROPERTY           12864\n",
       "SCHOOL, PRIVATE, BUILDING              12445\n",
       "CONSTRUCTION SITE                      12087\n",
       "ABANDONED BUILDING                     10718\n",
       "CTA GARAGE / OTHER PROPERTY            10138\n",
       "Name: Location Description, dtype: int64"
      ]
     },
     "execution_count": 29,
     "metadata": {},
     "output_type": "execute_result"
    }
   ],
   "source": [
    "chicago_crime['Location Description'].value_counts()"
   ]
  },
  {
   "cell_type": "code",
   "execution_count": 30,
   "metadata": {},
   "outputs": [],
   "source": [
    "#pickle.dump(chicago_crime, open('data/chicago_crimes_processing.pkl', 'wb'))"
   ]
  },
  {
   "cell_type": "code",
   "execution_count": 14,
   "metadata": {},
   "outputs": [],
   "source": [
    "chicago_crime = pickle.load(open('data/chicago_crimes_processing.pkl', 'rb'))"
   ]
  },
  {
   "cell_type": "code",
   "execution_count": 32,
   "metadata": {},
   "outputs": [
    {
     "data": {
      "text/html": [
       "<div>\n",
       "<style scoped>\n",
       "    .dataframe tbody tr th:only-of-type {\n",
       "        vertical-align: middle;\n",
       "    }\n",
       "\n",
       "    .dataframe tbody tr th {\n",
       "        vertical-align: top;\n",
       "    }\n",
       "\n",
       "    .dataframe thead th {\n",
       "        text-align: right;\n",
       "    }\n",
       "</style>\n",
       "<table border=\"1\" class=\"dataframe\">\n",
       "  <thead>\n",
       "    <tr style=\"text-align: right;\">\n",
       "      <th></th>\n",
       "      <th>Primary Type</th>\n",
       "      <th>Description</th>\n",
       "      <th>Location Description</th>\n",
       "      <th>Arrest</th>\n",
       "      <th>Domestic</th>\n",
       "      <th>Community Area</th>\n",
       "      <th>Year</th>\n",
       "      <th>Latitude</th>\n",
       "      <th>Longitude</th>\n",
       "      <th>Hour</th>\n",
       "      <th>Day</th>\n",
       "      <th>Month</th>\n",
       "    </tr>\n",
       "  </thead>\n",
       "  <tbody>\n",
       "    <tr>\n",
       "      <th>60345</th>\n",
       "      <td>PUBLIC PEACE VIOLATION</td>\n",
       "      <td>OTHER</td>\n",
       "      <td>OTHER</td>\n",
       "      <td>False</td>\n",
       "      <td>False</td>\n",
       "      <td>76</td>\n",
       "      <td>2019</td>\n",
       "      <td>42.002816</td>\n",
       "      <td>-87.906094</td>\n",
       "      <td>19</td>\n",
       "      <td>3</td>\n",
       "      <td>1</td>\n",
       "    </tr>\n",
       "    <tr>\n",
       "      <th>62272</th>\n",
       "      <td>BATTERY</td>\n",
       "      <td>SIMPLE</td>\n",
       "      <td>STREET</td>\n",
       "      <td>False</td>\n",
       "      <td>False</td>\n",
       "      <td>32</td>\n",
       "      <td>2019</td>\n",
       "      <td>41.883369</td>\n",
       "      <td>-87.633860</td>\n",
       "      <td>18</td>\n",
       "      <td>16</td>\n",
       "      <td>3</td>\n",
       "    </tr>\n",
       "    <tr>\n",
       "      <th>62615</th>\n",
       "      <td>THEFT</td>\n",
       "      <td>$500 AND UNDER</td>\n",
       "      <td>RESIDENTIAL YARD (FRONT/BACK)</td>\n",
       "      <td>False</td>\n",
       "      <td>False</td>\n",
       "      <td>36</td>\n",
       "      <td>2019</td>\n",
       "      <td>41.825347</td>\n",
       "      <td>-87.606781</td>\n",
       "      <td>22</td>\n",
       "      <td>12</td>\n",
       "      <td>3</td>\n",
       "    </tr>\n",
       "    <tr>\n",
       "      <th>62648</th>\n",
       "      <td>BATTERY</td>\n",
       "      <td>SIMPLE</td>\n",
       "      <td>RESIDENCE</td>\n",
       "      <td>False</td>\n",
       "      <td>False</td>\n",
       "      <td>1</td>\n",
       "      <td>2019</td>\n",
       "      <td>42.016542</td>\n",
       "      <td>-87.672499</td>\n",
       "      <td>19</td>\n",
       "      <td>14</td>\n",
       "      <td>3</td>\n",
       "    </tr>\n",
       "    <tr>\n",
       "      <th>62649</th>\n",
       "      <td>OTHER OFFENSE</td>\n",
       "      <td>OTHER VEHICLE OFFENSE</td>\n",
       "      <td>STREET</td>\n",
       "      <td>False</td>\n",
       "      <td>True</td>\n",
       "      <td>36</td>\n",
       "      <td>2019</td>\n",
       "      <td>41.825299</td>\n",
       "      <td>-87.606961</td>\n",
       "      <td>16</td>\n",
       "      <td>14</td>\n",
       "      <td>3</td>\n",
       "    </tr>\n",
       "  </tbody>\n",
       "</table>\n",
       "</div>"
      ],
      "text/plain": [
       "                 Primary Type            Description  \\\n",
       "60345  PUBLIC PEACE VIOLATION                  OTHER   \n",
       "62272                 BATTERY                 SIMPLE   \n",
       "62615                   THEFT         $500 AND UNDER   \n",
       "62648                 BATTERY                 SIMPLE   \n",
       "62649           OTHER OFFENSE  OTHER VEHICLE OFFENSE   \n",
       "\n",
       "                Location Description  Arrest  Domestic  Community Area  Year  \\\n",
       "60345                          OTHER   False     False              76  2019   \n",
       "62272                         STREET   False     False              32  2019   \n",
       "62615  RESIDENTIAL YARD (FRONT/BACK)   False     False              36  2019   \n",
       "62648                      RESIDENCE   False     False               1  2019   \n",
       "62649                         STREET   False      True              36  2019   \n",
       "\n",
       "        Latitude  Longitude  Hour  Day  Month  \n",
       "60345  42.002816 -87.906094    19    3      1  \n",
       "62272  41.883369 -87.633860    18   16      3  \n",
       "62615  41.825347 -87.606781    22   12      3  \n",
       "62648  42.016542 -87.672499    19   14      3  \n",
       "62649  41.825299 -87.606961    16   14      3  "
      ]
     },
     "execution_count": 32,
     "metadata": {},
     "output_type": "execute_result"
    }
   ],
   "source": [
    "chicago_crime.head()"
   ]
  },
  {
   "cell_type": "markdown",
   "metadata": {},
   "source": [
    "### Data preparation"
   ]
  },
  {
   "cell_type": "markdown",
   "metadata": {},
   "source": [
    "We will now prepare the data to be used in our models. For our data to be used in models we need to :\n",
    "- **Numericalize** : transorm the non-numerical data in numerical data by simply assigning a number for each value of a feature\n",
    "- **Normalize** : normalize the numerical data. This will help some type of models to train"
   ]
  },
  {
   "cell_type": "code",
   "execution_count": 2,
   "metadata": {},
   "outputs": [],
   "source": [
    "from fastai.tabular.data import TabularProc"
   ]
  },
  {
   "cell_type": "markdown",
   "metadata": {},
   "source": [
    "#### Numericalize"
   ]
  },
  {
   "cell_type": "markdown",
   "metadata": {},
   "source": [
    "We will use a **myCategorify** object that categorify the non_numercal data (transform the pandas object column in a cat column) and store the mapping from the values to the number assigned so that we can reuse it on test data"
   ]
  },
  {
   "cell_type": "code",
   "execution_count": 3,
   "metadata": {},
   "outputs": [],
   "source": [
    "class myCategorify(TabularProc):\n",
    "    \"Transform the categorical variables to that type.\"\n",
    "    def apply_train(self, df:DataFrame):\n",
    "        \"Transform `self.cat_names` columns in categorical.\"\n",
    "        self.categories = {}\n",
    "        for n in self.cat_names:\n",
    "            df.loc[:,n] = df.loc[:,n].astype('category').cat.as_ordered()\n",
    "            self.categories[n] = df[n].cat.categories\n",
    "\n",
    "    def apply_test(self, df:DataFrame):\n",
    "        \"Transform `self.cat_names` columns in categorical using the codes decided in `apply_train`.\"\n",
    "        for n in self.cat_names:\n",
    "            if n in df.columns :\n",
    "                df.loc[:,n] = pd.Categorical(df[n], categories=self.categories[n], ordered=True)"
   ]
  },
  {
   "cell_type": "code",
   "execution_count": 35,
   "metadata": {},
   "outputs": [],
   "source": [
    "# The non-numercal data columns\n",
    "cat_vars = ['Primary Type', 'Description', 'Location Description', 'Arrest', 'Domestic', 'Community Area']\n",
    "# The numercal data columns\n",
    "cont_vars = ['Year', 'Latitude', 'Longitude', 'Hour', 'Day', 'Month']"
   ]
  },
  {
   "cell_type": "code",
   "execution_count": 36,
   "metadata": {},
   "outputs": [],
   "source": [
    "cat_proc = myCategorify(cat_vars, cont_vars)"
   ]
  },
  {
   "cell_type": "code",
   "execution_count": 37,
   "metadata": {},
   "outputs": [],
   "source": [
    "cat_proc(chicago_crime)"
   ]
  },
  {
   "cell_type": "markdown",
   "metadata": {},
   "source": [
    "Now that the columns are of type category we can transform the values in their respective number"
   ]
  },
  {
   "cell_type": "code",
   "execution_count": 38,
   "metadata": {},
   "outputs": [],
   "source": [
    "for c in cat_vars :\n",
    "    chicago_crime[c] = chicago_crime[c].cat.codes"
   ]
  },
  {
   "cell_type": "markdown",
   "metadata": {},
   "source": [
    "#### Normalizing "
   ]
  },
  {
   "cell_type": "markdown",
   "metadata": {},
   "source": [
    "We will again use an object to store the normalizing data "
   ]
  },
  {
   "cell_type": "code",
   "execution_count": 4,
   "metadata": {},
   "outputs": [],
   "source": [
    "class my_Normalize(TabularProc):\n",
    "    \"Normalize the continuous variables.\"\n",
    "    def apply_train(self, df:DataFrame):\n",
    "        \"Comput the means and stds of `self.cont_names` columns to normalize them.\"\n",
    "        self.means,self.stds = {},{}\n",
    "        for n in self.cont_names:\n",
    "            self.means[n],self.stds[n] = df.loc[:,n].mean(),df.loc[:,n].std()\n",
    "            df.loc[:,n] = (df.loc[:,n]-self.means[n]) / (1e-7 + self.stds[n])\n",
    "\n",
    "    def apply_test(self, df:DataFrame):\n",
    "        \"Normalize `self.cont_names` with the same statistics as in `apply_train`.\"\n",
    "        for n in self.cont_names:\n",
    "            if n in df.columns :\n",
    "                df.loc[:,n] = (df.loc[:,n]-self.means[n]) / (1e-7 + self.stds[n])\n"
   ]
  },
  {
   "cell_type": "code",
   "execution_count": 40,
   "metadata": {},
   "outputs": [],
   "source": [
    "norm_proc = my_Normalize(cat_vars, cont_vars)"
   ]
  },
  {
   "cell_type": "code",
   "execution_count": null,
   "metadata": {},
   "outputs": [],
   "source": [
    "norm_proc(chicago_crime)"
   ]
  },
  {
   "cell_type": "markdown",
   "metadata": {},
   "source": [
    "Now that the data has been prepared, we can save our Numericalizer and Normalize object which will be of use afterwards"
   ]
  },
  {
   "cell_type": "code",
   "execution_count": 46,
   "metadata": {},
   "outputs": [],
   "source": [
    "#pickle.dump((cat_proc, norm_proc), open('data_processors.pkl', 'wb'))"
   ]
  },
  {
   "cell_type": "code",
   "execution_count": 43,
   "metadata": {},
   "outputs": [],
   "source": [
    "#pickle.dump((chicago_crime, cat_proc, norm_proc), open('data/chicago_crimes_processing_data.pkl', 'wb'))"
   ]
  },
  {
   "cell_type": "code",
   "execution_count": 15,
   "metadata": {},
   "outputs": [],
   "source": [
    "chicago_crime, cat_proc, norm_proc = pickle.load(open('data/chicago_crimes_processing_data.pkl', 'rb'))"
   ]
  },
  {
   "cell_type": "markdown",
   "metadata": {},
   "source": [
    "Here is the prepared data"
   ]
  },
  {
   "cell_type": "code",
   "execution_count": 47,
   "metadata": {},
   "outputs": [
    {
     "data": {
      "text/html": [
       "<div>\n",
       "<style scoped>\n",
       "    .dataframe tbody tr th:only-of-type {\n",
       "        vertical-align: middle;\n",
       "    }\n",
       "\n",
       "    .dataframe tbody tr th {\n",
       "        vertical-align: top;\n",
       "    }\n",
       "\n",
       "    .dataframe thead th {\n",
       "        text-align: right;\n",
       "    }\n",
       "</style>\n",
       "<table border=\"1\" class=\"dataframe\">\n",
       "  <thead>\n",
       "    <tr style=\"text-align: right;\">\n",
       "      <th></th>\n",
       "      <th>Primary Type</th>\n",
       "      <th>Description</th>\n",
       "      <th>Location Description</th>\n",
       "      <th>Arrest</th>\n",
       "      <th>Domestic</th>\n",
       "      <th>Community Area</th>\n",
       "      <th>Year</th>\n",
       "      <th>Latitude</th>\n",
       "      <th>Longitude</th>\n",
       "      <th>Hour</th>\n",
       "      <th>Day</th>\n",
       "      <th>Month</th>\n",
       "    </tr>\n",
       "  </thead>\n",
       "  <tbody>\n",
       "    <tr>\n",
       "      <th>60345</th>\n",
       "      <td>15</td>\n",
       "      <td>39</td>\n",
       "      <td>26</td>\n",
       "      <td>0</td>\n",
       "      <td>0</td>\n",
       "      <td>76</td>\n",
       "      <td>1.918047</td>\n",
       "      <td>1.863753</td>\n",
       "      <td>-3.962305</td>\n",
       "      <td>0.860247</td>\n",
       "      <td>-1.432802</td>\n",
       "      <td>-1.701383</td>\n",
       "    </tr>\n",
       "    <tr>\n",
       "      <th>62272</th>\n",
       "      <td>2</td>\n",
       "      <td>52</td>\n",
       "      <td>40</td>\n",
       "      <td>0</td>\n",
       "      <td>0</td>\n",
       "      <td>32</td>\n",
       "      <td>1.918047</td>\n",
       "      <td>0.480551</td>\n",
       "      <td>0.640177</td>\n",
       "      <td>0.713617</td>\n",
       "      <td>0.038834</td>\n",
       "      <td>-1.095794</td>\n",
       "    </tr>\n",
       "    <tr>\n",
       "      <th>62615</th>\n",
       "      <td>18</td>\n",
       "      <td>0</td>\n",
       "      <td>33</td>\n",
       "      <td>0</td>\n",
       "      <td>0</td>\n",
       "      <td>36</td>\n",
       "      <td>1.918047</td>\n",
       "      <td>-0.191352</td>\n",
       "      <td>1.097996</td>\n",
       "      <td>1.300135</td>\n",
       "      <td>-0.413977</td>\n",
       "      <td>-1.095794</td>\n",
       "    </tr>\n",
       "    <tr>\n",
       "      <th>62648</th>\n",
       "      <td>2</td>\n",
       "      <td>52</td>\n",
       "      <td>30</td>\n",
       "      <td>0</td>\n",
       "      <td>0</td>\n",
       "      <td>1</td>\n",
       "      <td>1.918047</td>\n",
       "      <td>2.022692</td>\n",
       "      <td>-0.013068</td>\n",
       "      <td>0.860247</td>\n",
       "      <td>-0.187572</td>\n",
       "      <td>-1.095794</td>\n",
       "    </tr>\n",
       "    <tr>\n",
       "      <th>62649</th>\n",
       "      <td>14</td>\n",
       "      <td>40</td>\n",
       "      <td>40</td>\n",
       "      <td>0</td>\n",
       "      <td>1</td>\n",
       "      <td>36</td>\n",
       "      <td>1.918047</td>\n",
       "      <td>-0.191911</td>\n",
       "      <td>1.094947</td>\n",
       "      <td>0.420358</td>\n",
       "      <td>-0.187572</td>\n",
       "      <td>-1.095794</td>\n",
       "    </tr>\n",
       "  </tbody>\n",
       "</table>\n",
       "</div>"
      ],
      "text/plain": [
       "       Primary Type  Description  Location Description  Arrest  Domestic  \\\n",
       "60345            15           39                    26       0         0   \n",
       "62272             2           52                    40       0         0   \n",
       "62615            18            0                    33       0         0   \n",
       "62648             2           52                    30       0         0   \n",
       "62649            14           40                    40       0         1   \n",
       "\n",
       "       Community Area      Year  Latitude  Longitude      Hour       Day  \\\n",
       "60345              76  1.918047  1.863753  -3.962305  0.860247 -1.432802   \n",
       "62272              32  1.918047  0.480551   0.640177  0.713617  0.038834   \n",
       "62615              36  1.918047 -0.191352   1.097996  1.300135 -0.413977   \n",
       "62648               1  1.918047  2.022692  -0.013068  0.860247 -0.187572   \n",
       "62649              36  1.918047 -0.191911   1.094947  0.420358 -0.187572   \n",
       "\n",
       "          Month  \n",
       "60345 -1.701383  \n",
       "62272 -1.095794  \n",
       "62615 -1.095794  \n",
       "62648 -1.095794  \n",
       "62649 -1.095794  "
      ]
     },
     "execution_count": 47,
     "metadata": {},
     "output_type": "execute_result"
    }
   ],
   "source": [
    "chicago_crime.head()"
   ]
  },
  {
   "cell_type": "markdown",
   "metadata": {},
   "source": [
    "### Arrest prediction"
   ]
  },
  {
   "cell_type": "markdown",
   "metadata": {},
   "source": [
    "So as we said before, our first model will try to predict the Arrest column for the other columns of the dataset"
   ]
  },
  {
   "cell_type": "markdown",
   "metadata": {},
   "source": [
    "Let's look at the distribution of the arrests"
   ]
  },
  {
   "cell_type": "code",
   "execution_count": 48,
   "metadata": {},
   "outputs": [
    {
     "data": {
      "image/png": "[encoded data removed]",
      "text/plain": [
       "<Figure size 432x288 with 1 Axes>"
      ]
     },
     "metadata": {
      "needs_background": "light"
     },
     "output_type": "display_data"
    }
   ],
   "source": [
    "chicago_crime['Arrest'].map({1 : 'True', 0: 'False'}).value_counts().plot(kind='bar')\n",
    "plt.show()"
   ]
  },
  {
   "cell_type": "markdown",
   "metadata": {},
   "source": [
    "We can see taht the data is not very well balance, we will focus on the f1 score as the metric."
   ]
  },
  {
   "cell_type": "markdown",
   "metadata": {},
   "source": [
    "#### Splitting data"
   ]
  },
  {
   "cell_type": "markdown",
   "metadata": {},
   "source": [
    "We first need to split the depend variable 'Arrest' and the other independent variables. For testing models, we should use a sample of the dataset as the full dataset is too large."
   ]
  },
  {
   "cell_type": "code",
   "execution_count": 5,
   "metadata": {},
   "outputs": [],
   "source": [
    "def get_sample(X, y,pctg=0.1) :\n",
    "    permu = np.random.permutation(X.shape[0])\n",
    "    idxs = permu[:int(pctg*X.shape[0])]\n",
    "    return X.iloc[idxs], y.iloc[idxs]"
   ]
  },
  {
   "cell_type": "code",
   "execution_count": 50,
   "metadata": {},
   "outputs": [],
   "source": [
    "indep_vars = ['Primary Type', 'Description', 'Location Description',\n",
    "       'Domestic', 'Year', 'Latitude', 'Longitude', 'Hour', 'Community Area',\n",
    "       'Day', 'Month']\n",
    "dep_var = 'Arrest'"
   ]
  },
  {
   "cell_type": "code",
   "execution_count": 51,
   "metadata": {},
   "outputs": [],
   "source": [
    "X, y = chicago_crime[indep_vars], chicago_crime[dep_var]"
   ]
  },
  {
   "cell_type": "code",
   "execution_count": 52,
   "metadata": {},
   "outputs": [
    {
     "data": {
      "text/html": [
       "<div>\n",
       "<style scoped>\n",
       "    .dataframe tbody tr th:only-of-type {\n",
       "        vertical-align: middle;\n",
       "    }\n",
       "\n",
       "    .dataframe tbody tr th {\n",
       "        vertical-align: top;\n",
       "    }\n",
       "\n",
       "    .dataframe thead th {\n",
       "        text-align: right;\n",
       "    }\n",
       "</style>\n",
       "<table border=\"1\" class=\"dataframe\">\n",
       "  <thead>\n",
       "    <tr style=\"text-align: right;\">\n",
       "      <th></th>\n",
       "      <th>Primary Type</th>\n",
       "      <th>Description</th>\n",
       "      <th>Location Description</th>\n",
       "      <th>Domestic</th>\n",
       "      <th>Year</th>\n",
       "      <th>Latitude</th>\n",
       "      <th>Longitude</th>\n",
       "      <th>Hour</th>\n",
       "      <th>Community Area</th>\n",
       "      <th>Day</th>\n",
       "      <th>Month</th>\n",
       "    </tr>\n",
       "  </thead>\n",
       "  <tbody>\n",
       "    <tr>\n",
       "      <th>60345</th>\n",
       "      <td>15</td>\n",
       "      <td>39</td>\n",
       "      <td>26</td>\n",
       "      <td>0</td>\n",
       "      <td>1.918047</td>\n",
       "      <td>1.863753</td>\n",
       "      <td>-3.962305</td>\n",
       "      <td>0.860247</td>\n",
       "      <td>76</td>\n",
       "      <td>-1.432802</td>\n",
       "      <td>-1.701383</td>\n",
       "    </tr>\n",
       "    <tr>\n",
       "      <th>62272</th>\n",
       "      <td>2</td>\n",
       "      <td>52</td>\n",
       "      <td>40</td>\n",
       "      <td>0</td>\n",
       "      <td>1.918047</td>\n",
       "      <td>0.480551</td>\n",
       "      <td>0.640177</td>\n",
       "      <td>0.713617</td>\n",
       "      <td>32</td>\n",
       "      <td>0.038834</td>\n",
       "      <td>-1.095794</td>\n",
       "    </tr>\n",
       "    <tr>\n",
       "      <th>62615</th>\n",
       "      <td>18</td>\n",
       "      <td>0</td>\n",
       "      <td>33</td>\n",
       "      <td>0</td>\n",
       "      <td>1.918047</td>\n",
       "      <td>-0.191352</td>\n",
       "      <td>1.097996</td>\n",
       "      <td>1.300135</td>\n",
       "      <td>36</td>\n",
       "      <td>-0.413977</td>\n",
       "      <td>-1.095794</td>\n",
       "    </tr>\n",
       "    <tr>\n",
       "      <th>62648</th>\n",
       "      <td>2</td>\n",
       "      <td>52</td>\n",
       "      <td>30</td>\n",
       "      <td>0</td>\n",
       "      <td>1.918047</td>\n",
       "      <td>2.022692</td>\n",
       "      <td>-0.013068</td>\n",
       "      <td>0.860247</td>\n",
       "      <td>1</td>\n",
       "      <td>-0.187572</td>\n",
       "      <td>-1.095794</td>\n",
       "    </tr>\n",
       "    <tr>\n",
       "      <th>62649</th>\n",
       "      <td>14</td>\n",
       "      <td>40</td>\n",
       "      <td>40</td>\n",
       "      <td>1</td>\n",
       "      <td>1.918047</td>\n",
       "      <td>-0.191911</td>\n",
       "      <td>1.094947</td>\n",
       "      <td>0.420358</td>\n",
       "      <td>36</td>\n",
       "      <td>-0.187572</td>\n",
       "      <td>-1.095794</td>\n",
       "    </tr>\n",
       "  </tbody>\n",
       "</table>\n",
       "</div>"
      ],
      "text/plain": [
       "       Primary Type  Description  Location Description  Domestic      Year  \\\n",
       "60345            15           39                    26         0  1.918047   \n",
       "62272             2           52                    40         0  1.918047   \n",
       "62615            18            0                    33         0  1.918047   \n",
       "62648             2           52                    30         0  1.918047   \n",
       "62649            14           40                    40         1  1.918047   \n",
       "\n",
       "       Latitude  Longitude      Hour  Community Area       Day     Month  \n",
       "60345  1.863753  -3.962305  0.860247              76 -1.432802 -1.701383  \n",
       "62272  0.480551   0.640177  0.713617              32  0.038834 -1.095794  \n",
       "62615 -0.191352   1.097996  1.300135              36 -0.413977 -1.095794  \n",
       "62648  2.022692  -0.013068  0.860247               1 -0.187572 -1.095794  \n",
       "62649 -0.191911   1.094947  0.420358              36 -0.187572 -1.095794  "
      ]
     },
     "execution_count": 52,
     "metadata": {},
     "output_type": "execute_result"
    }
   ],
   "source": [
    "X.head()"
   ]
  },
  {
   "cell_type": "code",
   "execution_count": 53,
   "metadata": {},
   "outputs": [],
   "source": [
    "X_sample, y_sample = get_sample(X, y, pctg=0.1)"
   ]
  },
  {
   "cell_type": "markdown",
   "metadata": {},
   "source": [
    "We can now split the data between training and validation set so we can get an idea of how well does our model genralizes"
   ]
  },
  {
   "cell_type": "code",
   "execution_count": 6,
   "metadata": {},
   "outputs": [],
   "source": [
    "from sklearn.model_selection import train_test_split"
   ]
  },
  {
   "cell_type": "code",
   "execution_count": 55,
   "metadata": {},
   "outputs": [],
   "source": [
    "X_train, X_test, y_train, y_test = train_test_split(X_sample, y_sample, test_size=0.1)"
   ]
  },
  {
   "cell_type": "code",
   "execution_count": 56,
   "metadata": {},
   "outputs": [
    {
     "data": {
      "text/plain": [
       "((570610, 11), (63402, 11), (570610,), (63402,))"
      ]
     },
     "execution_count": 56,
     "metadata": {},
     "output_type": "execute_result"
    }
   ],
   "source": [
    "X_train.shape, X_test.shape, y_train.shape, y_test.shape"
   ]
  },
  {
   "cell_type": "code",
   "execution_count": 57,
   "metadata": {},
   "outputs": [
    {
     "data": {
      "text/html": [
       "<div>\n",
       "<style scoped>\n",
       "    .dataframe tbody tr th:only-of-type {\n",
       "        vertical-align: middle;\n",
       "    }\n",
       "\n",
       "    .dataframe tbody tr th {\n",
       "        vertical-align: top;\n",
       "    }\n",
       "\n",
       "    .dataframe thead th {\n",
       "        text-align: right;\n",
       "    }\n",
       "</style>\n",
       "<table border=\"1\" class=\"dataframe\">\n",
       "  <thead>\n",
       "    <tr style=\"text-align: right;\">\n",
       "      <th></th>\n",
       "      <th>Primary Type</th>\n",
       "      <th>Description</th>\n",
       "      <th>Location Description</th>\n",
       "      <th>Domestic</th>\n",
       "      <th>Year</th>\n",
       "      <th>Latitude</th>\n",
       "      <th>Longitude</th>\n",
       "      <th>Hour</th>\n",
       "      <th>Community Area</th>\n",
       "      <th>Day</th>\n",
       "      <th>Month</th>\n",
       "    </tr>\n",
       "  </thead>\n",
       "  <tbody>\n",
       "    <tr>\n",
       "      <th>2819399</th>\n",
       "      <td>2</td>\n",
       "      <td>20</td>\n",
       "      <td>30</td>\n",
       "      <td>0</td>\n",
       "      <td>-1.089723</td>\n",
       "      <td>-0.818225</td>\n",
       "      <td>0.048689</td>\n",
       "      <td>0.860247</td>\n",
       "      <td>67</td>\n",
       "      <td>0.944456</td>\n",
       "      <td>-1.095794</td>\n",
       "    </tr>\n",
       "    <tr>\n",
       "      <th>3373030</th>\n",
       "      <td>3</td>\n",
       "      <td>25</td>\n",
       "      <td>30</td>\n",
       "      <td>0</td>\n",
       "      <td>-0.889205</td>\n",
       "      <td>0.209192</td>\n",
       "      <td>0.807212</td>\n",
       "      <td>-0.019531</td>\n",
       "      <td>33</td>\n",
       "      <td>-1.432802</td>\n",
       "      <td>-0.187412</td>\n",
       "    </tr>\n",
       "    <tr>\n",
       "      <th>3763017</th>\n",
       "      <td>3</td>\n",
       "      <td>25</td>\n",
       "      <td>32</td>\n",
       "      <td>0</td>\n",
       "      <td>-0.688687</td>\n",
       "      <td>0.853615</td>\n",
       "      <td>-0.576693</td>\n",
       "      <td>-1.485826</td>\n",
       "      <td>22</td>\n",
       "      <td>0.378442</td>\n",
       "      <td>-0.793000</td>\n",
       "    </tr>\n",
       "    <tr>\n",
       "      <th>137098</th>\n",
       "      <td>4</td>\n",
       "      <td>62</td>\n",
       "      <td>40</td>\n",
       "      <td>0</td>\n",
       "      <td>1.918047</td>\n",
       "      <td>0.852055</td>\n",
       "      <td>-0.118983</td>\n",
       "      <td>1.006876</td>\n",
       "      <td>22</td>\n",
       "      <td>0.265239</td>\n",
       "      <td>0.418176</td>\n",
       "    </tr>\n",
       "    <tr>\n",
       "      <th>4826728</th>\n",
       "      <td>18</td>\n",
       "      <td>0</td>\n",
       "      <td>40</td>\n",
       "      <td>0</td>\n",
       "      <td>-0.287651</td>\n",
       "      <td>-0.349305</td>\n",
       "      <td>0.931110</td>\n",
       "      <td>-1.925715</td>\n",
       "      <td>38</td>\n",
       "      <td>0.152036</td>\n",
       "      <td>0.720971</td>\n",
       "    </tr>\n",
       "  </tbody>\n",
       "</table>\n",
       "</div>"
      ],
      "text/plain": [
       "         Primary Type  Description  Location Description  Domestic      Year  \\\n",
       "2819399             2           20                    30         0 -1.089723   \n",
       "3373030             3           25                    30         0 -0.889205   \n",
       "3763017             3           25                    32         0 -0.688687   \n",
       "137098              4           62                    40         0  1.918047   \n",
       "4826728            18            0                    40         0 -0.287651   \n",
       "\n",
       "         Latitude  Longitude      Hour  Community Area       Day     Month  \n",
       "2819399 -0.818225   0.048689  0.860247              67  0.944456 -1.095794  \n",
       "3373030  0.209192   0.807212 -0.019531              33 -1.432802 -0.187412  \n",
       "3763017  0.853615  -0.576693 -1.485826              22  0.378442 -0.793000  \n",
       "137098   0.852055  -0.118983  1.006876              22  0.265239  0.418176  \n",
       "4826728 -0.349305   0.931110 -1.925715              38  0.152036  0.720971  "
      ]
     },
     "execution_count": 57,
     "metadata": {},
     "output_type": "execute_result"
    }
   ],
   "source": [
    "X_train.head()"
   ]
  },
  {
   "cell_type": "markdown",
   "metadata": {},
   "source": [
    "#### Models"
   ]
  },
  {
   "cell_type": "markdown",
   "metadata": {},
   "source": [
    "We will use three diffrent models for modeling :\n",
    "\n",
    "- Random forest : Tree bagging method\n",
    "- XGB : Tree boosting method \n",
    "- FeedForward neural network using embeddings for categorical features"
   ]
  },
  {
   "cell_type": "markdown",
   "metadata": {},
   "source": [
    "Here is a method that will print the sccore on our first two types of model"
   ]
  },
  {
   "cell_type": "code",
   "execution_count": 51,
   "metadata": {},
   "outputs": [],
   "source": [
    "from sklearn.metrics import f1_score"
   ]
  },
  {
   "cell_type": "code",
   "execution_count": 52,
   "metadata": {},
   "outputs": [],
   "source": [
    "def print_score(model, f1_average='binary') :\n",
    "    train_acc = model.score(X_train, y_train)\n",
    "    valid_acc = model.score(X_test, y_test)\n",
    "    train_f1 = f1_score(model.predict(X_train), y_train, average=f1_average)\n",
    "    valid_f1 = f1_score(model.predict(X_test), y_test, average=f1_average)\n",
    "    print(\"Train accuray : {:.3f}, Valid accuracy : {:.3f}, Train F1 score : {:.3f}, Valid F1 score : {:.3f}\".format(train_acc, valid_acc, train_f1, valid_f1))"
   ]
  },
  {
   "cell_type": "markdown",
   "metadata": {},
   "source": [
    "**Ranfom forest**"
   ]
  },
  {
   "cell_type": "markdown",
   "metadata": {},
   "source": [
    "We can use the implementation of random forest from sklearn"
   ]
  },
  {
   "cell_type": "code",
   "execution_count": 10,
   "metadata": {},
   "outputs": [],
   "source": [
    "from sklearn.ensemble import RandomForestClassifier"
   ]
  },
  {
   "cell_type": "code",
   "execution_count": 61,
   "metadata": {},
   "outputs": [],
   "source": [
    "rf = RandomForestClassifier(n_jobs=-1)"
   ]
  },
  {
   "cell_type": "code",
   "execution_count": 62,
   "metadata": {
    "scrolled": true
   },
   "outputs": [
    {
     "data": {
      "text/plain": [
       "RandomForestClassifier(bootstrap=True, class_weight=None, criterion='gini',\n",
       "            max_depth=None, max_features='auto', max_leaf_nodes=None,\n",
       "            min_impurity_decrease=0.0, min_impurity_split=None,\n",
       "            min_samples_leaf=1, min_samples_split=2,\n",
       "            min_weight_fraction_leaf=0.0, n_estimators=10, n_jobs=-1,\n",
       "            oob_score=False, random_state=None, verbose=0,\n",
       "            warm_start=False)"
      ]
     },
     "execution_count": 62,
     "metadata": {},
     "output_type": "execute_result"
    }
   ],
   "source": [
    "rf.fit(X_train, y_train)"
   ]
  },
  {
   "cell_type": "code",
   "execution_count": 63,
   "metadata": {},
   "outputs": [
    {
     "name": "stdout",
     "output_type": "stream",
     "text": [
      "Train accuray : 0.986, Valid accuracy : 0.879, Train F1 score : 0.974, Valid F1 score : 0.741\n"
     ]
    }
   ],
   "source": [
    "print_score(rf)"
   ]
  },
  {
   "cell_type": "code",
   "execution_count": 89,
   "metadata": {},
   "outputs": [],
   "source": [
    "#pickle.dump(rf, open('models/arrest_model/randomforest_arrest_sample.pkl', 'wb'))"
   ]
  },
  {
   "cell_type": "markdown",
   "metadata": {},
   "source": [
    "***XBG***"
   ]
  },
  {
   "cell_type": "markdown",
   "metadata": {},
   "source": [
    "We can use xgboost's implementation of a XGB classifier"
   ]
  },
  {
   "cell_type": "code",
   "execution_count": 16,
   "metadata": {},
   "outputs": [],
   "source": [
    "from xgboost import XGBClassifier"
   ]
  },
  {
   "cell_type": "code",
   "execution_count": 66,
   "metadata": {},
   "outputs": [],
   "source": [
    "xg = XGBClassifier(n_jobs=-1)"
   ]
  },
  {
   "cell_type": "code",
   "execution_count": 67,
   "metadata": {
    "scrolled": true
   },
   "outputs": [
    {
     "name": "stdout",
     "output_type": "stream",
     "text": [
      "[0]\tvalidation_0-logloss:0.648035\n",
      "Will train until validation_0-logloss hasn't improved in 50 rounds.\n",
      "[1]\tvalidation_0-logloss:0.611243\n",
      "[2]\tvalidation_0-logloss:0.580912\n",
      "[3]\tvalidation_0-logloss:0.551427\n",
      "[4]\tvalidation_0-logloss:0.52661\n",
      "[5]\tvalidation_0-logloss:0.507589\n",
      "[6]\tvalidation_0-logloss:0.489175\n",
      "[7]\tvalidation_0-logloss:0.473175\n",
      "[8]\tvalidation_0-logloss:0.45982\n",
      "[9]\tvalidation_0-logloss:0.448255\n",
      "[10]\tvalidation_0-logloss:0.438546\n",
      "[11]\tvalidation_0-logloss:0.430166\n",
      "[12]\tvalidation_0-logloss:0.420738\n",
      "[13]\tvalidation_0-logloss:0.414499\n",
      "[14]\tvalidation_0-logloss:0.407232\n",
      "[15]\tvalidation_0-logloss:0.399722\n",
      "[16]\tvalidation_0-logloss:0.394298\n",
      "[17]\tvalidation_0-logloss:0.390086\n",
      "[18]\tvalidation_0-logloss:0.387846\n",
      "[19]\tvalidation_0-logloss:0.384478\n",
      "[20]\tvalidation_0-logloss:0.382003\n",
      "[21]\tvalidation_0-logloss:0.378568\n",
      "[22]\tvalidation_0-logloss:0.377094\n",
      "[23]\tvalidation_0-logloss:0.37466\n",
      "[24]\tvalidation_0-logloss:0.371928\n",
      "[25]\tvalidation_0-logloss:0.370068\n",
      "[26]\tvalidation_0-logloss:0.369039\n",
      "[27]\tvalidation_0-logloss:0.367589\n",
      "[28]\tvalidation_0-logloss:0.364195\n",
      "[29]\tvalidation_0-logloss:0.362982\n",
      "[30]\tvalidation_0-logloss:0.360175\n",
      "[31]\tvalidation_0-logloss:0.359324\n",
      "[32]\tvalidation_0-logloss:0.358673\n",
      "[33]\tvalidation_0-logloss:0.356335\n",
      "[34]\tvalidation_0-logloss:0.355554\n",
      "[35]\tvalidation_0-logloss:0.354356\n",
      "[36]\tvalidation_0-logloss:0.353823\n",
      "[37]\tvalidation_0-logloss:0.353266\n",
      "[38]\tvalidation_0-logloss:0.352425\n",
      "[39]\tvalidation_0-logloss:0.350504\n",
      "[40]\tvalidation_0-logloss:0.350074\n",
      "[41]\tvalidation_0-logloss:0.349012\n",
      "[42]\tvalidation_0-logloss:0.348484\n",
      "[43]\tvalidation_0-logloss:0.348165\n",
      "[44]\tvalidation_0-logloss:0.347534\n",
      "[45]\tvalidation_0-logloss:0.346831\n",
      "[46]\tvalidation_0-logloss:0.346526\n",
      "[47]\tvalidation_0-logloss:0.34491\n",
      "[48]\tvalidation_0-logloss:0.344633\n",
      "[49]\tvalidation_0-logloss:0.343595\n",
      "[50]\tvalidation_0-logloss:0.343303\n",
      "[51]\tvalidation_0-logloss:0.34282\n",
      "[52]\tvalidation_0-logloss:0.342621\n",
      "[53]\tvalidation_0-logloss:0.341056\n",
      "[54]\tvalidation_0-logloss:0.340439\n",
      "[55]\tvalidation_0-logloss:0.340116\n",
      "[56]\tvalidation_0-logloss:0.339602\n",
      "[57]\tvalidation_0-logloss:0.339039\n",
      "[58]\tvalidation_0-logloss:0.337553\n",
      "[59]\tvalidation_0-logloss:0.336997\n",
      "[60]\tvalidation_0-logloss:0.33679\n",
      "[61]\tvalidation_0-logloss:0.336482\n",
      "[62]\tvalidation_0-logloss:0.33627\n",
      "[63]\tvalidation_0-logloss:0.335718\n",
      "[64]\tvalidation_0-logloss:0.335406\n",
      "[65]\tvalidation_0-logloss:0.334973\n",
      "[66]\tvalidation_0-logloss:0.334115\n",
      "[67]\tvalidation_0-logloss:0.333026\n",
      "[68]\tvalidation_0-logloss:0.332615\n",
      "[69]\tvalidation_0-logloss:0.332355\n",
      "[70]\tvalidation_0-logloss:0.331292\n",
      "[71]\tvalidation_0-logloss:0.330708\n",
      "[72]\tvalidation_0-logloss:0.330485\n",
      "[73]\tvalidation_0-logloss:0.330288\n",
      "[74]\tvalidation_0-logloss:0.329764\n",
      "[75]\tvalidation_0-logloss:0.329562\n",
      "[76]\tvalidation_0-logloss:0.329067\n",
      "[77]\tvalidation_0-logloss:0.328755\n",
      "[78]\tvalidation_0-logloss:0.32852\n",
      "[79]\tvalidation_0-logloss:0.327676\n",
      "[80]\tvalidation_0-logloss:0.327173\n",
      "[81]\tvalidation_0-logloss:0.326793\n",
      "[82]\tvalidation_0-logloss:0.326644\n",
      "[83]\tvalidation_0-logloss:0.326337\n",
      "[84]\tvalidation_0-logloss:0.326066\n",
      "[85]\tvalidation_0-logloss:0.325989\n",
      "[86]\tvalidation_0-logloss:0.325856\n",
      "[87]\tvalidation_0-logloss:0.325779\n",
      "[88]\tvalidation_0-logloss:0.325475\n",
      "[89]\tvalidation_0-logloss:0.325383\n",
      "[90]\tvalidation_0-logloss:0.325085\n",
      "[91]\tvalidation_0-logloss:0.3248\n",
      "[92]\tvalidation_0-logloss:0.324633\n",
      "[93]\tvalidation_0-logloss:0.324575\n",
      "[94]\tvalidation_0-logloss:0.32451\n",
      "[95]\tvalidation_0-logloss:0.323808\n",
      "[96]\tvalidation_0-logloss:0.323686\n",
      "[97]\tvalidation_0-logloss:0.323219\n",
      "[98]\tvalidation_0-logloss:0.323126\n",
      "[99]\tvalidation_0-logloss:0.322587\n"
     ]
    },
    {
     "data": {
      "text/plain": [
       "XGBClassifier(base_score=0.5, booster='gbtree', colsample_bylevel=1,\n",
       "       colsample_bytree=1, gamma=0, learning_rate=0.1, max_delta_step=0,\n",
       "       max_depth=3, min_child_weight=1, missing=None, n_estimators=100,\n",
       "       n_jobs=-1, nthread=None, objective='binary:logistic',\n",
       "       random_state=0, reg_alpha=0, reg_lambda=1, scale_pos_weight=1,\n",
       "       seed=None, silent=True, subsample=1)"
      ]
     },
     "execution_count": 67,
     "metadata": {},
     "output_type": "execute_result"
    }
   ],
   "source": [
    "xg.fit(X_train, y_train, eval_set=[(X_test, y_test)], eval_metric='logloss', early_stopping_rounds=50, verbose=True)"
   ]
  },
  {
   "cell_type": "code",
   "execution_count": 68,
   "metadata": {},
   "outputs": [
    {
     "name": "stdout",
     "output_type": "stream",
     "text": [
      "Train accuray : 0.875, Valid accuracy : 0.876, Train F1 score : 0.727, Valid F1 score : 0.728\n"
     ]
    }
   ],
   "source": [
    "print_score(xg)"
   ]
  },
  {
   "cell_type": "code",
   "execution_count": 88,
   "metadata": {},
   "outputs": [],
   "source": [
    "#pickle.dump(xg, open('models/arrest_model/xgb_arrest_sample.pkl', 'wb'))"
   ]
  },
  {
   "cell_type": "markdown",
   "metadata": {},
   "source": [
    "**FeedForward neural net**"
   ]
  },
  {
   "cell_type": "code",
   "execution_count": 7,
   "metadata": {},
   "outputs": [],
   "source": [
    "import torch\n",
    "from torch.nn import Linear, Embedding, Softmax, Dropout, BatchNorm1d, Module, ModuleList, Sequential, ReLU\n",
    "from torch.optim import Adam\n",
    "from tqdm import tqdm_notebook\n",
    "from fastai.layers import CrossEntropyFlat\n",
    "from torch.utils.data import TensorDataset, DataLoader"
   ]
  },
  {
   "cell_type": "markdown",
   "metadata": {},
   "source": [
    "We will use pyotoch to build our model :"
   ]
  },
  {
   "cell_type": "code",
   "execution_count": 8,
   "metadata": {},
   "outputs": [],
   "source": [
    "class LinearClassifier(Module) :\n",
    "    \"\"\"\n",
    "    Arguments :\n",
    "        - n_cont : number of continuous features\n",
    "        - cat_sizes : list of the cardinality of each categorical features\n",
    "        - emb_sizes : the size of the embeddinbg vector for each categorical variables\n",
    "        - layers_sizes : the sizes of the hidden layers\n",
    "        - out_sz : the size of the output layer (cardinality of the class to predict)\n",
    "        - p_dropout : list of the dropout probabilites for each layer\n",
    "    \"\"\"\n",
    "    \n",
    "    def __init__(self, n_cont, cat_sizes, emb_sizes, layers_sizes, out_sz, p_dropout) :\n",
    "        super().__init__()\n",
    "        self.n_cats = len(cat_sizes)\n",
    "        self.n_cont = n_cont\n",
    "        self.n_layers = len(layers_sizes)\n",
    "        self.embeds = ModuleList([Embedding(c, e) for c, e in zip(cat_sizes, emb_sizes)])\n",
    "        in_size = sum(e for e in emb_sizes) + self.n_cont\n",
    "        self.in_size = in_size\n",
    "        layers = []\n",
    "        for i, l in enumerate(layers_sizes) :\n",
    "            if i == 0 :\n",
    "                layers.append(BatchNorm1d(in_size))\n",
    "                layers.append(Dropout(p_dropout[i]))\n",
    "                layers.append(Linear(in_size, l))\n",
    "                layers.append(ReLU())\n",
    "            else :\n",
    "                layers.append(BatchNorm1d(layers_sizes[i-1]))\n",
    "                layers.append(Dropout(p_dropout[i]))\n",
    "                layers.append(Linear(layers_sizes[i-1], layers_sizes[i]))\n",
    "                layers.append(ReLU())\n",
    "        \n",
    "        layers.append(BatchNorm1d(layers_sizes[-1]))\n",
    "        layers.append(Dropout(p_dropout[-1]))\n",
    "        layers.append(Linear(layers_sizes[-1], out_sz))\n",
    "        self.layers = Sequential(*layers)\n",
    "        \n",
    "    def forward(self, x_cat, x_cont) :\n",
    "        if x_cat.shape[1] != self.n_cats :\n",
    "            raise ValueError(f'The number of categorical variables should be {self.n_cats}')\n",
    "        if x_cont.shape[1] != self.n_cont :\n",
    "            raise ValueError(f'The number of continious variables should be {self.n_cont}')    \n",
    "        x_cat_embedded = [self.embeds[i](x_cat[:, i]) for i in range(self.n_cats)]\n",
    "        x_cat_embedded = torch.cat(x_cat_embedded, dim=1)\n",
    "        x_full = torch.cat([x_cat_embedded, x_cont], dim=1)\n",
    "        output = self.layers(x_full)\n",
    "        return output"
   ]
  },
  {
   "cell_type": "markdown",
   "metadata": {},
   "source": [
    "If we follow this model's output with a softmax layer we get a probability distribution over all the possible output categories"
   ]
  },
  {
   "cell_type": "markdown",
   "metadata": {},
   "source": [
    "We then need a training loop :"
   ]
  },
  {
   "cell_type": "code",
   "execution_count": 9,
   "metadata": {},
   "outputs": [],
   "source": [
    "def fit(epochs, model, train_dl, valid_dl, lr=0.01, wd=0, loss_func=CrossEntropyFlat(), cuda=True, f1_average='binary') :\n",
    "    optimizer = Adam(model.parameters(), lr=lr, weight_decay=wd)\n",
    "    \n",
    "    train_acc, train_f1, train_loss = 0, 0, 0\n",
    "    valid_acc, valid_f1, valid_loss = 0, 0, 0\n",
    "    \n",
    "    if cuda : \n",
    "        model = model.cuda()\n",
    "    \n",
    "    for epoch in range(epochs) :\n",
    "        batches_train = tqdm_notebook(train_dl, leave=False,\n",
    "                        total=len(train_dl), desc=f'Epoch {epoch} training')\n",
    "\n",
    "        model.train()\n",
    "        for x, y in batches_train :\n",
    "            if cuda :\n",
    "                x = x.cuda()\n",
    "                y = y.type(torch.cuda.LongTensor)\n",
    "            x_cat = x[:, :model.n_cats ].type(torch.cuda.LongTensor)\n",
    "            x_cont = x[:, model.n_cats:].type(torch.cuda.FloatTensor)\n",
    "            pred = model(x_cat, x_cont)\n",
    "            loss = loss_func(pred, y)\n",
    "            train_acc += (torch.argmax(pred, dim=1) == y).type(torch.FloatTensor).mean() \n",
    "            train_f1 += f1_score(torch.argmax(pred, dim=1), y, average=f1_average)\n",
    "            train_loss += loss\n",
    "            loss.backward()\n",
    "            optimizer.step()\n",
    "            optimizer.zero_grad()\n",
    "\n",
    "        train_acc, train_loss, train_f1 = train_acc/len(train_dl), train_loss/len(train_dl), train_f1/len(train_dl)\n",
    "\n",
    "        batches_valid = tqdm_notebook(valid_dl, leave=False,\n",
    "                        total=len(valid_dl), desc=f'Epoch {epoch} validation')\n",
    "\n",
    "        model.eval()\n",
    "        with torch.no_grad() :\n",
    "            for x, y in batches_valid :\n",
    "                if cuda :\n",
    "                    x = x.cuda()\n",
    "                    y = y.type(torch.cuda.LongTensor)\n",
    "                x_cat = x[:, :model.n_cats ].type(torch.cuda.LongTensor)\n",
    "                x_cont = x[:, model.n_cats:].type(torch.cuda.FloatTensor)\n",
    "                pred = model(x_cat, x_cont)\n",
    "                loss = loss_func(pred, y)\n",
    "                valid_acc += (torch.argmax(pred, dim=1) == y).type(torch.FloatTensor).mean() \n",
    "                valid_f1 += f1_score(torch.argmax(pred, dim=1), y, average=f1_average)\n",
    "                valid_loss += loss\n",
    "\n",
    "        valid_acc, valid_loss, valid_f1 = valid_acc/len(valid_dl), valid_loss/len(valid_dl), valid_f1/len(valid_dl)\n",
    "\n",
    "        print(\"Epoch {:.0f} train_loss : {:.3f}, train_acc : {:.3f}, train_f1 : {:.3f}, valid_loss : {:.3f}, valid_acc : {:.3f}, valid_f1 : {:.3f}\".format(epoch, train_loss, train_acc, train_f1, valid_loss, valid_acc, valid_f1))\n"
   ]
  },
  {
   "cell_type": "markdown",
   "metadata": {},
   "source": [
    "Now we use mini-batch SDG for training our model, so we need to train on one batch at a time. For this we use the pytorch **DataLoader**"
   ]
  },
  {
   "cell_type": "markdown",
   "metadata": {},
   "source": [
    "We also have to change the order of the columns because our model excpect a specific order (categorical features the numerical ones)"
   ]
  },
  {
   "cell_type": "code",
   "execution_count": 76,
   "metadata": {},
   "outputs": [],
   "source": [
    "cats = cat_proc.cat_names.copy()\n",
    "cats.remove('Arrest')"
   ]
  },
  {
   "cell_type": "code",
   "execution_count": 77,
   "metadata": {},
   "outputs": [],
   "source": [
    "X_train = X_train[cats + cat_proc.cont_names]\n",
    "X_test = X_test[cats + cat_proc.cont_names]"
   ]
  },
  {
   "cell_type": "markdown",
   "metadata": {},
   "source": [
    "We can create the valid and train dataloaders "
   ]
  },
  {
   "cell_type": "code",
   "execution_count": 78,
   "metadata": {},
   "outputs": [],
   "source": [
    "train_ds = TensorDataset(torch.tensor(X_train.as_matrix()), torch.tensor(y_train.as_matrix()))\n",
    "valid_ds = TensorDataset(torch.tensor(X_test.as_matrix()), torch.tensor(y_test.as_matrix()))"
   ]
  },
  {
   "cell_type": "code",
   "execution_count": 79,
   "metadata": {},
   "outputs": [],
   "source": [
    "train_dl = DataLoader(train_ds, batch_size=128, shuffle=True)\n",
    "valid_dl = DataLoader(valid_ds, batch_size=128)"
   ]
  },
  {
   "cell_type": "markdown",
   "metadata": {},
   "source": [
    "We can now create our model"
   ]
  },
  {
   "cell_type": "code",
   "execution_count": 83,
   "metadata": {},
   "outputs": [],
   "source": [
    "params = dict(n_cont=len(cat_proc.cont_names)\n",
    "              , cat_sizes=[len(cat_proc.categories[var]) for var in cat_proc.categories if var!='Arrest' ]\n",
    "              , emb_sizes=[10, 10, 10, 4, 4], layers_sizes=[100, 50, 20], out_sz=2, p_dropout=[0.2, 0.2, 0.2])\n",
    "model = LinearClassifier(**params)"
   ]
  },
  {
   "cell_type": "code",
   "execution_count": 84,
   "metadata": {},
   "outputs": [
    {
     "data": {
      "text/plain": [
       "LinearClassifier(\n",
       "  (embeds): ModuleList(\n",
       "    (0): Embedding(20, 10)\n",
       "    (1): Embedding(70, 10)\n",
       "    (2): Embedding(44, 10)\n",
       "    (3): Embedding(2, 4)\n",
       "    (4): Embedding(78, 4)\n",
       "  )\n",
       "  (layers): Sequential(\n",
       "    (0): BatchNorm1d(44, eps=1e-05, momentum=0.1, affine=True, track_running_stats=True)\n",
       "    (1): Dropout(p=0.2)\n",
       "    (2): Linear(in_features=44, out_features=100, bias=True)\n",
       "    (3): ReLU()\n",
       "    (4): BatchNorm1d(100, eps=1e-05, momentum=0.1, affine=True, track_running_stats=True)\n",
       "    (5): Dropout(p=0.2)\n",
       "    (6): Linear(in_features=100, out_features=50, bias=True)\n",
       "    (7): ReLU()\n",
       "    (8): BatchNorm1d(50, eps=1e-05, momentum=0.1, affine=True, track_running_stats=True)\n",
       "    (9): Dropout(p=0.2)\n",
       "    (10): Linear(in_features=50, out_features=20, bias=True)\n",
       "    (11): ReLU()\n",
       "    (12): BatchNorm1d(20, eps=1e-05, momentum=0.1, affine=True, track_running_stats=True)\n",
       "    (13): Dropout(p=0.2)\n",
       "    (14): Linear(in_features=20, out_features=2, bias=True)\n",
       "  )\n",
       ")"
      ]
     },
     "execution_count": 84,
     "metadata": {},
     "output_type": "execute_result"
    }
   ],
   "source": [
    "model"
   ]
  },
  {
   "cell_type": "markdown",
   "metadata": {},
   "source": [
    "Now we can train the model"
   ]
  },
  {
   "cell_type": "code",
   "execution_count": 85,
   "metadata": {
    "scrolled": false
   },
   "outputs": [
    {
     "data": {
      "application/vnd.jupyter.widget-view+json": {
       "model_id": "",
       "version_major": 2,
       "version_minor": 0
      },
      "text/plain": [
       "HBox(children=(IntProgress(value=0, description='Epoch 0 training', max=4458, style=ProgressStyle(description_…"
      ]
     },
     "metadata": {},
     "output_type": "display_data"
    },
    {
     "name": "stdout",
     "output_type": "stream",
     "text": [
      "\r"
     ]
    },
    {
     "data": {
      "application/vnd.jupyter.widget-view+json": {
       "model_id": "",
       "version_major": 2,
       "version_minor": 0
      },
      "text/plain": [
       "HBox(children=(IntProgress(value=0, description='Epoch 0 validation', max=496, style=ProgressStyle(description…"
      ]
     },
     "metadata": {},
     "output_type": "display_data"
    },
    {
     "name": "stdout",
     "output_type": "stream",
     "text": [
      "\r",
      "Epoch 0 train_loss : 0.322, train_acc : 0.876, train_f1 : 0.731, valid_loss : 0.301, valid_acc : 0.884, valid_f1 : 0.743\n"
     ]
    },
    {
     "data": {
      "application/vnd.jupyter.widget-view+json": {
       "model_id": "",
       "version_major": 2,
       "version_minor": 0
      },
      "text/plain": [
       "HBox(children=(IntProgress(value=0, description='Epoch 1 training', max=4458, style=ProgressStyle(description_…"
      ]
     },
     "metadata": {},
     "output_type": "display_data"
    },
    {
     "name": "stdout",
     "output_type": "stream",
     "text": [
      "\r"
     ]
    },
    {
     "data": {
      "application/vnd.jupyter.widget-view+json": {
       "model_id": "",
       "version_major": 2,
       "version_minor": 0
      },
      "text/plain": [
       "HBox(children=(IntProgress(value=0, description='Epoch 1 validation', max=496, style=ProgressStyle(description…"
      ]
     },
     "metadata": {},
     "output_type": "display_data"
    },
    {
     "name": "stdout",
     "output_type": "stream",
     "text": [
      "\r",
      "Epoch 1 train_loss : 0.314, train_acc : 0.880, train_f1 : 0.738, valid_loss : 0.300, valid_acc : 0.887, valid_f1 : 0.751\n"
     ]
    },
    {
     "data": {
      "application/vnd.jupyter.widget-view+json": {
       "model_id": "",
       "version_major": 2,
       "version_minor": 0
      },
      "text/plain": [
       "HBox(children=(IntProgress(value=0, description='Epoch 2 training', max=4458, style=ProgressStyle(description_…"
      ]
     },
     "metadata": {},
     "output_type": "display_data"
    },
    {
     "name": "stdout",
     "output_type": "stream",
     "text": [
      "\r"
     ]
    },
    {
     "data": {
      "application/vnd.jupyter.widget-view+json": {
       "model_id": "",
       "version_major": 2,
       "version_minor": 0
      },
      "text/plain": [
       "HBox(children=(IntProgress(value=0, description='Epoch 2 validation', max=496, style=ProgressStyle(description…"
      ]
     },
     "metadata": {},
     "output_type": "display_data"
    },
    {
     "name": "stdout",
     "output_type": "stream",
     "text": [
      "\r",
      "Epoch 2 train_loss : 0.312, train_acc : 0.880, train_f1 : 0.739, valid_loss : 0.298, valid_acc : 0.887, valid_f1 : 0.750\n"
     ]
    }
   ],
   "source": [
    "fit(3, model, train_dl, valid_dl)"
   ]
  },
  {
   "cell_type": "code",
   "execution_count": 87,
   "metadata": {},
   "outputs": [],
   "source": [
    "#pickle.dump(model, open('models/arrest_model/dl_arrest_sample.pkl', 'wb'))"
   ]
  },
  {
   "cell_type": "markdown",
   "metadata": {},
   "source": [
    "#### Final model"
   ]
  },
  {
   "cell_type": "markdown",
   "metadata": {},
   "source": [
    "From our three models the neral net had the best result, so we will use this on eto train on the full data"
   ]
  },
  {
   "cell_type": "code",
   "execution_count": 90,
   "metadata": {},
   "outputs": [],
   "source": [
    "X, y = chicago_crime[indep_vars], chicago_crime[dep_var]"
   ]
  },
  {
   "cell_type": "markdown",
   "metadata": {},
   "source": [
    "Spliting train/valid"
   ]
  },
  {
   "cell_type": "code",
   "execution_count": 91,
   "metadata": {},
   "outputs": [],
   "source": [
    "X_train, X_test, y_train, y_test = train_test_split(X, y, test_size=0.1)"
   ]
  },
  {
   "cell_type": "code",
   "execution_count": 92,
   "metadata": {},
   "outputs": [
    {
     "data": {
      "text/plain": [
       "((5706110, 11), (634013, 11), (5706110,), (634013,))"
      ]
     },
     "execution_count": 92,
     "metadata": {},
     "output_type": "execute_result"
    }
   ],
   "source": [
    "X_train.shape, X_test.shape, y_train.shape, y_test.shape"
   ]
  },
  {
   "cell_type": "markdown",
   "metadata": {},
   "source": [
    "Change column oreder"
   ]
  },
  {
   "cell_type": "code",
   "execution_count": 93,
   "metadata": {},
   "outputs": [],
   "source": [
    "cats = cat_proc.cat_names.copy()\n",
    "cats.remove('Arrest')"
   ]
  },
  {
   "cell_type": "code",
   "execution_count": 94,
   "metadata": {},
   "outputs": [],
   "source": [
    "X_train = X_train[cats + cat_proc.cont_names]\n",
    "X_test = X_test[cats + cat_proc.cont_names]"
   ]
  },
  {
   "cell_type": "markdown",
   "metadata": {},
   "source": [
    "Train and vali DataLoaders"
   ]
  },
  {
   "cell_type": "code",
   "execution_count": 95,
   "metadata": {},
   "outputs": [],
   "source": [
    "train_ds = TensorDataset(torch.tensor(X_train.as_matrix()), torch.tensor(y_train.as_matrix()))\n",
    "valid_ds = TensorDataset(torch.tensor(X_test.as_matrix()), torch.tensor(y_test.as_matrix()))"
   ]
  },
  {
   "cell_type": "code",
   "execution_count": 96,
   "metadata": {},
   "outputs": [],
   "source": [
    "train_dl = DataLoader(train_ds, batch_size=128, shuffle=True)\n",
    "valid_dl = DataLoader(valid_ds, batch_size=128)"
   ]
  },
  {
   "cell_type": "markdown",
   "metadata": {},
   "source": [
    "Model"
   ]
  },
  {
   "cell_type": "code",
   "execution_count": 97,
   "metadata": {},
   "outputs": [],
   "source": [
    "params = dict(n_cont=len(cat_proc.cont_names)\n",
    "              , cat_sizes=[len(cat_proc.categories[var]) for var in cat_proc.categories if var!='Arrest' ]\n",
    "              , emb_sizes=[10, 10, 10, 4, 4], layers_sizes=[100, 50, 20], out_sz=2, p_dropout=[0.2, 0.2, 0.2])\n",
    "model = LinearClassifier(**params)"
   ]
  },
  {
   "cell_type": "code",
   "execution_count": 98,
   "metadata": {},
   "outputs": [
    {
     "data": {
      "text/plain": [
       "LinearClassifier(\n",
       "  (embeds): ModuleList(\n",
       "    (0): Embedding(20, 10)\n",
       "    (1): Embedding(70, 10)\n",
       "    (2): Embedding(44, 10)\n",
       "    (3): Embedding(2, 4)\n",
       "    (4): Embedding(78, 4)\n",
       "  )\n",
       "  (layers): Sequential(\n",
       "    (0): BatchNorm1d(44, eps=1e-05, momentum=0.1, affine=True, track_running_stats=True)\n",
       "    (1): Dropout(p=0.2)\n",
       "    (2): Linear(in_features=44, out_features=100, bias=True)\n",
       "    (3): ReLU()\n",
       "    (4): BatchNorm1d(100, eps=1e-05, momentum=0.1, affine=True, track_running_stats=True)\n",
       "    (5): Dropout(p=0.2)\n",
       "    (6): Linear(in_features=100, out_features=50, bias=True)\n",
       "    (7): ReLU()\n",
       "    (8): BatchNorm1d(50, eps=1e-05, momentum=0.1, affine=True, track_running_stats=True)\n",
       "    (9): Dropout(p=0.2)\n",
       "    (10): Linear(in_features=50, out_features=20, bias=True)\n",
       "    (11): ReLU()\n",
       "    (12): BatchNorm1d(20, eps=1e-05, momentum=0.1, affine=True, track_running_stats=True)\n",
       "    (13): Dropout(p=0.2)\n",
       "    (14): Linear(in_features=20, out_features=2, bias=True)\n",
       "  )\n",
       ")"
      ]
     },
     "execution_count": 98,
     "metadata": {},
     "output_type": "execute_result"
    }
   ],
   "source": [
    "model"
   ]
  },
  {
   "cell_type": "markdown",
   "metadata": {},
   "source": [
    "Training"
   ]
  },
  {
   "cell_type": "code",
   "execution_count": 99,
   "metadata": {
    "scrolled": false
   },
   "outputs": [
    {
     "data": {
      "application/vnd.jupyter.widget-view+json": {
       "model_id": "",
       "version_major": 2,
       "version_minor": 0
      },
      "text/plain": [
       "HBox(children=(IntProgress(value=0, description='Epoch 0 training', max=44579, style=ProgressStyle(description…"
      ]
     },
     "metadata": {},
     "output_type": "display_data"
    },
    {
     "name": "stdout",
     "output_type": "stream",
     "text": [
      "\r"
     ]
    },
    {
     "data": {
      "application/vnd.jupyter.widget-view+json": {
       "model_id": "",
       "version_major": 2,
       "version_minor": 0
      },
      "text/plain": [
       "HBox(children=(IntProgress(value=0, description='Epoch 0 validation', max=4954, style=ProgressStyle(descriptio…"
      ]
     },
     "metadata": {},
     "output_type": "display_data"
    },
    {
     "name": "stdout",
     "output_type": "stream",
     "text": [
      "\r",
      "Epoch 0 train_loss : 0.311, train_acc : 0.880, train_f1 : 0.740, valid_loss : 0.299, valid_acc : 0.884, valid_f1 : 0.753\n"
     ]
    },
    {
     "data": {
      "application/vnd.jupyter.widget-view+json": {
       "model_id": "",
       "version_major": 2,
       "version_minor": 0
      },
      "text/plain": [
       "HBox(children=(IntProgress(value=0, description='Epoch 1 training', max=44579, style=ProgressStyle(description…"
      ]
     },
     "metadata": {},
     "output_type": "display_data"
    },
    {
     "name": "stdout",
     "output_type": "stream",
     "text": [
      "\r"
     ]
    },
    {
     "data": {
      "application/vnd.jupyter.widget-view+json": {
       "model_id": "",
       "version_major": 2,
       "version_minor": 0
      },
      "text/plain": [
       "HBox(children=(IntProgress(value=0, description='Epoch 1 validation', max=4954, style=ProgressStyle(descriptio…"
      ]
     },
     "metadata": {},
     "output_type": "display_data"
    },
    {
     "name": "stdout",
     "output_type": "stream",
     "text": [
      "\r",
      "Epoch 1 train_loss : 0.307, train_acc : 0.882, train_f1 : 0.744, valid_loss : 0.298, valid_acc : 0.884, valid_f1 : 0.747\n"
     ]
    },
    {
     "data": {
      "application/vnd.jupyter.widget-view+json": {
       "model_id": "",
       "version_major": 2,
       "version_minor": 0
      },
      "text/plain": [
       "HBox(children=(IntProgress(value=0, description='Epoch 2 training', max=44579, style=ProgressStyle(description…"
      ]
     },
     "metadata": {},
     "output_type": "display_data"
    },
    {
     "name": "stdout",
     "output_type": "stream",
     "text": [
      "\r"
     ]
    },
    {
     "data": {
      "application/vnd.jupyter.widget-view+json": {
       "model_id": "",
       "version_major": 2,
       "version_minor": 0
      },
      "text/plain": [
       "HBox(children=(IntProgress(value=0, description='Epoch 2 validation', max=4954, style=ProgressStyle(descriptio…"
      ]
     },
     "metadata": {},
     "output_type": "display_data"
    },
    {
     "name": "stdout",
     "output_type": "stream",
     "text": [
      "\r",
      "Epoch 2 train_loss : 0.306, train_acc : 0.882, train_f1 : 0.744, valid_loss : 0.299, valid_acc : 0.885, valid_f1 : 0.747\n"
     ]
    }
   ],
   "source": [
    "fit(3, model, train_dl, valid_dl)"
   ]
  },
  {
   "cell_type": "code",
   "execution_count": 102,
   "metadata": {},
   "outputs": [],
   "source": [
    "#pickle.dump(model, open('models/arrest_model/dl_arrest_full.pkl', 'wb'))"
   ]
  },
  {
   "cell_type": "code",
   "execution_count": 103,
   "metadata": {},
   "outputs": [],
   "source": [
    "model_arrest = pickle.load(open('models/arrest_model/dl_arrest_full.pkl', 'rb'))"
   ]
  },
  {
   "cell_type": "markdown",
   "metadata": {},
   "source": [
    "So we have can predict if the culprit will be arrested with an accuracy of 0.885 and F1 score of 0.747 which is actually pretty good !"
   ]
  },
  {
   "cell_type": "markdown",
   "metadata": {},
   "source": [
    "### Type prediciton "
   ]
  },
  {
   "cell_type": "markdown",
   "metadata": {},
   "source": [
    "We now construct our second model which aims to predict the type of crime. The following steps are similar to our first model so we will not go too much in detail to explain the steps"
   ]
  },
  {
   "cell_type": "markdown",
   "metadata": {},
   "source": [
    "#### Splitting data"
   ]
  },
  {
   "cell_type": "code",
   "execution_count": 16,
   "metadata": {},
   "outputs": [],
   "source": [
    "indep_vars = ['Location Description',\n",
    "       'Domestic', 'Year', 'Latitude', 'Longitude', 'Hour', 'Community Area',\n",
    "       'Day', 'Month']\n",
    "dep_var = 'Primary Type'"
   ]
  },
  {
   "cell_type": "code",
   "execution_count": 17,
   "metadata": {},
   "outputs": [],
   "source": [
    "X, y = chicago_crime[indep_vars], chicago_crime[dep_var]"
   ]
  },
  {
   "cell_type": "code",
   "execution_count": 18,
   "metadata": {},
   "outputs": [
    {
     "data": {
      "text/html": [
       "<div>\n",
       "<style scoped>\n",
       "    .dataframe tbody tr th:only-of-type {\n",
       "        vertical-align: middle;\n",
       "    }\n",
       "\n",
       "    .dataframe tbody tr th {\n",
       "        vertical-align: top;\n",
       "    }\n",
       "\n",
       "    .dataframe thead th {\n",
       "        text-align: right;\n",
       "    }\n",
       "</style>\n",
       "<table border=\"1\" class=\"dataframe\">\n",
       "  <thead>\n",
       "    <tr style=\"text-align: right;\">\n",
       "      <th></th>\n",
       "      <th>Location Description</th>\n",
       "      <th>Domestic</th>\n",
       "      <th>Year</th>\n",
       "      <th>Latitude</th>\n",
       "      <th>Longitude</th>\n",
       "      <th>Hour</th>\n",
       "      <th>Community Area</th>\n",
       "      <th>Day</th>\n",
       "      <th>Month</th>\n",
       "    </tr>\n",
       "  </thead>\n",
       "  <tbody>\n",
       "    <tr>\n",
       "      <th>60345</th>\n",
       "      <td>26</td>\n",
       "      <td>0</td>\n",
       "      <td>1.918047</td>\n",
       "      <td>1.863753</td>\n",
       "      <td>-3.962305</td>\n",
       "      <td>0.860247</td>\n",
       "      <td>76</td>\n",
       "      <td>-1.432802</td>\n",
       "      <td>-1.701383</td>\n",
       "    </tr>\n",
       "    <tr>\n",
       "      <th>62272</th>\n",
       "      <td>40</td>\n",
       "      <td>0</td>\n",
       "      <td>1.918047</td>\n",
       "      <td>0.480551</td>\n",
       "      <td>0.640177</td>\n",
       "      <td>0.713617</td>\n",
       "      <td>32</td>\n",
       "      <td>0.038834</td>\n",
       "      <td>-1.095794</td>\n",
       "    </tr>\n",
       "    <tr>\n",
       "      <th>62615</th>\n",
       "      <td>33</td>\n",
       "      <td>0</td>\n",
       "      <td>1.918047</td>\n",
       "      <td>-0.191352</td>\n",
       "      <td>1.097996</td>\n",
       "      <td>1.300135</td>\n",
       "      <td>36</td>\n",
       "      <td>-0.413977</td>\n",
       "      <td>-1.095794</td>\n",
       "    </tr>\n",
       "    <tr>\n",
       "      <th>62648</th>\n",
       "      <td>30</td>\n",
       "      <td>0</td>\n",
       "      <td>1.918047</td>\n",
       "      <td>2.022692</td>\n",
       "      <td>-0.013068</td>\n",
       "      <td>0.860247</td>\n",
       "      <td>1</td>\n",
       "      <td>-0.187572</td>\n",
       "      <td>-1.095794</td>\n",
       "    </tr>\n",
       "    <tr>\n",
       "      <th>62649</th>\n",
       "      <td>40</td>\n",
       "      <td>1</td>\n",
       "      <td>1.918047</td>\n",
       "      <td>-0.191911</td>\n",
       "      <td>1.094947</td>\n",
       "      <td>0.420358</td>\n",
       "      <td>36</td>\n",
       "      <td>-0.187572</td>\n",
       "      <td>-1.095794</td>\n",
       "    </tr>\n",
       "  </tbody>\n",
       "</table>\n",
       "</div>"
      ],
      "text/plain": [
       "       Location Description  Domestic      Year  Latitude  Longitude  \\\n",
       "60345                    26         0  1.918047  1.863753  -3.962305   \n",
       "62272                    40         0  1.918047  0.480551   0.640177   \n",
       "62615                    33         0  1.918047 -0.191352   1.097996   \n",
       "62648                    30         0  1.918047  2.022692  -0.013068   \n",
       "62649                    40         1  1.918047 -0.191911   1.094947   \n",
       "\n",
       "           Hour  Community Area       Day     Month  \n",
       "60345  0.860247              76 -1.432802 -1.701383  \n",
       "62272  0.713617              32  0.038834 -1.095794  \n",
       "62615  1.300135              36 -0.413977 -1.095794  \n",
       "62648  0.860247               1 -0.187572 -1.095794  \n",
       "62649  0.420358              36 -0.187572 -1.095794  "
      ]
     },
     "execution_count": 18,
     "metadata": {},
     "output_type": "execute_result"
    }
   ],
   "source": [
    "X.head()"
   ]
  },
  {
   "cell_type": "code",
   "execution_count": 19,
   "metadata": {},
   "outputs": [],
   "source": [
    "X_sample, y_sample = get_sample(X, y, pctg=0.1)"
   ]
  },
  {
   "cell_type": "code",
   "execution_count": 20,
   "metadata": {},
   "outputs": [],
   "source": [
    "X_train, X_test, y_train, y_test = train_test_split(X_sample, y_sample, test_size=0.1)"
   ]
  },
  {
   "cell_type": "code",
   "execution_count": 21,
   "metadata": {},
   "outputs": [
    {
     "data": {
      "text/plain": [
       "((570610, 9), (63402, 9), (570610,), (63402,))"
      ]
     },
     "execution_count": 21,
     "metadata": {},
     "output_type": "execute_result"
    }
   ],
   "source": [
    "X_train.shape, X_test.shape, y_train.shape, y_test.shape"
   ]
  },
  {
   "cell_type": "code",
   "execution_count": 22,
   "metadata": {},
   "outputs": [
    {
     "data": {
      "text/html": [
       "<div>\n",
       "<style scoped>\n",
       "    .dataframe tbody tr th:only-of-type {\n",
       "        vertical-align: middle;\n",
       "    }\n",
       "\n",
       "    .dataframe tbody tr th {\n",
       "        vertical-align: top;\n",
       "    }\n",
       "\n",
       "    .dataframe thead th {\n",
       "        text-align: right;\n",
       "    }\n",
       "</style>\n",
       "<table border=\"1\" class=\"dataframe\">\n",
       "  <thead>\n",
       "    <tr style=\"text-align: right;\">\n",
       "      <th></th>\n",
       "      <th>Location Description</th>\n",
       "      <th>Domestic</th>\n",
       "      <th>Year</th>\n",
       "      <th>Latitude</th>\n",
       "      <th>Longitude</th>\n",
       "      <th>Hour</th>\n",
       "      <th>Community Area</th>\n",
       "      <th>Day</th>\n",
       "      <th>Month</th>\n",
       "    </tr>\n",
       "  </thead>\n",
       "  <tbody>\n",
       "    <tr>\n",
       "      <th>6277388</th>\n",
       "      <td>28</td>\n",
       "      <td>0</td>\n",
       "      <td>0.514421</td>\n",
       "      <td>-0.738555</td>\n",
       "      <td>-0.862565</td>\n",
       "      <td>1.006876</td>\n",
       "      <td>65</td>\n",
       "      <td>-1.546005</td>\n",
       "      <td>0.720971</td>\n",
       "    </tr>\n",
       "    <tr>\n",
       "      <th>915888</th>\n",
       "      <td>30</td>\n",
       "      <td>0</td>\n",
       "      <td>1.517011</td>\n",
       "      <td>-1.721851</td>\n",
       "      <td>0.384039</td>\n",
       "      <td>0.713617</td>\n",
       "      <td>75</td>\n",
       "      <td>-1.093194</td>\n",
       "      <td>1.326559</td>\n",
       "    </tr>\n",
       "    <tr>\n",
       "      <th>3703277</th>\n",
       "      <td>31</td>\n",
       "      <td>0</td>\n",
       "      <td>-0.688687</td>\n",
       "      <td>-0.686548</td>\n",
       "      <td>0.669060</td>\n",
       "      <td>0.273728</td>\n",
       "      <td>68</td>\n",
       "      <td>1.057659</td>\n",
       "      <td>-1.398589</td>\n",
       "    </tr>\n",
       "    <tr>\n",
       "      <th>4898019</th>\n",
       "      <td>3</td>\n",
       "      <td>0</td>\n",
       "      <td>-0.287651</td>\n",
       "      <td>-1.722692</td>\n",
       "      <td>0.740640</td>\n",
       "      <td>-1.779086</td>\n",
       "      <td>49</td>\n",
       "      <td>0.038834</td>\n",
       "      <td>1.326559</td>\n",
       "    </tr>\n",
       "    <tr>\n",
       "      <th>4761204</th>\n",
       "      <td>3</td>\n",
       "      <td>1</td>\n",
       "      <td>-0.287651</td>\n",
       "      <td>1.079621</td>\n",
       "      <td>-1.370030</td>\n",
       "      <td>0.127099</td>\n",
       "      <td>19</td>\n",
       "      <td>0.491645</td>\n",
       "      <td>0.115382</td>\n",
       "    </tr>\n",
       "  </tbody>\n",
       "</table>\n",
       "</div>"
      ],
      "text/plain": [
       "         Location Description  Domestic      Year  Latitude  Longitude  \\\n",
       "6277388                    28         0  0.514421 -0.738555  -0.862565   \n",
       "915888                     30         0  1.517011 -1.721851   0.384039   \n",
       "3703277                    31         0 -0.688687 -0.686548   0.669060   \n",
       "4898019                     3         0 -0.287651 -1.722692   0.740640   \n",
       "4761204                     3         1 -0.287651  1.079621  -1.370030   \n",
       "\n",
       "             Hour  Community Area       Day     Month  \n",
       "6277388  1.006876              65 -1.546005  0.720971  \n",
       "915888   0.713617              75 -1.093194  1.326559  \n",
       "3703277  0.273728              68  1.057659 -1.398589  \n",
       "4898019 -1.779086              49  0.038834  1.326559  \n",
       "4761204  0.127099              19  0.491645  0.115382  "
      ]
     },
     "execution_count": 22,
     "metadata": {},
     "output_type": "execute_result"
    }
   ],
   "source": [
    "X_train.head()"
   ]
  },
  {
   "cell_type": "markdown",
   "metadata": {},
   "source": [
    "#### Models"
   ]
  },
  {
   "cell_type": "markdown",
   "metadata": {},
   "source": [
    "**Ranfom forest**"
   ]
  },
  {
   "cell_type": "code",
   "execution_count": 27,
   "metadata": {},
   "outputs": [],
   "source": [
    "rf = RandomForestClassifier(n_jobs=-1)"
   ]
  },
  {
   "cell_type": "code",
   "execution_count": 28,
   "metadata": {
    "scrolled": true
   },
   "outputs": [
    {
     "data": {
      "text/plain": [
       "RandomForestClassifier(bootstrap=True, class_weight=None, criterion='gini',\n",
       "            max_depth=None, max_features='auto', max_leaf_nodes=None,\n",
       "            min_impurity_decrease=0.0, min_impurity_split=None,\n",
       "            min_samples_leaf=1, min_samples_split=2,\n",
       "            min_weight_fraction_leaf=0.0, n_estimators=10, n_jobs=-1,\n",
       "            oob_score=False, random_state=None, verbose=0,\n",
       "            warm_start=False)"
      ]
     },
     "execution_count": 28,
     "metadata": {},
     "output_type": "execute_result"
    }
   ],
   "source": [
    "rf.fit(X_train, y_train)"
   ]
  },
  {
   "cell_type": "code",
   "execution_count": 29,
   "metadata": {},
   "outputs": [
    {
     "name": "stdout",
     "output_type": "stream",
     "text": [
      "Train accuray : 0.986, Valid accuracy : 0.340, Train F1 score : 0.986, Valid F1 score : 0.340\n"
     ]
    }
   ],
   "source": [
    "print_score(rf, f1_average='micro')"
   ]
  },
  {
   "cell_type": "code",
   "execution_count": 30,
   "metadata": {},
   "outputs": [],
   "source": [
    "#pickle.dump(rf, open('models/type_model/rf__type_sample.pkl', 'wb'))"
   ]
  },
  {
   "cell_type": "markdown",
   "metadata": {},
   "source": [
    "**XBG**"
   ]
  },
  {
   "cell_type": "code",
   "execution_count": 31,
   "metadata": {},
   "outputs": [],
   "source": [
    "xg = XGBClassifier(n_jobs=-1)"
   ]
  },
  {
   "cell_type": "code",
   "execution_count": 32,
   "metadata": {
    "scrolled": true
   },
   "outputs": [
    {
     "name": "stdout",
     "output_type": "stream",
     "text": [
      "[0]\tvalidation_0-merror:0.674269\n",
      "Will train until validation_0-merror hasn't improved in 50 rounds.\n",
      "[1]\tvalidation_0-merror:0.672534\n",
      "[2]\tvalidation_0-merror:0.671572\n",
      "[3]\tvalidation_0-merror:0.671603\n",
      "[4]\tvalidation_0-merror:0.67132\n",
      "[5]\tvalidation_0-merror:0.671209\n",
      "[6]\tvalidation_0-merror:0.671887\n",
      "[7]\tvalidation_0-merror:0.670878\n",
      "[8]\tvalidation_0-merror:0.672755\n",
      "[9]\tvalidation_0-merror:0.6702\n",
      "[10]\tvalidation_0-merror:0.667992\n",
      "[11]\tvalidation_0-merror:0.664175\n",
      "[12]\tvalidation_0-merror:0.663481\n",
      "[13]\tvalidation_0-merror:0.662739\n",
      "[14]\tvalidation_0-merror:0.661982\n",
      "[15]\tvalidation_0-merror:0.661209\n",
      "[16]\tvalidation_0-merror:0.659459\n",
      "[17]\tvalidation_0-merror:0.658639\n",
      "[18]\tvalidation_0-merror:0.653544\n",
      "[19]\tvalidation_0-merror:0.65255\n",
      "[20]\tvalidation_0-merror:0.648229\n",
      "[21]\tvalidation_0-merror:0.647724\n",
      "[22]\tvalidation_0-merror:0.647219\n",
      "[23]\tvalidation_0-merror:0.646289\n",
      "[24]\tvalidation_0-merror:0.645579\n",
      "[25]\tvalidation_0-merror:0.644238\n",
      "[26]\tvalidation_0-merror:0.643655\n",
      "[27]\tvalidation_0-merror:0.642314\n",
      "[28]\tvalidation_0-merror:0.642314\n",
      "[29]\tvalidation_0-merror:0.641951\n",
      "[30]\tvalidation_0-merror:0.640485\n",
      "[31]\tvalidation_0-merror:0.640153\n",
      "[32]\tvalidation_0-merror:0.639791\n",
      "[33]\tvalidation_0-merror:0.639412\n",
      "[34]\tvalidation_0-merror:0.639254\n",
      "[35]\tvalidation_0-merror:0.638671\n",
      "[36]\tvalidation_0-merror:0.638339\n",
      "[37]\tvalidation_0-merror:0.638276\n",
      "[38]\tvalidation_0-merror:0.638261\n",
      "[39]\tvalidation_0-merror:0.638056\n",
      "[40]\tvalidation_0-merror:0.63804\n",
      "[41]\tvalidation_0-merror:0.637645\n",
      "[42]\tvalidation_0-merror:0.637409\n",
      "[43]\tvalidation_0-merror:0.637267\n",
      "[44]\tvalidation_0-merror:0.637504\n",
      "[45]\tvalidation_0-merror:0.637535\n",
      "[46]\tvalidation_0-merror:0.637504\n",
      "[47]\tvalidation_0-merror:0.637362\n",
      "[48]\tvalidation_0-merror:0.637535\n",
      "[49]\tvalidation_0-merror:0.63744\n",
      "[50]\tvalidation_0-merror:0.637172\n",
      "[51]\tvalidation_0-merror:0.63692\n",
      "[52]\tvalidation_0-merror:0.637062\n",
      "[53]\tvalidation_0-merror:0.637188\n",
      "[54]\tvalidation_0-merror:0.637109\n",
      "[55]\tvalidation_0-merror:0.63703\n",
      "[56]\tvalidation_0-merror:0.636952\n",
      "[57]\tvalidation_0-merror:0.636573\n",
      "[58]\tvalidation_0-merror:0.636273\n",
      "[59]\tvalidation_0-merror:0.636636\n",
      "[60]\tvalidation_0-merror:0.636573\n",
      "[61]\tvalidation_0-merror:0.636163\n",
      "[62]\tvalidation_0-merror:0.635816\n",
      "[63]\tvalidation_0-merror:0.635737\n",
      "[64]\tvalidation_0-merror:0.63569\n",
      "[65]\tvalidation_0-merror:0.635847\n",
      "[66]\tvalidation_0-merror:0.635485\n",
      "[67]\tvalidation_0-merror:0.635153\n",
      "[68]\tvalidation_0-merror:0.634854\n",
      "[69]\tvalidation_0-merror:0.635043\n",
      "[70]\tvalidation_0-merror:0.635043\n",
      "[71]\tvalidation_0-merror:0.634759\n",
      "[72]\tvalidation_0-merror:0.634475\n",
      "[73]\tvalidation_0-merror:0.634349\n",
      "[74]\tvalidation_0-merror:0.63427\n",
      "[75]\tvalidation_0-merror:0.634223\n",
      "[76]\tvalidation_0-merror:0.634065\n",
      "[77]\tvalidation_0-merror:0.634002\n",
      "[78]\tvalidation_0-merror:0.633813\n",
      "[79]\tvalidation_0-merror:0.633734\n",
      "[80]\tvalidation_0-merror:0.633608\n",
      "[81]\tvalidation_0-merror:0.633608\n",
      "[82]\tvalidation_0-merror:0.633355\n",
      "[83]\tvalidation_0-merror:0.633466\n",
      "[84]\tvalidation_0-merror:0.633387\n",
      "[85]\tvalidation_0-merror:0.633166\n",
      "[86]\tvalidation_0-merror:0.63334\n",
      "[87]\tvalidation_0-merror:0.63315\n",
      "[88]\tvalidation_0-merror:0.633087\n",
      "[89]\tvalidation_0-merror:0.632788\n",
      "[90]\tvalidation_0-merror:0.632519\n",
      "[91]\tvalidation_0-merror:0.632614\n",
      "[92]\tvalidation_0-merror:0.63222\n",
      "[93]\tvalidation_0-merror:0.632456\n",
      "[94]\tvalidation_0-merror:0.63233\n",
      "[95]\tvalidation_0-merror:0.632078\n",
      "[96]\tvalidation_0-merror:0.631952\n",
      "[97]\tvalidation_0-merror:0.631952\n",
      "[98]\tvalidation_0-merror:0.631873\n",
      "[99]\tvalidation_0-merror:0.631573\n"
     ]
    },
    {
     "data": {
      "text/plain": [
       "XGBClassifier(base_score=0.5, booster='gbtree', colsample_bylevel=1,\n",
       "       colsample_bytree=1, gamma=0, learning_rate=0.1, max_delta_step=0,\n",
       "       max_depth=3, min_child_weight=1, missing=None, n_estimators=100,\n",
       "       n_jobs=-1, nthread=None, objective='multi:softprob', random_state=0,\n",
       "       reg_alpha=0, reg_lambda=1, scale_pos_weight=1, seed=None,\n",
       "       silent=True, subsample=1)"
      ]
     },
     "execution_count": 32,
     "metadata": {},
     "output_type": "execute_result"
    }
   ],
   "source": [
    "xg.fit(X_train, y_train, eval_set=[(X_test, y_test)], early_stopping_rounds=50, verbose=True)"
   ]
  },
  {
   "cell_type": "code",
   "execution_count": 33,
   "metadata": {},
   "outputs": [
    {
     "name": "stdout",
     "output_type": "stream",
     "text": [
      "Train accuray : 0.368, Valid accuracy : 0.368, Train F1 score : 0.368, Valid F1 score : 0.368\n"
     ]
    }
   ],
   "source": [
    "print_score(xg, f1_average='micro')"
   ]
  },
  {
   "cell_type": "code",
   "execution_count": 34,
   "metadata": {},
   "outputs": [],
   "source": [
    "#pickle.dump(xg, open('models/type_model/xgb_type_sample.pkl', 'wb'))"
   ]
  },
  {
   "cell_type": "markdown",
   "metadata": {},
   "source": [
    "**FeedForward Neural net**"
   ]
  },
  {
   "cell_type": "code",
   "execution_count": 23,
   "metadata": {},
   "outputs": [],
   "source": [
    "cat_vars_type = ['Location Description', 'Domestic', 'Community Area']"
   ]
  },
  {
   "cell_type": "code",
   "execution_count": 24,
   "metadata": {},
   "outputs": [],
   "source": [
    "X_train = X_train[cat_vars_type + ['Year', 'Latitude', 'Longitude', 'Hour', 'Day', 'Month']]\n",
    "X_test = X_test[cat_vars_type + ['Year', 'Latitude', 'Longitude', 'Hour', 'Day', 'Month']]"
   ]
  },
  {
   "cell_type": "code",
   "execution_count": 25,
   "metadata": {},
   "outputs": [],
   "source": [
    "train_ds = TensorDataset(torch.tensor(X_train.as_matrix()), torch.tensor(y_train.as_matrix()))\n",
    "valid_ds = TensorDataset(torch.tensor(X_test.as_matrix()), torch.tensor(y_test.as_matrix()))"
   ]
  },
  {
   "cell_type": "code",
   "execution_count": 26,
   "metadata": {},
   "outputs": [],
   "source": [
    "train_dl = DataLoader(train_ds, batch_size=128, shuffle=True)\n",
    "valid_dl = DataLoader(valid_ds, batch_size=128)"
   ]
  },
  {
   "cell_type": "code",
   "execution_count": 27,
   "metadata": {},
   "outputs": [],
   "source": [
    "params = dict(n_cont=len(cat_proc.cont_names)\n",
    "              , cat_sizes=[len(cat_proc.categories[var]) for var in cat_vars_type ]\n",
    "              , emb_sizes=[10, 4, 10], layers_sizes=[100, 50, 40], out_sz=20, p_dropout=[0.2, 0.2, 0.2])\n",
    "model = LinearClassifier(**params)"
   ]
  },
  {
   "cell_type": "code",
   "execution_count": 28,
   "metadata": {
    "scrolled": true
   },
   "outputs": [
    {
     "data": {
      "text/plain": [
       "LinearClassifier(\n",
       "  (embeds): ModuleList(\n",
       "    (0): Embedding(44, 10)\n",
       "    (1): Embedding(2, 4)\n",
       "    (2): Embedding(78, 10)\n",
       "  )\n",
       "  (layers): Sequential(\n",
       "    (0): BatchNorm1d(30, eps=1e-05, momentum=0.1, affine=True, track_running_stats=True)\n",
       "    (1): Dropout(p=0.2)\n",
       "    (2): Linear(in_features=30, out_features=100, bias=True)\n",
       "    (3): ReLU()\n",
       "    (4): BatchNorm1d(100, eps=1e-05, momentum=0.1, affine=True, track_running_stats=True)\n",
       "    (5): Dropout(p=0.2)\n",
       "    (6): Linear(in_features=100, out_features=50, bias=True)\n",
       "    (7): ReLU()\n",
       "    (8): BatchNorm1d(50, eps=1e-05, momentum=0.1, affine=True, track_running_stats=True)\n",
       "    (9): Dropout(p=0.2)\n",
       "    (10): Linear(in_features=50, out_features=40, bias=True)\n",
       "    (11): ReLU()\n",
       "    (12): BatchNorm1d(40, eps=1e-05, momentum=0.1, affine=True, track_running_stats=True)\n",
       "    (13): Dropout(p=0.2)\n",
       "    (14): Linear(in_features=40, out_features=20, bias=True)\n",
       "  )\n",
       ")"
      ]
     },
     "execution_count": 28,
     "metadata": {},
     "output_type": "execute_result"
    }
   ],
   "source": [
    "model"
   ]
  },
  {
   "cell_type": "code",
   "execution_count": 32,
   "metadata": {
    "scrolled": true
   },
   "outputs": [
    {
     "data": {
      "application/vnd.jupyter.widget-view+json": {
       "model_id": "",
       "version_major": 2,
       "version_minor": 0
      },
      "text/plain": [
       "HBox(children=(IntProgress(value=0, description='Epoch 0 training', max=4458, style=ProgressStyle(description_…"
      ]
     },
     "metadata": {},
     "output_type": "display_data"
    },
    {
     "data": {
      "application/vnd.jupyter.widget-view+json": {
       "model_id": "",
       "version_major": 2,
       "version_minor": 0
      },
      "text/plain": [
       "HBox(children=(IntProgress(value=0, description='Epoch 0 validation', max=496, style=ProgressStyle(description…"
      ]
     },
     "metadata": {},
     "output_type": "display_data"
    },
    {
     "name": "stdout",
     "output_type": "stream",
     "text": [
      "Epoch 0 train_loss : 2.008, train_acc : 0.347, train_f1 : 0.347, valid_loss : 1.931, valid_acc : 0.367, valid_f1 : 0.367\n"
     ]
    },
    {
     "data": {
      "application/vnd.jupyter.widget-view+json": {
       "model_id": "",
       "version_major": 2,
       "version_minor": 0
      },
      "text/plain": [
       "HBox(children=(IntProgress(value=0, description='Epoch 1 training', max=4458, style=ProgressStyle(description_…"
      ]
     },
     "metadata": {},
     "output_type": "display_data"
    },
    {
     "data": {
      "application/vnd.jupyter.widget-view+json": {
       "model_id": "",
       "version_major": 2,
       "version_minor": 0
      },
      "text/plain": [
       "HBox(children=(IntProgress(value=0, description='Epoch 1 validation', max=496, style=ProgressStyle(description…"
      ]
     },
     "metadata": {},
     "output_type": "display_data"
    },
    {
     "name": "stdout",
     "output_type": "stream",
     "text": [
      "Epoch 1 train_loss : 1.973, train_acc : 0.355, train_f1 : 0.355, valid_loss : 1.922, valid_acc : 0.368, valid_f1 : 0.368\n"
     ]
    },
    {
     "data": {
      "application/vnd.jupyter.widget-view+json": {
       "model_id": "",
       "version_major": 2,
       "version_minor": 0
      },
      "text/plain": [
       "HBox(children=(IntProgress(value=0, description='Epoch 2 training', max=4458, style=ProgressStyle(description_…"
      ]
     },
     "metadata": {},
     "output_type": "display_data"
    },
    {
     "data": {
      "application/vnd.jupyter.widget-view+json": {
       "model_id": "",
       "version_major": 2,
       "version_minor": 0
      },
      "text/plain": [
       "HBox(children=(IntProgress(value=0, description='Epoch 2 validation', max=496, style=ProgressStyle(description…"
      ]
     },
     "metadata": {},
     "output_type": "display_data"
    },
    {
     "name": "stdout",
     "output_type": "stream",
     "text": [
      "Epoch 2 train_loss : 1.966, train_acc : 0.357, train_f1 : 0.357, valid_loss : 1.923, valid_acc : 0.364, valid_f1 : 0.364\n"
     ]
    }
   ],
   "source": [
    "fit(3, model, train_dl, valid_dl, f1_average='micro', cuda=True)"
   ]
  },
  {
   "cell_type": "code",
   "execution_count": 33,
   "metadata": {},
   "outputs": [],
   "source": [
    "#pickle.dump(model, open('models/type_model/dl_type_sample.pkl', 'wb'))"
   ]
  },
  {
   "cell_type": "markdown",
   "metadata": {},
   "source": [
    "#### Final model"
   ]
  },
  {
   "cell_type": "markdown",
   "metadata": {},
   "source": [
    "This time XGB yields similar results to our neural net. This is probably due to the fact that we do not have as many categorical variables this time around (embeddings are quite strong). But we will still use the neural net to train on the full data"
   ]
  },
  {
   "cell_type": "code",
   "execution_count": 34,
   "metadata": {},
   "outputs": [],
   "source": [
    "X, y = chicago_crime[indep_vars], chicago_crime[dep_var]"
   ]
  },
  {
   "cell_type": "code",
   "execution_count": 35,
   "metadata": {},
   "outputs": [],
   "source": [
    "X_train, X_test, y_train, y_test = train_test_split(X, y, test_size=0.1)"
   ]
  },
  {
   "cell_type": "code",
   "execution_count": 36,
   "metadata": {},
   "outputs": [
    {
     "data": {
      "text/plain": [
       "((5706110, 9), (634013, 9), (5706110,), (634013,))"
      ]
     },
     "execution_count": 36,
     "metadata": {},
     "output_type": "execute_result"
    }
   ],
   "source": [
    "X_train.shape, X_test.shape, y_train.shape, y_test.shape"
   ]
  },
  {
   "cell_type": "code",
   "execution_count": 37,
   "metadata": {},
   "outputs": [],
   "source": [
    "cat_vars_type = ['Location Description', 'Domestic', 'Community Area']"
   ]
  },
  {
   "cell_type": "code",
   "execution_count": 38,
   "metadata": {},
   "outputs": [],
   "source": [
    "X_train = X_train[cat_vars_type + ['Year', 'Latitude', 'Longitude', 'Hour', 'Day', 'Month']]\n",
    "X_test = X_test[cat_vars_type + ['Year', 'Latitude', 'Longitude', 'Hour', 'Day', 'Month']]"
   ]
  },
  {
   "cell_type": "code",
   "execution_count": 39,
   "metadata": {},
   "outputs": [],
   "source": [
    "train_ds = TensorDataset(torch.tensor(X_train.as_matrix()), torch.tensor(y_train.as_matrix()))\n",
    "valid_ds = TensorDataset(torch.tensor(X_test.as_matrix()), torch.tensor(y_test.as_matrix()))"
   ]
  },
  {
   "cell_type": "code",
   "execution_count": 40,
   "metadata": {},
   "outputs": [],
   "source": [
    "train_dl = DataLoader(train_ds, batch_size=128, shuffle=True)\n",
    "valid_dl = DataLoader(valid_ds, batch_size=128)"
   ]
  },
  {
   "cell_type": "code",
   "execution_count": 43,
   "metadata": {},
   "outputs": [],
   "source": [
    "params = dict(n_cont=len(cat_proc.cont_names)\n",
    "              , cat_sizes=[len(cat_proc.categories[var]) for var in cat_vars_type ]\n",
    "              , emb_sizes=[10, 4, 10], layers_sizes=[100, 50, 40], out_sz=20, p_dropout=[0.2, 0.2, 0.2])\n",
    "model = LinearClassifier(**params)"
   ]
  },
  {
   "cell_type": "code",
   "execution_count": 44,
   "metadata": {},
   "outputs": [
    {
     "data": {
      "text/plain": [
       "LinearClassifier(\n",
       "  (embeds): ModuleList(\n",
       "    (0): Embedding(44, 10)\n",
       "    (1): Embedding(2, 4)\n",
       "    (2): Embedding(78, 10)\n",
       "  )\n",
       "  (layers): Sequential(\n",
       "    (0): BatchNorm1d(30, eps=1e-05, momentum=0.1, affine=True, track_running_stats=True)\n",
       "    (1): Dropout(p=0.2)\n",
       "    (2): Linear(in_features=30, out_features=100, bias=True)\n",
       "    (3): ReLU()\n",
       "    (4): BatchNorm1d(100, eps=1e-05, momentum=0.1, affine=True, track_running_stats=True)\n",
       "    (5): Dropout(p=0.2)\n",
       "    (6): Linear(in_features=100, out_features=50, bias=True)\n",
       "    (7): ReLU()\n",
       "    (8): BatchNorm1d(50, eps=1e-05, momentum=0.1, affine=True, track_running_stats=True)\n",
       "    (9): Dropout(p=0.2)\n",
       "    (10): Linear(in_features=50, out_features=40, bias=True)\n",
       "    (11): ReLU()\n",
       "    (12): BatchNorm1d(40, eps=1e-05, momentum=0.1, affine=True, track_running_stats=True)\n",
       "    (13): Dropout(p=0.2)\n",
       "    (14): Linear(in_features=40, out_features=20, bias=True)\n",
       "  )\n",
       ")"
      ]
     },
     "execution_count": 44,
     "metadata": {},
     "output_type": "execute_result"
    }
   ],
   "source": [
    "model"
   ]
  },
  {
   "cell_type": "markdown",
   "metadata": {},
   "source": [
    "Training"
   ]
  },
  {
   "cell_type": "code",
   "execution_count": 45,
   "metadata": {
    "scrolled": false
   },
   "outputs": [
    {
     "data": {
      "application/vnd.jupyter.widget-view+json": {
       "model_id": "",
       "version_major": 2,
       "version_minor": 0
      },
      "text/plain": [
       "HBox(children=(IntProgress(value=0, description='Epoch 0 training', max=44579, style=ProgressStyle(description…"
      ]
     },
     "metadata": {},
     "output_type": "display_data"
    },
    {
     "data": {
      "application/vnd.jupyter.widget-view+json": {
       "model_id": "",
       "version_major": 2,
       "version_minor": 0
      },
      "text/plain": [
       "HBox(children=(IntProgress(value=0, description='Epoch 0 validation', max=4954, style=ProgressStyle(descriptio…"
      ]
     },
     "metadata": {},
     "output_type": "display_data"
    },
    {
     "name": "stdout",
     "output_type": "stream",
     "text": [
      "Epoch 0 train_loss : 1.965, train_acc : 0.355, train_f1 : 0.355, valid_loss : 1.908, valid_acc : 0.367, valid_f1 : 0.367\n"
     ]
    },
    {
     "data": {
      "application/vnd.jupyter.widget-view+json": {
       "model_id": "",
       "version_major": 2,
       "version_minor": 0
      },
      "text/plain": [
       "HBox(children=(IntProgress(value=0, description='Epoch 1 training', max=44579, style=ProgressStyle(description…"
      ]
     },
     "metadata": {},
     "output_type": "display_data"
    },
    {
     "data": {
      "application/vnd.jupyter.widget-view+json": {
       "model_id": "",
       "version_major": 2,
       "version_minor": 0
      },
      "text/plain": [
       "HBox(children=(IntProgress(value=0, description='Epoch 1 validation', max=4954, style=ProgressStyle(descriptio…"
      ]
     },
     "metadata": {},
     "output_type": "display_data"
    },
    {
     "name": "stdout",
     "output_type": "stream",
     "text": [
      "Epoch 1 train_loss : 1.950, train_acc : 0.359, train_f1 : 0.359, valid_loss : 1.904, valid_acc : 0.370, valid_f1 : 0.370\n"
     ]
    },
    {
     "data": {
      "application/vnd.jupyter.widget-view+json": {
       "model_id": "",
       "version_major": 2,
       "version_minor": 0
      },
      "text/plain": [
       "HBox(children=(IntProgress(value=0, description='Epoch 2 training', max=44579, style=ProgressStyle(description…"
      ]
     },
     "metadata": {},
     "output_type": "display_data"
    },
    {
     "data": {
      "application/vnd.jupyter.widget-view+json": {
       "model_id": "",
       "version_major": 2,
       "version_minor": 0
      },
      "text/plain": [
       "HBox(children=(IntProgress(value=0, description='Epoch 2 validation', max=4954, style=ProgressStyle(descriptio…"
      ]
     },
     "metadata": {},
     "output_type": "display_data"
    },
    {
     "name": "stdout",
     "output_type": "stream",
     "text": [
      "Epoch 2 train_loss : 1.947, train_acc : 0.360, train_f1 : 0.360, valid_loss : 1.905, valid_acc : 0.371, valid_f1 : 0.371\n"
     ]
    }
   ],
   "source": [
    "fit(3, model, train_dl, valid_dl, f1_average='micro')"
   ]
  },
  {
   "cell_type": "code",
   "execution_count": 46,
   "metadata": {},
   "outputs": [],
   "source": [
    "#pickle.dump(model, open('models/type_model/dl_type_full.pkl', 'wb'))"
   ]
  },
  {
   "cell_type": "code",
   "execution_count": 48,
   "metadata": {},
   "outputs": [],
   "source": [
    "model_type = pickle.load( open('models/type_model/dl_type_full.pkl', 'rb'))"
   ]
  },
  {
   "cell_type": "markdown",
   "metadata": {},
   "source": [
    "### Plotting predicitons"
   ]
  },
  {
   "cell_type": "markdown",
   "metadata": {},
   "source": [
    "To be able to make use of our models, we will build methods to visual the results on new given data. This section of the notebook can be run independently from the rest of the notebook by running the next subsection if you have the neural nets and the data Numericalizer and Normalizer stored."
   ]
  },
  {
   "cell_type": "markdown",
   "metadata": {},
   "source": [
    "#### To run"
   ]
  },
  {
   "cell_type": "code",
   "execution_count": 1,
   "metadata": {},
   "outputs": [],
   "source": [
    "import pandas as pd\n",
    "import numpy as np\n",
    "import pickle\n",
    "import warnings\n",
    "import matplotlib.pyplot as plt\n",
    "import torch\n",
    "from torch.nn import Linear, Embedding, Softmax, Dropout, BatchNorm1d, Module, ModuleList, Sequential, ReLU\n",
    "from torch.optim import Adam\n",
    "from tqdm import tqdm_notebook\n",
    "from fastai.layers import CrossEntropyFlat\n",
    "from torch.utils.data import TensorDataset, DataLoader\n",
    "from fastai.tabular.data import TabularProc\n",
    "from pandas import DataFrame\n",
    "warnings.filterwarnings('ignore')"
   ]
  },
  {
   "cell_type": "code",
   "execution_count": 2,
   "metadata": {},
   "outputs": [],
   "source": [
    "class LinearClassifier(Module) :\n",
    "    \"\"\"\n",
    "    Arguments :\n",
    "        - n_cont : number of continuous features\n",
    "        - cat_sizes : list of the cardinality of each categorical features\n",
    "        - emb_sizes : the size of the embeddinbg vector for each categorical variables\n",
    "        - layers_sizes : the sizes of the hidden layers\n",
    "        - out_sz : the size of the output layer (cardinality of the class to predict)\n",
    "        - p_dropout : list of the dropout probabilites for each layer\n",
    "    \"\"\"\n",
    "    \n",
    "    def __init__(self, n_cont, cat_sizes, emb_sizes, layers_sizes, out_sz, p_dropout) :\n",
    "        super().__init__()\n",
    "        self.n_cats = len(cat_sizes)\n",
    "        self.n_cont = n_cont\n",
    "        self.n_layers = len(layers_sizes)\n",
    "        self.embeds = ModuleList([Embedding(c, e) for c, e in zip(cat_sizes, emb_sizes)])\n",
    "        in_size = sum(e for e in emb_sizes) + self.n_cont\n",
    "        self.in_size = in_size\n",
    "        layers = []\n",
    "        for i, l in enumerate(layers_sizes) :\n",
    "            if i == 0 :\n",
    "                layers.append(BatchNorm1d(in_size))\n",
    "                layers.append(Dropout(p_dropout[i]))\n",
    "                layers.append(Linear(in_size, l))\n",
    "                layers.append(ReLU())\n",
    "            else :\n",
    "                layers.append(BatchNorm1d(layers_sizes[i-1]))\n",
    "                layers.append(Dropout(p_dropout[i]))\n",
    "                layers.append(Linear(layers_sizes[i-1], layers_sizes[i]))\n",
    "                layers.append(ReLU())\n",
    "        \n",
    "        layers.append(BatchNorm1d(layers_sizes[-1]))\n",
    "        layers.append(Dropout(p_dropout[-1]))\n",
    "        layers.append(Linear(layers_sizes[-1], out_sz))\n",
    "        self.layers = Sequential(*layers)\n",
    "        \n",
    "    def forward(self, x_cat, x_cont) :\n",
    "        if x_cat.shape[1] != self.n_cats :\n",
    "            raise ValueError(f'The number of categorical variables should be {self.n_cats}')\n",
    "        if x_cont.shape[1] != self.n_cont :\n",
    "            raise ValueError(f'The number of continious variables should be {self.n_cont}')    \n",
    "        x_cat_embedded = [self.embeds[i](x_cat[:, i]) for i in range(self.n_cats)]\n",
    "        x_cat_embedded = torch.cat(x_cat_embedded, dim=1)\n",
    "        x_full = torch.cat([x_cat_embedded, x_cont], dim=1)\n",
    "        output = self.layers(x_full)\n",
    "        return output"
   ]
  },
  {
   "cell_type": "code",
   "execution_count": 3,
   "metadata": {},
   "outputs": [],
   "source": [
    "class myCategorify(TabularProc):\n",
    "    \"Transform the categorical variables to that type.\"\n",
    "    def apply_train(self, df:DataFrame):\n",
    "        \"Transform `self.cat_names` columns in categorical.\"\n",
    "        self.categories = {}\n",
    "        for n in self.cat_names:\n",
    "            df.loc[:,n] = df.loc[:,n].astype('category').cat.as_ordered()\n",
    "            self.categories[n] = df[n].cat.categories\n",
    "\n",
    "    def apply_test(self, df:DataFrame):\n",
    "        \"Transform `self.cat_names` columns in categorical using the codes decided in `apply_train`.\"\n",
    "        for n in self.cat_names:\n",
    "            if n in df.columns :\n",
    "                df.loc[:,n] = pd.Categorical(df[n], categories=self.categories[n], ordered=True)"
   ]
  },
  {
   "cell_type": "code",
   "execution_count": 4,
   "metadata": {},
   "outputs": [],
   "source": [
    "class my_Normalize(TabularProc):\n",
    "    \"Normalize the continuous variables.\"\n",
    "    def apply_train(self, df:DataFrame):\n",
    "        \"Comput the means and stds of `self.cont_names` columns to normalize them.\"\n",
    "        self.means,self.stds = {},{}\n",
    "        for n in self.cont_names:\n",
    "            self.means[n],self.stds[n] = df.loc[:,n].mean(),df.loc[:,n].std()\n",
    "            df.loc[:,n] = (df.loc[:,n]-self.means[n]) / (1e-7 + self.stds[n])\n",
    "\n",
    "    def apply_test(self, df:DataFrame):\n",
    "        \"Normalize `self.cont_names` with the same statistics as in `apply_train`.\"\n",
    "        for n in self.cont_names:\n",
    "            if n in df.columns :\n",
    "                df.loc[:,n] = (df.loc[:,n]-self.means[n]) / (1e-7 + self.stds[n])\n"
   ]
  },
  {
   "cell_type": "markdown",
   "metadata": {},
   "source": [
    "Loading the stored models and data processors"
   ]
  },
  {
   "cell_type": "code",
   "execution_count": 7,
   "metadata": {},
   "outputs": [],
   "source": [
    "#############T0 MODIFY IF YOU CHANGE THE PATHS\n",
    "model_type_pred_path = 'models/type_model/dl_type_full.pkl' #The path to the model who predicts the type of crime\n",
    "model_arrest_pred_path = 'models/arrest_model/dl_arrest_full.pkl' #The path to the model who predicts the arrest\n",
    "data_processors_path = 'data_processors.pkl' #The path to the processors for the data\n",
    "#############\n",
    "\n",
    "model_arrest = pickle.load(open(model_arrest_pred_path, 'rb'))\n",
    "model_type = pickle.load(open(model_type_pred_path, 'rb'))\n",
    "\n",
    "cat_proc, norm_proc = pickle.load( open(data_processors_path, 'rb'))"
   ]
  },
  {
   "cell_type": "markdown",
   "metadata": {},
   "source": [
    "#### Predictions"
   ]
  },
  {
   "cell_type": "markdown",
   "metadata": {},
   "source": [
    "We will now build a method that will compute the predictions on a given new data and sort them by probybility"
   ]
  },
  {
   "cell_type": "markdown",
   "metadata": {},
   "source": [
    "**get_sorted_predictions** returns the sorted prediction probabilities given :\n",
    "- prediction_type ('Arrest' or 'Primary Type'): what you want to predict\n",
    "- model : the model for the prediction, need to be accurate with the prediction type\n",
    "- feat_values : a dictionnary of element -> (name of feature : list[feature value], need to be accurate with the prediction type\n",
    "- categroy_processor and numericalize_processor : the processors used for the data preperation\n",
    "- cuda : if you want the computations to happen on gpu or not (faster on gpu)"
   ]
  },
  {
   "cell_type": "code",
   "execution_count": 39,
   "metadata": {},
   "outputs": [],
   "source": [
    "def get_sorted_predictions(feat_values, model, categroy_processor, numericalize_processor\n",
    "                           , prediction_type='Arrest', cuda=False) :\n",
    "    if cuda :\n",
    "        model = model.cuda()\n",
    "    else :\n",
    "        model = model.cpu()\n",
    "    if prediction_type=='Arrest' :\n",
    "        feature_order = ['Primary Type', 'Description', 'Location Description', 'Domestic', 'Community Area','Year', 'Latitude', 'Longitude', 'Hour', 'Day', 'Month']\n",
    "    else :\n",
    "        feature_order = ['Location Description', 'Domestic', 'Community Area', 'Year', 'Latitude', 'Longitude', 'Hour', 'Day', 'Month']\n",
    "    \n",
    "    processed_values = {} \n",
    "    df = pd.DataFrame(feat_values)\n",
    "    numericalize_processor.apply_test(df)\n",
    "    for feat in categroy_processor.cat_names :\n",
    "        if feat in df.columns :\n",
    "            df[feat] = pd.Categorical(df[feat], categories=categroy_processor.categories[feat], ordered=True)\n",
    "            df[feat] = df[feat].cat.codes\n",
    "    df = df[feature_order]\n",
    "    x = torch.tensor(df.as_matrix())\n",
    "    x_cat = x[:, :model.n_cats ].type(torch.LongTensor)\n",
    "    x_cont = x[:, model.n_cats:].type(torch.FloatTensor)\n",
    "    if cuda :\n",
    "        x_cat = x_cat.cuda()\n",
    "        x_cont = x_cont.cuda()\n",
    "    pred = model(x_cat, x_cont)\n",
    "    pred_probabilites = Softmax(dim=1)(pred).tolist()\n",
    "    \n",
    "    pred_probabilites_w_name = [[(name, prob) for name, prob in zip(cat_proc.categories[prediction_type], pred_probabilites[i])] for i in range(len(pred_probabilites))]\n",
    "    for i in range(len(pred_probabilites_w_name)) :\n",
    "        pred_probabilites_w_name[i].sort(key=lambda x : x[1], reverse=True)\n",
    "    return pred_probabilites_w_name\n",
    "    "
   ]
  },
  {
   "cell_type": "markdown",
   "metadata": {},
   "source": [
    "Example for predicting the type of crime given a single new data "
   ]
  },
  {
   "cell_type": "code",
   "execution_count": 32,
   "metadata": {},
   "outputs": [],
   "source": [
    "feat_values = { 'Location Description':['STREET'], 'Domestic':[False], 'Community Area':[2]\n",
    "               , 'Year':[2010], 'Latitude':[42.002816], 'Longitude':[-87.906094], 'Hour':[20]\n",
    "               , 'Day':[12], 'Month':[3]}"
   ]
  },
  {
   "cell_type": "code",
   "execution_count": 33,
   "metadata": {
    "scrolled": false
   },
   "outputs": [
    {
     "data": {
      "text/plain": [
       "[[('THEFT', 0.32657432556152344),\n",
       "  ('CRIMINAL DAMAGE', 0.1889096200466156),\n",
       "  ('MOTOR VEHICLE THEFT', 0.17025162279605865),\n",
       "  ('NARCOTICS', 0.10175144672393799),\n",
       "  ('BATTERY', 0.05853597819805145),\n",
       "  ('OTHER OFFENSE', 0.033468492329120636),\n",
       "  ('ASSAULT', 0.030034758150577545),\n",
       "  ('ROBBERY', 0.027765482664108276),\n",
       "  ('SEXUAL CRIME', 0.014789788983762264),\n",
       "  ('PUBLIC PEACE VIOLATION', 0.010979365557432175),\n",
       "  ('DECEPTIVE PRACTICE', 0.01073536742478609),\n",
       "  ('WEAPONS VIOLATION', 0.009851331822574139),\n",
       "  ('CRIMINAL TRESPASS', 0.005989141762256622),\n",
       "  ('INTERFERENCE WITH PUBLIC OFFICER', 0.003782934509217739),\n",
       "  ('LIQUOR LAW VIOLATION', 0.0030836451333016157),\n",
       "  ('BURGLARY', 0.0013970573199912906),\n",
       "  ('ARSON', 0.0008709250250831246),\n",
       "  ('HOMICIDE', 0.0005777995684184134),\n",
       "  ('OFFENSE INVOLVING CHILDREN', 0.00040834597893990576),\n",
       "  ('GAMBLING', 0.00024255600874312222)]]"
      ]
     },
     "execution_count": 33,
     "metadata": {},
     "output_type": "execute_result"
    }
   ],
   "source": [
    "get_sorted_predictions(feat_values, model_type, cat_proc, norm_proc, prediction_type='Primary Type')"
   ]
  },
  {
   "cell_type": "markdown",
   "metadata": {},
   "source": [
    "So we get a list of list where every sublist is from one datarow (crime specs), and contains each type of crime with the probability of the crime beeing of this type (sorted by probability)"
   ]
  },
  {
   "cell_type": "markdown",
   "metadata": {},
   "source": [
    "Example for predicting the arrest on new data"
   ]
  },
  {
   "cell_type": "code",
   "execution_count": 34,
   "metadata": {},
   "outputs": [],
   "source": [
    "feat_values = {'Primary Type':['THEFT'], 'Description':['$500 AND UNDER']\n",
    "               , 'Year':[2012], 'Location Description':['ABANDONED BUILDING'], 'Domestic':[False], \n",
    "              'Community Area':[2], 'Latitude':[42.002816], 'Longitude':[-87.906094], 'Hour':[20]\n",
    "               , 'Day':[12], 'Month':[3]}"
   ]
  },
  {
   "cell_type": "code",
   "execution_count": 40,
   "metadata": {},
   "outputs": [
    {
     "data": {
      "text/plain": [
       "[[(False, 0.9096437096595764), (True, 0.09035629034042358)]]"
      ]
     },
     "execution_count": 40,
     "metadata": {},
     "output_type": "execute_result"
    }
   ],
   "source": [
    "get_sorted_predictions(feat_values, model_arrest, cat_proc, norm_proc, prediction_type='Arrest')"
   ]
  },
  {
   "cell_type": "markdown",
   "metadata": {},
   "source": [
    "Which is to be expected with a theft of something of value less than $500"
   ]
  },
  {
   "cell_type": "markdown",
   "metadata": {},
   "source": [
    "Here is a list of all values possible for each categorical features"
   ]
  },
  {
   "cell_type": "code",
   "execution_count": 9,
   "metadata": {},
   "outputs": [
    {
     "data": {
      "text/plain": [
       "{'Primary Type': Index(['ARSON', 'ASSAULT', 'BATTERY', 'BURGLARY', 'CRIMINAL DAMAGE',\n",
       "        'CRIMINAL TRESPASS', 'DECEPTIVE PRACTICE', 'GAMBLING',\n",
       "        'INTERFERENCE WITH PUBLIC OFFICER', 'LIQUOR LAW VIOLATION',\n",
       "        'MOTOR VEHICLE THEFT', 'NARCOTICS', 'OFFENSE INVOLVING CHILDREN',\n",
       "        'OTHER OFFENSE', 'PUBLIC PEACE VIOLATION', 'ROBBERY', 'SEXUAL CRIME',\n",
       "        'THEFT', 'WEAPONS VIOLATION'],\n",
       "       dtype='object'),\n",
       " 'Description': Index(['$500 AND UNDER', 'AGG PO HANDS NO/MIN INJURY', 'AGGRAVATED',\n",
       "        'AGGRAVATED DOMESTIC BATTERY: KNIFE/CUTTING INST',\n",
       "        'AGGRAVATED DOMESTIC BATTERY: OTHER DANG WEAPON', 'AGGRAVATED: HANDGUN',\n",
       "        'AGGRAVATED: OTHER DANG WEAPON', 'AGGRAVATED:KNIFE/CUTTING INSTR',\n",
       "        'ARMED: HANDGUN', 'ARMED: OTHER DANGEROUS WEAPON',\n",
       "        'ARMED:KNIFE/CUTTING INSTRUMENT', 'ATTEMPT FORCIBLE ENTRY',\n",
       "        'ATTEMPT POSSESSION NARCOTICS', 'ATTEMPT THEFT', 'AUTOMOBILE',\n",
       "        'BOGUS CHECK', 'CHILD ABUSE', 'COUNTERFEITING DOCUMENT',\n",
       "        'CREDIT CARD FRAUD', 'CRIMINAL DEFACEMENT', 'DOMESTIC BATTERY SIMPLE',\n",
       "        'FALSE/STOLEN/ALTERED TRP', 'FINANCIAL ID THEFT: OVER $300',\n",
       "        'FINANCIAL ID THEFT:$300 &UNDER', 'FINANCIAL IDENTITY THEFT OVER $ 300',\n",
       "        'FORCIBLE ENTRY', 'FORGERY', 'FOUND SUSPECT NARCOTICS',\n",
       "        'FRAUD OR CONFIDENCE GAME', 'FROM BUILDING', 'GAME/DICE',\n",
       "        'HARASSMENT BY ELECTRONIC MEANS', 'HARASSMENT BY TELEPHONE',\n",
       "        'ILLEGAL USE CASH CARD', 'MANU/DEL:CANNABIS 10GM OR LESS',\n",
       "        'MANU/DEL:CANNABIS OVER 10 GMS', 'MANU/DELIVER: HEROIN (WHITE)',\n",
       "        'MANU/DELIVER:CRACK', 'NON-AGGRAVATED', 'OTHER',\n",
       "        'OTHER VEHICLE OFFENSE', 'OVER $500', 'POCKET-PICKING',\n",
       "        'POSS: CANNABIS 30GMS OR LESS', 'POSS: CANNABIS MORE THAN 30GMS',\n",
       "        'POSS: COCAINE', 'POSS: CRACK', 'POSS: HEROIN(WHITE)',\n",
       "        'PRO EMP HANDS NO/MIN INJURY', 'PURSE-SNATCHING', 'RECKLESS CONDUCT',\n",
       "        'RETAIL THEFT', 'SIMPLE', 'SOLICIT FOR BUSINESS',\n",
       "        'SOLICIT NARCOTICS ON PUBLICWAY', 'SOLICIT ON PUBLIC WAY',\n",
       "        'STRONGARM - NO WEAPON', 'TELEPHONE THREAT', 'THEFT OF LABOR/SERVICES',\n",
       "        'THEFT/RECOVERY: AUTOMOBILE', 'TO CITY OF CHICAGO PROPERTY', 'TO LAND',\n",
       "        'TO PROPERTY', 'TO RESIDENCE', 'TO STATE SUP LAND', 'TO VEHICLE',\n",
       "        'TRUCK, BUS, MOTOR HOME', 'UNLAWFUL ENTRY', 'UNLAWFUL POSS OF HANDGUN',\n",
       "        'VIOLATE ORDER OF PROTECTION'],\n",
       "       dtype='object'),\n",
       " 'Location Description': Index(['ABANDONED BUILDING', 'AIRPORT/AIRCRAFT', 'ALLEY', 'APARTMENT', 'BANK',\n",
       "        'BAR OR TAVERN', 'CHA APARTMENT', 'CHA HALLWAY/STAIRWELL/ELEVATOR',\n",
       "        'CHA PARKING LOT/GROUNDS', 'CHURCH/SYNAGOGUE/PLACE OF WORSHIP',\n",
       "        'COMMERCIAL / BUSINESS OFFICE', 'CONSTRUCTION SITE',\n",
       "        'CONVENIENCE STORE', 'CTA BUS', 'CTA GARAGE / OTHER PROPERTY',\n",
       "        'CTA PLATFORM', 'CTA TRAIN', 'DEPARTMENT STORE',\n",
       "        'DRIVEWAY - RESIDENTIAL', 'DRUG STORE', 'GAS STATION',\n",
       "        'GOVERNMENT BUILDING/PROPERTY', 'GROCERY FOOD STORE',\n",
       "        'HOSPITAL BUILDING/GROUNDS', 'HOTEL/MOTEL',\n",
       "        'NURSING HOME/RETIREMENT HOME', 'OTHER', 'PARK PROPERTY',\n",
       "        'PARKING LOT/GARAGE(NON.RESID.)', 'POLICE FACILITY/VEH PARKING LOT',\n",
       "        'RESIDENCE', 'RESIDENCE PORCH/HALLWAY', 'RESIDENCE-GARAGE',\n",
       "        'RESIDENTIAL YARD (FRONT/BACK)', 'RESTAURANT',\n",
       "        'SCHOOL, PRIVATE, BUILDING', 'SCHOOL, PUBLIC, BUILDING',\n",
       "        'SCHOOL, PUBLIC, GROUNDS', 'SIDEWALK', 'SMALL RETAIL STORE', 'STREET',\n",
       "        'TAVERN/LIQUOR STORE', 'VACANT LOT/LAND', 'VEHICLE NON-COMMERCIAL'],\n",
       "       dtype='object'),\n",
       " 'Arrest': Index([False, True], dtype='object'),\n",
       " 'Domestic': Index([False, True], dtype='object'),\n",
       " 'Community Area': Int64Index([ 0,  1,  2,  3,  4,  5,  6,  7,  8,  9, 10, 11, 12, 13, 14, 15, 16,\n",
       "             17, 18, 19, 20, 21, 22, 23, 24, 25, 26, 27, 28, 29, 30, 31, 32, 33,\n",
       "             34, 35, 36, 37, 38, 39, 40, 41, 42, 43, 44, 45, 46, 47, 48, 49, 50,\n",
       "             51, 52, 53, 54, 55, 56, 57, 58, 59, 60, 61, 62, 63, 64, 65, 66, 67,\n",
       "             68, 69, 70, 71, 72, 73, 74, 75, 76, 77],\n",
       "            dtype='int64')}"
      ]
     },
     "execution_count": 9,
     "metadata": {},
     "output_type": "execute_result"
    }
   ],
   "source": [
    "cat_proc.categories"
   ]
  }
 ],
 "metadata": {
  "kernelspec": {
   "display_name": "Python 3",
   "language": "python",
   "name": "python3"
  },
  "language_info": {
   "codemirror_mode": {
    "name": "ipython",
    "version": 3
   },
   "file_extension": ".py",
   "mimetype": "text/x-python",
   "name": "python",
   "nbconvert_exporter": "python",
   "pygments_lexer": "ipython3",
   "version": "3.7.2"
  },
  "toc": {
   "base_numbering": 1,
   "nav_menu": {},
   "number_sections": true,
   "sideBar": true,
   "skip_h1_title": false,
   "title_cell": "Table of Contents",
   "title_sidebar": "Contents",
   "toc_cell": false,
   "toc_position": {
    "height": "calc(100% - 180px)",
    "left": "10px",
    "top": "150px",
    "width": "285.05px"
   },
   "toc_section_display": true,
   "toc_window_display": true
  }
 },
 "nbformat": 4,
 "nbformat_minor": 2
}
