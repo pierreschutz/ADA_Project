{
 "cells": [
  {
   "cell_type": "code",
   "execution_count": 1,
   "metadata": {},
   "outputs": [],
   "source": [
    "import pandas as pd\n",
    "import numpy as np\n",
    "import pickle\n",
    "import warnings\n",
    "import matplotlib.pyplot as plt\n",
    "warnings.filterwarnings('ignore')"
   ]
  },
  {
   "cell_type": "markdown",
   "metadata": {},
   "source": [
    "# Data Loading"
   ]
  },
  {
   "cell_type": "code",
   "execution_count": 2,
   "metadata": {},
   "outputs": [],
   "source": [
    "chicago_crime = pickle.load(open('./data/chicago_crime.pickle', 'rb'))"
   ]
  },
  {
   "cell_type": "code",
   "execution_count": 3,
   "metadata": {},
   "outputs": [],
   "source": [
    "chicago_crime_init = chicago_crime.copy()"
   ]
  },
  {
   "cell_type": "code",
   "execution_count": 4,
   "metadata": {},
   "outputs": [
    {
     "data": {
      "text/html": [
       "<div>\n",
       "<style scoped>\n",
       "    .dataframe tbody tr th:only-of-type {\n",
       "        vertical-align: middle;\n",
       "    }\n",
       "\n",
       "    .dataframe tbody tr th {\n",
       "        vertical-align: top;\n",
       "    }\n",
       "\n",
       "    .dataframe thead th {\n",
       "        text-align: right;\n",
       "    }\n",
       "</style>\n",
       "<table border=\"1\" class=\"dataframe\">\n",
       "  <thead>\n",
       "    <tr style=\"text-align: right;\">\n",
       "      <th></th>\n",
       "      <th>Date</th>\n",
       "      <th>Primary Type</th>\n",
       "      <th>Description</th>\n",
       "      <th>Location Description</th>\n",
       "      <th>Arrest</th>\n",
       "      <th>Domestic</th>\n",
       "      <th>Community Area</th>\n",
       "      <th>Year</th>\n",
       "      <th>Latitude</th>\n",
       "      <th>Longitude</th>\n",
       "      <th>Hour</th>\n",
       "      <th>Day</th>\n",
       "      <th>Month</th>\n",
       "    </tr>\n",
       "  </thead>\n",
       "  <tbody>\n",
       "    <tr>\n",
       "      <th>60345</th>\n",
       "      <td>2019-01-03 19:00:00</td>\n",
       "      <td>PUBLIC PEACE VIOLATION</td>\n",
       "      <td>OTHER VIOLATION</td>\n",
       "      <td>AIRCRAFT</td>\n",
       "      <td>False</td>\n",
       "      <td>False</td>\n",
       "      <td>76</td>\n",
       "      <td>2019</td>\n",
       "      <td>42.002816</td>\n",
       "      <td>-87.906094</td>\n",
       "      <td>19</td>\n",
       "      <td>3</td>\n",
       "      <td>1</td>\n",
       "    </tr>\n",
       "    <tr>\n",
       "      <th>62272</th>\n",
       "      <td>2019-03-16 18:00:00</td>\n",
       "      <td>BATTERY</td>\n",
       "      <td>SIMPLE</td>\n",
       "      <td>STREET</td>\n",
       "      <td>False</td>\n",
       "      <td>False</td>\n",
       "      <td>32</td>\n",
       "      <td>2019</td>\n",
       "      <td>41.883369</td>\n",
       "      <td>-87.633860</td>\n",
       "      <td>18</td>\n",
       "      <td>16</td>\n",
       "      <td>3</td>\n",
       "    </tr>\n",
       "    <tr>\n",
       "      <th>62615</th>\n",
       "      <td>2019-03-12 22:00:00</td>\n",
       "      <td>THEFT</td>\n",
       "      <td>$500 AND UNDER</td>\n",
       "      <td>RESIDENTIAL YARD (FRONT/BACK)</td>\n",
       "      <td>False</td>\n",
       "      <td>False</td>\n",
       "      <td>36</td>\n",
       "      <td>2019</td>\n",
       "      <td>41.825347</td>\n",
       "      <td>-87.606781</td>\n",
       "      <td>22</td>\n",
       "      <td>12</td>\n",
       "      <td>3</td>\n",
       "    </tr>\n",
       "    <tr>\n",
       "      <th>62648</th>\n",
       "      <td>2019-03-14 19:00:00</td>\n",
       "      <td>BATTERY</td>\n",
       "      <td>SIMPLE</td>\n",
       "      <td>RESIDENCE</td>\n",
       "      <td>False</td>\n",
       "      <td>False</td>\n",
       "      <td>1</td>\n",
       "      <td>2019</td>\n",
       "      <td>42.016542</td>\n",
       "      <td>-87.672499</td>\n",
       "      <td>19</td>\n",
       "      <td>14</td>\n",
       "      <td>3</td>\n",
       "    </tr>\n",
       "    <tr>\n",
       "      <th>62649</th>\n",
       "      <td>2019-03-14 16:00:00</td>\n",
       "      <td>OTHER OFFENSE</td>\n",
       "      <td>OTHER VEHICLE OFFENSE</td>\n",
       "      <td>STREET</td>\n",
       "      <td>False</td>\n",
       "      <td>True</td>\n",
       "      <td>36</td>\n",
       "      <td>2019</td>\n",
       "      <td>41.825299</td>\n",
       "      <td>-87.606961</td>\n",
       "      <td>16</td>\n",
       "      <td>14</td>\n",
       "      <td>3</td>\n",
       "    </tr>\n",
       "  </tbody>\n",
       "</table>\n",
       "</div>"
      ],
      "text/plain": [
       "                     Date            Primary Type            Description  \\\n",
       "60345 2019-01-03 19:00:00  PUBLIC PEACE VIOLATION        OTHER VIOLATION   \n",
       "62272 2019-03-16 18:00:00                 BATTERY                 SIMPLE   \n",
       "62615 2019-03-12 22:00:00                   THEFT         $500 AND UNDER   \n",
       "62648 2019-03-14 19:00:00                 BATTERY                 SIMPLE   \n",
       "62649 2019-03-14 16:00:00           OTHER OFFENSE  OTHER VEHICLE OFFENSE   \n",
       "\n",
       "                Location Description  Arrest  Domestic  Community Area  Year  \\\n",
       "60345                       AIRCRAFT   False     False              76  2019   \n",
       "62272                         STREET   False     False              32  2019   \n",
       "62615  RESIDENTIAL YARD (FRONT/BACK)   False     False              36  2019   \n",
       "62648                      RESIDENCE   False     False               1  2019   \n",
       "62649                         STREET   False      True              36  2019   \n",
       "\n",
       "        Latitude  Longitude  Hour  Day  Month  \n",
       "60345  42.002816 -87.906094    19    3      1  \n",
       "62272  41.883369 -87.633860    18   16      3  \n",
       "62615  41.825347 -87.606781    22   12      3  \n",
       "62648  42.016542 -87.672499    19   14      3  \n",
       "62649  41.825299 -87.606961    16   14      3  "
      ]
     },
     "execution_count": 4,
     "metadata": {},
     "output_type": "execute_result"
    }
   ],
   "source": [
    "chicago_crime.head()"
   ]
  },
  {
   "cell_type": "code",
   "execution_count": 5,
   "metadata": {},
   "outputs": [
    {
     "data": {
      "text/plain": [
       "(6944360, 13)"
      ]
     },
     "execution_count": 5,
     "metadata": {},
     "output_type": "execute_result"
    }
   ],
   "source": [
    "chicago_crime.shape"
   ]
  },
  {
   "cell_type": "markdown",
   "metadata": {},
   "source": [
    "# Feature cleaning/eng"
   ]
  },
  {
   "cell_type": "code",
   "execution_count": 6,
   "metadata": {},
   "outputs": [],
   "source": [
    "from fastai.tabular import add_datepart\n",
    "import seaborn as sns\n",
    "import matplotlib.pyplot as plt"
   ]
  },
  {
   "cell_type": "markdown",
   "metadata": {},
   "source": [
    "Let's first see if we still have missing data"
   ]
  },
  {
   "cell_type": "code",
   "execution_count": 7,
   "metadata": {
    "scrolled": true
   },
   "outputs": [
    {
     "data": {
      "text/plain": [
       "Date                    0.000000\n",
       "Primary Type            0.000000\n",
       "Description             0.000000\n",
       "Location Description    0.000000\n",
       "Arrest                  0.000000\n",
       "Domestic                0.000000\n",
       "Community Area          0.087011\n",
       "Year                    0.000000\n",
       "Latitude                0.000000\n",
       "Longitude               0.000000\n",
       "Hour                    0.000000\n",
       "Day                     0.000000\n",
       "Month                   0.000000\n",
       "dtype: float64"
      ]
     },
     "execution_count": 7,
     "metadata": {},
     "output_type": "execute_result"
    }
   ],
   "source": [
    "chicago_crime.isnull().mean()"
   ]
  },
  {
   "cell_type": "markdown",
   "metadata": {},
   "source": [
    "Only the community area has some missing values, as it is only a small portion of the dataset we will simply disregard the rows with missing value"
   ]
  },
  {
   "cell_type": "code",
   "execution_count": 8,
   "metadata": {},
   "outputs": [],
   "source": [
    "chicago_crime = chicago_crime[chicago_crime.notna().all(1)]"
   ]
  },
  {
   "cell_type": "code",
   "execution_count": 9,
   "metadata": {},
   "outputs": [
    {
     "data": {
      "text/plain": [
       "Date                    0\n",
       "Primary Type            0\n",
       "Description             0\n",
       "Location Description    0\n",
       "Arrest                  0\n",
       "Domestic                0\n",
       "Community Area          0\n",
       "Year                    0\n",
       "Latitude                0\n",
       "Longitude               0\n",
       "Hour                    0\n",
       "Day                     0\n",
       "Month                   0\n",
       "dtype: int64"
      ]
     },
     "execution_count": 9,
     "metadata": {},
     "output_type": "execute_result"
    }
   ],
   "source": [
    "chicago_crime.isnull().sum()"
   ]
  },
  {
   "cell_type": "markdown",
   "metadata": {},
   "source": [
    "- **Date**\n",
    "\n",
    "The information about the date and time is already in other columns so we can remove the Date column"
   ]
  },
  {
   "cell_type": "code",
   "execution_count": 10,
   "metadata": {},
   "outputs": [],
   "source": [
    "chicago_crime.drop(columns='Date', inplace=True)"
   ]
  },
  {
   "cell_type": "markdown",
   "metadata": {},
   "source": [
    "- **Primary Type**"
   ]
  },
  {
   "cell_type": "code",
   "execution_count": 11,
   "metadata": {},
   "outputs": [],
   "source": [
    "p_type = chicago_crime['Primary Type']"
   ]
  },
  {
   "cell_type": "code",
   "execution_count": 12,
   "metadata": {},
   "outputs": [
    {
     "data": {
      "text/plain": [
       "34"
      ]
     },
     "execution_count": 12,
     "metadata": {},
     "output_type": "execute_result"
    }
   ],
   "source": [
    "p_type.nunique()"
   ]
  },
  {
   "cell_type": "code",
   "execution_count": 13,
   "metadata": {
    "scrolled": true
   },
   "outputs": [
    {
     "data": {
      "text/plain": [
       "THEFT                                1344440\n",
       "BATTERY                              1159460\n",
       "CRIMINAL DAMAGE                       724093\n",
       "NARCOTICS                             649432\n",
       "ASSAULT                               398093\n",
       "OTHER OFFENSE                         393281\n",
       "BURGLARY                              364091\n",
       "MOTOR VEHICLE THEFT                   288011\n",
       "DECEPTIVE PRACTICE                    253592\n",
       "ROBBERY                               239517\n",
       "CRIMINAL TRESPASS                     182296\n",
       "WEAPONS VIOLATION                      71076\n",
       "PROSTITUTION                           60505\n",
       "PUBLIC PEACE VIOLATION                 45788\n",
       "OFFENSE INVOLVING CHILDREN             42838\n",
       "CRIM SEXUAL ASSAULT                    25313\n",
       "SEX OFFENSE                            22626\n",
       "INTERFERENCE WITH PUBLIC OFFICER       16103\n",
       "GAMBLING                               13351\n",
       "LIQUOR LAW VIOLATION                   12186\n",
       "ARSON                                  10149\n",
       "HOMICIDE                                9595\n",
       "KIDNAPPING                              5628\n",
       "INTIMIDATION                            3718\n",
       "STALKING                                3295\n",
       "OBSCENITY                                586\n",
       "CONCEALED CARRY LICENSE VIOLATION        499\n",
       "NON-CRIMINAL                             162\n",
       "PUBLIC INDECENCY                         161\n",
       "OTHER NARCOTIC VIOLATION                 118\n",
       "HUMAN TRAFFICKING                         59\n",
       "NON - CRIMINAL                            38\n",
       "RITUALISM                                 14\n",
       "NON-CRIMINAL (SUBJECT SPECIFIED)           9\n",
       "Name: Primary Type, dtype: int64"
      ]
     },
     "execution_count": 13,
     "metadata": {},
     "output_type": "execute_result"
    }
   ],
   "source": [
    "p_type_vc = p_type.value_counts()\n",
    "p_type_vc"
   ]
  },
  {
   "cell_type": "markdown",
   "metadata": {},
   "source": [
    "We can first regroup some types that are similar"
   ]
  },
  {
   "cell_type": "code",
   "execution_count": 14,
   "metadata": {},
   "outputs": [],
   "source": [
    "similar_types = {'NARCOTICS' : ['NARCOTICS', 'OTHER NARCOTIC VIOLATION'], 'SEXUAL CRIME' : ['SEX OFFENSE', 'CRIM SEXUAL ASSAULT', 'PROSTITUTION'], 'PUBLIC PEACE VIOLATION' : ['OBSCENITY', 'PUBLIC INDECENCY']}\n",
    "type_to_group ={e : v for v in similar_types for e in similar_types[v]}"
   ]
  },
  {
   "cell_type": "code",
   "execution_count": 15,
   "metadata": {},
   "outputs": [],
   "source": [
    "chicago_crime['Primary Type'].replace(type_to_group, inplace=True)"
   ]
  },
  {
   "cell_type": "code",
   "execution_count": 16,
   "metadata": {},
   "outputs": [
    {
     "data": {
      "text/plain": [
       "THEFT                                1344440\n",
       "BATTERY                              1159460\n",
       "CRIMINAL DAMAGE                       724093\n",
       "NARCOTICS                             649550\n",
       "ASSAULT                               398093\n",
       "OTHER OFFENSE                         393281\n",
       "BURGLARY                              364091\n",
       "MOTOR VEHICLE THEFT                   288011\n",
       "DECEPTIVE PRACTICE                    253592\n",
       "ROBBERY                               239517\n",
       "CRIMINAL TRESPASS                     182296\n",
       "SEXUAL CRIME                          108444\n",
       "WEAPONS VIOLATION                      71076\n",
       "PUBLIC PEACE VIOLATION                 46535\n",
       "OFFENSE INVOLVING CHILDREN             42838\n",
       "INTERFERENCE WITH PUBLIC OFFICER       16103\n",
       "GAMBLING                               13351\n",
       "LIQUOR LAW VIOLATION                   12186\n",
       "ARSON                                  10149\n",
       "HOMICIDE                                9595\n",
       "KIDNAPPING                              5628\n",
       "INTIMIDATION                            3718\n",
       "STALKING                                3295\n",
       "CONCEALED CARRY LICENSE VIOLATION        499\n",
       "NON-CRIMINAL                             162\n",
       "HUMAN TRAFFICKING                         59\n",
       "NON - CRIMINAL                            38\n",
       "RITUALISM                                 14\n",
       "NON-CRIMINAL (SUBJECT SPECIFIED)           9\n",
       "Name: Primary Type, dtype: int64"
      ]
     },
     "execution_count": 16,
     "metadata": {},
     "output_type": "execute_result"
    }
   ],
   "source": [
    "p_type_vc = p_type.value_counts()\n",
    "p_type_vc"
   ]
  },
  {
   "cell_type": "markdown",
   "metadata": {},
   "source": [
    "Some types have too low frequency to be of use in our future models. To address thid issue, we simply regroup the low frequency types in the type : 'OTHER OFFENSE'"
   ]
  },
  {
   "cell_type": "code",
   "execution_count": 17,
   "metadata": {},
   "outputs": [],
   "source": [
    "def regroup_low_fred(data, column, min_freq, name='OTHER') :\n",
    "    freq = data[column].value_counts()\n",
    "    lowf_types = list(freq[freq <min_freq].index)\n",
    "    data[column] = data[column].apply(lambda x : name if x in lowf_types else x)"
   ]
  },
  {
   "cell_type": "code",
   "execution_count": 18,
   "metadata": {},
   "outputs": [],
   "source": [
    "regroup_low_fred(chicago_crime, 'Primary Type', 10000, 'OTHER OFFENSE')"
   ]
  },
  {
   "cell_type": "code",
   "execution_count": 19,
   "metadata": {
    "scrolled": true
   },
   "outputs": [
    {
     "data": {
      "text/plain": [
       "THEFT                               1344440\n",
       "BATTERY                             1159460\n",
       "CRIMINAL DAMAGE                      724093\n",
       "NARCOTICS                            649550\n",
       "OTHER OFFENSE                        416298\n",
       "ASSAULT                              398093\n",
       "BURGLARY                             364091\n",
       "MOTOR VEHICLE THEFT                  288011\n",
       "DECEPTIVE PRACTICE                   253592\n",
       "ROBBERY                              239517\n",
       "CRIMINAL TRESPASS                    182296\n",
       "SEXUAL CRIME                         108444\n",
       "WEAPONS VIOLATION                     71076\n",
       "PUBLIC PEACE VIOLATION                46535\n",
       "OFFENSE INVOLVING CHILDREN            42838\n",
       "INTERFERENCE WITH PUBLIC OFFICER      16103\n",
       "GAMBLING                              13351\n",
       "LIQUOR LAW VIOLATION                  12186\n",
       "ARSON                                 10149\n",
       "Name: Primary Type, dtype: int64"
      ]
     },
     "execution_count": 19,
     "metadata": {},
     "output_type": "execute_result"
    }
   ],
   "source": [
    "chicago_crime['Primary Type'].value_counts()"
   ]
  },
  {
   "cell_type": "markdown",
   "metadata": {},
   "source": [
    "- **Description**"
   ]
  },
  {
   "cell_type": "code",
   "execution_count": 20,
   "metadata": {},
   "outputs": [
    {
     "data": {
      "text/plain": [
       "378"
      ]
     },
     "execution_count": 20,
     "metadata": {},
     "output_type": "execute_result"
    }
   ],
   "source": [
    "chicago_crime['Description'].nunique()"
   ]
  },
  {
   "cell_type": "code",
   "execution_count": 21,
   "metadata": {
    "scrolled": true
   },
   "outputs": [
    {
     "data": {
      "text/plain": [
       "SIMPLE                                          697667\n",
       "DOMESTIC BATTERY SIMPLE                         539453\n",
       "$500 AND UNDER                                  490446\n",
       "TO VEHICLE                                      350456\n",
       "TO PROPERTY                                     330926\n",
       "OVER $500                                       319577\n",
       "POSS: CANNABIS 30GMS OR LESS                    256654\n",
       "FORCIBLE ENTRY                                  244762\n",
       "FROM BUILDING                                   235493\n",
       "AUTOMOBILE                                      227583\n",
       "RETAIL THEFT                                    177448\n",
       "TELEPHONE THREAT                                124703\n",
       "TO LAND                                         111883\n",
       "POSS: CRACK                                     101271\n",
       "UNLAWFUL ENTRY                                   98411\n",
       "HARASSMENT BY TELEPHONE                          90845\n",
       "ARMED: HANDGUN                                   85009\n",
       "POSS: HEROIN(WHITE)                              83877\n",
       "STRONGARM - NO WEAPON                            83490\n",
       "AGGRAVATED: OTHER DANG WEAPON                    82930\n",
       "AGGRAVATED: HANDGUN                              79468\n",
       "CREDIT CARD FRAUD                                53850\n",
       "AGGRAVATED:KNIFE/CUTTING INSTR                   51385\n",
       "UNLAWFUL POSS OF HANDGUN                         47647\n",
       "SOLICIT ON PUBLIC WAY                            41537\n",
       "FINANCIAL ID THEFT: OVER $300                    37861\n",
       "POCKET-PICKING                                   35170\n",
       "CRIMINAL DEFACEMENT                              34417\n",
       "OTHER VEHICLE OFFENSE                            32604\n",
       "ILLEGAL USE CASH CARD                            32476\n",
       "                                                 ...  \n",
       "ALTER COINS                                          6\n",
       "VIOLATION OF SUMMARY CLOSURE                         6\n",
       "ADULTRY                                              6\n",
       "CALCULATED CANNABIS CONSPIRACY                       6\n",
       "LOTTERY/PARLAY CARDS                                 5\n",
       "INTIMIDATION OF LAW ENFORCEMENT OFFICIAL             5\n",
       "FAIL REGISTER LIC:CONT SUBS                          5\n",
       "FOUND PASSPORT                                       4\n",
       "AGG RIT MUT: HANDS/FIST/FEET SERIOUS INJURY          4\n",
       "ARSONIST: DUTY TO REGISTER                           4\n",
       "USE OF METAL PIERCING BULLETS                        4\n",
       "AGG RITUAL MUT:HANDGUN                               4\n",
       "ARSONIST: FAIL TO REGISTER NEW ADDRESS               3\n",
       "INVOLUNTARY MANSLAUGHTER                             3\n",
       "AGG RIT MUT: HANDS/FIST/FEET NO/MINOR INJURY         3\n",
       "GUN OFFENDER NOTIFICATION-NO CONTACT                 3\n",
       "LOTTERY/OTHER                                        3\n",
       "ATT AGG CRIM SEXUAL ABUSE                            3\n",
       "ATTEMPT AGG: OTHER FIREARM                           3\n",
       "REGISTER OF SALES BY DEALER                          2\n",
       "AGG RITUAL MUT:OTH DANG WEAPON                       2\n",
       "NATIONAL LOTTERY                                     2\n",
       "REGISTER FED GAMBLING STAMP                          2\n",
       "AGG RITUAL MUT:KNIFE/CUTTING I                       1\n",
       "SPORTS TAMPERING                                     1\n",
       "DISCLOSE DV VICTIM LOCATION                          1\n",
       "POLICY/OTHER                                         1\n",
       "THEFT RETAIL                                         1\n",
       "KEEP PLACE OF JUV PROSTITUTION                       1\n",
       "MARRYING A BIGAMIST                                  1\n",
       "Name: Description, Length: 378, dtype: int64"
      ]
     },
     "execution_count": 21,
     "metadata": {},
     "output_type": "execute_result"
    }
   ],
   "source": [
    "chicago_crime['Description'].value_counts()"
   ]
  },
  {
   "cell_type": "markdown",
   "metadata": {},
   "source": [
    "Regroup low freqeuncy again "
   ]
  },
  {
   "cell_type": "code",
   "execution_count": null,
   "metadata": {},
   "outputs": [],
   "source": [
    "regroup_low_fred(chicago_crime, 'Description', 10000)"
   ]
  },
  {
   "cell_type": "code",
   "execution_count": null,
   "metadata": {},
   "outputs": [],
   "source": [
    "chicago_crime['Description'].nunique()"
   ]
  },
  {
   "cell_type": "code",
   "execution_count": null,
   "metadata": {
    "scrolled": true
   },
   "outputs": [],
   "source": [
    "chicago_crime['Description'].value_counts()"
   ]
  },
  {
   "cell_type": "markdown",
   "metadata": {},
   "source": [
    "- **Local Description**\n"
   ]
  },
  {
   "cell_type": "code",
   "execution_count": null,
   "metadata": {
    "scrolled": true
   },
   "outputs": [],
   "source": [
    "chicago_crime['Location Description'].nunique()"
   ]
  },
  {
   "cell_type": "code",
   "execution_count": null,
   "metadata": {
    "scrolled": true
   },
   "outputs": [],
   "source": [
    "chicago_crime['Location Description'].value_counts()"
   ]
  },
  {
   "cell_type": "markdown",
   "metadata": {},
   "source": [
    "Regroup low frequency"
   ]
  },
  {
   "cell_type": "code",
   "execution_count": null,
   "metadata": {},
   "outputs": [],
   "source": [
    "regroup_low_fred(chicago_crime, 'Location Description', 10000 )"
   ]
  },
  {
   "cell_type": "code",
   "execution_count": null,
   "metadata": {},
   "outputs": [],
   "source": [
    "chicago_crime['Location Description'].nunique()"
   ]
  },
  {
   "cell_type": "code",
   "execution_count": null,
   "metadata": {
    "scrolled": true
   },
   "outputs": [],
   "source": [
    "chicago_crime['Location Description'].value_counts()"
   ]
  },
  {
   "cell_type": "code",
   "execution_count": null,
   "metadata": {},
   "outputs": [],
   "source": [
    "#pickle.dump(chicago_crime, open('data/chicago_crimes_processing.pkl', 'wb'))"
   ]
  },
  {
   "cell_type": "code",
   "execution_count": 2,
   "metadata": {},
   "outputs": [],
   "source": [
    "chicago_crime = pickle.load(open('data/chicago_crimes_processing.pkl', 'rb'))"
   ]
  },
  {
   "cell_type": "markdown",
   "metadata": {},
   "source": [
    "# Data prep"
   ]
  },
  {
   "cell_type": "code",
   "execution_count": 3,
   "metadata": {},
   "outputs": [
    {
     "data": {
      "text/html": [
       "<div>\n",
       "<style scoped>\n",
       "    .dataframe tbody tr th:only-of-type {\n",
       "        vertical-align: middle;\n",
       "    }\n",
       "\n",
       "    .dataframe tbody tr th {\n",
       "        vertical-align: top;\n",
       "    }\n",
       "\n",
       "    .dataframe thead th {\n",
       "        text-align: right;\n",
       "    }\n",
       "</style>\n",
       "<table border=\"1\" class=\"dataframe\">\n",
       "  <thead>\n",
       "    <tr style=\"text-align: right;\">\n",
       "      <th></th>\n",
       "      <th>Primary Type</th>\n",
       "      <th>Description</th>\n",
       "      <th>Location Description</th>\n",
       "      <th>Arrest</th>\n",
       "      <th>Domestic</th>\n",
       "      <th>Community Area</th>\n",
       "      <th>Year</th>\n",
       "      <th>Latitude</th>\n",
       "      <th>Longitude</th>\n",
       "      <th>Hour</th>\n",
       "      <th>Day</th>\n",
       "      <th>Month</th>\n",
       "    </tr>\n",
       "  </thead>\n",
       "  <tbody>\n",
       "    <tr>\n",
       "      <th>60345</th>\n",
       "      <td>PUBLIC PEACE VIOLATION</td>\n",
       "      <td>OTHER</td>\n",
       "      <td>OTHER</td>\n",
       "      <td>False</td>\n",
       "      <td>False</td>\n",
       "      <td>76</td>\n",
       "      <td>2019</td>\n",
       "      <td>42.002816</td>\n",
       "      <td>-87.906094</td>\n",
       "      <td>19</td>\n",
       "      <td>3</td>\n",
       "      <td>1</td>\n",
       "    </tr>\n",
       "    <tr>\n",
       "      <th>62272</th>\n",
       "      <td>BATTERY</td>\n",
       "      <td>SIMPLE</td>\n",
       "      <td>STREET</td>\n",
       "      <td>False</td>\n",
       "      <td>False</td>\n",
       "      <td>32</td>\n",
       "      <td>2019</td>\n",
       "      <td>41.883369</td>\n",
       "      <td>-87.633860</td>\n",
       "      <td>18</td>\n",
       "      <td>16</td>\n",
       "      <td>3</td>\n",
       "    </tr>\n",
       "    <tr>\n",
       "      <th>62615</th>\n",
       "      <td>THEFT</td>\n",
       "      <td>$500 AND UNDER</td>\n",
       "      <td>RESIDENTIAL YARD (FRONT/BACK)</td>\n",
       "      <td>False</td>\n",
       "      <td>False</td>\n",
       "      <td>36</td>\n",
       "      <td>2019</td>\n",
       "      <td>41.825347</td>\n",
       "      <td>-87.606781</td>\n",
       "      <td>22</td>\n",
       "      <td>12</td>\n",
       "      <td>3</td>\n",
       "    </tr>\n",
       "    <tr>\n",
       "      <th>62648</th>\n",
       "      <td>BATTERY</td>\n",
       "      <td>SIMPLE</td>\n",
       "      <td>RESIDENCE</td>\n",
       "      <td>False</td>\n",
       "      <td>False</td>\n",
       "      <td>1</td>\n",
       "      <td>2019</td>\n",
       "      <td>42.016542</td>\n",
       "      <td>-87.672499</td>\n",
       "      <td>19</td>\n",
       "      <td>14</td>\n",
       "      <td>3</td>\n",
       "    </tr>\n",
       "    <tr>\n",
       "      <th>62649</th>\n",
       "      <td>OTHER OFFENSE</td>\n",
       "      <td>OTHER VEHICLE OFFENSE</td>\n",
       "      <td>STREET</td>\n",
       "      <td>False</td>\n",
       "      <td>True</td>\n",
       "      <td>36</td>\n",
       "      <td>2019</td>\n",
       "      <td>41.825299</td>\n",
       "      <td>-87.606961</td>\n",
       "      <td>16</td>\n",
       "      <td>14</td>\n",
       "      <td>3</td>\n",
       "    </tr>\n",
       "  </tbody>\n",
       "</table>\n",
       "</div>"
      ],
      "text/plain": [
       "                 Primary Type            Description  \\\n",
       "60345  PUBLIC PEACE VIOLATION                  OTHER   \n",
       "62272                 BATTERY                 SIMPLE   \n",
       "62615                   THEFT         $500 AND UNDER   \n",
       "62648                 BATTERY                 SIMPLE   \n",
       "62649           OTHER OFFENSE  OTHER VEHICLE OFFENSE   \n",
       "\n",
       "                Location Description  Arrest  Domestic  Community Area  Year  \\\n",
       "60345                          OTHER   False     False              76  2019   \n",
       "62272                         STREET   False     False              32  2019   \n",
       "62615  RESIDENTIAL YARD (FRONT/BACK)   False     False              36  2019   \n",
       "62648                      RESIDENCE   False     False               1  2019   \n",
       "62649                         STREET   False      True              36  2019   \n",
       "\n",
       "        Latitude  Longitude  Hour  Day  Month  \n",
       "60345  42.002816 -87.906094    19    3      1  \n",
       "62272  41.883369 -87.633860    18   16      3  \n",
       "62615  41.825347 -87.606781    22   12      3  \n",
       "62648  42.016542 -87.672499    19   14      3  \n",
       "62649  41.825299 -87.606961    16   14      3  "
      ]
     },
     "execution_count": 3,
     "metadata": {},
     "output_type": "execute_result"
    }
   ],
   "source": [
    "chicago_crime.head()"
   ]
  },
  {
   "cell_type": "code",
   "execution_count": 8,
   "metadata": {},
   "outputs": [],
   "source": [
    "from fastai.tabular.data import TabularProc\n",
    "from pandas import DataFrame"
   ]
  },
  {
   "cell_type": "markdown",
   "metadata": {},
   "source": [
    "For categorical variables to be usable in a model, we need to numericalize it"
   ]
  },
  {
   "cell_type": "code",
   "execution_count": 9,
   "metadata": {},
   "outputs": [],
   "source": [
    "class myCategorify(TabularProc):\n",
    "    \"Transform the categorical variables to that type.\"\n",
    "    def apply_train(self, df:DataFrame):\n",
    "        \"Transform `self.cat_names` columns in categorical.\"\n",
    "        self.categories = {}\n",
    "        for n in self.cat_names:\n",
    "            df.loc[:,n] = df.loc[:,n].astype('category').cat.as_ordered()\n",
    "            self.categories[n] = df[n].cat.categories\n",
    "\n",
    "    def apply_test(self, df:DataFrame):\n",
    "        \"Transform `self.cat_names` columns in categorical using the codes decided in `apply_train`.\"\n",
    "        for n in self.cat_names:\n",
    "            if n in df.columns :\n",
    "                df.loc[:,n] = pd.Categorical(df[n], categories=self.categories[n], ordered=True)"
   ]
  },
  {
   "cell_type": "code",
   "execution_count": 10,
   "metadata": {},
   "outputs": [],
   "source": [
    "cat_vars = ['Primary Type', 'Description', 'Location Description', 'Arrest', 'Domestic', 'Community Area']\n",
    "cont_vars = ['Year', 'Latitude', 'Longitude', 'Hour', 'Day', 'Month']"
   ]
  },
  {
   "cell_type": "code",
   "execution_count": 11,
   "metadata": {},
   "outputs": [],
   "source": [
    "cat_proc = myCategorify(cat_vars, cont_vars)"
   ]
  },
  {
   "cell_type": "code",
   "execution_count": 12,
   "metadata": {},
   "outputs": [],
   "source": [
    "cat_proc(chicago_crime)"
   ]
  },
  {
   "cell_type": "code",
   "execution_count": 13,
   "metadata": {},
   "outputs": [],
   "source": [
    "for c in cat_vars :\n",
    "    chicago_crime[c] = chicago_crime[c].cat.codes"
   ]
  },
  {
   "cell_type": "markdown",
   "metadata": {},
   "source": [
    "For some models we also need to normalize numerical data"
   ]
  },
  {
   "cell_type": "code",
   "execution_count": 18,
   "metadata": {},
   "outputs": [],
   "source": [
    "class my_Normalize(TabularProc):\n",
    "    \"Normalize the continuous variables.\"\n",
    "    def apply_train(self, df:DataFrame):\n",
    "        \"Comput the means and stds of `self.cont_names` columns to normalize them.\"\n",
    "        self.means,self.stds = {},{}\n",
    "        for n in self.cont_names:\n",
    "            self.means[n],self.stds[n] = df.loc[:,n].mean(),df.loc[:,n].std()\n",
    "            df.loc[:,n] = (df.loc[:,n]-self.means[n]) / (1e-7 + self.stds[n])\n",
    "\n",
    "    def apply_test(self, df:DataFrame):\n",
    "        \"Normalize `self.cont_names` with the same statistics as in `apply_train`.\"\n",
    "        for n in self.cont_names:\n",
    "            if n in df.columns :\n",
    "                df.loc[:,n] = (df.loc[:,n]-self.means[n]) / (1e-7 + self.stds[n])\n"
   ]
  },
  {
   "cell_type": "code",
   "execution_count": 19,
   "metadata": {},
   "outputs": [],
   "source": [
    "norm_proc = my_Normalize(cat_vars, cont_vars)"
   ]
  },
  {
   "cell_type": "code",
   "execution_count": 20,
   "metadata": {},
   "outputs": [],
   "source": [
    "norm_proc(chicago_crime)"
   ]
  },
  {
   "cell_type": "code",
   "execution_count": 111,
   "metadata": {},
   "outputs": [],
   "source": [
    "#pickle.dump((cat_proc, norm_proc), open('data/data_processors.pkl', 'wb'))"
   ]
  },
  {
   "cell_type": "code",
   "execution_count": 22,
   "metadata": {},
   "outputs": [],
   "source": [
    "#pickle.dump((chicago_crime, cat_proc, norm_proc), open('data/chicago_crimes_processing_data.pkl', 'wb'))"
   ]
  },
  {
   "cell_type": "code",
   "execution_count": 23,
   "metadata": {},
   "outputs": [],
   "source": [
    "chicago_crime, cat_proc, norm_proc = pickle.load(open('data/chicago_crimes_processing_data.pkl', 'rb'))"
   ]
  },
  {
   "cell_type": "code",
   "execution_count": 4,
   "metadata": {},
   "outputs": [
    {
     "data": {
      "text/html": [
       "<div>\n",
       "<style scoped>\n",
       "    .dataframe tbody tr th:only-of-type {\n",
       "        vertical-align: middle;\n",
       "    }\n",
       "\n",
       "    .dataframe tbody tr th {\n",
       "        vertical-align: top;\n",
       "    }\n",
       "\n",
       "    .dataframe thead th {\n",
       "        text-align: right;\n",
       "    }\n",
       "</style>\n",
       "<table border=\"1\" class=\"dataframe\">\n",
       "  <thead>\n",
       "    <tr style=\"text-align: right;\">\n",
       "      <th></th>\n",
       "      <th>Primary Type</th>\n",
       "      <th>Description</th>\n",
       "      <th>Location Description</th>\n",
       "      <th>Arrest</th>\n",
       "      <th>Domestic</th>\n",
       "      <th>Community Area</th>\n",
       "      <th>Year</th>\n",
       "      <th>Latitude</th>\n",
       "      <th>Longitude</th>\n",
       "      <th>Hour</th>\n",
       "      <th>Day</th>\n",
       "      <th>Month</th>\n",
       "    </tr>\n",
       "  </thead>\n",
       "  <tbody>\n",
       "    <tr>\n",
       "      <th>60345</th>\n",
       "      <td>14</td>\n",
       "      <td>39</td>\n",
       "      <td>26</td>\n",
       "      <td>0</td>\n",
       "      <td>0</td>\n",
       "      <td>76</td>\n",
       "      <td>1.918047</td>\n",
       "      <td>1.863753</td>\n",
       "      <td>-3.962305</td>\n",
       "      <td>0.860247</td>\n",
       "      <td>-1.432802</td>\n",
       "      <td>-1.701383</td>\n",
       "    </tr>\n",
       "    <tr>\n",
       "      <th>62272</th>\n",
       "      <td>2</td>\n",
       "      <td>52</td>\n",
       "      <td>40</td>\n",
       "      <td>0</td>\n",
       "      <td>0</td>\n",
       "      <td>32</td>\n",
       "      <td>1.918047</td>\n",
       "      <td>0.480551</td>\n",
       "      <td>0.640177</td>\n",
       "      <td>0.713617</td>\n",
       "      <td>0.038834</td>\n",
       "      <td>-1.095794</td>\n",
       "    </tr>\n",
       "    <tr>\n",
       "      <th>62615</th>\n",
       "      <td>17</td>\n",
       "      <td>0</td>\n",
       "      <td>33</td>\n",
       "      <td>0</td>\n",
       "      <td>0</td>\n",
       "      <td>36</td>\n",
       "      <td>1.918047</td>\n",
       "      <td>-0.191352</td>\n",
       "      <td>1.097996</td>\n",
       "      <td>1.300135</td>\n",
       "      <td>-0.413977</td>\n",
       "      <td>-1.095794</td>\n",
       "    </tr>\n",
       "    <tr>\n",
       "      <th>62648</th>\n",
       "      <td>2</td>\n",
       "      <td>52</td>\n",
       "      <td>30</td>\n",
       "      <td>0</td>\n",
       "      <td>0</td>\n",
       "      <td>1</td>\n",
       "      <td>1.918047</td>\n",
       "      <td>2.022692</td>\n",
       "      <td>-0.013068</td>\n",
       "      <td>0.860247</td>\n",
       "      <td>-0.187572</td>\n",
       "      <td>-1.095794</td>\n",
       "    </tr>\n",
       "    <tr>\n",
       "      <th>62649</th>\n",
       "      <td>13</td>\n",
       "      <td>40</td>\n",
       "      <td>40</td>\n",
       "      <td>0</td>\n",
       "      <td>1</td>\n",
       "      <td>36</td>\n",
       "      <td>1.918047</td>\n",
       "      <td>-0.191911</td>\n",
       "      <td>1.094947</td>\n",
       "      <td>0.420358</td>\n",
       "      <td>-0.187572</td>\n",
       "      <td>-1.095794</td>\n",
       "    </tr>\n",
       "  </tbody>\n",
       "</table>\n",
       "</div>"
      ],
      "text/plain": [
       "       Primary Type  Description  Location Description  Arrest  Domestic  \\\n",
       "60345            14           39                    26       0         0   \n",
       "62272             2           52                    40       0         0   \n",
       "62615            17            0                    33       0         0   \n",
       "62648             2           52                    30       0         0   \n",
       "62649            13           40                    40       0         1   \n",
       "\n",
       "       Community Area      Year  Latitude  Longitude      Hour       Day  \\\n",
       "60345              76  1.918047  1.863753  -3.962305  0.860247 -1.432802   \n",
       "62272              32  1.918047  0.480551   0.640177  0.713617  0.038834   \n",
       "62615              36  1.918047 -0.191352   1.097996  1.300135 -0.413977   \n",
       "62648               1  1.918047  2.022692  -0.013068  0.860247 -0.187572   \n",
       "62649              36  1.918047 -0.191911   1.094947  0.420358 -0.187572   \n",
       "\n",
       "          Month  \n",
       "60345 -1.701383  \n",
       "62272 -1.095794  \n",
       "62615 -1.095794  \n",
       "62648 -1.095794  \n",
       "62649 -1.095794  "
      ]
     },
     "execution_count": 4,
     "metadata": {},
     "output_type": "execute_result"
    }
   ],
   "source": [
    "chicago_crime.head()"
   ]
  },
  {
   "cell_type": "markdown",
   "metadata": {},
   "source": [
    "# Arrest prediction"
   ]
  },
  {
   "cell_type": "markdown",
   "metadata": {},
   "source": [
    "Our first model we want to build is a model that predicts wether the culprit of a crime will be arrested or not, so we want to predict the arrest column given all the pther columns."
   ]
  },
  {
   "cell_type": "markdown",
   "metadata": {},
   "source": [
    "Let's look at the distribution of the arrests"
   ]
  },
  {
   "cell_type": "code",
   "execution_count": 50,
   "metadata": {},
   "outputs": [
    {
     "data": {
      "image/png": "[encoded data removed]",
      "text/plain": [
       "<Figure size 432x288 with 1 Axes>"
      ]
     },
     "metadata": {
      "needs_background": "light"
     },
     "output_type": "display_data"
    }
   ],
   "source": [
    "chicago_crime['Arrest'].map({1 : 'True', 0: 'False'}).value_counts().plot(kind='bar')\n",
    "plt.show()"
   ]
  },
  {
   "cell_type": "markdown",
   "metadata": {},
   "source": [
    "We can see taht the data is not very well balance, we will focus on the f1 score as the metric."
   ]
  },
  {
   "cell_type": "markdown",
   "metadata": {},
   "source": [
    "## Splitting data"
   ]
  },
  {
   "cell_type": "markdown",
   "metadata": {},
   "source": [
    "We first need to split the depend variable 'Arrest' and the other independent variables. For testing models, we should use a sample of the dataset as the full dataset is too large."
   ]
  },
  {
   "cell_type": "code",
   "execution_count": 24,
   "metadata": {},
   "outputs": [],
   "source": [
    "def get_sample(X, y,pctg=0.1) :\n",
    "    permu = np.random.permutation(X.shape[0])\n",
    "    idxs = permu[:int(pctg*X.shape[0])]\n",
    "    return X.iloc[idxs], y.iloc[idxs]"
   ]
  },
  {
   "cell_type": "code",
   "execution_count": 6,
   "metadata": {},
   "outputs": [],
   "source": [
    "indep_vars = ['Primary Type', 'Description', 'Location Description',\n",
    "       'Domestic', 'Year', 'Latitude', 'Longitude', 'Hour', 'Community Area',\n",
    "       'Day', 'Month']\n",
    "dep_var = 'Arrest'"
   ]
  },
  {
   "cell_type": "code",
   "execution_count": 7,
   "metadata": {},
   "outputs": [],
   "source": [
    "X, y = chicago_crime[indep_vars], chicago_crime[dep_var]"
   ]
  },
  {
   "cell_type": "code",
   "execution_count": 8,
   "metadata": {},
   "outputs": [
    {
     "data": {
      "text/html": [
       "<div>\n",
       "<style scoped>\n",
       "    .dataframe tbody tr th:only-of-type {\n",
       "        vertical-align: middle;\n",
       "    }\n",
       "\n",
       "    .dataframe tbody tr th {\n",
       "        vertical-align: top;\n",
       "    }\n",
       "\n",
       "    .dataframe thead th {\n",
       "        text-align: right;\n",
       "    }\n",
       "</style>\n",
       "<table border=\"1\" class=\"dataframe\">\n",
       "  <thead>\n",
       "    <tr style=\"text-align: right;\">\n",
       "      <th></th>\n",
       "      <th>Primary Type</th>\n",
       "      <th>Description</th>\n",
       "      <th>Location Description</th>\n",
       "      <th>Domestic</th>\n",
       "      <th>Year</th>\n",
       "      <th>Latitude</th>\n",
       "      <th>Longitude</th>\n",
       "      <th>Hour</th>\n",
       "      <th>Community Area</th>\n",
       "      <th>Day</th>\n",
       "      <th>Month</th>\n",
       "    </tr>\n",
       "  </thead>\n",
       "  <tbody>\n",
       "    <tr>\n",
       "      <th>60345</th>\n",
       "      <td>14</td>\n",
       "      <td>39</td>\n",
       "      <td>26</td>\n",
       "      <td>0</td>\n",
       "      <td>1.918047</td>\n",
       "      <td>1.863753</td>\n",
       "      <td>-3.962305</td>\n",
       "      <td>0.860247</td>\n",
       "      <td>76</td>\n",
       "      <td>-1.432802</td>\n",
       "      <td>-1.701383</td>\n",
       "    </tr>\n",
       "    <tr>\n",
       "      <th>62272</th>\n",
       "      <td>2</td>\n",
       "      <td>52</td>\n",
       "      <td>40</td>\n",
       "      <td>0</td>\n",
       "      <td>1.918047</td>\n",
       "      <td>0.480551</td>\n",
       "      <td>0.640177</td>\n",
       "      <td>0.713617</td>\n",
       "      <td>32</td>\n",
       "      <td>0.038834</td>\n",
       "      <td>-1.095794</td>\n",
       "    </tr>\n",
       "    <tr>\n",
       "      <th>62615</th>\n",
       "      <td>17</td>\n",
       "      <td>0</td>\n",
       "      <td>33</td>\n",
       "      <td>0</td>\n",
       "      <td>1.918047</td>\n",
       "      <td>-0.191352</td>\n",
       "      <td>1.097996</td>\n",
       "      <td>1.300135</td>\n",
       "      <td>36</td>\n",
       "      <td>-0.413977</td>\n",
       "      <td>-1.095794</td>\n",
       "    </tr>\n",
       "    <tr>\n",
       "      <th>62648</th>\n",
       "      <td>2</td>\n",
       "      <td>52</td>\n",
       "      <td>30</td>\n",
       "      <td>0</td>\n",
       "      <td>1.918047</td>\n",
       "      <td>2.022692</td>\n",
       "      <td>-0.013068</td>\n",
       "      <td>0.860247</td>\n",
       "      <td>1</td>\n",
       "      <td>-0.187572</td>\n",
       "      <td>-1.095794</td>\n",
       "    </tr>\n",
       "    <tr>\n",
       "      <th>62649</th>\n",
       "      <td>13</td>\n",
       "      <td>40</td>\n",
       "      <td>40</td>\n",
       "      <td>1</td>\n",
       "      <td>1.918047</td>\n",
       "      <td>-0.191911</td>\n",
       "      <td>1.094947</td>\n",
       "      <td>0.420358</td>\n",
       "      <td>36</td>\n",
       "      <td>-0.187572</td>\n",
       "      <td>-1.095794</td>\n",
       "    </tr>\n",
       "  </tbody>\n",
       "</table>\n",
       "</div>"
      ],
      "text/plain": [
       "       Primary Type  Description  Location Description  Domestic      Year  \\\n",
       "60345            14           39                    26         0  1.918047   \n",
       "62272             2           52                    40         0  1.918047   \n",
       "62615            17            0                    33         0  1.918047   \n",
       "62648             2           52                    30         0  1.918047   \n",
       "62649            13           40                    40         1  1.918047   \n",
       "\n",
       "       Latitude  Longitude      Hour  Community Area       Day     Month  \n",
       "60345  1.863753  -3.962305  0.860247              76 -1.432802 -1.701383  \n",
       "62272  0.480551   0.640177  0.713617              32  0.038834 -1.095794  \n",
       "62615 -0.191352   1.097996  1.300135              36 -0.413977 -1.095794  \n",
       "62648  2.022692  -0.013068  0.860247               1 -0.187572 -1.095794  \n",
       "62649 -0.191911   1.094947  0.420358              36 -0.187572 -1.095794  "
      ]
     },
     "execution_count": 8,
     "metadata": {},
     "output_type": "execute_result"
    }
   ],
   "source": [
    "X.head()"
   ]
  },
  {
   "cell_type": "code",
   "execution_count": 9,
   "metadata": {},
   "outputs": [],
   "source": [
    "X_sample, y_sample = get_sample(X, y, pctg=0.1)"
   ]
  },
  {
   "cell_type": "markdown",
   "metadata": {},
   "source": [
    "We can now split the data between training and validation set"
   ]
  },
  {
   "cell_type": "code",
   "execution_count": 25,
   "metadata": {},
   "outputs": [],
   "source": [
    "from sklearn.model_selection import train_test_split"
   ]
  },
  {
   "cell_type": "code",
   "execution_count": 11,
   "metadata": {},
   "outputs": [],
   "source": [
    "X_train, X_test, y_train, y_test = train_test_split(X_sample, y_sample, test_size=0.1)"
   ]
  },
  {
   "cell_type": "code",
   "execution_count": 12,
   "metadata": {},
   "outputs": [
    {
     "data": {
      "text/plain": [
       "((570610, 11), (63402, 11), (570610,), (63402,))"
      ]
     },
     "execution_count": 12,
     "metadata": {},
     "output_type": "execute_result"
    }
   ],
   "source": [
    "X_train.shape, X_test.shape, y_train.shape, y_test.shape"
   ]
  },
  {
   "cell_type": "code",
   "execution_count": 13,
   "metadata": {},
   "outputs": [
    {
     "data": {
      "text/html": [
       "<div>\n",
       "<style scoped>\n",
       "    .dataframe tbody tr th:only-of-type {\n",
       "        vertical-align: middle;\n",
       "    }\n",
       "\n",
       "    .dataframe tbody tr th {\n",
       "        vertical-align: top;\n",
       "    }\n",
       "\n",
       "    .dataframe thead th {\n",
       "        text-align: right;\n",
       "    }\n",
       "</style>\n",
       "<table border=\"1\" class=\"dataframe\">\n",
       "  <thead>\n",
       "    <tr style=\"text-align: right;\">\n",
       "      <th></th>\n",
       "      <th>Primary Type</th>\n",
       "      <th>Description</th>\n",
       "      <th>Location Description</th>\n",
       "      <th>Domestic</th>\n",
       "      <th>Year</th>\n",
       "      <th>Latitude</th>\n",
       "      <th>Longitude</th>\n",
       "      <th>Hour</th>\n",
       "      <th>Community Area</th>\n",
       "      <th>Day</th>\n",
       "      <th>Month</th>\n",
       "    </tr>\n",
       "  </thead>\n",
       "  <tbody>\n",
       "    <tr>\n",
       "      <th>4033626</th>\n",
       "      <td>13</td>\n",
       "      <td>32</td>\n",
       "      <td>30</td>\n",
       "      <td>0</td>\n",
       "      <td>-0.688687</td>\n",
       "      <td>0.983749</td>\n",
       "      <td>-1.491142</td>\n",
       "      <td>1.006876</td>\n",
       "      <td>19</td>\n",
       "      <td>1.057659</td>\n",
       "      <td>1.326559</td>\n",
       "    </tr>\n",
       "    <tr>\n",
       "      <th>2939201</th>\n",
       "      <td>2</td>\n",
       "      <td>20</td>\n",
       "      <td>3</td>\n",
       "      <td>1</td>\n",
       "      <td>-1.089723</td>\n",
       "      <td>1.505672</td>\n",
       "      <td>-0.939695</td>\n",
       "      <td>-1.485826</td>\n",
       "      <td>14</td>\n",
       "      <td>0.604848</td>\n",
       "      <td>-0.187412</td>\n",
       "    </tr>\n",
       "    <tr>\n",
       "      <th>2829175</th>\n",
       "      <td>5</td>\n",
       "      <td>61</td>\n",
       "      <td>26</td>\n",
       "      <td>0</td>\n",
       "      <td>-1.089723</td>\n",
       "      <td>-0.403683</td>\n",
       "      <td>0.827597</td>\n",
       "      <td>0.860247</td>\n",
       "      <td>38</td>\n",
       "      <td>1.510470</td>\n",
       "      <td>-1.095794</td>\n",
       "    </tr>\n",
       "    <tr>\n",
       "      <th>3989176</th>\n",
       "      <td>11</td>\n",
       "      <td>43</td>\n",
       "      <td>36</td>\n",
       "      <td>0</td>\n",
       "      <td>-0.688687</td>\n",
       "      <td>1.717189</td>\n",
       "      <td>-0.931605</td>\n",
       "      <td>-1.925715</td>\n",
       "      <td>13</td>\n",
       "      <td>0.718050</td>\n",
       "      <td>0.418176</td>\n",
       "    </tr>\n",
       "    <tr>\n",
       "      <th>3666717</th>\n",
       "      <td>17</td>\n",
       "      <td>29</td>\n",
       "      <td>24</td>\n",
       "      <td>0</td>\n",
       "      <td>-0.688687</td>\n",
       "      <td>0.463455</td>\n",
       "      <td>-1.130279</td>\n",
       "      <td>1.006876</td>\n",
       "      <td>26</td>\n",
       "      <td>0.038834</td>\n",
       "      <td>-1.701383</td>\n",
       "    </tr>\n",
       "  </tbody>\n",
       "</table>\n",
       "</div>"
      ],
      "text/plain": [
       "         Primary Type  Description  Location Description  Domestic      Year  \\\n",
       "4033626            13           32                    30         0 -0.688687   \n",
       "2939201             2           20                     3         1 -1.089723   \n",
       "2829175             5           61                    26         0 -1.089723   \n",
       "3989176            11           43                    36         0 -0.688687   \n",
       "3666717            17           29                    24         0 -0.688687   \n",
       "\n",
       "         Latitude  Longitude      Hour  Community Area       Day     Month  \n",
       "4033626  0.983749  -1.491142  1.006876              19  1.057659  1.326559  \n",
       "2939201  1.505672  -0.939695 -1.485826              14  0.604848 -0.187412  \n",
       "2829175 -0.403683   0.827597  0.860247              38  1.510470 -1.095794  \n",
       "3989176  1.717189  -0.931605 -1.925715              13  0.718050  0.418176  \n",
       "3666717  0.463455  -1.130279  1.006876              26  0.038834 -1.701383  "
      ]
     },
     "execution_count": 13,
     "metadata": {},
     "output_type": "execute_result"
    }
   ],
   "source": [
    "X_train.head()"
   ]
  },
  {
   "cell_type": "markdown",
   "metadata": {},
   "source": [
    "## Models"
   ]
  },
  {
   "cell_type": "markdown",
   "metadata": {},
   "source": [
    "We will use three diffrent models for modeling :\n",
    "\n",
    "- Random forest\n",
    "- XGB \n",
    "- FeedForward neural network"
   ]
  },
  {
   "cell_type": "markdown",
   "metadata": {},
   "source": [
    "Here is a method that will print the sccore on our first two types of model"
   ]
  },
  {
   "cell_type": "code",
   "execution_count": 26,
   "metadata": {},
   "outputs": [],
   "source": [
    "from sklearn.metrics import f1_score"
   ]
  },
  {
   "cell_type": "code",
   "execution_count": 9,
   "metadata": {},
   "outputs": [],
   "source": [
    "def print_score(model, f1_average='binary') :\n",
    "    train_acc = model.score(X_train, y_train)\n",
    "    valid_acc = model.score(X_test, y_test)\n",
    "    train_f1 = f1_score(model.predict(X_train), y_train, average=f1_average)\n",
    "    valid_f1 = f1_score(model.predict(X_test), y_test, average=f1_average)\n",
    "    print(\"Train accuray : {:.3f}, Valid accuracy : {:.3f}, Train F1 score : {:.3f}, Valid F1 score : {:.3f}\".format(train_acc, valid_acc, train_f1, valid_f1))"
   ]
  },
  {
   "cell_type": "markdown",
   "metadata": {},
   "source": [
    "### Ranfom forest"
   ]
  },
  {
   "cell_type": "markdown",
   "metadata": {},
   "source": [
    "We can use the implementation of random forest from sklearn"
   ]
  },
  {
   "cell_type": "code",
   "execution_count": 27,
   "metadata": {},
   "outputs": [],
   "source": [
    "from sklearn.ensemble import RandomForestClassifier"
   ]
  },
  {
   "cell_type": "code",
   "execution_count": 99,
   "metadata": {},
   "outputs": [],
   "source": [
    "rf = RandomForestClassifier(n_jobs=-1)"
   ]
  },
  {
   "cell_type": "code",
   "execution_count": 100,
   "metadata": {
    "scrolled": true
   },
   "outputs": [
    {
     "data": {
      "text/plain": [
       "RandomForestClassifier(bootstrap=True, class_weight=None, criterion='gini',\n",
       "            max_depth=None, max_features='auto', max_leaf_nodes=None,\n",
       "            min_impurity_decrease=0.0, min_impurity_split=None,\n",
       "            min_samples_leaf=1, min_samples_split=2,\n",
       "            min_weight_fraction_leaf=0.0, n_estimators=10, n_jobs=-1,\n",
       "            oob_score=False, random_state=None, verbose=0,\n",
       "            warm_start=False)"
      ]
     },
     "execution_count": 100,
     "metadata": {},
     "output_type": "execute_result"
    }
   ],
   "source": [
    "rf.fit(X_train, y_train)"
   ]
  },
  {
   "cell_type": "code",
   "execution_count": 101,
   "metadata": {},
   "outputs": [
    {
     "name": "stdout",
     "output_type": "stream",
     "text": [
      "Train accuray : 0.987, Valid accuracy : 0.879, Train F1 score : 0.975, Valid F1 score : 0.746\n"
     ]
    }
   ],
   "source": [
    "print_score(rf)"
   ]
  },
  {
   "cell_type": "code",
   "execution_count": 67,
   "metadata": {},
   "outputs": [],
   "source": [
    "#pickle.dump(rf, open('data/randomforest_sample.pkl', 'wb'))"
   ]
  },
  {
   "cell_type": "markdown",
   "metadata": {},
   "source": [
    "### XBG (boosting)"
   ]
  },
  {
   "cell_type": "code",
   "execution_count": 28,
   "metadata": {},
   "outputs": [],
   "source": [
    "from xgboost import XGBClassifier"
   ]
  },
  {
   "cell_type": "code",
   "execution_count": 69,
   "metadata": {},
   "outputs": [],
   "source": [
    "xg = XGBClassifier(n_jobs=-1)"
   ]
  },
  {
   "cell_type": "code",
   "execution_count": 70,
   "metadata": {
    "scrolled": true
   },
   "outputs": [
    {
     "name": "stdout",
     "output_type": "stream",
     "text": [
      "[0]\tvalidation_0-logloss:0.648246\n",
      "Will train until validation_0-logloss hasn't improved in 50 rounds.\n",
      "[1]\tvalidation_0-logloss:0.611643\n",
      "[2]\tvalidation_0-logloss:0.581477\n",
      "[3]\tvalidation_0-logloss:0.551945\n",
      "[4]\tvalidation_0-logloss:0.527397\n",
      "[5]\tvalidation_0-logloss:0.506415\n",
      "[6]\tvalidation_0-logloss:0.490031\n",
      "[7]\tvalidation_0-logloss:0.474259\n",
      "[8]\tvalidation_0-logloss:0.460983\n",
      "[9]\tvalidation_0-logloss:0.449323\n",
      "[10]\tvalidation_0-logloss:0.439969\n",
      "[11]\tvalidation_0-logloss:0.431652\n",
      "[12]\tvalidation_0-logloss:0.424169\n",
      "[13]\tvalidation_0-logloss:0.41777\n",
      "[14]\tvalidation_0-logloss:0.409283\n",
      "[15]\tvalidation_0-logloss:0.401469\n",
      "[16]\tvalidation_0-logloss:0.395905\n",
      "[17]\tvalidation_0-logloss:0.39167\n",
      "[18]\tvalidation_0-logloss:0.389519\n",
      "[19]\tvalidation_0-logloss:0.386133\n",
      "[20]\tvalidation_0-logloss:0.382986\n",
      "[21]\tvalidation_0-logloss:0.381451\n",
      "[22]\tvalidation_0-logloss:0.378527\n",
      "[23]\tvalidation_0-logloss:0.37671\n",
      "[24]\tvalidation_0-logloss:0.372627\n",
      "[25]\tvalidation_0-logloss:0.371547\n",
      "[26]\tvalidation_0-logloss:0.369483\n",
      "[27]\tvalidation_0-logloss:0.368197\n",
      "[28]\tvalidation_0-logloss:0.367089\n",
      "[29]\tvalidation_0-logloss:0.364842\n",
      "[30]\tvalidation_0-logloss:0.363956\n",
      "[31]\tvalidation_0-logloss:0.36325\n",
      "[32]\tvalidation_0-logloss:0.361575\n",
      "[33]\tvalidation_0-logloss:0.361017\n",
      "[34]\tvalidation_0-logloss:0.359856\n",
      "[35]\tvalidation_0-logloss:0.359316\n",
      "[36]\tvalidation_0-logloss:0.356495\n",
      "[37]\tvalidation_0-logloss:0.356049\n",
      "[38]\tvalidation_0-logloss:0.355206\n",
      "[39]\tvalidation_0-logloss:0.352891\n",
      "[40]\tvalidation_0-logloss:0.3521\n",
      "[41]\tvalidation_0-logloss:0.350136\n",
      "[42]\tvalidation_0-logloss:0.349727\n",
      "[43]\tvalidation_0-logloss:0.34925\n",
      "[44]\tvalidation_0-logloss:0.348598\n",
      "[45]\tvalidation_0-logloss:0.347785\n",
      "[46]\tvalidation_0-logloss:0.346113\n",
      "[47]\tvalidation_0-logloss:0.345768\n",
      "[48]\tvalidation_0-logloss:0.345272\n",
      "[49]\tvalidation_0-logloss:0.344965\n",
      "[50]\tvalidation_0-logloss:0.344693\n",
      "[51]\tvalidation_0-logloss:0.344283\n",
      "[52]\tvalidation_0-logloss:0.342865\n",
      "[53]\tvalidation_0-logloss:0.342617\n",
      "[54]\tvalidation_0-logloss:0.342386\n",
      "[55]\tvalidation_0-logloss:0.342056\n",
      "[56]\tvalidation_0-logloss:0.340982\n",
      "[57]\tvalidation_0-logloss:0.339607\n",
      "[58]\tvalidation_0-logloss:0.339146\n",
      "[59]\tvalidation_0-logloss:0.337961\n",
      "[60]\tvalidation_0-logloss:0.337082\n",
      "[61]\tvalidation_0-logloss:0.336644\n",
      "[62]\tvalidation_0-logloss:0.336123\n",
      "[63]\tvalidation_0-logloss:0.335745\n",
      "[64]\tvalidation_0-logloss:0.335214\n",
      "[65]\tvalidation_0-logloss:0.334734\n",
      "[66]\tvalidation_0-logloss:0.334143\n",
      "[67]\tvalidation_0-logloss:0.333501\n",
      "[68]\tvalidation_0-logloss:0.333175\n",
      "[69]\tvalidation_0-logloss:0.33277\n",
      "[70]\tvalidation_0-logloss:0.332349\n",
      "[71]\tvalidation_0-logloss:0.332058\n",
      "[72]\tvalidation_0-logloss:0.331378\n",
      "[73]\tvalidation_0-logloss:0.331186\n",
      "[74]\tvalidation_0-logloss:0.330753\n",
      "[75]\tvalidation_0-logloss:0.330186\n",
      "[76]\tvalidation_0-logloss:0.329789\n",
      "[77]\tvalidation_0-logloss:0.329252\n",
      "[78]\tvalidation_0-logloss:0.328901\n",
      "[79]\tvalidation_0-logloss:0.328607\n",
      "[80]\tvalidation_0-logloss:0.32837\n",
      "[81]\tvalidation_0-logloss:0.328257\n",
      "[82]\tvalidation_0-logloss:0.328137\n",
      "[83]\tvalidation_0-logloss:0.327613\n",
      "[84]\tvalidation_0-logloss:0.327415\n",
      "[85]\tvalidation_0-logloss:0.326972\n",
      "[86]\tvalidation_0-logloss:0.326205\n",
      "[87]\tvalidation_0-logloss:0.32585\n",
      "[88]\tvalidation_0-logloss:0.32553\n",
      "[89]\tvalidation_0-logloss:0.325322\n",
      "[90]\tvalidation_0-logloss:0.325258\n",
      "[91]\tvalidation_0-logloss:0.325082\n",
      "[92]\tvalidation_0-logloss:0.32484\n",
      "[93]\tvalidation_0-logloss:0.32425\n",
      "[94]\tvalidation_0-logloss:0.323855\n",
      "[95]\tvalidation_0-logloss:0.323618\n",
      "[96]\tvalidation_0-logloss:0.32335\n",
      "[97]\tvalidation_0-logloss:0.323223\n",
      "[98]\tvalidation_0-logloss:0.32317\n",
      "[99]\tvalidation_0-logloss:0.323062\n"
     ]
    },
    {
     "data": {
      "text/plain": [
       "XGBClassifier(base_score=0.5, booster='gbtree', colsample_bylevel=1,\n",
       "       colsample_bytree=1, gamma=0, learning_rate=0.1, max_delta_step=0,\n",
       "       max_depth=3, min_child_weight=1, missing=None, n_estimators=100,\n",
       "       n_jobs=-1, nthread=None, objective='binary:logistic',\n",
       "       random_state=0, reg_alpha=0, reg_lambda=1, scale_pos_weight=1,\n",
       "       seed=None, silent=True, subsample=1)"
      ]
     },
     "execution_count": 70,
     "metadata": {},
     "output_type": "execute_result"
    }
   ],
   "source": [
    "xg.fit(X_train, y_train, eval_set=[(X_test, y_test)], eval_metric='logloss', early_stopping_rounds=50, verbose=True)"
   ]
  },
  {
   "cell_type": "code",
   "execution_count": 71,
   "metadata": {},
   "outputs": [
    {
     "name": "stdout",
     "output_type": "stream",
     "text": [
      "Train accuray : 0.875, Valid accuracy : 0.875, Train F1 score : 0.728, Valid F1 score : 0.730\n"
     ]
    }
   ],
   "source": [
    "print_score(xg)"
   ]
  },
  {
   "cell_type": "code",
   "execution_count": 72,
   "metadata": {},
   "outputs": [],
   "source": [
    "#pickle.dump(xg, open('data/xgb_sample.pkl', 'wb'))"
   ]
  },
  {
   "cell_type": "markdown",
   "metadata": {},
   "source": [
    "### FeedForward neural net"
   ]
  },
  {
   "cell_type": "code",
   "execution_count": 29,
   "metadata": {},
   "outputs": [],
   "source": [
    "import torch\n",
    "from torch.nn import Linear, Embedding, Softmax, Dropout, BatchNorm1d, Module, ModuleList, Sequential\n",
    "from torch.optim import Adam\n",
    "from tqdm import tqdm_notebook\n",
    "from fastai.layers import CrossEntropyFlat\n",
    "from torch.utils.data import TensorDataset, DataLoader"
   ]
  },
  {
   "cell_type": "markdown",
   "metadata": {},
   "source": [
    "#### Model"
   ]
  },
  {
   "cell_type": "code",
   "execution_count": 30,
   "metadata": {},
   "outputs": [],
   "source": [
    "class LinearClassifier(Module) :\n",
    "    \"\"\"\n",
    "    Arguments :\n",
    "        - n_cont : number of continuous features\n",
    "        - cat_sizes : list of the cardinality of each categorical features\n",
    "        - emb_sizes : the size of the embeddinbg vector for each categorical variables\n",
    "        - layers_sizes : the sizes of the hidden layers\n",
    "        - out_sz : the size of the output layer (cardinality of the class to predict)\n",
    "        - p_dropout : list of the dropout probabilites for each layer\n",
    "    \"\"\"\n",
    "    \n",
    "    def __init__(self, n_cont, cat_sizes, emb_sizes, layers_sizes, out_sz, p_dropout) :\n",
    "        super().__init__()\n",
    "        self.n_cats = len(cat_sizes)\n",
    "        self.n_cont = n_cont\n",
    "        self.n_layers = len(layers_sizes)\n",
    "        self.embeds = ModuleList([Embedding(c, e) for c, e in zip(cat_sizes, emb_sizes)])\n",
    "        in_size = sum(e for e in emb_sizes) + self.n_cont\n",
    "        self.in_size = in_size\n",
    "        layers = []\n",
    "        for i, l in enumerate(layers_sizes) :\n",
    "            if i == 0 :\n",
    "                layers.append(BatchNorm1d(in_size))\n",
    "                layers.append(Dropout(p_dropout[i]))\n",
    "                layers.append(Linear(in_size, l))\n",
    "            else :\n",
    "                layers.append(BatchNorm1d(layers_sizes[i-1]))\n",
    "                layers.append(Dropout(p_dropout[i]))\n",
    "                layers.append(Linear(layers_sizes[i-1], layers_sizes[i]))\n",
    "        \n",
    "        layers.append(BatchNorm1d(layers_sizes[-1]))\n",
    "        layers.append(Dropout(p_dropout[-1]))\n",
    "        layers.append(Linear(layers_sizes[-1], out_sz))\n",
    "        self.layers = Sequential(*layers)\n",
    "        \n",
    "    def forward(self, x_cat, x_cont) :\n",
    "        if x_cat.shape[1] != self.n_cats :\n",
    "            raise ValueError(f'The number of categorical variables should be {self.n_cats}')\n",
    "        if x_cont.shape[1] != self.n_cont :\n",
    "            raise ValueError(f'The number of continious variables should be {self.n_cont}')    \n",
    "        x_cat_embedded = [self.embeds[i](x_cat[:, i]) for i in range(self.n_cats)]\n",
    "        x_cat_embedded = torch.cat(x_cat_embedded, dim=1)\n",
    "        x_full = torch.cat([x_cat_embedded, x_cont], dim=1)\n",
    "        output = self.layers(x_full)\n",
    "        return output"
   ]
  },
  {
   "cell_type": "markdown",
   "metadata": {},
   "source": [
    "#### Training loop"
   ]
  },
  {
   "cell_type": "code",
   "execution_count": 31,
   "metadata": {},
   "outputs": [],
   "source": [
    "def fit(epochs, model, train_dl, valid_dl, lr=0.01, wd=0, loss_func=CrossEntropyFlat(), cuda=True, f1_average='binary') :\n",
    "    optimizer = Adam(model.parameters(), lr=lr, weight_decay=wd)\n",
    "    \n",
    "    train_acc, train_f1, train_loss = 0, 0, 0\n",
    "    valid_acc, valid_f1, valid_loss = 0, 0, 0\n",
    "    \n",
    "    if cuda : \n",
    "        model = model.cuda()\n",
    "    \n",
    "    for epoch in range(epochs) :\n",
    "        batches_train = tqdm_notebook(train_dl, leave=False,\n",
    "                        total=len(train_dl), desc=f'Epoch {epoch} training')\n",
    "\n",
    "        model.train()\n",
    "        for x, y in batches_train :\n",
    "            if cuda :\n",
    "                x = x.cuda()\n",
    "                y = y.type(torch.cuda.LongTensor)\n",
    "            x_cat = x[:, :model.n_cats ].type(torch.cuda.LongTensor)\n",
    "            x_cont = x[:, model.n_cats:].type(torch.cuda.FloatTensor)\n",
    "            pred = model(x_cat, x_cont)\n",
    "            loss = loss_func(pred, y)\n",
    "            train_acc += (torch.argmax(pred, dim=1) == y).type(torch.FloatTensor).mean() \n",
    "            train_f1 += f1_score(torch.argmax(pred, dim=1), y, average=f1_average)\n",
    "            train_loss += loss\n",
    "            loss.backward()\n",
    "            optimizer.step()\n",
    "            optimizer.zero_grad()\n",
    "\n",
    "        train_acc, train_loss, train_f1 = train_acc/len(train_dl), train_loss/len(train_dl), train_f1/len(train_dl)\n",
    "\n",
    "        batches_valid = tqdm_notebook(valid_dl, leave=False,\n",
    "                        total=len(valid_dl), desc=f'Epoch {epoch} validation')\n",
    "\n",
    "        model.eval()\n",
    "        with torch.no_grad() :\n",
    "            for x, y in batches_valid :\n",
    "                if cuda :\n",
    "                    x = x.cuda()\n",
    "                    y = y.type(torch.cuda.LongTensor)\n",
    "                x_cat = x[:, :model.n_cats ].type(torch.cuda.LongTensor)\n",
    "                x_cont = x[:, model.n_cats:].type(torch.cuda.FloatTensor)\n",
    "                pred = model(x_cat, x_cont)\n",
    "                loss = loss_func(pred, y)\n",
    "                valid_acc += (torch.argmax(pred, dim=1) == y).type(torch.FloatTensor).mean() \n",
    "                valid_f1 += f1_score(torch.argmax(pred, dim=1), y, average=f1_average)\n",
    "                valid_loss += loss\n",
    "\n",
    "        valid_acc, valid_loss, valid_f1 = valid_acc/len(valid_dl), valid_loss/len(valid_dl), valid_f1/len(valid_dl)\n",
    "\n",
    "        print(\"Epoch {:.0f} train_loss : {:.3f}, train_acc : {:.3f}, train_f1 : {:.3f}, valid_loss : {:.3f}, valid_acc : {:.3f}, valid_f1 : {:.3f}\".format(epoch, train_loss, train_acc, train_f1, valid_loss, valid_acc, valid_f1))\n"
   ]
  },
  {
   "cell_type": "markdown",
   "metadata": {},
   "source": [
    "#### Data and model prep"
   ]
  },
  {
   "cell_type": "markdown",
   "metadata": {},
   "source": [
    "Need to have the category features on one side and the numerical on the other "
   ]
  },
  {
   "cell_type": "code",
   "execution_count": 48,
   "metadata": {},
   "outputs": [],
   "source": [
    "cats = cat_proc.cat_names.copy()\n",
    "cats.remove('Arrest')"
   ]
  },
  {
   "cell_type": "code",
   "execution_count": 34,
   "metadata": {},
   "outputs": [],
   "source": [
    "X_train = X_train[cats + cat_proc.cont_names]\n",
    "X_test = X_test[cats + cat_proc.cont_names]"
   ]
  },
  {
   "cell_type": "markdown",
   "metadata": {},
   "source": [
    "We then need to create the valid and trian dataloaders "
   ]
  },
  {
   "cell_type": "code",
   "execution_count": 35,
   "metadata": {},
   "outputs": [],
   "source": [
    "train_ds = TensorDataset(torch.tensor(X_train.as_matrix()), torch.tensor(y_train.as_matrix()))\n",
    "valid_ds = TensorDataset(torch.tensor(X_test.as_matrix()), torch.tensor(y_test.as_matrix()))"
   ]
  },
  {
   "cell_type": "code",
   "execution_count": 36,
   "metadata": {},
   "outputs": [],
   "source": [
    "train_dl = DataLoader(train_ds, batch_size=128, shuffle=True)\n",
    "valid_dl = DataLoader(valid_ds, batch_size=128)"
   ]
  },
  {
   "cell_type": "markdown",
   "metadata": {},
   "source": [
    "We can now create our model"
   ]
  },
  {
   "cell_type": "code",
   "execution_count": 49,
   "metadata": {},
   "outputs": [],
   "source": [
    "params = dict(n_cont=len(cat_proc.cont_names)\n",
    "              , cat_sizes=[len(cat_proc.categories[var]) for var in cat_proc.categories if var!='Arrest' ]\n",
    "              , emb_sizes=[10, 10, 10, 4, 4], layers_sizes=[150, 70, 30, 10], out_sz=2, p_dropout=[0, 0, 0, 0])\n",
    "model = LinearClassifier(**params)"
   ]
  },
  {
   "cell_type": "code",
   "execution_count": 50,
   "metadata": {},
   "outputs": [
    {
     "data": {
      "text/plain": [
       "LinearClassifier(\n",
       "  (embeds): ModuleList(\n",
       "    (0): Embedding(19, 10)\n",
       "    (1): Embedding(70, 10)\n",
       "    (2): Embedding(44, 10)\n",
       "    (3): Embedding(2, 4)\n",
       "    (4): Embedding(78, 4)\n",
       "  )\n",
       "  (layers): Sequential(\n",
       "    (0): BatchNorm1d(44, eps=1e-05, momentum=0.1, affine=True, track_running_stats=True)\n",
       "    (1): Dropout(p=0)\n",
       "    (2): Linear(in_features=44, out_features=150, bias=True)\n",
       "    (3): BatchNorm1d(150, eps=1e-05, momentum=0.1, affine=True, track_running_stats=True)\n",
       "    (4): Dropout(p=0)\n",
       "    (5): Linear(in_features=150, out_features=70, bias=True)\n",
       "    (6): BatchNorm1d(70, eps=1e-05, momentum=0.1, affine=True, track_running_stats=True)\n",
       "    (7): Dropout(p=0)\n",
       "    (8): Linear(in_features=70, out_features=30, bias=True)\n",
       "    (9): BatchNorm1d(30, eps=1e-05, momentum=0.1, affine=True, track_running_stats=True)\n",
       "    (10): Dropout(p=0)\n",
       "    (11): Linear(in_features=30, out_features=10, bias=True)\n",
       "    (12): BatchNorm1d(10, eps=1e-05, momentum=0.1, affine=True, track_running_stats=True)\n",
       "    (13): Dropout(p=0)\n",
       "    (14): Linear(in_features=10, out_features=2, bias=True)\n",
       "  )\n",
       ")"
      ]
     },
     "execution_count": 50,
     "metadata": {},
     "output_type": "execute_result"
    }
   ],
   "source": [
    "model"
   ]
  },
  {
   "cell_type": "markdown",
   "metadata": {},
   "source": [
    "#### Training"
   ]
  },
  {
   "cell_type": "code",
   "execution_count": 51,
   "metadata": {
    "scrolled": false
   },
   "outputs": [
    {
     "data": {
      "application/vnd.jupyter.widget-view+json": {
       "model_id": "",
       "version_major": 2,
       "version_minor": 0
      },
      "text/plain": [
       "HBox(children=(IntProgress(value=0, description='Epoch 0 training', max=4458, style=ProgressStyle(description_…"
      ]
     },
     "metadata": {},
     "output_type": "display_data"
    },
    {
     "data": {
      "application/vnd.jupyter.widget-view+json": {
       "model_id": "",
       "version_major": 2,
       "version_minor": 0
      },
      "text/plain": [
       "HBox(children=(IntProgress(value=0, description='Epoch 0 validation', max=496, style=ProgressStyle(description…"
      ]
     },
     "metadata": {},
     "output_type": "display_data"
    },
    {
     "name": "stdout",
     "output_type": "stream",
     "text": [
      "Epoch 0 train_loss : 0.317, train_acc : 0.875, train_f1 : 0.731, valid_loss : 0.313, valid_acc : 0.877, valid_f1 : 0.728\n"
     ]
    },
    {
     "data": {
      "application/vnd.jupyter.widget-view+json": {
       "model_id": "",
       "version_major": 2,
       "version_minor": 0
      },
      "text/plain": [
       "HBox(children=(IntProgress(value=0, description='Epoch 1 training', max=4458, style=ProgressStyle(description_…"
      ]
     },
     "metadata": {},
     "output_type": "display_data"
    },
    {
     "data": {
      "application/vnd.jupyter.widget-view+json": {
       "model_id": "",
       "version_major": 2,
       "version_minor": 0
      },
      "text/plain": [
       "HBox(children=(IntProgress(value=0, description='Epoch 1 validation', max=496, style=ProgressStyle(description…"
      ]
     },
     "metadata": {},
     "output_type": "display_data"
    },
    {
     "name": "stdout",
     "output_type": "stream",
     "text": [
      "Epoch 1 train_loss : 0.313, train_acc : 0.877, train_f1 : 0.734, valid_loss : 0.312, valid_acc : 0.878, valid_f1 : 0.735\n"
     ]
    },
    {
     "data": {
      "application/vnd.jupyter.widget-view+json": {
       "model_id": "",
       "version_major": 2,
       "version_minor": 0
      },
      "text/plain": [
       "HBox(children=(IntProgress(value=0, description='Epoch 2 training', max=4458, style=ProgressStyle(description_…"
      ]
     },
     "metadata": {},
     "output_type": "display_data"
    },
    {
     "data": {
      "application/vnd.jupyter.widget-view+json": {
       "model_id": "",
       "version_major": 2,
       "version_minor": 0
      },
      "text/plain": [
       "HBox(children=(IntProgress(value=0, description='Epoch 2 validation', max=496, style=ProgressStyle(description…"
      ]
     },
     "metadata": {},
     "output_type": "display_data"
    },
    {
     "name": "stdout",
     "output_type": "stream",
     "text": [
      "Epoch 2 train_loss : 0.313, train_acc : 0.877, train_f1 : 0.734, valid_loss : 0.314, valid_acc : 0.879, valid_f1 : 0.732\n"
     ]
    }
   ],
   "source": [
    "fit(3, model, train_dl, valid_dl)"
   ]
  },
  {
   "cell_type": "markdown",
   "metadata": {},
   "source": [
    "## Final model"
   ]
  },
  {
   "cell_type": "markdown",
   "metadata": {},
   "source": [
    "All of our three models achieve pretty much similar results, we will only use the neural net to train on the full data "
   ]
  },
  {
   "cell_type": "code",
   "execution_count": 52,
   "metadata": {},
   "outputs": [],
   "source": [
    "X, y = chicago_crime[indep_vars], chicago_crime[dep_var]"
   ]
  },
  {
   "cell_type": "markdown",
   "metadata": {},
   "source": [
    "Spliting train/valid"
   ]
  },
  {
   "cell_type": "code",
   "execution_count": 53,
   "metadata": {},
   "outputs": [],
   "source": [
    "X_train, X_test, y_train, y_test = train_test_split(X, y, test_size=0.1)"
   ]
  },
  {
   "cell_type": "code",
   "execution_count": 54,
   "metadata": {},
   "outputs": [
    {
     "data": {
      "text/plain": [
       "((5706110, 11), (634013, 11), (5706110,), (634013,))"
      ]
     },
     "execution_count": 54,
     "metadata": {},
     "output_type": "execute_result"
    }
   ],
   "source": [
    "X_train.shape, X_test.shape, y_train.shape, y_test.shape"
   ]
  },
  {
   "cell_type": "markdown",
   "metadata": {},
   "source": [
    "changing order columns"
   ]
  },
  {
   "cell_type": "code",
   "execution_count": 55,
   "metadata": {},
   "outputs": [],
   "source": [
    "cats = cat_proc.cat_names.copy()\n",
    "cats.remove('Arrest')"
   ]
  },
  {
   "cell_type": "code",
   "execution_count": 56,
   "metadata": {},
   "outputs": [],
   "source": [
    "X_train = X_train[cats + cat_proc.cont_names]\n",
    "X_test = X_test[cats + cat_proc.cont_names]"
   ]
  },
  {
   "cell_type": "markdown",
   "metadata": {},
   "source": [
    "We then need to create the valid and trian dataloaders "
   ]
  },
  {
   "cell_type": "code",
   "execution_count": 57,
   "metadata": {},
   "outputs": [],
   "source": [
    "train_ds = TensorDataset(torch.tensor(X_train.as_matrix()), torch.tensor(y_train.as_matrix()))\n",
    "valid_ds = TensorDataset(torch.tensor(X_test.as_matrix()), torch.tensor(y_test.as_matrix()))"
   ]
  },
  {
   "cell_type": "code",
   "execution_count": 58,
   "metadata": {},
   "outputs": [],
   "source": [
    "train_dl = DataLoader(train_ds, batch_size=128, shuffle=True)\n",
    "valid_dl = DataLoader(valid_ds, batch_size=128)"
   ]
  },
  {
   "cell_type": "markdown",
   "metadata": {},
   "source": [
    "We create our model"
   ]
  },
  {
   "cell_type": "code",
   "execution_count": 62,
   "metadata": {},
   "outputs": [],
   "source": [
    "params = dict(n_cont=len(cat_proc.cont_names)\n",
    "              , cat_sizes=[len(cat_proc.categories[var]) for var in cat_proc.categories if var!='Arrest' ]\n",
    "              , emb_sizes=[10, 10, 10, 4, 4], layers_sizes=[150, 70, 30, 10], out_sz=2, p_dropout=[0, 0, 0, 0])\n",
    "model = LinearClassifier(**params)"
   ]
  },
  {
   "cell_type": "code",
   "execution_count": 63,
   "metadata": {},
   "outputs": [
    {
     "data": {
      "text/plain": [
       "LinearClassifier(\n",
       "  (embeds): ModuleList(\n",
       "    (0): Embedding(19, 10)\n",
       "    (1): Embedding(70, 10)\n",
       "    (2): Embedding(44, 10)\n",
       "    (3): Embedding(2, 4)\n",
       "    (4): Embedding(78, 4)\n",
       "  )\n",
       "  (layers): Sequential(\n",
       "    (0): BatchNorm1d(44, eps=1e-05, momentum=0.1, affine=True, track_running_stats=True)\n",
       "    (1): Dropout(p=0)\n",
       "    (2): Linear(in_features=44, out_features=150, bias=True)\n",
       "    (3): BatchNorm1d(150, eps=1e-05, momentum=0.1, affine=True, track_running_stats=True)\n",
       "    (4): Dropout(p=0)\n",
       "    (5): Linear(in_features=150, out_features=70, bias=True)\n",
       "    (6): BatchNorm1d(70, eps=1e-05, momentum=0.1, affine=True, track_running_stats=True)\n",
       "    (7): Dropout(p=0)\n",
       "    (8): Linear(in_features=70, out_features=30, bias=True)\n",
       "    (9): BatchNorm1d(30, eps=1e-05, momentum=0.1, affine=True, track_running_stats=True)\n",
       "    (10): Dropout(p=0)\n",
       "    (11): Linear(in_features=30, out_features=10, bias=True)\n",
       "    (12): BatchNorm1d(10, eps=1e-05, momentum=0.1, affine=True, track_running_stats=True)\n",
       "    (13): Dropout(p=0)\n",
       "    (14): Linear(in_features=10, out_features=2, bias=True)\n",
       "  )\n",
       ")"
      ]
     },
     "execution_count": 63,
     "metadata": {},
     "output_type": "execute_result"
    }
   ],
   "source": [
    "model"
   ]
  },
  {
   "cell_type": "markdown",
   "metadata": {},
   "source": [
    "Training"
   ]
  },
  {
   "cell_type": "code",
   "execution_count": 64,
   "metadata": {
    "scrolled": false
   },
   "outputs": [
    {
     "data": {
      "application/vnd.jupyter.widget-view+json": {
       "model_id": "",
       "version_major": 2,
       "version_minor": 0
      },
      "text/plain": [
       "HBox(children=(IntProgress(value=0, description='Epoch 0 training', max=44579, style=ProgressStyle(description…"
      ]
     },
     "metadata": {},
     "output_type": "display_data"
    },
    {
     "data": {
      "application/vnd.jupyter.widget-view+json": {
       "model_id": "",
       "version_major": 2,
       "version_minor": 0
      },
      "text/plain": [
       "HBox(children=(IntProgress(value=0, description='Epoch 0 validation', max=4954, style=ProgressStyle(descriptio…"
      ]
     },
     "metadata": {},
     "output_type": "display_data"
    },
    {
     "name": "stdout",
     "output_type": "stream",
     "text": [
      "Epoch 0 train_loss : 0.313, train_acc : 0.877, train_f1 : 0.733, valid_loss : 0.310, valid_acc : 0.878, valid_f1 : 0.728\n"
     ]
    },
    {
     "data": {
      "application/vnd.jupyter.widget-view+json": {
       "model_id": "",
       "version_major": 2,
       "version_minor": 0
      },
      "text/plain": [
       "HBox(children=(IntProgress(value=0, description='Epoch 1 training', max=44579, style=ProgressStyle(description…"
      ]
     },
     "metadata": {},
     "output_type": "display_data"
    },
    {
     "data": {
      "application/vnd.jupyter.widget-view+json": {
       "model_id": "",
       "version_major": 2,
       "version_minor": 0
      },
      "text/plain": [
       "HBox(children=(IntProgress(value=0, description='Epoch 1 validation', max=4954, style=ProgressStyle(descriptio…"
      ]
     },
     "metadata": {},
     "output_type": "display_data"
    },
    {
     "name": "stdout",
     "output_type": "stream",
     "text": [
      "Epoch 1 train_loss : 0.311, train_acc : 0.877, train_f1 : 0.733, valid_loss : 0.309, valid_acc : 0.877, valid_f1 : 0.735\n"
     ]
    }
   ],
   "source": [
    "fit(2, model, train_dl, valid_dl)"
   ]
  },
  {
   "cell_type": "code",
   "execution_count": 65,
   "metadata": {},
   "outputs": [],
   "source": [
    "#pickle.dump(model, open('data/arrest_dl_model.pkl', 'wb'))"
   ]
  },
  {
   "cell_type": "code",
   "execution_count": 32,
   "metadata": {},
   "outputs": [],
   "source": [
    "model_arrest = pickle.load(open('data/arrest_dl_model.pkl', 'rb'))"
   ]
  },
  {
   "cell_type": "markdown",
   "metadata": {},
   "source": [
    "# Type prediciton "
   ]
  },
  {
   "cell_type": "markdown",
   "metadata": {},
   "source": [
    "We also want to build a model that will predict the type of the crime given the other data excpet Arrest and Description"
   ]
  },
  {
   "cell_type": "markdown",
   "metadata": {},
   "source": [
    "## Splitting data"
   ]
  },
  {
   "cell_type": "markdown",
   "metadata": {},
   "source": [
    "We first need to split the depend variable 'Arrest' and the other independent variables. For testing models, we should use a sample of the dataset as the full dataset is too large."
   ]
  },
  {
   "cell_type": "code",
   "execution_count": 15,
   "metadata": {},
   "outputs": [],
   "source": [
    "indep_vars = ['Location Description',\n",
    "       'Domestic', 'Year', 'Latitude', 'Longitude', 'Hour', 'Community Area',\n",
    "       'Day', 'Month']\n",
    "dep_var = 'Primary Type'"
   ]
  },
  {
   "cell_type": "code",
   "execution_count": 16,
   "metadata": {},
   "outputs": [],
   "source": [
    "X, y = chicago_crime[indep_vars], chicago_crime[dep_var]"
   ]
  },
  {
   "cell_type": "code",
   "execution_count": 17,
   "metadata": {},
   "outputs": [
    {
     "data": {
      "text/html": [
       "<div>\n",
       "<style scoped>\n",
       "    .dataframe tbody tr th:only-of-type {\n",
       "        vertical-align: middle;\n",
       "    }\n",
       "\n",
       "    .dataframe tbody tr th {\n",
       "        vertical-align: top;\n",
       "    }\n",
       "\n",
       "    .dataframe thead th {\n",
       "        text-align: right;\n",
       "    }\n",
       "</style>\n",
       "<table border=\"1\" class=\"dataframe\">\n",
       "  <thead>\n",
       "    <tr style=\"text-align: right;\">\n",
       "      <th></th>\n",
       "      <th>Location Description</th>\n",
       "      <th>Domestic</th>\n",
       "      <th>Year</th>\n",
       "      <th>Latitude</th>\n",
       "      <th>Longitude</th>\n",
       "      <th>Hour</th>\n",
       "      <th>Community Area</th>\n",
       "      <th>Day</th>\n",
       "      <th>Month</th>\n",
       "    </tr>\n",
       "  </thead>\n",
       "  <tbody>\n",
       "    <tr>\n",
       "      <th>60345</th>\n",
       "      <td>26</td>\n",
       "      <td>0</td>\n",
       "      <td>1.918047</td>\n",
       "      <td>1.863753</td>\n",
       "      <td>-3.962305</td>\n",
       "      <td>0.860247</td>\n",
       "      <td>76</td>\n",
       "      <td>-1.432802</td>\n",
       "      <td>-1.701383</td>\n",
       "    </tr>\n",
       "    <tr>\n",
       "      <th>62272</th>\n",
       "      <td>40</td>\n",
       "      <td>0</td>\n",
       "      <td>1.918047</td>\n",
       "      <td>0.480551</td>\n",
       "      <td>0.640177</td>\n",
       "      <td>0.713617</td>\n",
       "      <td>32</td>\n",
       "      <td>0.038834</td>\n",
       "      <td>-1.095794</td>\n",
       "    </tr>\n",
       "    <tr>\n",
       "      <th>62615</th>\n",
       "      <td>33</td>\n",
       "      <td>0</td>\n",
       "      <td>1.918047</td>\n",
       "      <td>-0.191352</td>\n",
       "      <td>1.097996</td>\n",
       "      <td>1.300135</td>\n",
       "      <td>36</td>\n",
       "      <td>-0.413977</td>\n",
       "      <td>-1.095794</td>\n",
       "    </tr>\n",
       "    <tr>\n",
       "      <th>62648</th>\n",
       "      <td>30</td>\n",
       "      <td>0</td>\n",
       "      <td>1.918047</td>\n",
       "      <td>2.022692</td>\n",
       "      <td>-0.013068</td>\n",
       "      <td>0.860247</td>\n",
       "      <td>1</td>\n",
       "      <td>-0.187572</td>\n",
       "      <td>-1.095794</td>\n",
       "    </tr>\n",
       "    <tr>\n",
       "      <th>62649</th>\n",
       "      <td>40</td>\n",
       "      <td>1</td>\n",
       "      <td>1.918047</td>\n",
       "      <td>-0.191911</td>\n",
       "      <td>1.094947</td>\n",
       "      <td>0.420358</td>\n",
       "      <td>36</td>\n",
       "      <td>-0.187572</td>\n",
       "      <td>-1.095794</td>\n",
       "    </tr>\n",
       "  </tbody>\n",
       "</table>\n",
       "</div>"
      ],
      "text/plain": [
       "       Location Description  Domestic      Year  Latitude  Longitude  \\\n",
       "60345                    26         0  1.918047  1.863753  -3.962305   \n",
       "62272                    40         0  1.918047  0.480551   0.640177   \n",
       "62615                    33         0  1.918047 -0.191352   1.097996   \n",
       "62648                    30         0  1.918047  2.022692  -0.013068   \n",
       "62649                    40         1  1.918047 -0.191911   1.094947   \n",
       "\n",
       "           Hour  Community Area       Day     Month  \n",
       "60345  0.860247              76 -1.432802 -1.701383  \n",
       "62272  0.713617              32  0.038834 -1.095794  \n",
       "62615  1.300135              36 -0.413977 -1.095794  \n",
       "62648  0.860247               1 -0.187572 -1.095794  \n",
       "62649  0.420358              36 -0.187572 -1.095794  "
      ]
     },
     "execution_count": 17,
     "metadata": {},
     "output_type": "execute_result"
    }
   ],
   "source": [
    "X.head()"
   ]
  },
  {
   "cell_type": "code",
   "execution_count": 18,
   "metadata": {},
   "outputs": [],
   "source": [
    "X_sample, y_sample = get_sample(X, y, pctg=0.1)"
   ]
  },
  {
   "cell_type": "markdown",
   "metadata": {},
   "source": [
    "We can now split the data between training and validation set"
   ]
  },
  {
   "cell_type": "code",
   "execution_count": 19,
   "metadata": {},
   "outputs": [],
   "source": [
    "X_train, X_test, y_train, y_test = train_test_split(X_sample, y_sample, test_size=0.1)"
   ]
  },
  {
   "cell_type": "code",
   "execution_count": 20,
   "metadata": {},
   "outputs": [
    {
     "data": {
      "text/plain": [
       "((570610, 9), (63402, 9), (570610,), (63402,))"
      ]
     },
     "execution_count": 20,
     "metadata": {},
     "output_type": "execute_result"
    }
   ],
   "source": [
    "X_train.shape, X_test.shape, y_train.shape, y_test.shape"
   ]
  },
  {
   "cell_type": "code",
   "execution_count": 21,
   "metadata": {},
   "outputs": [
    {
     "data": {
      "text/html": [
       "<div>\n",
       "<style scoped>\n",
       "    .dataframe tbody tr th:only-of-type {\n",
       "        vertical-align: middle;\n",
       "    }\n",
       "\n",
       "    .dataframe tbody tr th {\n",
       "        vertical-align: top;\n",
       "    }\n",
       "\n",
       "    .dataframe thead th {\n",
       "        text-align: right;\n",
       "    }\n",
       "</style>\n",
       "<table border=\"1\" class=\"dataframe\">\n",
       "  <thead>\n",
       "    <tr style=\"text-align: right;\">\n",
       "      <th></th>\n",
       "      <th>Location Description</th>\n",
       "      <th>Domestic</th>\n",
       "      <th>Year</th>\n",
       "      <th>Latitude</th>\n",
       "      <th>Longitude</th>\n",
       "      <th>Hour</th>\n",
       "      <th>Community Area</th>\n",
       "      <th>Day</th>\n",
       "      <th>Month</th>\n",
       "    </tr>\n",
       "  </thead>\n",
       "  <tbody>\n",
       "    <tr>\n",
       "      <th>2387471</th>\n",
       "      <td>30</td>\n",
       "      <td>0</td>\n",
       "      <td>-1.290241</td>\n",
       "      <td>-0.855426</td>\n",
       "      <td>0.173315</td>\n",
       "      <td>-1.632456</td>\n",
       "      <td>67</td>\n",
       "      <td>0.491645</td>\n",
       "      <td>-0.793000</td>\n",
       "    </tr>\n",
       "    <tr>\n",
       "      <th>6999180</th>\n",
       "      <td>40</td>\n",
       "      <td>0</td>\n",
       "      <td>1.115975</td>\n",
       "      <td>-0.363995</td>\n",
       "      <td>-1.312249</td>\n",
       "      <td>1.006876</td>\n",
       "      <td>56</td>\n",
       "      <td>-1.659208</td>\n",
       "      <td>-1.095794</td>\n",
       "    </tr>\n",
       "    <tr>\n",
       "      <th>2166610</th>\n",
       "      <td>5</td>\n",
       "      <td>1</td>\n",
       "      <td>-1.490759</td>\n",
       "      <td>0.817379</td>\n",
       "      <td>0.140007</td>\n",
       "      <td>-1.632456</td>\n",
       "      <td>24</td>\n",
       "      <td>0.378442</td>\n",
       "      <td>1.023765</td>\n",
       "    </tr>\n",
       "    <tr>\n",
       "      <th>2271767</th>\n",
       "      <td>38</td>\n",
       "      <td>0</td>\n",
       "      <td>-1.290241</td>\n",
       "      <td>0.654985</td>\n",
       "      <td>-0.321075</td>\n",
       "      <td>-0.166160</td>\n",
       "      <td>24</td>\n",
       "      <td>-0.187572</td>\n",
       "      <td>-1.701383</td>\n",
       "    </tr>\n",
       "    <tr>\n",
       "      <th>420788</th>\n",
       "      <td>3</td>\n",
       "      <td>1</td>\n",
       "      <td>1.115975</td>\n",
       "      <td>-1.115306</td>\n",
       "      <td>2.033610</td>\n",
       "      <td>-1.192567</td>\n",
       "      <td>46</td>\n",
       "      <td>1.057659</td>\n",
       "      <td>1.629353</td>\n",
       "    </tr>\n",
       "  </tbody>\n",
       "</table>\n",
       "</div>"
      ],
      "text/plain": [
       "         Location Description  Domestic      Year  Latitude  Longitude  \\\n",
       "2387471                    30         0 -1.290241 -0.855426   0.173315   \n",
       "6999180                    40         0  1.115975 -0.363995  -1.312249   \n",
       "2166610                     5         1 -1.490759  0.817379   0.140007   \n",
       "2271767                    38         0 -1.290241  0.654985  -0.321075   \n",
       "420788                      3         1  1.115975 -1.115306   2.033610   \n",
       "\n",
       "             Hour  Community Area       Day     Month  \n",
       "2387471 -1.632456              67  0.491645 -0.793000  \n",
       "6999180  1.006876              56 -1.659208 -1.095794  \n",
       "2166610 -1.632456              24  0.378442  1.023765  \n",
       "2271767 -0.166160              24 -0.187572 -1.701383  \n",
       "420788  -1.192567              46  1.057659  1.629353  "
      ]
     },
     "execution_count": 21,
     "metadata": {},
     "output_type": "execute_result"
    }
   ],
   "source": [
    "X_train.head()"
   ]
  },
  {
   "cell_type": "markdown",
   "metadata": {},
   "source": [
    "## Models"
   ]
  },
  {
   "cell_type": "markdown",
   "metadata": {},
   "source": [
    "### Ranfom forest"
   ]
  },
  {
   "cell_type": "code",
   "execution_count": 19,
   "metadata": {},
   "outputs": [],
   "source": [
    "rf = RandomForestClassifier(n_jobs=-1)"
   ]
  },
  {
   "cell_type": "code",
   "execution_count": 20,
   "metadata": {
    "scrolled": true
   },
   "outputs": [
    {
     "data": {
      "text/plain": [
       "RandomForestClassifier(bootstrap=True, class_weight=None, criterion='gini',\n",
       "            max_depth=None, max_features='auto', max_leaf_nodes=None,\n",
       "            min_impurity_decrease=0.0, min_impurity_split=None,\n",
       "            min_samples_leaf=1, min_samples_split=2,\n",
       "            min_weight_fraction_leaf=0.0, n_estimators=10, n_jobs=-1,\n",
       "            oob_score=False, random_state=None, verbose=0,\n",
       "            warm_start=False)"
      ]
     },
     "execution_count": 20,
     "metadata": {},
     "output_type": "execute_result"
    }
   ],
   "source": [
    "rf.fit(X_train, y_train)"
   ]
  },
  {
   "cell_type": "code",
   "execution_count": 23,
   "metadata": {},
   "outputs": [
    {
     "name": "stdout",
     "output_type": "stream",
     "text": [
      "Train accuray : 0.986, Valid accuracy : 0.337, Train F1 score : 0.986, Valid F1 score : 0.337\n"
     ]
    }
   ],
   "source": [
    "print_score(rf, f1_average='micro')"
   ]
  },
  {
   "cell_type": "code",
   "execution_count": 24,
   "metadata": {},
   "outputs": [],
   "source": [
    "#pickle.dump(rf, open('data/randomforest_sample_type.pkl', 'wb'))"
   ]
  },
  {
   "cell_type": "markdown",
   "metadata": {},
   "source": [
    "### XBG (boosting)"
   ]
  },
  {
   "cell_type": "code",
   "execution_count": 27,
   "metadata": {},
   "outputs": [],
   "source": [
    "xg = XGBClassifier(n_jobs=-1)"
   ]
  },
  {
   "cell_type": "code",
   "execution_count": 30,
   "metadata": {
    "scrolled": true
   },
   "outputs": [
    {
     "name": "stdout",
     "output_type": "stream",
     "text": [
      "[0]\tvalidation_0-merror:0.675957\n",
      "Will train until validation_0-merror hasn't improved in 50 rounds.\n",
      "[1]\tvalidation_0-merror:0.67531\n",
      "[2]\tvalidation_0-merror:0.673922\n",
      "[3]\tvalidation_0-merror:0.674269\n",
      "[4]\tvalidation_0-merror:0.674695\n",
      "[5]\tvalidation_0-merror:0.673938\n",
      "[6]\tvalidation_0-merror:0.674143\n",
      "[7]\tvalidation_0-merror:0.672707\n",
      "[8]\tvalidation_0-merror:0.672644\n",
      "[9]\tvalidation_0-merror:0.671256\n",
      "[10]\tvalidation_0-merror:0.665436\n",
      "[11]\tvalidation_0-merror:0.667329\n",
      "[12]\tvalidation_0-merror:0.664806\n",
      "[13]\tvalidation_0-merror:0.663749\n",
      "[14]\tvalidation_0-merror:0.662455\n",
      "[15]\tvalidation_0-merror:0.658686\n",
      "[16]\tvalidation_0-merror:0.658307\n",
      "[17]\tvalidation_0-merror:0.657093\n",
      "[18]\tvalidation_0-merror:0.654112\n",
      "[19]\tvalidation_0-merror:0.654711\n",
      "[20]\tvalidation_0-merror:0.651983\n",
      "[21]\tvalidation_0-merror:0.651194\n",
      "[22]\tvalidation_0-merror:0.652046\n",
      "[23]\tvalidation_0-merror:0.650894\n",
      "[24]\tvalidation_0-merror:0.650752\n",
      "[25]\tvalidation_0-merror:0.650405\n",
      "[26]\tvalidation_0-merror:0.650232\n",
      "[27]\tvalidation_0-merror:0.649159\n",
      "[28]\tvalidation_0-merror:0.648939\n",
      "[29]\tvalidation_0-merror:0.648166\n",
      "[30]\tvalidation_0-merror:0.647661\n",
      "[31]\tvalidation_0-merror:0.646257\n",
      "[32]\tvalidation_0-merror:0.645958\n",
      "[33]\tvalidation_0-merror:0.6461\n",
      "[34]\tvalidation_0-merror:0.644664\n",
      "[35]\tvalidation_0-merror:0.644648\n",
      "[36]\tvalidation_0-merror:0.643592\n",
      "[37]\tvalidation_0-merror:0.643418\n",
      "[38]\tvalidation_0-merror:0.64304\n",
      "[39]\tvalidation_0-merror:0.642882\n",
      "[40]\tvalidation_0-merror:0.642708\n",
      "[41]\tvalidation_0-merror:0.642235\n",
      "[42]\tvalidation_0-merror:0.642267\n",
      "[43]\tvalidation_0-merror:0.641667\n",
      "[44]\tvalidation_0-merror:0.641573\n",
      "[45]\tvalidation_0-merror:0.641257\n",
      "[46]\tvalidation_0-merror:0.64121\n",
      "[47]\tvalidation_0-merror:0.641305\n",
      "[48]\tvalidation_0-merror:0.640989\n",
      "[49]\tvalidation_0-merror:0.64091\n",
      "[50]\tvalidation_0-merror:0.640705\n",
      "[51]\tvalidation_0-merror:0.64069\n",
      "[52]\tvalidation_0-merror:0.640642\n",
      "[53]\tvalidation_0-merror:0.640595\n",
      "[54]\tvalidation_0-merror:0.640185\n",
      "[55]\tvalidation_0-merror:0.64009\n",
      "[56]\tvalidation_0-merror:0.640043\n",
      "[57]\tvalidation_0-merror:0.639869\n",
      "[58]\tvalidation_0-merror:0.639649\n",
      "[59]\tvalidation_0-merror:0.639664\n",
      "[60]\tvalidation_0-merror:0.639459\n",
      "[61]\tvalidation_0-merror:0.639317\n",
      "[62]\tvalidation_0-merror:0.639412\n",
      "[63]\tvalidation_0-merror:0.639302\n",
      "[64]\tvalidation_0-merror:0.639239\n",
      "[65]\tvalidation_0-merror:0.639128\n",
      "[66]\tvalidation_0-merror:0.639175\n",
      "[67]\tvalidation_0-merror:0.638907\n",
      "[68]\tvalidation_0-merror:0.638655\n",
      "[69]\tvalidation_0-merror:0.638292\n",
      "[70]\tvalidation_0-merror:0.638466\n",
      "[71]\tvalidation_0-merror:0.638339\n",
      "[72]\tvalidation_0-merror:0.638166\n",
      "[73]\tvalidation_0-merror:0.637977\n",
      "[74]\tvalidation_0-merror:0.637724\n",
      "[75]\tvalidation_0-merror:0.637425\n",
      "[76]\tvalidation_0-merror:0.637519\n",
      "[77]\tvalidation_0-merror:0.637109\n",
      "[78]\tvalidation_0-merror:0.637157\n",
      "[79]\tvalidation_0-merror:0.63703\n",
      "[80]\tvalidation_0-merror:0.636715\n",
      "[81]\tvalidation_0-merror:0.636494\n",
      "[82]\tvalidation_0-merror:0.63651\n",
      "[83]\tvalidation_0-merror:0.636305\n",
      "[84]\tvalidation_0-merror:0.636179\n",
      "[85]\tvalidation_0-merror:0.6361\n",
      "[86]\tvalidation_0-merror:0.635784\n",
      "[87]\tvalidation_0-merror:0.635911\n",
      "[88]\tvalidation_0-merror:0.635974\n",
      "[89]\tvalidation_0-merror:0.636037\n",
      "[90]\tvalidation_0-merror:0.635847\n",
      "[91]\tvalidation_0-merror:0.6358\n",
      "[92]\tvalidation_0-merror:0.635595\n",
      "[93]\tvalidation_0-merror:0.635847\n",
      "[94]\tvalidation_0-merror:0.635595\n",
      "[95]\tvalidation_0-merror:0.63539\n",
      "[96]\tvalidation_0-merror:0.635106\n",
      "[97]\tvalidation_0-merror:0.635232\n",
      "[98]\tvalidation_0-merror:0.635106\n",
      "[99]\tvalidation_0-merror:0.634696\n"
     ]
    },
    {
     "data": {
      "text/plain": [
       "XGBClassifier(base_score=0.5, booster='gbtree', colsample_bylevel=1,\n",
       "       colsample_bytree=1, gamma=0, learning_rate=0.1, max_delta_step=0,\n",
       "       max_depth=3, min_child_weight=1, missing=None, n_estimators=100,\n",
       "       n_jobs=-1, nthread=None, objective='multi:softprob', random_state=0,\n",
       "       reg_alpha=0, reg_lambda=1, scale_pos_weight=1, seed=None,\n",
       "       silent=True, subsample=1)"
      ]
     },
     "execution_count": 30,
     "metadata": {},
     "output_type": "execute_result"
    }
   ],
   "source": [
    "xg.fit(X_train, y_train, eval_set=[(X_test, y_test)], early_stopping_rounds=50, verbose=True)"
   ]
  },
  {
   "cell_type": "code",
   "execution_count": 36,
   "metadata": {},
   "outputs": [
    {
     "name": "stdout",
     "output_type": "stream",
     "text": [
      "Train accuray : 0.368, Valid accuracy : 0.365, Train F1 score : 0.368, Valid F1 score : 0.365\n"
     ]
    }
   ],
   "source": [
    "print_score(xg, f1_average='micro')"
   ]
  },
  {
   "cell_type": "code",
   "execution_count": 37,
   "metadata": {},
   "outputs": [],
   "source": [
    "#pickle.dump(xg, open('data/xgb_sample_type.pkl', 'wb'))"
   ]
  },
  {
   "cell_type": "code",
   "execution_count": 38,
   "metadata": {},
   "outputs": [
    {
     "data": {
      "text/html": [
       "<div>\n",
       "<style scoped>\n",
       "    .dataframe tbody tr th:only-of-type {\n",
       "        vertical-align: middle;\n",
       "    }\n",
       "\n",
       "    .dataframe tbody tr th {\n",
       "        vertical-align: top;\n",
       "    }\n",
       "\n",
       "    .dataframe thead th {\n",
       "        text-align: right;\n",
       "    }\n",
       "</style>\n",
       "<table border=\"1\" class=\"dataframe\">\n",
       "  <thead>\n",
       "    <tr style=\"text-align: right;\">\n",
       "      <th></th>\n",
       "      <th>Location Description</th>\n",
       "      <th>Domestic</th>\n",
       "      <th>Year</th>\n",
       "      <th>Latitude</th>\n",
       "      <th>Longitude</th>\n",
       "      <th>Hour</th>\n",
       "      <th>Community Area</th>\n",
       "      <th>Day</th>\n",
       "      <th>Month</th>\n",
       "    </tr>\n",
       "  </thead>\n",
       "  <tbody>\n",
       "    <tr>\n",
       "      <th>372836</th>\n",
       "      <td>40</td>\n",
       "      <td>0</td>\n",
       "      <td>1.115975</td>\n",
       "      <td>0.796639</td>\n",
       "      <td>-0.509807</td>\n",
       "      <td>-1.339197</td>\n",
       "      <td>23</td>\n",
       "      <td>0.152036</td>\n",
       "      <td>1.023765</td>\n",
       "    </tr>\n",
       "    <tr>\n",
       "      <th>4760203</th>\n",
       "      <td>30</td>\n",
       "      <td>1</td>\n",
       "      <td>-0.287651</td>\n",
       "      <td>0.844942</td>\n",
       "      <td>-0.705520</td>\n",
       "      <td>-0.166160</td>\n",
       "      <td>22</td>\n",
       "      <td>1.170861</td>\n",
       "      <td>0.115382</td>\n",
       "    </tr>\n",
       "    <tr>\n",
       "      <th>4645825</th>\n",
       "      <td>25</td>\n",
       "      <td>0</td>\n",
       "      <td>-0.287651</td>\n",
       "      <td>0.208044</td>\n",
       "      <td>-0.528195</td>\n",
       "      <td>0.566988</td>\n",
       "      <td>29</td>\n",
       "      <td>0.604848</td>\n",
       "      <td>-0.793000</td>\n",
       "    </tr>\n",
       "    <tr>\n",
       "      <th>967921</th>\n",
       "      <td>40</td>\n",
       "      <td>0</td>\n",
       "      <td>1.717529</td>\n",
       "      <td>0.987772</td>\n",
       "      <td>0.282893</td>\n",
       "      <td>0.420358</td>\n",
       "      <td>7</td>\n",
       "      <td>0.831253</td>\n",
       "      <td>-1.701383</td>\n",
       "    </tr>\n",
       "    <tr>\n",
       "      <th>6593212</th>\n",
       "      <td>32</td>\n",
       "      <td>0</td>\n",
       "      <td>0.714939</td>\n",
       "      <td>-1.969899</td>\n",
       "      <td>0.792021</td>\n",
       "      <td>-0.019531</td>\n",
       "      <td>53</td>\n",
       "      <td>-1.659208</td>\n",
       "      <td>0.720971</td>\n",
       "    </tr>\n",
       "    <tr>\n",
       "      <th>2678906</th>\n",
       "      <td>1</td>\n",
       "      <td>0</td>\n",
       "      <td>-1.290241</td>\n",
       "      <td>1.556581</td>\n",
       "      <td>-3.947645</td>\n",
       "      <td>-0.752679</td>\n",
       "      <td>76</td>\n",
       "      <td>0.718050</td>\n",
       "      <td>1.326559</td>\n",
       "    </tr>\n",
       "    <tr>\n",
       "      <th>3770935</th>\n",
       "      <td>40</td>\n",
       "      <td>0</td>\n",
       "      <td>-0.688687</td>\n",
       "      <td>-1.049804</td>\n",
       "      <td>1.701255</td>\n",
       "      <td>-0.166160</td>\n",
       "      <td>46</td>\n",
       "      <td>0.944456</td>\n",
       "      <td>-0.793000</td>\n",
       "    </tr>\n",
       "    <tr>\n",
       "      <th>3371739</th>\n",
       "      <td>40</td>\n",
       "      <td>0</td>\n",
       "      <td>-0.889205</td>\n",
       "      <td>-0.670816</td>\n",
       "      <td>-0.347925</td>\n",
       "      <td>-1.779086</td>\n",
       "      <td>66</td>\n",
       "      <td>-1.546005</td>\n",
       "      <td>-0.187412</td>\n",
       "    </tr>\n",
       "    <tr>\n",
       "      <th>3228908</th>\n",
       "      <td>40</td>\n",
       "      <td>0</td>\n",
       "      <td>-1.089723</td>\n",
       "      <td>-0.819984</td>\n",
       "      <td>-0.175444</td>\n",
       "      <td>0.127099</td>\n",
       "      <td>66</td>\n",
       "      <td>0.831253</td>\n",
       "      <td>1.629353</td>\n",
       "    </tr>\n",
       "    <tr>\n",
       "      <th>2121861</th>\n",
       "      <td>34</td>\n",
       "      <td>0</td>\n",
       "      <td>-1.490759</td>\n",
       "      <td>1.061867</td>\n",
       "      <td>0.457205</td>\n",
       "      <td>1.153506</td>\n",
       "      <td>6</td>\n",
       "      <td>0.265239</td>\n",
       "      <td>0.720971</td>\n",
       "    </tr>\n",
       "    <tr>\n",
       "      <th>4609046</th>\n",
       "      <td>40</td>\n",
       "      <td>0</td>\n",
       "      <td>-0.287651</td>\n",
       "      <td>-0.131969</td>\n",
       "      <td>0.967961</td>\n",
       "      <td>-0.752679</td>\n",
       "      <td>35</td>\n",
       "      <td>0.718050</td>\n",
       "      <td>-1.095794</td>\n",
       "    </tr>\n",
       "    <tr>\n",
       "      <th>1021964</th>\n",
       "      <td>30</td>\n",
       "      <td>1</td>\n",
       "      <td>1.717529</td>\n",
       "      <td>0.488676</td>\n",
       "      <td>-0.853284</td>\n",
       "      <td>0.860247</td>\n",
       "      <td>26</td>\n",
       "      <td>0.152036</td>\n",
       "      <td>-0.793000</td>\n",
       "    </tr>\n",
       "    <tr>\n",
       "      <th>2264966</th>\n",
       "      <td>43</td>\n",
       "      <td>0</td>\n",
       "      <td>-1.290241</td>\n",
       "      <td>-0.379437</td>\n",
       "      <td>1.138860</td>\n",
       "      <td>-0.166160</td>\n",
       "      <td>39</td>\n",
       "      <td>-1.093194</td>\n",
       "      <td>-1.701383</td>\n",
       "    </tr>\n",
       "    <tr>\n",
       "      <th>4814480</th>\n",
       "      <td>40</td>\n",
       "      <td>0</td>\n",
       "      <td>-0.287651</td>\n",
       "      <td>-0.236469</td>\n",
       "      <td>1.022387</td>\n",
       "      <td>0.860247</td>\n",
       "      <td>38</td>\n",
       "      <td>-0.979991</td>\n",
       "      <td>0.720971</td>\n",
       "    </tr>\n",
       "    <tr>\n",
       "      <th>3985097</th>\n",
       "      <td>40</td>\n",
       "      <td>0</td>\n",
       "      <td>-0.688687</td>\n",
       "      <td>0.438597</td>\n",
       "      <td>-0.828093</td>\n",
       "      <td>-0.166160</td>\n",
       "      <td>26</td>\n",
       "      <td>0.604848</td>\n",
       "      <td>0.115382</td>\n",
       "    </tr>\n",
       "    <tr>\n",
       "      <th>1906262</th>\n",
       "      <td>40</td>\n",
       "      <td>0</td>\n",
       "      <td>-1.490759</td>\n",
       "      <td>0.315803</td>\n",
       "      <td>-0.410018</td>\n",
       "      <td>1.446765</td>\n",
       "      <td>29</td>\n",
       "      <td>-0.640383</td>\n",
       "      <td>-0.793000</td>\n",
       "    </tr>\n",
       "    <tr>\n",
       "      <th>2849514</th>\n",
       "      <td>40</td>\n",
       "      <td>0</td>\n",
       "      <td>-1.089723</td>\n",
       "      <td>0.901411</td>\n",
       "      <td>-1.678455</td>\n",
       "      <td>-0.166160</td>\n",
       "      <td>19</td>\n",
       "      <td>0.038834</td>\n",
       "      <td>-0.793000</td>\n",
       "    </tr>\n",
       "    <tr>\n",
       "      <th>6211968</th>\n",
       "      <td>30</td>\n",
       "      <td>0</td>\n",
       "      <td>0.514421</td>\n",
       "      <td>-0.336122</td>\n",
       "      <td>-0.506468</td>\n",
       "      <td>-0.166160</td>\n",
       "      <td>58</td>\n",
       "      <td>-0.074369</td>\n",
       "      <td>-1.095794</td>\n",
       "    </tr>\n",
       "    <tr>\n",
       "      <th>3360225</th>\n",
       "      <td>43</td>\n",
       "      <td>0</td>\n",
       "      <td>-0.889205</td>\n",
       "      <td>0.915157</td>\n",
       "      <td>-0.822310</td>\n",
       "      <td>1.300135</td>\n",
       "      <td>22</td>\n",
       "      <td>0.944456</td>\n",
       "      <td>-0.490206</td>\n",
       "    </tr>\n",
       "    <tr>\n",
       "      <th>2779093</th>\n",
       "      <td>28</td>\n",
       "      <td>0</td>\n",
       "      <td>-1.089723</td>\n",
       "      <td>-0.373952</td>\n",
       "      <td>1.170887</td>\n",
       "      <td>-0.606049</td>\n",
       "      <td>39</td>\n",
       "      <td>0.152036</td>\n",
       "      <td>-1.398589</td>\n",
       "    </tr>\n",
       "    <tr>\n",
       "      <th>2592519</th>\n",
       "      <td>39</td>\n",
       "      <td>0</td>\n",
       "      <td>-1.290241</td>\n",
       "      <td>-1.532087</td>\n",
       "      <td>-0.168916</td>\n",
       "      <td>1.006876</td>\n",
       "      <td>72</td>\n",
       "      <td>0.265239</td>\n",
       "      <td>0.720971</td>\n",
       "    </tr>\n",
       "    <tr>\n",
       "      <th>1193080</th>\n",
       "      <td>40</td>\n",
       "      <td>0</td>\n",
       "      <td>1.717529</td>\n",
       "      <td>1.009911</td>\n",
       "      <td>-1.264029</td>\n",
       "      <td>-0.312790</td>\n",
       "      <td>19</td>\n",
       "      <td>1.510470</td>\n",
       "      <td>1.326559</td>\n",
       "    </tr>\n",
       "    <tr>\n",
       "      <th>404082</th>\n",
       "      <td>3</td>\n",
       "      <td>1</td>\n",
       "      <td>1.115975</td>\n",
       "      <td>0.819579</td>\n",
       "      <td>-0.704388</td>\n",
       "      <td>-0.166160</td>\n",
       "      <td>23</td>\n",
       "      <td>1.623672</td>\n",
       "      <td>1.326559</td>\n",
       "    </tr>\n",
       "    <tr>\n",
       "      <th>4590606</th>\n",
       "      <td>40</td>\n",
       "      <td>0</td>\n",
       "      <td>-0.287651</td>\n",
       "      <td>-1.168942</td>\n",
       "      <td>-0.317807</td>\n",
       "      <td>-0.752679</td>\n",
       "      <td>70</td>\n",
       "      <td>-1.546005</td>\n",
       "      <td>-1.398589</td>\n",
       "    </tr>\n",
       "    <tr>\n",
       "      <th>5439303</th>\n",
       "      <td>38</td>\n",
       "      <td>0</td>\n",
       "      <td>0.113385</td>\n",
       "      <td>0.830312</td>\n",
       "      <td>-1.524950</td>\n",
       "      <td>-0.166160</td>\n",
       "      <td>25</td>\n",
       "      <td>0.718050</td>\n",
       "      <td>-0.793000</td>\n",
       "    </tr>\n",
       "    <tr>\n",
       "      <th>2143884</th>\n",
       "      <td>40</td>\n",
       "      <td>0</td>\n",
       "      <td>-1.490759</td>\n",
       "      <td>0.871049</td>\n",
       "      <td>-1.024373</td>\n",
       "      <td>1.006876</td>\n",
       "      <td>20</td>\n",
       "      <td>0.831253</td>\n",
       "      <td>0.720971</td>\n",
       "    </tr>\n",
       "    <tr>\n",
       "      <th>297863</th>\n",
       "      <td>30</td>\n",
       "      <td>1</td>\n",
       "      <td>1.115975</td>\n",
       "      <td>1.062639</td>\n",
       "      <td>-1.845950</td>\n",
       "      <td>-1.632456</td>\n",
       "      <td>19</td>\n",
       "      <td>-0.527180</td>\n",
       "      <td>0.115382</td>\n",
       "    </tr>\n",
       "    <tr>\n",
       "      <th>515806</th>\n",
       "      <td>33</td>\n",
       "      <td>0</td>\n",
       "      <td>1.316493</td>\n",
       "      <td>0.421575</td>\n",
       "      <td>-0.247324</td>\n",
       "      <td>0.860247</td>\n",
       "      <td>28</td>\n",
       "      <td>0.038834</td>\n",
       "      <td>-0.490206</td>\n",
       "    </tr>\n",
       "    <tr>\n",
       "      <th>2916270</th>\n",
       "      <td>41</td>\n",
       "      <td>0</td>\n",
       "      <td>-1.089723</td>\n",
       "      <td>0.281755</td>\n",
       "      <td>-0.867520</td>\n",
       "      <td>-1.632456</td>\n",
       "      <td>29</td>\n",
       "      <td>-1.546005</td>\n",
       "      <td>-0.187412</td>\n",
       "    </tr>\n",
       "    <tr>\n",
       "      <th>5627490</th>\n",
       "      <td>43</td>\n",
       "      <td>1</td>\n",
       "      <td>0.113385</td>\n",
       "      <td>0.496996</td>\n",
       "      <td>0.351180</td>\n",
       "      <td>0.420358</td>\n",
       "      <td>28</td>\n",
       "      <td>-0.187572</td>\n",
       "      <td>1.023765</td>\n",
       "    </tr>\n",
       "    <tr>\n",
       "      <th>...</th>\n",
       "      <td>...</td>\n",
       "      <td>...</td>\n",
       "      <td>...</td>\n",
       "      <td>...</td>\n",
       "      <td>...</td>\n",
       "      <td>...</td>\n",
       "      <td>...</td>\n",
       "      <td>...</td>\n",
       "      <td>...</td>\n",
       "    </tr>\n",
       "    <tr>\n",
       "      <th>4178219</th>\n",
       "      <td>40</td>\n",
       "      <td>0</td>\n",
       "      <td>-0.488169</td>\n",
       "      <td>-0.579129</td>\n",
       "      <td>0.629666</td>\n",
       "      <td>1.153506</td>\n",
       "      <td>68</td>\n",
       "      <td>0.604848</td>\n",
       "      <td>-1.095794</td>\n",
       "    </tr>\n",
       "    <tr>\n",
       "      <th>3132987</th>\n",
       "      <td>26</td>\n",
       "      <td>0</td>\n",
       "      <td>-1.089723</td>\n",
       "      <td>0.340409</td>\n",
       "      <td>-0.865216</td>\n",
       "      <td>0.420358</td>\n",
       "      <td>26</td>\n",
       "      <td>-0.866788</td>\n",
       "      <td>1.326559</td>\n",
       "    </tr>\n",
       "    <tr>\n",
       "      <th>6670505</th>\n",
       "      <td>28</td>\n",
       "      <td>0</td>\n",
       "      <td>0.714939</td>\n",
       "      <td>0.338251</td>\n",
       "      <td>-0.379773</td>\n",
       "      <td>1.006876</td>\n",
       "      <td>27</td>\n",
       "      <td>-1.206397</td>\n",
       "      <td>1.629353</td>\n",
       "    </tr>\n",
       "    <tr>\n",
       "      <th>6091921</th>\n",
       "      <td>26</td>\n",
       "      <td>0</td>\n",
       "      <td>0.313903</td>\n",
       "      <td>0.024213</td>\n",
       "      <td>0.813722</td>\n",
       "      <td>0.420358</td>\n",
       "      <td>35</td>\n",
       "      <td>0.038834</td>\n",
       "      <td>1.629353</td>\n",
       "    </tr>\n",
       "    <tr>\n",
       "      <th>472319</th>\n",
       "      <td>38</td>\n",
       "      <td>0</td>\n",
       "      <td>1.316493</td>\n",
       "      <td>0.541847</td>\n",
       "      <td>-1.300399</td>\n",
       "      <td>1.300135</td>\n",
       "      <td>25</td>\n",
       "      <td>-0.074369</td>\n",
       "      <td>-1.095794</td>\n",
       "    </tr>\n",
       "    <tr>\n",
       "      <th>4321211</th>\n",
       "      <td>30</td>\n",
       "      <td>0</td>\n",
       "      <td>-0.488169</td>\n",
       "      <td>-1.675227</td>\n",
       "      <td>0.083220</td>\n",
       "      <td>1.300135</td>\n",
       "      <td>75</td>\n",
       "      <td>-1.319599</td>\n",
       "      <td>0.115382</td>\n",
       "    </tr>\n",
       "    <tr>\n",
       "      <th>783755</th>\n",
       "      <td>40</td>\n",
       "      <td>1</td>\n",
       "      <td>1.517011</td>\n",
       "      <td>-1.328625</td>\n",
       "      <td>1.437558</td>\n",
       "      <td>-1.925715</td>\n",
       "      <td>48</td>\n",
       "      <td>0.378442</td>\n",
       "      <td>-0.490206</td>\n",
       "    </tr>\n",
       "    <tr>\n",
       "      <th>3547849</th>\n",
       "      <td>30</td>\n",
       "      <td>0</td>\n",
       "      <td>-0.889205</td>\n",
       "      <td>-1.868197</td>\n",
       "      <td>0.910125</td>\n",
       "      <td>0.127099</td>\n",
       "      <td>53</td>\n",
       "      <td>-0.640383</td>\n",
       "      <td>1.023765</td>\n",
       "    </tr>\n",
       "    <tr>\n",
       "      <th>6607677</th>\n",
       "      <td>40</td>\n",
       "      <td>0</td>\n",
       "      <td>0.714939</td>\n",
       "      <td>1.348955</td>\n",
       "      <td>-0.864290</td>\n",
       "      <td>-0.166160</td>\n",
       "      <td>16</td>\n",
       "      <td>0.265239</td>\n",
       "      <td>0.720971</td>\n",
       "    </tr>\n",
       "    <tr>\n",
       "      <th>4545866</th>\n",
       "      <td>32</td>\n",
       "      <td>0</td>\n",
       "      <td>-0.287651</td>\n",
       "      <td>1.082990</td>\n",
       "      <td>-1.001088</td>\n",
       "      <td>1.300135</td>\n",
       "      <td>21</td>\n",
       "      <td>0.378442</td>\n",
       "      <td>-1.701383</td>\n",
       "    </tr>\n",
       "    <tr>\n",
       "      <th>4339081</th>\n",
       "      <td>40</td>\n",
       "      <td>0</td>\n",
       "      <td>-0.488169</td>\n",
       "      <td>-0.013868</td>\n",
       "      <td>0.231388</td>\n",
       "      <td>1.006876</td>\n",
       "      <td>60</td>\n",
       "      <td>-1.659208</td>\n",
       "      <td>0.418176</td>\n",
       "    </tr>\n",
       "    <tr>\n",
       "      <th>102754</th>\n",
       "      <td>3</td>\n",
       "      <td>1</td>\n",
       "      <td>1.918047</td>\n",
       "      <td>-1.074708</td>\n",
       "      <td>1.228542</td>\n",
       "      <td>-0.312790</td>\n",
       "      <td>44</td>\n",
       "      <td>-0.187572</td>\n",
       "      <td>-0.187412</td>\n",
       "    </tr>\n",
       "    <tr>\n",
       "      <th>4043635</th>\n",
       "      <td>30</td>\n",
       "      <td>0</td>\n",
       "      <td>-0.688687</td>\n",
       "      <td>-1.672592</td>\n",
       "      <td>0.819688</td>\n",
       "      <td>-1.779086</td>\n",
       "      <td>49</td>\n",
       "      <td>1.510470</td>\n",
       "      <td>1.326559</td>\n",
       "    </tr>\n",
       "    <tr>\n",
       "      <th>6373285</th>\n",
       "      <td>42</td>\n",
       "      <td>0</td>\n",
       "      <td>0.514421</td>\n",
       "      <td>-0.405548</td>\n",
       "      <td>0.855100</td>\n",
       "      <td>0.127099</td>\n",
       "      <td>38</td>\n",
       "      <td>0.378442</td>\n",
       "      <td>1.629353</td>\n",
       "    </tr>\n",
       "    <tr>\n",
       "      <th>2046066</th>\n",
       "      <td>40</td>\n",
       "      <td>0</td>\n",
       "      <td>-1.490759</td>\n",
       "      <td>0.606888</td>\n",
       "      <td>-0.773833</td>\n",
       "      <td>0.713617</td>\n",
       "      <td>23</td>\n",
       "      <td>1.284064</td>\n",
       "      <td>0.115382</td>\n",
       "    </tr>\n",
       "    <tr>\n",
       "      <th>2441430</th>\n",
       "      <td>40</td>\n",
       "      <td>0</td>\n",
       "      <td>-1.290241</td>\n",
       "      <td>0.647101</td>\n",
       "      <td>-0.734457</td>\n",
       "      <td>-1.632456</td>\n",
       "      <td>23</td>\n",
       "      <td>1.736875</td>\n",
       "      <td>-0.490206</td>\n",
       "    </tr>\n",
       "    <tr>\n",
       "      <th>6896939</th>\n",
       "      <td>11</td>\n",
       "      <td>0</td>\n",
       "      <td>0.915457</td>\n",
       "      <td>-1.248307</td>\n",
       "      <td>1.255014</td>\n",
       "      <td>-0.459419</td>\n",
       "      <td>47</td>\n",
       "      <td>1.623672</td>\n",
       "      <td>0.720971</td>\n",
       "    </tr>\n",
       "    <tr>\n",
       "      <th>2633342</th>\n",
       "      <td>36</td>\n",
       "      <td>0</td>\n",
       "      <td>-1.290241</td>\n",
       "      <td>0.497769</td>\n",
       "      <td>-1.548959</td>\n",
       "      <td>0.273728</td>\n",
       "      <td>25</td>\n",
       "      <td>0.152036</td>\n",
       "      <td>1.023765</td>\n",
       "    </tr>\n",
       "    <tr>\n",
       "      <th>5329127</th>\n",
       "      <td>22</td>\n",
       "      <td>0</td>\n",
       "      <td>-0.087133</td>\n",
       "      <td>0.952943</td>\n",
       "      <td>-1.358288</td>\n",
       "      <td>0.420358</td>\n",
       "      <td>19</td>\n",
       "      <td>1.736875</td>\n",
       "      <td>1.629353</td>\n",
       "    </tr>\n",
       "    <tr>\n",
       "      <th>984303</th>\n",
       "      <td>3</td>\n",
       "      <td>0</td>\n",
       "      <td>1.717529</td>\n",
       "      <td>1.720572</td>\n",
       "      <td>-0.438152</td>\n",
       "      <td>-1.632456</td>\n",
       "      <td>2</td>\n",
       "      <td>0.491645</td>\n",
       "      <td>-1.398589</td>\n",
       "    </tr>\n",
       "    <tr>\n",
       "      <th>6299225</th>\n",
       "      <td>26</td>\n",
       "      <td>0</td>\n",
       "      <td>0.514421</td>\n",
       "      <td>0.101743</td>\n",
       "      <td>0.994865</td>\n",
       "      <td>0.420358</td>\n",
       "      <td>33</td>\n",
       "      <td>0.265239</td>\n",
       "      <td>0.720971</td>\n",
       "    </tr>\n",
       "    <tr>\n",
       "      <th>5796309</th>\n",
       "      <td>3</td>\n",
       "      <td>1</td>\n",
       "      <td>0.313903</td>\n",
       "      <td>-0.607153</td>\n",
       "      <td>0.081690</td>\n",
       "      <td>-0.312790</td>\n",
       "      <td>67</td>\n",
       "      <td>0.831253</td>\n",
       "      <td>-0.793000</td>\n",
       "    </tr>\n",
       "    <tr>\n",
       "      <th>2357462</th>\n",
       "      <td>40</td>\n",
       "      <td>0</td>\n",
       "      <td>-1.290241</td>\n",
       "      <td>-0.269067</td>\n",
       "      <td>0.684018</td>\n",
       "      <td>0.860247</td>\n",
       "      <td>37</td>\n",
       "      <td>-0.074369</td>\n",
       "      <td>-1.095794</td>\n",
       "    </tr>\n",
       "    <tr>\n",
       "      <th>3279480</th>\n",
       "      <td>27</td>\n",
       "      <td>0</td>\n",
       "      <td>-0.889205</td>\n",
       "      <td>1.547985</td>\n",
       "      <td>-0.926675</td>\n",
       "      <td>-1.925715</td>\n",
       "      <td>14</td>\n",
       "      <td>0.831253</td>\n",
       "      <td>-1.095794</td>\n",
       "    </tr>\n",
       "    <tr>\n",
       "      <th>4488302</th>\n",
       "      <td>38</td>\n",
       "      <td>0</td>\n",
       "      <td>-0.488169</td>\n",
       "      <td>-0.883366</td>\n",
       "      <td>0.852650</td>\n",
       "      <td>0.713617</td>\n",
       "      <td>69</td>\n",
       "      <td>1.284064</td>\n",
       "      <td>1.326559</td>\n",
       "    </tr>\n",
       "    <tr>\n",
       "      <th>4470489</th>\n",
       "      <td>41</td>\n",
       "      <td>0</td>\n",
       "      <td>-0.488169</td>\n",
       "      <td>-1.131144</td>\n",
       "      <td>0.471188</td>\n",
       "      <td>-1.339197</td>\n",
       "      <td>71</td>\n",
       "      <td>-0.527180</td>\n",
       "      <td>1.326559</td>\n",
       "    </tr>\n",
       "    <tr>\n",
       "      <th>1161824</th>\n",
       "      <td>38</td>\n",
       "      <td>0</td>\n",
       "      <td>1.717529</td>\n",
       "      <td>0.388936</td>\n",
       "      <td>-0.649506</td>\n",
       "      <td>-0.019531</td>\n",
       "      <td>27</td>\n",
       "      <td>-0.074369</td>\n",
       "      <td>1.023765</td>\n",
       "    </tr>\n",
       "    <tr>\n",
       "      <th>3412301</th>\n",
       "      <td>40</td>\n",
       "      <td>1</td>\n",
       "      <td>-0.889205</td>\n",
       "      <td>-1.037060</td>\n",
       "      <td>0.959340</td>\n",
       "      <td>-1.632456</td>\n",
       "      <td>69</td>\n",
       "      <td>-1.319599</td>\n",
       "      <td>0.115382</td>\n",
       "    </tr>\n",
       "    <tr>\n",
       "      <th>3087110</th>\n",
       "      <td>40</td>\n",
       "      <td>0</td>\n",
       "      <td>-1.089723</td>\n",
       "      <td>1.280384</td>\n",
       "      <td>-0.988742</td>\n",
       "      <td>-0.899308</td>\n",
       "      <td>16</td>\n",
       "      <td>-0.979991</td>\n",
       "      <td>1.023765</td>\n",
       "    </tr>\n",
       "    <tr>\n",
       "      <th>6388108</th>\n",
       "      <td>43</td>\n",
       "      <td>0</td>\n",
       "      <td>0.714939</td>\n",
       "      <td>-1.047480</td>\n",
       "      <td>0.365247</td>\n",
       "      <td>0.420358</td>\n",
       "      <td>71</td>\n",
       "      <td>-1.093194</td>\n",
       "      <td>-1.701383</td>\n",
       "    </tr>\n",
       "  </tbody>\n",
       "</table>\n",
       "<p>570610 rows × 9 columns</p>\n",
       "</div>"
      ],
      "text/plain": [
       "         Location Description  Domestic      Year  Latitude  Longitude  \\\n",
       "372836                     40         0  1.115975  0.796639  -0.509807   \n",
       "4760203                    30         1 -0.287651  0.844942  -0.705520   \n",
       "4645825                    25         0 -0.287651  0.208044  -0.528195   \n",
       "967921                     40         0  1.717529  0.987772   0.282893   \n",
       "6593212                    32         0  0.714939 -1.969899   0.792021   \n",
       "2678906                     1         0 -1.290241  1.556581  -3.947645   \n",
       "3770935                    40         0 -0.688687 -1.049804   1.701255   \n",
       "3371739                    40         0 -0.889205 -0.670816  -0.347925   \n",
       "3228908                    40         0 -1.089723 -0.819984  -0.175444   \n",
       "2121861                    34         0 -1.490759  1.061867   0.457205   \n",
       "4609046                    40         0 -0.287651 -0.131969   0.967961   \n",
       "1021964                    30         1  1.717529  0.488676  -0.853284   \n",
       "2264966                    43         0 -1.290241 -0.379437   1.138860   \n",
       "4814480                    40         0 -0.287651 -0.236469   1.022387   \n",
       "3985097                    40         0 -0.688687  0.438597  -0.828093   \n",
       "1906262                    40         0 -1.490759  0.315803  -0.410018   \n",
       "2849514                    40         0 -1.089723  0.901411  -1.678455   \n",
       "6211968                    30         0  0.514421 -0.336122  -0.506468   \n",
       "3360225                    43         0 -0.889205  0.915157  -0.822310   \n",
       "2779093                    28         0 -1.089723 -0.373952   1.170887   \n",
       "2592519                    39         0 -1.290241 -1.532087  -0.168916   \n",
       "1193080                    40         0  1.717529  1.009911  -1.264029   \n",
       "404082                      3         1  1.115975  0.819579  -0.704388   \n",
       "4590606                    40         0 -0.287651 -1.168942  -0.317807   \n",
       "5439303                    38         0  0.113385  0.830312  -1.524950   \n",
       "2143884                    40         0 -1.490759  0.871049  -1.024373   \n",
       "297863                     30         1  1.115975  1.062639  -1.845950   \n",
       "515806                     33         0  1.316493  0.421575  -0.247324   \n",
       "2916270                    41         0 -1.089723  0.281755  -0.867520   \n",
       "5627490                    43         1  0.113385  0.496996   0.351180   \n",
       "...                       ...       ...       ...       ...        ...   \n",
       "4178219                    40         0 -0.488169 -0.579129   0.629666   \n",
       "3132987                    26         0 -1.089723  0.340409  -0.865216   \n",
       "6670505                    28         0  0.714939  0.338251  -0.379773   \n",
       "6091921                    26         0  0.313903  0.024213   0.813722   \n",
       "472319                     38         0  1.316493  0.541847  -1.300399   \n",
       "4321211                    30         0 -0.488169 -1.675227   0.083220   \n",
       "783755                     40         1  1.517011 -1.328625   1.437558   \n",
       "3547849                    30         0 -0.889205 -1.868197   0.910125   \n",
       "6607677                    40         0  0.714939  1.348955  -0.864290   \n",
       "4545866                    32         0 -0.287651  1.082990  -1.001088   \n",
       "4339081                    40         0 -0.488169 -0.013868   0.231388   \n",
       "102754                      3         1  1.918047 -1.074708   1.228542   \n",
       "4043635                    30         0 -0.688687 -1.672592   0.819688   \n",
       "6373285                    42         0  0.514421 -0.405548   0.855100   \n",
       "2046066                    40         0 -1.490759  0.606888  -0.773833   \n",
       "2441430                    40         0 -1.290241  0.647101  -0.734457   \n",
       "6896939                    11         0  0.915457 -1.248307   1.255014   \n",
       "2633342                    36         0 -1.290241  0.497769  -1.548959   \n",
       "5329127                    22         0 -0.087133  0.952943  -1.358288   \n",
       "984303                      3         0  1.717529  1.720572  -0.438152   \n",
       "6299225                    26         0  0.514421  0.101743   0.994865   \n",
       "5796309                     3         1  0.313903 -0.607153   0.081690   \n",
       "2357462                    40         0 -1.290241 -0.269067   0.684018   \n",
       "3279480                    27         0 -0.889205  1.547985  -0.926675   \n",
       "4488302                    38         0 -0.488169 -0.883366   0.852650   \n",
       "4470489                    41         0 -0.488169 -1.131144   0.471188   \n",
       "1161824                    38         0  1.717529  0.388936  -0.649506   \n",
       "3412301                    40         1 -0.889205 -1.037060   0.959340   \n",
       "3087110                    40         0 -1.089723  1.280384  -0.988742   \n",
       "6388108                    43         0  0.714939 -1.047480   0.365247   \n",
       "\n",
       "             Hour  Community Area       Day     Month  \n",
       "372836  -1.339197              23  0.152036  1.023765  \n",
       "4760203 -0.166160              22  1.170861  0.115382  \n",
       "4645825  0.566988              29  0.604848 -0.793000  \n",
       "967921   0.420358               7  0.831253 -1.701383  \n",
       "6593212 -0.019531              53 -1.659208  0.720971  \n",
       "2678906 -0.752679              76  0.718050  1.326559  \n",
       "3770935 -0.166160              46  0.944456 -0.793000  \n",
       "3371739 -1.779086              66 -1.546005 -0.187412  \n",
       "3228908  0.127099              66  0.831253  1.629353  \n",
       "2121861  1.153506               6  0.265239  0.720971  \n",
       "4609046 -0.752679              35  0.718050 -1.095794  \n",
       "1021964  0.860247              26  0.152036 -0.793000  \n",
       "2264966 -0.166160              39 -1.093194 -1.701383  \n",
       "4814480  0.860247              38 -0.979991  0.720971  \n",
       "3985097 -0.166160              26  0.604848  0.115382  \n",
       "1906262  1.446765              29 -0.640383 -0.793000  \n",
       "2849514 -0.166160              19  0.038834 -0.793000  \n",
       "6211968 -0.166160              58 -0.074369 -1.095794  \n",
       "3360225  1.300135              22  0.944456 -0.490206  \n",
       "2779093 -0.606049              39  0.152036 -1.398589  \n",
       "2592519  1.006876              72  0.265239  0.720971  \n",
       "1193080 -0.312790              19  1.510470  1.326559  \n",
       "404082  -0.166160              23  1.623672  1.326559  \n",
       "4590606 -0.752679              70 -1.546005 -1.398589  \n",
       "5439303 -0.166160              25  0.718050 -0.793000  \n",
       "2143884  1.006876              20  0.831253  0.720971  \n",
       "297863  -1.632456              19 -0.527180  0.115382  \n",
       "515806   0.860247              28  0.038834 -0.490206  \n",
       "2916270 -1.632456              29 -1.546005 -0.187412  \n",
       "5627490  0.420358              28 -0.187572  1.023765  \n",
       "...           ...             ...       ...       ...  \n",
       "4178219  1.153506              68  0.604848 -1.095794  \n",
       "3132987  0.420358              26 -0.866788  1.326559  \n",
       "6670505  1.006876              27 -1.206397  1.629353  \n",
       "6091921  0.420358              35  0.038834  1.629353  \n",
       "472319   1.300135              25 -0.074369 -1.095794  \n",
       "4321211  1.300135              75 -1.319599  0.115382  \n",
       "783755  -1.925715              48  0.378442 -0.490206  \n",
       "3547849  0.127099              53 -0.640383  1.023765  \n",
       "6607677 -0.166160              16  0.265239  0.720971  \n",
       "4545866  1.300135              21  0.378442 -1.701383  \n",
       "4339081  1.006876              60 -1.659208  0.418176  \n",
       "102754  -0.312790              44 -0.187572 -0.187412  \n",
       "4043635 -1.779086              49  1.510470  1.326559  \n",
       "6373285  0.127099              38  0.378442  1.629353  \n",
       "2046066  0.713617              23  1.284064  0.115382  \n",
       "2441430 -1.632456              23  1.736875 -0.490206  \n",
       "6896939 -0.459419              47  1.623672  0.720971  \n",
       "2633342  0.273728              25  0.152036  1.023765  \n",
       "5329127  0.420358              19  1.736875  1.629353  \n",
       "984303  -1.632456               2  0.491645 -1.398589  \n",
       "6299225  0.420358              33  0.265239  0.720971  \n",
       "5796309 -0.312790              67  0.831253 -0.793000  \n",
       "2357462  0.860247              37 -0.074369 -1.095794  \n",
       "3279480 -1.925715              14  0.831253 -1.095794  \n",
       "4488302  0.713617              69  1.284064  1.326559  \n",
       "4470489 -1.339197              71 -0.527180  1.326559  \n",
       "1161824 -0.019531              27 -0.074369  1.023765  \n",
       "3412301 -1.632456              69 -1.319599  0.115382  \n",
       "3087110 -0.899308              16 -0.979991  1.023765  \n",
       "6388108  0.420358              71 -1.093194 -1.701383  \n",
       "\n",
       "[570610 rows x 9 columns]"
      ]
     },
     "execution_count": 38,
     "metadata": {},
     "output_type": "execute_result"
    }
   ],
   "source": [
    "X_train"
   ]
  },
  {
   "cell_type": "markdown",
   "metadata": {},
   "source": [
    "### FeedForward Neural net"
   ]
  },
  {
   "cell_type": "code",
   "execution_count": 22,
   "metadata": {},
   "outputs": [],
   "source": [
    "cat_vars_type = ['Location Description', 'Domestic', 'Community Area']"
   ]
  },
  {
   "cell_type": "code",
   "execution_count": 23,
   "metadata": {},
   "outputs": [],
   "source": [
    "X_train = X_train[cat_vars_type + ['Year', 'Latitude', 'Longitude', 'Hour', 'Day', 'Month']]\n",
    "X_test = X_test[cat_vars_type + ['Year', 'Latitude', 'Longitude', 'Hour', 'Day', 'Month']]"
   ]
  },
  {
   "cell_type": "code",
   "execution_count": 24,
   "metadata": {},
   "outputs": [],
   "source": [
    "train_ds = TensorDataset(torch.tensor(X_train.as_matrix()), torch.tensor(y_train.as_matrix()))\n",
    "valid_ds = TensorDataset(torch.tensor(X_test.as_matrix()), torch.tensor(y_test.as_matrix()))"
   ]
  },
  {
   "cell_type": "code",
   "execution_count": 25,
   "metadata": {},
   "outputs": [],
   "source": [
    "train_dl = DataLoader(train_ds, batch_size=128, shuffle=True)\n",
    "valid_dl = DataLoader(valid_ds, batch_size=128)"
   ]
  },
  {
   "cell_type": "code",
   "execution_count": 26,
   "metadata": {},
   "outputs": [],
   "source": [
    "params = dict(n_cont=len(cat_proc.cont_names)\n",
    "              , cat_sizes=[len(cat_proc.categories[var]) for var in cat_vars_type ]\n",
    "              , emb_sizes=[10, 4, 10], layers_sizes=[150, 70, 30, 10], out_sz=19, p_dropout=[0, 0, 0, 0])\n",
    "model = LinearClassifier(**params)"
   ]
  },
  {
   "cell_type": "code",
   "execution_count": 27,
   "metadata": {},
   "outputs": [
    {
     "data": {
      "text/plain": [
       "LinearClassifier(\n",
       "  (embeds): ModuleList(\n",
       "    (0): Embedding(44, 10)\n",
       "    (1): Embedding(2, 4)\n",
       "    (2): Embedding(78, 10)\n",
       "  )\n",
       "  (layers): Sequential(\n",
       "    (0): BatchNorm1d(30, eps=1e-05, momentum=0.1, affine=True, track_running_stats=True)\n",
       "    (1): Dropout(p=0)\n",
       "    (2): Linear(in_features=30, out_features=150, bias=True)\n",
       "    (3): BatchNorm1d(150, eps=1e-05, momentum=0.1, affine=True, track_running_stats=True)\n",
       "    (4): Dropout(p=0)\n",
       "    (5): Linear(in_features=150, out_features=70, bias=True)\n",
       "    (6): BatchNorm1d(70, eps=1e-05, momentum=0.1, affine=True, track_running_stats=True)\n",
       "    (7): Dropout(p=0)\n",
       "    (8): Linear(in_features=70, out_features=30, bias=True)\n",
       "    (9): BatchNorm1d(30, eps=1e-05, momentum=0.1, affine=True, track_running_stats=True)\n",
       "    (10): Dropout(p=0)\n",
       "    (11): Linear(in_features=30, out_features=10, bias=True)\n",
       "    (12): BatchNorm1d(10, eps=1e-05, momentum=0.1, affine=True, track_running_stats=True)\n",
       "    (13): Dropout(p=0)\n",
       "    (14): Linear(in_features=10, out_features=19, bias=True)\n",
       "  )\n",
       ")"
      ]
     },
     "execution_count": 27,
     "metadata": {},
     "output_type": "execute_result"
    }
   ],
   "source": [
    "model"
   ]
  },
  {
   "cell_type": "code",
   "execution_count": 29,
   "metadata": {
    "scrolled": false
   },
   "outputs": [
    {
     "data": {
      "application/vnd.jupyter.widget-view+json": {
       "model_id": "",
       "version_major": 2,
       "version_minor": 0
      },
      "text/plain": [
       "HBox(children=(IntProgress(value=0, description='Epoch 0 training', max=4458, style=ProgressStyle(description_…"
      ]
     },
     "metadata": {},
     "output_type": "display_data"
    },
    {
     "name": "stdout",
     "output_type": "stream",
     "text": [
      "\r"
     ]
    },
    {
     "data": {
      "application/vnd.jupyter.widget-view+json": {
       "model_id": "",
       "version_major": 2,
       "version_minor": 0
      },
      "text/plain": [
       "HBox(children=(IntProgress(value=0, description='Epoch 0 validation', max=496, style=ProgressStyle(description…"
      ]
     },
     "metadata": {},
     "output_type": "display_data"
    },
    {
     "name": "stdout",
     "output_type": "stream",
     "text": [
      "\r",
      "Epoch 0 train_loss : 1.977, train_acc : 0.353, train_f1 : 0.353, valid_loss : 1.950, valid_acc : 0.362, valid_f1 : 0.362\n"
     ]
    },
    {
     "data": {
      "application/vnd.jupyter.widget-view+json": {
       "model_id": "",
       "version_major": 2,
       "version_minor": 0
      },
      "text/plain": [
       "HBox(children=(IntProgress(value=0, description='Epoch 1 training', max=4458, style=ProgressStyle(description_…"
      ]
     },
     "metadata": {},
     "output_type": "display_data"
    },
    {
     "name": "stdout",
     "output_type": "stream",
     "text": [
      "\r"
     ]
    },
    {
     "data": {
      "application/vnd.jupyter.widget-view+json": {
       "model_id": "",
       "version_major": 2,
       "version_minor": 0
      },
      "text/plain": [
       "HBox(children=(IntProgress(value=0, description='Epoch 1 validation', max=496, style=ProgressStyle(description…"
      ]
     },
     "metadata": {},
     "output_type": "display_data"
    },
    {
     "name": "stdout",
     "output_type": "stream",
     "text": [
      "\r",
      "Epoch 1 train_loss : 1.957, train_acc : 0.358, train_f1 : 0.358, valid_loss : 1.948, valid_acc : 0.365, valid_f1 : 0.365\n"
     ]
    },
    {
     "data": {
      "application/vnd.jupyter.widget-view+json": {
       "model_id": "",
       "version_major": 2,
       "version_minor": 0
      },
      "text/plain": [
       "HBox(children=(IntProgress(value=0, description='Epoch 2 training', max=4458, style=ProgressStyle(description_…"
      ]
     },
     "metadata": {},
     "output_type": "display_data"
    },
    {
     "name": "stdout",
     "output_type": "stream",
     "text": [
      "\r"
     ]
    },
    {
     "data": {
      "application/vnd.jupyter.widget-view+json": {
       "model_id": "",
       "version_major": 2,
       "version_minor": 0
      },
      "text/plain": [
       "HBox(children=(IntProgress(value=0, description='Epoch 2 validation', max=496, style=ProgressStyle(description…"
      ]
     },
     "metadata": {},
     "output_type": "display_data"
    },
    {
     "name": "stdout",
     "output_type": "stream",
     "text": [
      "\r",
      "Epoch 2 train_loss : 1.955, train_acc : 0.358, train_f1 : 0.358, valid_loss : 1.947, valid_acc : 0.362, valid_f1 : 0.362\n"
     ]
    }
   ],
   "source": [
    "fit(3, model, train_dl, valid_dl, f1_average='micro')"
   ]
  },
  {
   "cell_type": "markdown",
   "metadata": {},
   "source": [
    "## Final model"
   ]
  },
  {
   "cell_type": "markdown",
   "metadata": {},
   "source": [
    "All of our three models achieve pretty much similar results, we will only use the neural net to train on the full data "
   ]
  },
  {
   "cell_type": "code",
   "execution_count": 30,
   "metadata": {},
   "outputs": [],
   "source": [
    "X, y = chicago_crime[indep_vars], chicago_crime[dep_var]"
   ]
  },
  {
   "cell_type": "markdown",
   "metadata": {},
   "source": [
    "Spliting train/valid"
   ]
  },
  {
   "cell_type": "code",
   "execution_count": 31,
   "metadata": {},
   "outputs": [],
   "source": [
    "X_train, X_test, y_train, y_test = train_test_split(X, y, test_size=0.1)"
   ]
  },
  {
   "cell_type": "code",
   "execution_count": 32,
   "metadata": {},
   "outputs": [
    {
     "data": {
      "text/plain": [
       "((5706110, 9), (634013, 9), (5706110,), (634013,))"
      ]
     },
     "execution_count": 32,
     "metadata": {},
     "output_type": "execute_result"
    }
   ],
   "source": [
    "X_train.shape, X_test.shape, y_train.shape, y_test.shape"
   ]
  },
  {
   "cell_type": "markdown",
   "metadata": {},
   "source": [
    "changing order columns"
   ]
  },
  {
   "cell_type": "code",
   "execution_count": 35,
   "metadata": {},
   "outputs": [],
   "source": [
    "cat_vars_type = ['Location Description', 'Domestic', 'Community Area']"
   ]
  },
  {
   "cell_type": "code",
   "execution_count": 36,
   "metadata": {},
   "outputs": [],
   "source": [
    "X_train = X_train[cat_vars_type + ['Year', 'Latitude', 'Longitude', 'Hour', 'Day', 'Month']]\n",
    "X_test = X_test[cat_vars_type + ['Year', 'Latitude', 'Longitude', 'Hour', 'Day', 'Month']]"
   ]
  },
  {
   "cell_type": "markdown",
   "metadata": {},
   "source": [
    "We then need to create the valid and trian dataloaders "
   ]
  },
  {
   "cell_type": "code",
   "execution_count": 37,
   "metadata": {},
   "outputs": [],
   "source": [
    "train_ds = TensorDataset(torch.tensor(X_train.as_matrix()), torch.tensor(y_train.as_matrix()))\n",
    "valid_ds = TensorDataset(torch.tensor(X_test.as_matrix()), torch.tensor(y_test.as_matrix()))"
   ]
  },
  {
   "cell_type": "code",
   "execution_count": 38,
   "metadata": {},
   "outputs": [],
   "source": [
    "train_dl = DataLoader(train_ds, batch_size=128, shuffle=True)\n",
    "valid_dl = DataLoader(valid_ds, batch_size=128)"
   ]
  },
  {
   "cell_type": "markdown",
   "metadata": {},
   "source": [
    "We create our model"
   ]
  },
  {
   "cell_type": "code",
   "execution_count": 39,
   "metadata": {},
   "outputs": [],
   "source": [
    "params = dict(n_cont=len(cat_proc.cont_names)\n",
    "              , cat_sizes=[len(cat_proc.categories[var]) for var in cat_vars_type ]\n",
    "              , emb_sizes=[10, 4, 10], layers_sizes=[150, 70, 30, 10], out_sz=19, p_dropout=[0, 0, 0, 0])\n",
    "model = LinearClassifier(**params)"
   ]
  },
  {
   "cell_type": "code",
   "execution_count": 40,
   "metadata": {},
   "outputs": [
    {
     "data": {
      "text/plain": [
       "LinearClassifier(\n",
       "  (embeds): ModuleList(\n",
       "    (0): Embedding(44, 10)\n",
       "    (1): Embedding(2, 4)\n",
       "    (2): Embedding(78, 10)\n",
       "  )\n",
       "  (layers): Sequential(\n",
       "    (0): BatchNorm1d(30, eps=1e-05, momentum=0.1, affine=True, track_running_stats=True)\n",
       "    (1): Dropout(p=0)\n",
       "    (2): Linear(in_features=30, out_features=150, bias=True)\n",
       "    (3): BatchNorm1d(150, eps=1e-05, momentum=0.1, affine=True, track_running_stats=True)\n",
       "    (4): Dropout(p=0)\n",
       "    (5): Linear(in_features=150, out_features=70, bias=True)\n",
       "    (6): BatchNorm1d(70, eps=1e-05, momentum=0.1, affine=True, track_running_stats=True)\n",
       "    (7): Dropout(p=0)\n",
       "    (8): Linear(in_features=70, out_features=30, bias=True)\n",
       "    (9): BatchNorm1d(30, eps=1e-05, momentum=0.1, affine=True, track_running_stats=True)\n",
       "    (10): Dropout(p=0)\n",
       "    (11): Linear(in_features=30, out_features=10, bias=True)\n",
       "    (12): BatchNorm1d(10, eps=1e-05, momentum=0.1, affine=True, track_running_stats=True)\n",
       "    (13): Dropout(p=0)\n",
       "    (14): Linear(in_features=10, out_features=19, bias=True)\n",
       "  )\n",
       ")"
      ]
     },
     "execution_count": 40,
     "metadata": {},
     "output_type": "execute_result"
    }
   ],
   "source": [
    "model"
   ]
  },
  {
   "cell_type": "markdown",
   "metadata": {},
   "source": [
    "Training"
   ]
  },
  {
   "cell_type": "code",
   "execution_count": 42,
   "metadata": {
    "scrolled": false
   },
   "outputs": [
    {
     "data": {
      "application/vnd.jupyter.widget-view+json": {
       "model_id": "",
       "version_major": 2,
       "version_minor": 0
      },
      "text/plain": [
       "HBox(children=(IntProgress(value=0, description='Epoch 0 training', max=44579, style=ProgressStyle(description…"
      ]
     },
     "metadata": {},
     "output_type": "display_data"
    },
    {
     "data": {
      "application/vnd.jupyter.widget-view+json": {
       "model_id": "",
       "version_major": 2,
       "version_minor": 0
      },
      "text/plain": [
       "HBox(children=(IntProgress(value=0, description='Epoch 0 validation', max=4954, style=ProgressStyle(descriptio…"
      ]
     },
     "metadata": {},
     "output_type": "display_data"
    },
    {
     "name": "stdout",
     "output_type": "stream",
     "text": [
      "Epoch 0 train_loss : 1.954, train_acc : 0.359, train_f1 : 0.359, valid_loss : 1.937, valid_acc : 0.360, valid_f1 : 0.360\n"
     ]
    },
    {
     "data": {
      "application/vnd.jupyter.widget-view+json": {
       "model_id": "",
       "version_major": 2,
       "version_minor": 0
      },
      "text/plain": [
       "HBox(children=(IntProgress(value=0, description='Epoch 1 training', max=44579, style=ProgressStyle(description…"
      ]
     },
     "metadata": {},
     "output_type": "display_data"
    },
    {
     "data": {
      "application/vnd.jupyter.widget-view+json": {
       "model_id": "",
       "version_major": 2,
       "version_minor": 0
      },
      "text/plain": [
       "HBox(children=(IntProgress(value=0, description='Epoch 1 validation', max=4954, style=ProgressStyle(descriptio…"
      ]
     },
     "metadata": {},
     "output_type": "display_data"
    },
    {
     "name": "stdout",
     "output_type": "stream",
     "text": [
      "Epoch 1 train_loss : 1.940, train_acc : 0.361, train_f1 : 0.361, valid_loss : 1.934, valid_acc : 0.363, valid_f1 : 0.363\n"
     ]
    },
    {
     "data": {
      "application/vnd.jupyter.widget-view+json": {
       "model_id": "",
       "version_major": 2,
       "version_minor": 0
      },
      "text/plain": [
       "HBox(children=(IntProgress(value=0, description='Epoch 2 training', max=44579, style=ProgressStyle(description…"
      ]
     },
     "metadata": {},
     "output_type": "display_data"
    },
    {
     "data": {
      "application/vnd.jupyter.widget-view+json": {
       "model_id": "",
       "version_major": 2,
       "version_minor": 0
      },
      "text/plain": [
       "HBox(children=(IntProgress(value=0, description='Epoch 2 validation', max=4954, style=ProgressStyle(descriptio…"
      ]
     },
     "metadata": {},
     "output_type": "display_data"
    },
    {
     "name": "stdout",
     "output_type": "stream",
     "text": [
      "Epoch 2 train_loss : 1.940, train_acc : 0.361, train_f1 : 0.361, valid_loss : 1.937, valid_acc : 0.364, valid_f1 : 0.364\n"
     ]
    }
   ],
   "source": [
    "fit(3, model, train_dl, valid_dl, f1_average='micro')"
   ]
  },
  {
   "cell_type": "code",
   "execution_count": 44,
   "metadata": {},
   "outputs": [],
   "source": [
    "#pickle.dump(model, open('data/arrest_dl_model_type.pkl', 'wb'))"
   ]
  },
  {
   "cell_type": "code",
   "execution_count": 33,
   "metadata": {},
   "outputs": [],
   "source": [
    "model_type = pickle.load( open('data/arrest_dl_model_type.pkl', 'rb'))"
   ]
  },
  {
   "cell_type": "markdown",
   "metadata": {},
   "source": [
    "# Plotting predicitons"
   ]
  },
  {
   "cell_type": "markdown",
   "metadata": {},
   "source": [
    "This section can be run independently from the others, just run the next sect"
   ]
  },
  {
   "cell_type": "markdown",
   "metadata": {},
   "source": [
    "## To run"
   ]
  },
  {
   "cell_type": "code",
   "execution_count": 1,
   "metadata": {},
   "outputs": [],
   "source": [
    "import pandas as pd\n",
    "import numpy as np\n",
    "import pickle\n",
    "import warnings\n",
    "import matplotlib.pyplot as plt\n",
    "import torch\n",
    "from torch.nn import Linear, Embedding, Softmax, Dropout, BatchNorm1d, Module, ModuleList, Sequential\n",
    "from torch.optim import Adam\n",
    "from tqdm import tqdm_notebook\n",
    "from fastai.layers import CrossEntropyFlat\n",
    "from torch.utils.data import TensorDataset, DataLoader\n",
    "from fastai.tabular.data import TabularProc\n",
    "from pandas import DataFrame\n",
    "warnings.filterwarnings('ignore')"
   ]
  },
  {
   "cell_type": "code",
   "execution_count": 2,
   "metadata": {},
   "outputs": [],
   "source": [
    "class LinearClassifier(Module) :\n",
    "    \"\"\"\n",
    "    Arguments :\n",
    "        - n_cont : number of continuous features\n",
    "        - cat_sizes : list of the cardinality of each categorical features\n",
    "        - emb_sizes : the size of the embeddinbg vector for each categorical variables\n",
    "        - layers_sizes : the sizes of the hidden layers\n",
    "        - out_sz : the size of the output layer (cardinality of the class to predict)\n",
    "        - p_dropout : list of the dropout probabilites for each layer\n",
    "    \"\"\"\n",
    "    \n",
    "    def __init__(self, n_cont, cat_sizes, emb_sizes, layers_sizes, out_sz, p_dropout) :\n",
    "        super().__init__()\n",
    "        self.n_cats = len(cat_sizes)\n",
    "        self.n_cont = n_cont\n",
    "        self.n_layers = len(layers_sizes)\n",
    "        self.embeds = ModuleList([Embedding(c, e) for c, e in zip(cat_sizes, emb_sizes)])\n",
    "        in_size = sum(e for e in emb_sizes) + self.n_cont\n",
    "        self.in_size = in_size\n",
    "        layers = []\n",
    "        for i, l in enumerate(layers_sizes) :\n",
    "            if i == 0 :\n",
    "                layers.append(BatchNorm1d(in_size))\n",
    "                layers.append(Dropout(p_dropout[i]))\n",
    "                layers.append(Linear(in_size, l))\n",
    "            else :\n",
    "                layers.append(BatchNorm1d(layers_sizes[i-1]))\n",
    "                layers.append(Dropout(p_dropout[i]))\n",
    "                layers.append(Linear(layers_sizes[i-1], layers_sizes[i]))\n",
    "        \n",
    "        layers.append(BatchNorm1d(layers_sizes[-1]))\n",
    "        layers.append(Dropout(p_dropout[-1]))\n",
    "        layers.append(Linear(layers_sizes[-1], out_sz))\n",
    "        self.layers = Sequential(*layers)\n",
    "        \n",
    "    def forward(self, x_cat, x_cont) :\n",
    "        if x_cat.shape[1] != self.n_cats :\n",
    "            raise ValueError(f'The number of categorical variables should be {self.n_cats}')\n",
    "        if x_cont.shape[1] != self.n_cont :\n",
    "            raise ValueError(f'The number of continious variables should be {self.n_cont}')    \n",
    "        x_cat_embedded = [self.embeds[i](x_cat[:, i]) for i in range(self.n_cats)]\n",
    "        x_cat_embedded = torch.cat(x_cat_embedded, dim=1)\n",
    "        x_full = torch.cat([x_cat_embedded, x_cont], dim=1)\n",
    "        output = self.layers(x_full)\n",
    "        return output"
   ]
  },
  {
   "cell_type": "code",
   "execution_count": 3,
   "metadata": {},
   "outputs": [],
   "source": [
    "class myCategorify(TabularProc):\n",
    "    \"Transform the categorical variables to that type.\"\n",
    "    def apply_train(self, df:DataFrame):\n",
    "        \"Transform `self.cat_names` columns in categorical.\"\n",
    "        self.categories = {}\n",
    "        for n in self.cat_names:\n",
    "            df.loc[:,n] = df.loc[:,n].astype('category').cat.as_ordered()\n",
    "            self.categories[n] = df[n].cat.categories\n",
    "\n",
    "    def apply_test(self, df:DataFrame):\n",
    "        \"Transform `self.cat_names` columns in categorical using the codes decided in `apply_train`.\"\n",
    "        for n in self.cat_names:\n",
    "            if n in df.columns :\n",
    "                df.loc[:,n] = pd.Categorical(df[n], categories=self.categories[n], ordered=True)"
   ]
  },
  {
   "cell_type": "code",
   "execution_count": 4,
   "metadata": {},
   "outputs": [],
   "source": [
    "class my_Normalize(TabularProc):\n",
    "    \"Normalize the continuous variables.\"\n",
    "    def apply_train(self, df:DataFrame):\n",
    "        \"Comput the means and stds of `self.cont_names` columns to normalize them.\"\n",
    "        self.means,self.stds = {},{}\n",
    "        for n in self.cont_names:\n",
    "            self.means[n],self.stds[n] = df.loc[:,n].mean(),df.loc[:,n].std()\n",
    "            df.loc[:,n] = (df.loc[:,n]-self.means[n]) / (1e-7 + self.stds[n])\n",
    "\n",
    "    def apply_test(self, df:DataFrame):\n",
    "        \"Normalize `self.cont_names` with the same statistics as in `apply_train`.\"\n",
    "        for n in self.cont_names:\n",
    "            if n in df.columns :\n",
    "                df.loc[:,n] = (df.loc[:,n]-self.means[n]) / (1e-7 + self.stds[n])\n"
   ]
  },
  {
   "cell_type": "markdown",
   "metadata": {},
   "source": [
    "## Predictions"
   ]
  },
  {
   "cell_type": "code",
   "execution_count": 5,
   "metadata": {},
   "outputs": [],
   "source": [
    "#############T0 MODIFY IF YOU CHANGE THE PATHS\n",
    "model_type_pred_path = 'arrest_dl_model_type.pkl' #The path to the model who predicts the type of crime\n",
    "model_arrest_pred_path = 'arrest_dl_model.pkl' #The path to the model who predicts the arrest\n",
    "data_processors_path = 'data_processors.pkl' #The path to the processors for the data\n",
    "#############\n",
    "\n",
    "model_arrest = pickle.load( open(model_arrest_pred_path, 'rb'))\n",
    "model_type = pickle.load( open(model_type_pred_path, 'rb'))\n",
    "\n",
    "cat_proc, norm_proc = pickle.load( open(data_processors_path, 'rb'))"
   ]
  },
  {
   "cell_type": "markdown",
   "metadata": {},
   "source": [
    "**get_sorted_predictions** returns the sorted prediction probabilities given :\n",
    "- prediction_type ('Arrest' or 'Primary Type'): what you want to predict\n",
    "- model : the model for the prediction, need to be accurate with the prediction type\n",
    "- feat_values : a dictionnary of element -> (name of feature : feature value), need to be accurate with the prediction type\n",
    "- categroy_processor and numericalize_processor : the processors used for the data preperation\n",
    "- cuda : if you want to preddict on gpu or not"
   ]
  },
  {
   "cell_type": "code",
   "execution_count": 6,
   "metadata": {},
   "outputs": [],
   "source": [
    "def get_sorted_predictions(feat_values, model, categroy_processor, numericalize_processor\n",
    "                           , prediction_type='Arrest', cuda=False) :\n",
    "    feat_values = {feat : [feat_values[feat]] for feat in feat_values}\n",
    "    if cuda :\n",
    "        model = model.cuda()\n",
    "    else :\n",
    "        model = model.cpu()\n",
    "    if prediction_type=='Arrest' :\n",
    "        feature_order = ['Primary Type', 'Description', 'Location Description', 'Domestic', 'Community Area',' Year', 'Latitude', 'Longitude', 'Hour', 'Day', 'Month']\n",
    "    else :\n",
    "        feature_order = ['Location Description', 'Domestic', 'Community Area', 'Year', 'Latitude', 'Longitude', 'Hour', 'Day', 'Month']\n",
    "    \n",
    "    processed_values = {} \n",
    "    df = pd.DataFrame(feat_values)\n",
    "    numericalize_processor.apply_test(df)\n",
    "    for feat in categroy_processor.cat_names :\n",
    "        if feat in df.columns :\n",
    "            df[feat] = pd.Categorical(df[feat], categories=categroy_processor.categories[feat], ordered=True)\n",
    "            df[feat] = df[feat].cat.codes\n",
    "    df = df[feature_order]\n",
    "    x = torch.tensor(df.as_matrix())\n",
    "    x_cat = x[:, :model.n_cats ].type(torch.LongTensor)\n",
    "    x_cont = x[:, model.n_cats:].type(torch.FloatTensor)\n",
    "    if cuda :\n",
    "        x_cat = x_cat.cuda()\n",
    "        x_cont = x_cont.cuda()\n",
    "    pred = model(x_cat, x_cont)\n",
    "    pred_probabilites = Softmax(dim=1)(pred)[0].tolist()\n",
    "    \n",
    "    pred_probabilites_w_name = [(name, prob) for name, prob in zip(cat_proc.categories[prediction_type], pred_probabilites)]\n",
    "    pred_probabilites_w_name.sort(key=lambda x : x[1], reverse=True)\n",
    "    return pred_probabilites_w_name\n",
    "    "
   ]
  },
  {
   "cell_type": "markdown",
   "metadata": {},
   "source": [
    "**Example**"
   ]
  },
  {
   "cell_type": "code",
   "execution_count": 7,
   "metadata": {},
   "outputs": [],
   "source": [
    "feat_values = { 'Location Description' : 'STREET', 'Domestic':False, 'Community Area':2, 'Year':2010, 'Latitude': 42.002816, 'Longitude':-87.906094, 'Hour':20, 'Day':12, 'Month':3}"
   ]
  },
  {
   "cell_type": "code",
   "execution_count": 8,
   "metadata": {
    "scrolled": false
   },
   "outputs": [
    {
     "data": {
      "text/plain": [
       "[('CRIMINAL DAMAGE', 0.19398123025894165),\n",
       " ('THEFT', 0.19130736589431763),\n",
       " ('MOTOR VEHICLE THEFT', 0.14777660369873047),\n",
       " ('NARCOTICS', 0.12996067106723785),\n",
       " ('BATTERY', 0.1006297767162323),\n",
       " ('OTHER OFFENSE', 0.05750786513090134),\n",
       " ('ASSAULT', 0.04938225448131561),\n",
       " ('SEXUAL CRIME', 0.0455387607216835),\n",
       " ('ROBBERY', 0.03967572748661041),\n",
       " ('WEAPONS VIOLATION', 0.014977474696934223),\n",
       " ('DECEPTIVE PRACTICE', 0.008479873649775982),\n",
       " ('PUBLIC PEACE VIOLATION', 0.008294126018881798),\n",
       " ('INTERFERENCE WITH PUBLIC OFFICER', 0.00400659441947937),\n",
       " ('CRIMINAL TRESPASS', 0.0026920479722321033),\n",
       " ('OFFENSE INVOLVING CHILDREN', 0.0016157918144017458),\n",
       " ('ARSON', 0.0014228553045541048),\n",
       " ('BURGLARY', 0.0013861097395420074),\n",
       " ('LIQUOR LAW VIOLATION', 0.0008415997144766152),\n",
       " ('GAMBLING', 0.0005233438569121063)]"
      ]
     },
     "execution_count": 8,
     "metadata": {},
     "output_type": "execute_result"
    }
   ],
   "source": [
    "get_sorted_predictions(feat_values, model_type, cat_proc, norm_proc, prediction_type='Primary Type')"
   ]
  },
  {
   "cell_type": "markdown",
   "metadata": {},
   "source": [
    "**Available categories per categoriacal features** :"
   ]
  },
  {
   "cell_type": "code",
   "execution_count": 9,
   "metadata": {},
   "outputs": [
    {
     "data": {
      "text/plain": [
       "{'Primary Type': Index(['ARSON', 'ASSAULT', 'BATTERY', 'BURGLARY', 'CRIMINAL DAMAGE',\n",
       "        'CRIMINAL TRESPASS', 'DECEPTIVE PRACTICE', 'GAMBLING',\n",
       "        'INTERFERENCE WITH PUBLIC OFFICER', 'LIQUOR LAW VIOLATION',\n",
       "        'MOTOR VEHICLE THEFT', 'NARCOTICS', 'OFFENSE INVOLVING CHILDREN',\n",
       "        'OTHER OFFENSE', 'PUBLIC PEACE VIOLATION', 'ROBBERY', 'SEXUAL CRIME',\n",
       "        'THEFT', 'WEAPONS VIOLATION'],\n",
       "       dtype='object'),\n",
       " 'Description': Index(['$500 AND UNDER', 'AGG PO HANDS NO/MIN INJURY', 'AGGRAVATED',\n",
       "        'AGGRAVATED DOMESTIC BATTERY: KNIFE/CUTTING INST',\n",
       "        'AGGRAVATED DOMESTIC BATTERY: OTHER DANG WEAPON', 'AGGRAVATED: HANDGUN',\n",
       "        'AGGRAVATED: OTHER DANG WEAPON', 'AGGRAVATED:KNIFE/CUTTING INSTR',\n",
       "        'ARMED: HANDGUN', 'ARMED: OTHER DANGEROUS WEAPON',\n",
       "        'ARMED:KNIFE/CUTTING INSTRUMENT', 'ATTEMPT FORCIBLE ENTRY',\n",
       "        'ATTEMPT POSSESSION NARCOTICS', 'ATTEMPT THEFT', 'AUTOMOBILE',\n",
       "        'BOGUS CHECK', 'CHILD ABUSE', 'COUNTERFEITING DOCUMENT',\n",
       "        'CREDIT CARD FRAUD', 'CRIMINAL DEFACEMENT', 'DOMESTIC BATTERY SIMPLE',\n",
       "        'FALSE/STOLEN/ALTERED TRP', 'FINANCIAL ID THEFT: OVER $300',\n",
       "        'FINANCIAL ID THEFT:$300 &UNDER', 'FINANCIAL IDENTITY THEFT OVER $ 300',\n",
       "        'FORCIBLE ENTRY', 'FORGERY', 'FOUND SUSPECT NARCOTICS',\n",
       "        'FRAUD OR CONFIDENCE GAME', 'FROM BUILDING', 'GAME/DICE',\n",
       "        'HARASSMENT BY ELECTRONIC MEANS', 'HARASSMENT BY TELEPHONE',\n",
       "        'ILLEGAL USE CASH CARD', 'MANU/DEL:CANNABIS 10GM OR LESS',\n",
       "        'MANU/DEL:CANNABIS OVER 10 GMS', 'MANU/DELIVER: HEROIN (WHITE)',\n",
       "        'MANU/DELIVER:CRACK', 'NON-AGGRAVATED', 'OTHER',\n",
       "        'OTHER VEHICLE OFFENSE', 'OVER $500', 'POCKET-PICKING',\n",
       "        'POSS: CANNABIS 30GMS OR LESS', 'POSS: CANNABIS MORE THAN 30GMS',\n",
       "        'POSS: COCAINE', 'POSS: CRACK', 'POSS: HEROIN(WHITE)',\n",
       "        'PRO EMP HANDS NO/MIN INJURY', 'PURSE-SNATCHING', 'RECKLESS CONDUCT',\n",
       "        'RETAIL THEFT', 'SIMPLE', 'SOLICIT FOR BUSINESS',\n",
       "        'SOLICIT NARCOTICS ON PUBLICWAY', 'SOLICIT ON PUBLIC WAY',\n",
       "        'STRONGARM - NO WEAPON', 'TELEPHONE THREAT', 'THEFT OF LABOR/SERVICES',\n",
       "        'THEFT/RECOVERY: AUTOMOBILE', 'TO CITY OF CHICAGO PROPERTY', 'TO LAND',\n",
       "        'TO PROPERTY', 'TO RESIDENCE', 'TO STATE SUP LAND', 'TO VEHICLE',\n",
       "        'TRUCK, BUS, MOTOR HOME', 'UNLAWFUL ENTRY', 'UNLAWFUL POSS OF HANDGUN',\n",
       "        'VIOLATE ORDER OF PROTECTION'],\n",
       "       dtype='object'),\n",
       " 'Location Description': Index(['ABANDONED BUILDING', 'AIRPORT/AIRCRAFT', 'ALLEY', 'APARTMENT', 'BANK',\n",
       "        'BAR OR TAVERN', 'CHA APARTMENT', 'CHA HALLWAY/STAIRWELL/ELEVATOR',\n",
       "        'CHA PARKING LOT/GROUNDS', 'CHURCH/SYNAGOGUE/PLACE OF WORSHIP',\n",
       "        'COMMERCIAL / BUSINESS OFFICE', 'CONSTRUCTION SITE',\n",
       "        'CONVENIENCE STORE', 'CTA BUS', 'CTA GARAGE / OTHER PROPERTY',\n",
       "        'CTA PLATFORM', 'CTA TRAIN', 'DEPARTMENT STORE',\n",
       "        'DRIVEWAY - RESIDENTIAL', 'DRUG STORE', 'GAS STATION',\n",
       "        'GOVERNMENT BUILDING/PROPERTY', 'GROCERY FOOD STORE',\n",
       "        'HOSPITAL BUILDING/GROUNDS', 'HOTEL/MOTEL',\n",
       "        'NURSING HOME/RETIREMENT HOME', 'OTHER', 'PARK PROPERTY',\n",
       "        'PARKING LOT/GARAGE(NON.RESID.)', 'POLICE FACILITY/VEH PARKING LOT',\n",
       "        'RESIDENCE', 'RESIDENCE PORCH/HALLWAY', 'RESIDENCE-GARAGE',\n",
       "        'RESIDENTIAL YARD (FRONT/BACK)', 'RESTAURANT',\n",
       "        'SCHOOL, PRIVATE, BUILDING', 'SCHOOL, PUBLIC, BUILDING',\n",
       "        'SCHOOL, PUBLIC, GROUNDS', 'SIDEWALK', 'SMALL RETAIL STORE', 'STREET',\n",
       "        'TAVERN/LIQUOR STORE', 'VACANT LOT/LAND', 'VEHICLE NON-COMMERCIAL'],\n",
       "       dtype='object'),\n",
       " 'Arrest': Index([False, True], dtype='object'),\n",
       " 'Domestic': Index([False, True], dtype='object'),\n",
       " 'Community Area': Int64Index([ 0,  1,  2,  3,  4,  5,  6,  7,  8,  9, 10, 11, 12, 13, 14, 15, 16,\n",
       "             17, 18, 19, 20, 21, 22, 23, 24, 25, 26, 27, 28, 29, 30, 31, 32, 33,\n",
       "             34, 35, 36, 37, 38, 39, 40, 41, 42, 43, 44, 45, 46, 47, 48, 49, 50,\n",
       "             51, 52, 53, 54, 55, 56, 57, 58, 59, 60, 61, 62, 63, 64, 65, 66, 67,\n",
       "             68, 69, 70, 71, 72, 73, 74, 75, 76, 77],\n",
       "            dtype='int64')}"
      ]
     },
     "execution_count": 9,
     "metadata": {},
     "output_type": "execute_result"
    }
   ],
   "source": [
    "cat_proc.categories"
   ]
  },
  {
   "cell_type": "code",
   "execution_count": null,
   "metadata": {},
   "outputs": [],
   "source": []
  }
 ],
 "metadata": {
  "kernelspec": {
   "display_name": "Python 3",
   "language": "python",
   "name": "python3"
  },
  "language_info": {
   "codemirror_mode": {
    "name": "ipython",
    "version": 3
   },
   "file_extension": ".py",
   "mimetype": "text/x-python",
   "name": "python",
   "nbconvert_exporter": "python",
   "pygments_lexer": "ipython3",
   "version": "3.7.2"
  },
  "toc": {
   "base_numbering": 1,
   "nav_menu": {},
   "number_sections": true,
   "sideBar": true,
   "skip_h1_title": false,
   "title_cell": "Table of Contents",
   "title_sidebar": "Contents",
   "toc_cell": false,
   "toc_position": {},
   "toc_section_display": true,
   "toc_window_display": false
  }
 },
 "nbformat": 4,
 "nbformat_minor": 2
}
