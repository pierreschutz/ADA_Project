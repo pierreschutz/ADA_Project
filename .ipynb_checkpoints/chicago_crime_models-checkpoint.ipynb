{
 "cells": [
  {
   "cell_type": "code",
   "execution_count": 1,
   "metadata": {},
   "outputs": [],
   "source": [
    "import pandas as pd\n",
    "import numpy as np\n",
    "import pickle\n",
    "import warnings\n",
    "import matplotlib.pyplot as plt\n",
    "warnings.filterwarnings('ignore')"
   ]
  },
  {
   "cell_type": "code",
   "execution_count": 2,
   "metadata": {},
   "outputs": [],
   "source": [
    "chicago_crime = pickle.load(open('./data/chicago_crime.pickle', 'rb'))"
   ]
  },
  {
   "cell_type": "code",
   "execution_count": 3,
   "metadata": {},
   "outputs": [],
   "source": [
    "chicago_crime_init = chicago_crime.copy()"
   ]
  },
  {
   "cell_type": "code",
   "execution_count": 4,
   "metadata": {},
   "outputs": [
    {
     "data": {
      "text/html": [
       "<div>\n",
       "<style scoped>\n",
       "    .dataframe tbody tr th:only-of-type {\n",
       "        vertical-align: middle;\n",
       "    }\n",
       "\n",
       "    .dataframe tbody tr th {\n",
       "        vertical-align: top;\n",
       "    }\n",
       "\n",
       "    .dataframe thead th {\n",
       "        text-align: right;\n",
       "    }\n",
       "</style>\n",
       "<table border=\"1\" class=\"dataframe\">\n",
       "  <thead>\n",
       "    <tr style=\"text-align: right;\">\n",
       "      <th></th>\n",
       "      <th>Date</th>\n",
       "      <th>Primary Type</th>\n",
       "      <th>Description</th>\n",
       "      <th>Location Description</th>\n",
       "      <th>Arrest</th>\n",
       "      <th>Domestic</th>\n",
       "      <th>Community Area</th>\n",
       "      <th>Year</th>\n",
       "      <th>Latitude</th>\n",
       "      <th>Longitude</th>\n",
       "      <th>Hour</th>\n",
       "      <th>Day</th>\n",
       "      <th>Month</th>\n",
       "    </tr>\n",
       "  </thead>\n",
       "  <tbody>\n",
       "    <tr>\n",
       "      <th>60343</th>\n",
       "      <td>2019-01-03 19:00:00</td>\n",
       "      <td>PUBLIC PEACE VIOLATION</td>\n",
       "      <td>OTHER VIOLATION</td>\n",
       "      <td>AIRCRAFT</td>\n",
       "      <td>False</td>\n",
       "      <td>False</td>\n",
       "      <td>76</td>\n",
       "      <td>2019</td>\n",
       "      <td>42.002816</td>\n",
       "      <td>-87.906094</td>\n",
       "      <td>19</td>\n",
       "      <td>3</td>\n",
       "      <td>1</td>\n",
       "    </tr>\n",
       "    <tr>\n",
       "      <th>62270</th>\n",
       "      <td>2019-03-16 18:00:00</td>\n",
       "      <td>BATTERY</td>\n",
       "      <td>SIMPLE</td>\n",
       "      <td>STREET</td>\n",
       "      <td>False</td>\n",
       "      <td>False</td>\n",
       "      <td>32</td>\n",
       "      <td>2019</td>\n",
       "      <td>41.883369</td>\n",
       "      <td>-87.633860</td>\n",
       "      <td>18</td>\n",
       "      <td>16</td>\n",
       "      <td>3</td>\n",
       "    </tr>\n",
       "    <tr>\n",
       "      <th>62611</th>\n",
       "      <td>2019-03-12 22:00:00</td>\n",
       "      <td>THEFT</td>\n",
       "      <td>$500 AND UNDER</td>\n",
       "      <td>RESIDENTIAL YARD (FRONT/BACK)</td>\n",
       "      <td>False</td>\n",
       "      <td>False</td>\n",
       "      <td>36</td>\n",
       "      <td>2019</td>\n",
       "      <td>41.825347</td>\n",
       "      <td>-87.606781</td>\n",
       "      <td>22</td>\n",
       "      <td>12</td>\n",
       "      <td>3</td>\n",
       "    </tr>\n",
       "    <tr>\n",
       "      <th>62644</th>\n",
       "      <td>2019-03-14 19:00:00</td>\n",
       "      <td>BATTERY</td>\n",
       "      <td>SIMPLE</td>\n",
       "      <td>RESIDENCE</td>\n",
       "      <td>False</td>\n",
       "      <td>False</td>\n",
       "      <td>1</td>\n",
       "      <td>2019</td>\n",
       "      <td>42.016542</td>\n",
       "      <td>-87.672499</td>\n",
       "      <td>19</td>\n",
       "      <td>14</td>\n",
       "      <td>3</td>\n",
       "    </tr>\n",
       "    <tr>\n",
       "      <th>62645</th>\n",
       "      <td>2019-03-14 16:00:00</td>\n",
       "      <td>OTHER OFFENSE</td>\n",
       "      <td>OTHER VEHICLE OFFENSE</td>\n",
       "      <td>STREET</td>\n",
       "      <td>False</td>\n",
       "      <td>True</td>\n",
       "      <td>36</td>\n",
       "      <td>2019</td>\n",
       "      <td>41.825299</td>\n",
       "      <td>-87.606961</td>\n",
       "      <td>16</td>\n",
       "      <td>14</td>\n",
       "      <td>3</td>\n",
       "    </tr>\n",
       "  </tbody>\n",
       "</table>\n",
       "</div>"
      ],
      "text/plain": [
       "                     Date            Primary Type            Description  \\\n",
       "60343 2019-01-03 19:00:00  PUBLIC PEACE VIOLATION        OTHER VIOLATION   \n",
       "62270 2019-03-16 18:00:00                 BATTERY                 SIMPLE   \n",
       "62611 2019-03-12 22:00:00                   THEFT         $500 AND UNDER   \n",
       "62644 2019-03-14 19:00:00                 BATTERY                 SIMPLE   \n",
       "62645 2019-03-14 16:00:00           OTHER OFFENSE  OTHER VEHICLE OFFENSE   \n",
       "\n",
       "                Location Description  Arrest  Domestic  Community Area  Year  \\\n",
       "60343                       AIRCRAFT   False     False              76  2019   \n",
       "62270                         STREET   False     False              32  2019   \n",
       "62611  RESIDENTIAL YARD (FRONT/BACK)   False     False              36  2019   \n",
       "62644                      RESIDENCE   False     False               1  2019   \n",
       "62645                         STREET   False      True              36  2019   \n",
       "\n",
       "        Latitude  Longitude  Hour  Day  Month  \n",
       "60343  42.002816 -87.906094    19    3      1  \n",
       "62270  41.883369 -87.633860    18   16      3  \n",
       "62611  41.825347 -87.606781    22   12      3  \n",
       "62644  42.016542 -87.672499    19   14      3  \n",
       "62645  41.825299 -87.606961    16   14      3  "
      ]
     },
     "execution_count": 4,
     "metadata": {},
     "output_type": "execute_result"
    }
   ],
   "source": [
    "chicago_crime.head()"
   ]
  },
  {
   "cell_type": "code",
   "execution_count": 5,
   "metadata": {},
   "outputs": [
    {
     "data": {
      "text/plain": [
       "(6956245, 13)"
      ]
     },
     "execution_count": 5,
     "metadata": {},
     "output_type": "execute_result"
    }
   ],
   "source": [
    "chicago_crime.shape"
   ]
  },
  {
   "cell_type": "code",
   "execution_count": 6,
   "metadata": {},
   "outputs": [
    {
     "data": {
      "text/plain": [
       "Date                         0\n",
       "Primary Type                 0\n",
       "Description                  0\n",
       "Location Description         0\n",
       "Arrest                       0\n",
       "Domestic                     0\n",
       "Community Area          604237\n",
       "Year                         0\n",
       "Latitude                     0\n",
       "Longitude                    0\n",
       "Hour                         0\n",
       "Day                          0\n",
       "Month                        0\n",
       "dtype: int64"
      ]
     },
     "execution_count": 6,
     "metadata": {},
     "output_type": "execute_result"
    }
   ],
   "source": [
    "chicago_crime.isnull().sum()"
   ]
  },
  {
   "cell_type": "markdown",
   "metadata": {},
   "source": [
    "Don't have community area as of yet, so removing it"
   ]
  },
  {
   "cell_type": "code",
   "execution_count": 7,
   "metadata": {},
   "outputs": [],
   "source": [
    "chicago_crime.drop(columns='Community Area', inplace=True)"
   ]
  },
  {
   "cell_type": "markdown",
   "metadata": {},
   "source": [
    "## Feature eng "
   ]
  },
  {
   "cell_type": "code",
   "execution_count": 8,
   "metadata": {},
   "outputs": [],
   "source": [
    "from fastai.tabular import add_datepart\n",
    "import seaborn as sns\n",
    "import matplotlib.pyplot as plt"
   ]
  },
  {
   "cell_type": "markdown",
   "metadata": {},
   "source": [
    "### Non numerical variables"
   ]
  },
  {
   "cell_type": "markdown",
   "metadata": {},
   "source": [
    "- **Date**\n",
    "\n",
    "Adding information about date and time (day of week, week of year...)"
   ]
  },
  {
   "cell_type": "code",
   "execution_count": 9,
   "metadata": {},
   "outputs": [],
   "source": [
    "# Uncomment for add_datepart source code\n",
    "#??add_datepart"
   ]
  },
  {
   "cell_type": "code",
   "execution_count": 10,
   "metadata": {},
   "outputs": [],
   "source": [
    "#X = add_datepart(X, 'Date')"
   ]
  },
  {
   "cell_type": "code",
   "execution_count": 11,
   "metadata": {},
   "outputs": [],
   "source": [
    "#X.head()"
   ]
  },
  {
   "cell_type": "code",
   "execution_count": 12,
   "metadata": {},
   "outputs": [],
   "source": [
    "#X.columns"
   ]
  },
  {
   "cell_type": "markdown",
   "metadata": {},
   "source": [
    "can drop date"
   ]
  },
  {
   "cell_type": "code",
   "execution_count": 13,
   "metadata": {},
   "outputs": [],
   "source": [
    "chicago_crime.drop(columns='Date', inplace=True)"
   ]
  },
  {
   "cell_type": "code",
   "execution_count": 14,
   "metadata": {},
   "outputs": [
    {
     "data": {
      "text/plain": [
       "380"
      ]
     },
     "execution_count": 14,
     "metadata": {},
     "output_type": "execute_result"
    }
   ],
   "source": [
    "chicago_crime['Description'].nunique()"
   ]
  },
  {
   "cell_type": "markdown",
   "metadata": {},
   "source": [
    "- **Year**"
   ]
  },
  {
   "cell_type": "markdown",
   "metadata": {},
   "source": [
    "Might have a too strong correlation between Year and Arrest because recent crimes have lower chance to be solved than older ones"
   ]
  },
  {
   "cell_type": "code",
   "execution_count": 15,
   "metadata": {},
   "outputs": [],
   "source": [
    "arrest_per_year = chicago_crime.groupby(['Year', 'Arrest'])"
   ]
  },
  {
   "cell_type": "code",
   "execution_count": 17,
   "metadata": {},
   "outputs": [],
   "source": [
    "arrest_per_year = arrest_per_year.count().reset_index()[['Year','Arrest', 'Hour']]"
   ]
  },
  {
   "cell_type": "code",
   "execution_count": 19,
   "metadata": {},
   "outputs": [
    {
     "data": {
      "image/png": "[encoded data removed]",
      "text/plain": [
       "<Figure size 1142.12x360 with 1 Axes>"
      ]
     },
     "metadata": {
      "needs_background": "light"
     },
     "output_type": "display_data"
    }
   ],
   "source": [
    "fig = sns.catplot( x= 'Year', y='Hour', hue='Arrest', data=arrest_per_year, kind='bar', height=5, aspect=3)\n",
    "fig.set_axis_labels('Year', 'Crime number')\n",
    "plt.show()"
   ]
  },
  {
   "cell_type": "markdown",
   "metadata": {},
   "source": [
    "Looks ok (not too correlated)"
   ]
  },
  {
   "cell_type": "markdown",
   "metadata": {},
   "source": [
    "- **Primary Type**"
   ]
  },
  {
   "cell_type": "code",
   "execution_count": 20,
   "metadata": {},
   "outputs": [],
   "source": [
    "p_type = chicago_crime['Primary Type']"
   ]
  },
  {
   "cell_type": "code",
   "execution_count": 21,
   "metadata": {},
   "outputs": [
    {
     "data": {
      "text/plain": [
       "35"
      ]
     },
     "execution_count": 21,
     "metadata": {},
     "output_type": "execute_result"
    }
   ],
   "source": [
    "p_type.nunique()"
   ]
  },
  {
   "cell_type": "code",
   "execution_count": 22,
   "metadata": {
    "scrolled": true
   },
   "outputs": [
    {
     "data": {
      "text/plain": [
       "THEFT                                1467564\n",
       "BATTERY                              1278398\n",
       "CRIMINAL DAMAGE                       795821\n",
       "NARCOTICS                             716104\n",
       "ASSAULT                               438180\n",
       "OTHER OFFENSE                         433043\n",
       "BURGLARY                              396848\n",
       "MOTOR VEHICLE THEFT                   320719\n",
       "DECEPTIVE PRACTICE                    271873\n",
       "ROBBERY                               262757\n",
       "CRIMINAL TRESPASS                     199584\n",
       "WEAPONS VIOLATION                      76781\n",
       "PROSTITUTION                           68380\n",
       "PUBLIC PEACE VIOLATION                 49190\n",
       "OFFENSE INVOLVING CHILDREN             45488\n",
       "CRIM SEXUAL ASSAULT                    27426\n",
       "SEX OFFENSE                            25217\n",
       "INTERFERENCE WITH PUBLIC OFFICER       16664\n",
       "GAMBLING                               14469\n",
       "LIQUOR LAW VIOLATION                   14175\n",
       "ARSON                                  11465\n",
       "HOMICIDE                                9946\n",
       "KIDNAPPING                              6792\n",
       "INTIMIDATION                            4083\n",
       "STALKING                                3562\n",
       "OBSCENITY                                620\n",
       "CONCEALED CARRY LICENSE VIOLATION        503\n",
       "PUBLIC INDECENCY                         173\n",
       "NON-CRIMINAL                             163\n",
       "OTHER NARCOTIC VIOLATION                 128\n",
       "HUMAN TRAFFICKING                         59\n",
       "NON - CRIMINAL                            38\n",
       "RITUALISM                                 22\n",
       "NON-CRIMINAL (SUBJECT SPECIFIED)           9\n",
       "DOMESTIC VIOLENCE                          1\n",
       "Name: Primary Type, dtype: int64"
      ]
     },
     "execution_count": 22,
     "metadata": {},
     "output_type": "execute_result"
    }
   ],
   "source": [
    "p_type_vc = p_type.value_counts()\n",
    "p_type_vc"
   ]
  },
  {
   "cell_type": "markdown",
   "metadata": {},
   "source": [
    "We can regroup the types with less than 10000 crimes in OTHER"
   ]
  },
  {
   "cell_type": "code",
   "execution_count": 23,
   "metadata": {},
   "outputs": [],
   "source": [
    "def regroup_low_fred(data, column, min_freq) :\n",
    "    freq = data[column].value_counts()\n",
    "    lowf_types = list(freq[freq <min_freq].index)\n",
    "    data[column] = data[column].apply(lambda x : 'OTHER' if x in lowf_types else x)"
   ]
  },
  {
   "cell_type": "code",
   "execution_count": 26,
   "metadata": {},
   "outputs": [],
   "source": [
    "regroup_low_fred(chicago_crime, 'Primary Type', 10000)"
   ]
  },
  {
   "cell_type": "code",
   "execution_count": 27,
   "metadata": {},
   "outputs": [
    {
     "data": {
      "text/plain": [
       "THEFT                               1467564\n",
       "BATTERY                             1278398\n",
       "CRIMINAL DAMAGE                      795821\n",
       "NARCOTICS                            716104\n",
       "ASSAULT                              438180\n",
       "OTHER OFFENSE                        433043\n",
       "BURGLARY                             396848\n",
       "MOTOR VEHICLE THEFT                  320719\n",
       "DECEPTIVE PRACTICE                   271873\n",
       "ROBBERY                              262757\n",
       "CRIMINAL TRESPASS                    199584\n",
       "WEAPONS VIOLATION                     76781\n",
       "PROSTITUTION                          68380\n",
       "PUBLIC PEACE VIOLATION                49190\n",
       "OFFENSE INVOLVING CHILDREN            45488\n",
       "CRIM SEXUAL ASSAULT                   27426\n",
       "OTHER                                 26099\n",
       "SEX OFFENSE                           25217\n",
       "INTERFERENCE WITH PUBLIC OFFICER      16664\n",
       "GAMBLING                              14469\n",
       "LIQUOR LAW VIOLATION                  14175\n",
       "ARSON                                 11465\n",
       "Name: Primary Type, dtype: int64"
      ]
     },
     "execution_count": 27,
     "metadata": {},
     "output_type": "execute_result"
    }
   ],
   "source": [
    "chicago_crime['Primary Type'].value_counts()"
   ]
  },
  {
   "cell_type": "markdown",
   "metadata": {},
   "source": [
    "- **Description**"
   ]
  },
  {
   "cell_type": "code",
   "execution_count": 28,
   "metadata": {},
   "outputs": [
    {
     "data": {
      "text/plain": [
       "380"
      ]
     },
     "execution_count": 28,
     "metadata": {},
     "output_type": "execute_result"
    }
   ],
   "source": [
    "chicago_crime['Description'].nunique()"
   ]
  },
  {
   "cell_type": "code",
   "execution_count": 29,
   "metadata": {},
   "outputs": [],
   "source": [
    "regroup_low_fred(chicago_crime, 'Description', 10000)"
   ]
  },
  {
   "cell_type": "code",
   "execution_count": 30,
   "metadata": {},
   "outputs": [
    {
     "data": {
      "text/plain": [
       "73"
      ]
     },
     "execution_count": 30,
     "metadata": {},
     "output_type": "execute_result"
    }
   ],
   "source": [
    "chicago_crime['Description'].nunique()"
   ]
  },
  {
   "cell_type": "code",
   "execution_count": 31,
   "metadata": {
    "scrolled": true
   },
   "outputs": [
    {
     "data": {
      "text/plain": [
       "SIMPLE                                             823486\n",
       "$500 AND UNDER                                     566900\n",
       "DOMESTIC BATTERY SIMPLE                            540670\n",
       "OTHER                                              428422\n",
       "TO VEHICLE                                         386303\n",
       "TO PROPERTY                                        366932\n",
       "OVER $500                                          360381\n",
       "POSS: CANNABIS 30GMS OR LESS                       275887\n",
       "FORCIBLE ENTRY                                     267977\n",
       "AUTOMOBILE                                         252125\n",
       "FROM BUILDING                                      236026\n",
       "RETAIL THEFT                                       178064\n",
       "TELEPHONE THREAT                                   137510\n",
       "TO LAND                                            123556\n",
       "POSS: CRACK                                        119259\n",
       "UNLAWFUL ENTRY                                     106174\n",
       "HARASSMENT BY TELEPHONE                            102238\n",
       "AGGRAVATED: OTHER DANG WEAPON                       95759\n",
       "POSS: HEROIN(WHITE)                                 93790\n",
       "ARMED: HANDGUN                                      92956\n",
       "STRONGARM - NO WEAPON                               91153\n",
       "AGGRAVATED: HANDGUN                                 88222\n",
       "AGGRAVATED:KNIFE/CUTTING INSTR                      58930\n",
       "CREDIT CARD FRAUD                                   56609\n",
       "UNLAWFUL POSS OF HANDGUN                            50979\n",
       "SOLICIT ON PUBLIC WAY                               47376\n",
       "FINANCIAL ID THEFT: OVER $300                       40272\n",
       "OTHER VEHICLE OFFENSE                               37221\n",
       "TO STATE SUP LAND                                   36534\n",
       "POCKET-PICKING                                      35288\n",
       "                                                    ...  \n",
       "FINANCIAL IDENTITY THEFT OVER $ 300                 24204\n",
       "MANU/DELIVER:CRACK                                  23789\n",
       "THEFT/RECOVERY: AUTOMOBILE                          23031\n",
       "FALSE/STOLEN/ALTERED TRP                            21572\n",
       "ATTEMPT POSSESSION NARCOTICS                        21254\n",
       "AGG PO HANDS NO/MIN INJURY                          20328\n",
       "AGGRAVATED DOMESTIC BATTERY: OTHER DANG WEAPON      19450\n",
       "POSS: CANNABIS MORE THAN 30GMS                      18267\n",
       "ATTEMPT FORCIBLE ENTRY                              17396\n",
       "FORGERY                                             17287\n",
       "PURSE-SNATCHING                                     17125\n",
       "FOUND SUSPECT NARCOTICS                             16956\n",
       "NON-AGGRAVATED                                      15804\n",
       "AGGRAVATED                                          15680\n",
       "SOLICIT FOR BUSINESS                                14631\n",
       "BOGUS CHECK                                         14576\n",
       "CHILD ABUSE                                         14337\n",
       "FINANCIAL ID THEFT:$300 &UNDER                      14280\n",
       "TO CITY OF CHICAGO PROPERTY                         13828\n",
       "AGGRAVATED DOMESTIC BATTERY: KNIFE/CUTTING INST     13338\n",
       "ARMED: OTHER DANGEROUS WEAPON                       12888\n",
       "COUNTERFEITING DOCUMENT                             12559\n",
       "GAME/DICE                                           12182\n",
       "ARMED:KNIFE/CUTTING INSTRUMENT                      12130\n",
       "MANU/DEL:CANNABIS OVER 10 GMS                       12021\n",
       "OTHER CRIME INVOLVING PROPERTY                      11650\n",
       "ATTEMPT THEFT                                       11579\n",
       "ATT: AUTOMOBILE                                     11543\n",
       "MANU/DEL:CANNABIS 10GM OR LESS                      11512\n",
       "ATTEMPT: STRONGARM-NO WEAPON                        10142\n",
       "Name: Description, Length: 73, dtype: int64"
      ]
     },
     "execution_count": 31,
     "metadata": {},
     "output_type": "execute_result"
    }
   ],
   "source": [
    "chicago_crime['Description'].value_counts()"
   ]
  },
  {
   "cell_type": "markdown",
   "metadata": {},
   "source": [
    "- **Local Description**\n"
   ]
  },
  {
   "cell_type": "code",
   "execution_count": 32,
   "metadata": {},
   "outputs": [
    {
     "data": {
      "text/plain": [
       "180"
      ]
     },
     "execution_count": 32,
     "metadata": {},
     "output_type": "execute_result"
    }
   ],
   "source": [
    "chicago_crime['Location Description'].nunique()"
   ]
  },
  {
   "cell_type": "code",
   "execution_count": 33,
   "metadata": {},
   "outputs": [],
   "source": [
    "regroup_low_fred(chicago_crime, 'Location Description', 10000 )"
   ]
  },
  {
   "cell_type": "code",
   "execution_count": 34,
   "metadata": {},
   "outputs": [
    {
     "data": {
      "text/plain": [
       "45"
      ]
     },
     "execution_count": 34,
     "metadata": {},
     "output_type": "execute_result"
    }
   ],
   "source": [
    "chicago_crime['Location Description'].nunique()"
   ]
  },
  {
   "cell_type": "code",
   "execution_count": 35,
   "metadata": {
    "scrolled": true
   },
   "outputs": [
    {
     "data": {
      "text/plain": [
       "STREET                               1816631\n",
       "RESIDENCE                            1171048\n",
       "APARTMENT                             727833\n",
       "SIDEWALK                              682610\n",
       "OTHER                                 416351\n",
       "PARKING LOT/GARAGE(NON.RESID.)        200024\n",
       "ALLEY                                 155305\n",
       "SCHOOL, PUBLIC, BUILDING              144687\n",
       "RESIDENCE-GARAGE                      134480\n",
       "SMALL RETAIL STORE                    125923\n",
       "RESIDENCE PORCH/HALLWAY               122273\n",
       "RESTAURANT                            112262\n",
       "VEHICLE NON-COMMERCIAL                111694\n",
       "GROCERY FOOD STORE                     90456\n",
       "DEPARTMENT STORE                       88306\n",
       "GAS STATION                            75492\n",
       "RESIDENTIAL YARD (FRONT/BACK)          74134\n",
       "CHA PARKING LOT/GROUNDS                55649\n",
       "PARK PROPERTY                          53349\n",
       "COMMERCIAL / BUSINESS OFFICE           50330\n",
       "BAR OR TAVERN                          38001\n",
       "CTA PLATFORM                           37222\n",
       "CHA APARTMENT                          36489\n",
       "DRUG STORE                             31621\n",
       "SCHOOL, PUBLIC, GROUNDS                29897\n",
       "HOTEL/MOTEL                            29310\n",
       "BANK                                   27994\n",
       "CTA TRAIN                              26029\n",
       "CHA HALLWAY/STAIRWELL/ELEVATOR         24816\n",
       "VACANT LOT/LAND                        24378\n",
       "CTA BUS                                22499\n",
       "TAVERN/LIQUOR STORE                    22208\n",
       "HOSPITAL BUILDING/GROUNDS              21695\n",
       "DRIVEWAY - RESIDENTIAL                 20199\n",
       "CONVENIENCE STORE                      18242\n",
       "POLICE FACILITY/VEH PARKING LOT        17564\n",
       "AIRPORT/AIRCRAFT                       15790\n",
       "CHURCH/SYNAGOGUE/PLACE OF WORSHIP      15269\n",
       "GOVERNMENT BUILDING/PROPERTY           14341\n",
       "NURSING HOME/RETIREMENT HOME           14334\n",
       "SCHOOL, PRIVATE, BUILDING              13934\n",
       "CONSTRUCTION SITE                      13109\n",
       "ABANDONED BUILDING                     11386\n",
       "CURRENCY EXCHANGE                      10931\n",
       "CTA GARAGE / OTHER PROPERTY            10150\n",
       "Name: Location Description, dtype: int64"
      ]
     },
     "execution_count": 35,
     "metadata": {},
     "output_type": "execute_result"
    }
   ],
   "source": [
    "chicago_crime['Location Description'].value_counts()"
   ]
  },
  {
   "cell_type": "markdown",
   "metadata": {},
   "source": [
    "### Numericalize"
   ]
  },
  {
   "cell_type": "code",
   "execution_count": 36,
   "metadata": {},
   "outputs": [],
   "source": [
    "from fastai.tabular import Categorify"
   ]
  },
  {
   "cell_type": "markdown",
   "metadata": {},
   "source": [
    "Boolean columns need to be 0/1 instead of True/False"
   ]
  },
  {
   "cell_type": "code",
   "execution_count": 37,
   "metadata": {},
   "outputs": [],
   "source": [
    "bool_vars = ['Domestic', 'Arrest']\n",
    "for c in bool_vars :\n",
    "    chicago_crime[c] = chicago_crime[c].astype(int)"
   ]
  },
  {
   "cell_type": "markdown",
   "metadata": {},
   "source": [
    "Need to numercalie categorical variables "
   ]
  },
  {
   "cell_type": "code",
   "execution_count": 38,
   "metadata": {},
   "outputs": [],
   "source": [
    "cat_vars = ['Primary Type', 'Description', 'Location Description']\n",
    "cont_vars = ['Domestic', 'Year', 'Latitude', 'Longitude', 'Hour', 'Day', 'Month', 'Week',\n",
    "       'Dayofweek', 'Dayofyear',\n",
    "       'Elapsed']"
   ]
  },
  {
   "cell_type": "code",
   "execution_count": 39,
   "metadata": {},
   "outputs": [],
   "source": [
    "cat_proc = Categorify(cat_vars, cont_vars)"
   ]
  },
  {
   "cell_type": "code",
   "execution_count": 41,
   "metadata": {},
   "outputs": [],
   "source": [
    "cat_proc.apply_train(chicago_crime)"
   ]
  },
  {
   "cell_type": "code",
   "execution_count": 42,
   "metadata": {},
   "outputs": [],
   "source": [
    "for c in cat_vars :\n",
    "    chicago_crime[c] = chicago_crime[c].cat.codes"
   ]
  },
  {
   "cell_type": "code",
   "execution_count": 43,
   "metadata": {},
   "outputs": [],
   "source": [
    "#pickle.dump(chicago_crime, open('data/chicago_crimes_processed.pkl', 'wb'))"
   ]
  },
  {
   "cell_type": "code",
   "execution_count": 2,
   "metadata": {},
   "outputs": [],
   "source": [
    "chicago_crime = pickle.load(open('data/chicago_crimes_processed.pkl', 'rb'))"
   ]
  },
  {
   "cell_type": "markdown",
   "metadata": {},
   "source": [
    "# Arrest prediction"
   ]
  },
  {
   "cell_type": "code",
   "execution_count": 68,
   "metadata": {},
   "outputs": [
    {
     "data": {
      "image/png": "[encoded data removed]",
      "text/plain": [
       "<Figure size 432x288 with 1 Axes>"
      ]
     },
     "metadata": {
      "needs_background": "light"
     },
     "output_type": "display_data"
    }
   ],
   "source": [
    "chicago_crime['Arrest'].map({1 : 'True', 0: 'False'}).value_counts().plot(kind='bar')\n",
    "plt.show()"
   ]
  },
  {
   "cell_type": "markdown",
   "metadata": {},
   "source": [
    "Dataset not very well balanced : we will use tree models (random forest/xgb)"
   ]
  },
  {
   "cell_type": "code",
   "execution_count": 48,
   "metadata": {},
   "outputs": [],
   "source": [
    "indep_vars = ['Primary Type', 'Description', 'Location Description',\n",
    "       'Domestic', 'Year', 'Latitude', 'Longitude', 'Hour',\n",
    "       'Day', 'Month']\n",
    "dep_var = 'Arrest'"
   ]
  },
  {
   "cell_type": "code",
   "execution_count": 49,
   "metadata": {},
   "outputs": [],
   "source": [
    "X, y = chicago_crime[indep_vars], chicago_crime[dep_var]"
   ]
  },
  {
   "cell_type": "code",
   "execution_count": 50,
   "metadata": {},
   "outputs": [
    {
     "data": {
      "text/html": [
       "<div>\n",
       "<style scoped>\n",
       "    .dataframe tbody tr th:only-of-type {\n",
       "        vertical-align: middle;\n",
       "    }\n",
       "\n",
       "    .dataframe tbody tr th {\n",
       "        vertical-align: top;\n",
       "    }\n",
       "\n",
       "    .dataframe thead th {\n",
       "        text-align: right;\n",
       "    }\n",
       "</style>\n",
       "<table border=\"1\" class=\"dataframe\">\n",
       "  <thead>\n",
       "    <tr style=\"text-align: right;\">\n",
       "      <th></th>\n",
       "      <th>Primary Type</th>\n",
       "      <th>Description</th>\n",
       "      <th>Location Description</th>\n",
       "      <th>Domestic</th>\n",
       "      <th>Year</th>\n",
       "      <th>Latitude</th>\n",
       "      <th>Longitude</th>\n",
       "      <th>Hour</th>\n",
       "      <th>Day</th>\n",
       "      <th>Month</th>\n",
       "    </tr>\n",
       "  </thead>\n",
       "  <tbody>\n",
       "    <tr>\n",
       "      <th>60343</th>\n",
       "      <td>17</td>\n",
       "      <td>41</td>\n",
       "      <td>27</td>\n",
       "      <td>0</td>\n",
       "      <td>2019</td>\n",
       "      <td>42.002816</td>\n",
       "      <td>-87.906094</td>\n",
       "      <td>19</td>\n",
       "      <td>3</td>\n",
       "      <td>1</td>\n",
       "    </tr>\n",
       "    <tr>\n",
       "      <th>62270</th>\n",
       "      <td>2</td>\n",
       "      <td>55</td>\n",
       "      <td>41</td>\n",
       "      <td>0</td>\n",
       "      <td>2019</td>\n",
       "      <td>41.883369</td>\n",
       "      <td>-87.633860</td>\n",
       "      <td>18</td>\n",
       "      <td>16</td>\n",
       "      <td>3</td>\n",
       "    </tr>\n",
       "    <tr>\n",
       "      <th>62611</th>\n",
       "      <td>20</td>\n",
       "      <td>0</td>\n",
       "      <td>34</td>\n",
       "      <td>0</td>\n",
       "      <td>2019</td>\n",
       "      <td>41.825347</td>\n",
       "      <td>-87.606781</td>\n",
       "      <td>22</td>\n",
       "      <td>12</td>\n",
       "      <td>3</td>\n",
       "    </tr>\n",
       "    <tr>\n",
       "      <th>62644</th>\n",
       "      <td>2</td>\n",
       "      <td>55</td>\n",
       "      <td>31</td>\n",
       "      <td>0</td>\n",
       "      <td>2019</td>\n",
       "      <td>42.016542</td>\n",
       "      <td>-87.672499</td>\n",
       "      <td>19</td>\n",
       "      <td>14</td>\n",
       "      <td>3</td>\n",
       "    </tr>\n",
       "    <tr>\n",
       "      <th>62645</th>\n",
       "      <td>15</td>\n",
       "      <td>43</td>\n",
       "      <td>41</td>\n",
       "      <td>1</td>\n",
       "      <td>2019</td>\n",
       "      <td>41.825299</td>\n",
       "      <td>-87.606961</td>\n",
       "      <td>16</td>\n",
       "      <td>14</td>\n",
       "      <td>3</td>\n",
       "    </tr>\n",
       "  </tbody>\n",
       "</table>\n",
       "</div>"
      ],
      "text/plain": [
       "       Primary Type  Description  Location Description  Domestic  Year  \\\n",
       "60343            17           41                    27         0  2019   \n",
       "62270             2           55                    41         0  2019   \n",
       "62611            20            0                    34         0  2019   \n",
       "62644             2           55                    31         0  2019   \n",
       "62645            15           43                    41         1  2019   \n",
       "\n",
       "        Latitude  Longitude  Hour  Day  Month  \n",
       "60343  42.002816 -87.906094    19    3      1  \n",
       "62270  41.883369 -87.633860    18   16      3  \n",
       "62611  41.825347 -87.606781    22   12      3  \n",
       "62644  42.016542 -87.672499    19   14      3  \n",
       "62645  41.825299 -87.606961    16   14      3  "
      ]
     },
     "execution_count": 50,
     "metadata": {},
     "output_type": "execute_result"
    }
   ],
   "source": [
    "X.head()"
   ]
  },
  {
   "cell_type": "markdown",
   "metadata": {},
   "source": [
    "### Spitting train and valid"
   ]
  },
  {
   "cell_type": "code",
   "execution_count": 3,
   "metadata": {},
   "outputs": [],
   "source": [
    "def get_sample(X, y,pctg=0.1) :\n",
    "    permu = np.random.permutation(X.shape[0])\n",
    "    idxs = permu[:int(pctg*X.shape[0])]\n",
    "    return X.iloc[idxs], y.iloc[idxs]"
   ]
  },
  {
   "cell_type": "code",
   "execution_count": 53,
   "metadata": {},
   "outputs": [],
   "source": [
    "X_sample, y_sample = get_sample(X, y, pctg=1)"
   ]
  },
  {
   "cell_type": "code",
   "execution_count": 4,
   "metadata": {},
   "outputs": [],
   "source": [
    "from sklearn.model_selection import train_test_split"
   ]
  },
  {
   "cell_type": "code",
   "execution_count": 56,
   "metadata": {},
   "outputs": [],
   "source": [
    "X_train, X_test, y_train, y_test = train_test_split(X_sample, y_sample, test_size=0.1)"
   ]
  },
  {
   "cell_type": "code",
   "execution_count": 57,
   "metadata": {},
   "outputs": [
    {
     "data": {
      "text/plain": [
       "((6260620, 10), (695625, 10), (6260620,), (695625,))"
      ]
     },
     "execution_count": 57,
     "metadata": {},
     "output_type": "execute_result"
    }
   ],
   "source": [
    "X_train.shape, X_test.shape, y_train.shape, y_test.shape"
   ]
  },
  {
   "cell_type": "code",
   "execution_count": 58,
   "metadata": {},
   "outputs": [
    {
     "data": {
      "text/html": [
       "<div>\n",
       "<style scoped>\n",
       "    .dataframe tbody tr th:only-of-type {\n",
       "        vertical-align: middle;\n",
       "    }\n",
       "\n",
       "    .dataframe tbody tr th {\n",
       "        vertical-align: top;\n",
       "    }\n",
       "\n",
       "    .dataframe thead th {\n",
       "        text-align: right;\n",
       "    }\n",
       "</style>\n",
       "<table border=\"1\" class=\"dataframe\">\n",
       "  <thead>\n",
       "    <tr style=\"text-align: right;\">\n",
       "      <th></th>\n",
       "      <th>Primary Type</th>\n",
       "      <th>Description</th>\n",
       "      <th>Location Description</th>\n",
       "      <th>Domestic</th>\n",
       "      <th>Year</th>\n",
       "      <th>Latitude</th>\n",
       "      <th>Longitude</th>\n",
       "      <th>Hour</th>\n",
       "      <th>Day</th>\n",
       "      <th>Month</th>\n",
       "    </tr>\n",
       "  </thead>\n",
       "  <tbody>\n",
       "    <tr>\n",
       "      <th>91845</th>\n",
       "      <td>1</td>\n",
       "      <td>55</td>\n",
       "      <td>41</td>\n",
       "      <td>0</td>\n",
       "      <td>2019</td>\n",
       "      <td>41.896713</td>\n",
       "      <td>-87.625586</td>\n",
       "      <td>9</td>\n",
       "      <td>18</td>\n",
       "      <td>6</td>\n",
       "    </tr>\n",
       "    <tr>\n",
       "      <th>1791573</th>\n",
       "      <td>21</td>\n",
       "      <td>71</td>\n",
       "      <td>32</td>\n",
       "      <td>0</td>\n",
       "      <td>2002</td>\n",
       "      <td>41.967099</td>\n",
       "      <td>-87.719441</td>\n",
       "      <td>0</td>\n",
       "      <td>1</td>\n",
       "      <td>1</td>\n",
       "    </tr>\n",
       "    <tr>\n",
       "      <th>2169054</th>\n",
       "      <td>2</td>\n",
       "      <td>55</td>\n",
       "      <td>37</td>\n",
       "      <td>0</td>\n",
       "      <td>2002</td>\n",
       "      <td>41.884856</td>\n",
       "      <td>-87.763346</td>\n",
       "      <td>11</td>\n",
       "      <td>9</td>\n",
       "      <td>10</td>\n",
       "    </tr>\n",
       "    <tr>\n",
       "      <th>4548172</th>\n",
       "      <td>12</td>\n",
       "      <td>46</td>\n",
       "      <td>41</td>\n",
       "      <td>0</td>\n",
       "      <td>2008</td>\n",
       "      <td>41.752624</td>\n",
       "      <td>-87.563821</td>\n",
       "      <td>20</td>\n",
       "      <td>12</td>\n",
       "      <td>1</td>\n",
       "    </tr>\n",
       "    <tr>\n",
       "      <th>1921028</th>\n",
       "      <td>2</td>\n",
       "      <td>55</td>\n",
       "      <td>31</td>\n",
       "      <td>1</td>\n",
       "      <td>2002</td>\n",
       "      <td>41.675652</td>\n",
       "      <td>-87.632205</td>\n",
       "      <td>22</td>\n",
       "      <td>15</td>\n",
       "      <td>4</td>\n",
       "    </tr>\n",
       "  </tbody>\n",
       "</table>\n",
       "</div>"
      ],
      "text/plain": [
       "         Primary Type  Description  Location Description  Domestic  Year  \\\n",
       "91845               1           55                    41         0  2019   \n",
       "1791573            21           71                    32         0  2002   \n",
       "2169054             2           55                    37         0  2002   \n",
       "4548172            12           46                    41         0  2008   \n",
       "1921028             2           55                    31         1  2002   \n",
       "\n",
       "          Latitude  Longitude  Hour  Day  Month  \n",
       "91845    41.896713 -87.625586     9   18      6  \n",
       "1791573  41.967099 -87.719441     0    1      1  \n",
       "2169054  41.884856 -87.763346    11    9     10  \n",
       "4548172  41.752624 -87.563821    20   12      1  \n",
       "1921028  41.675652 -87.632205    22   15      4  "
      ]
     },
     "execution_count": 58,
     "metadata": {},
     "output_type": "execute_result"
    }
   ],
   "source": [
    "X_train.head()"
   ]
  },
  {
   "cell_type": "markdown",
   "metadata": {},
   "source": [
    "## Random forest (bagging)"
   ]
  },
  {
   "cell_type": "code",
   "execution_count": 5,
   "metadata": {},
   "outputs": [],
   "source": [
    "from sklearn.ensemble import RandomForestClassifier\n",
    "from sklearn.metrics import f1_score"
   ]
  },
  {
   "cell_type": "code",
   "execution_count": 6,
   "metadata": {},
   "outputs": [],
   "source": [
    "def print_score(model) :\n",
    "    train_acc = model.score(X_train, y_train)\n",
    "    valid_acc = model.score(X_test, y_test)\n",
    "    train_f1 = f1_score(model.predict(X_train), y_train)\n",
    "    valid_f1 = f1_score(model.predict(X_test), y_test)\n",
    "    print(\"Train accuray : {:.3f}, Valid accuracy : {:.3f}, Train F1 score : {:.3f}, Valid F1 score : {:.3f}\".format(train_acc, valid_acc, train_f1, valid_f1))"
   ]
  },
  {
   "cell_type": "code",
   "execution_count": 61,
   "metadata": {},
   "outputs": [
    {
     "data": {
      "text/html": [
       "<div>\n",
       "<style scoped>\n",
       "    .dataframe tbody tr th:only-of-type {\n",
       "        vertical-align: middle;\n",
       "    }\n",
       "\n",
       "    .dataframe tbody tr th {\n",
       "        vertical-align: top;\n",
       "    }\n",
       "\n",
       "    .dataframe thead th {\n",
       "        text-align: right;\n",
       "    }\n",
       "</style>\n",
       "<table border=\"1\" class=\"dataframe\">\n",
       "  <thead>\n",
       "    <tr style=\"text-align: right;\">\n",
       "      <th></th>\n",
       "      <th>Primary Type</th>\n",
       "      <th>Description</th>\n",
       "      <th>Location Description</th>\n",
       "      <th>Domestic</th>\n",
       "      <th>Year</th>\n",
       "      <th>Latitude</th>\n",
       "      <th>Longitude</th>\n",
       "      <th>Hour</th>\n",
       "      <th>Day</th>\n",
       "      <th>Month</th>\n",
       "    </tr>\n",
       "  </thead>\n",
       "  <tbody>\n",
       "    <tr>\n",
       "      <th>60343</th>\n",
       "      <td>17</td>\n",
       "      <td>41</td>\n",
       "      <td>27</td>\n",
       "      <td>0</td>\n",
       "      <td>2019</td>\n",
       "      <td>42.002816</td>\n",
       "      <td>-87.906094</td>\n",
       "      <td>19</td>\n",
       "      <td>3</td>\n",
       "      <td>1</td>\n",
       "    </tr>\n",
       "    <tr>\n",
       "      <th>62270</th>\n",
       "      <td>2</td>\n",
       "      <td>55</td>\n",
       "      <td>41</td>\n",
       "      <td>0</td>\n",
       "      <td>2019</td>\n",
       "      <td>41.883369</td>\n",
       "      <td>-87.633860</td>\n",
       "      <td>18</td>\n",
       "      <td>16</td>\n",
       "      <td>3</td>\n",
       "    </tr>\n",
       "    <tr>\n",
       "      <th>62611</th>\n",
       "      <td>20</td>\n",
       "      <td>0</td>\n",
       "      <td>34</td>\n",
       "      <td>0</td>\n",
       "      <td>2019</td>\n",
       "      <td>41.825347</td>\n",
       "      <td>-87.606781</td>\n",
       "      <td>22</td>\n",
       "      <td>12</td>\n",
       "      <td>3</td>\n",
       "    </tr>\n",
       "    <tr>\n",
       "      <th>62644</th>\n",
       "      <td>2</td>\n",
       "      <td>55</td>\n",
       "      <td>31</td>\n",
       "      <td>0</td>\n",
       "      <td>2019</td>\n",
       "      <td>42.016542</td>\n",
       "      <td>-87.672499</td>\n",
       "      <td>19</td>\n",
       "      <td>14</td>\n",
       "      <td>3</td>\n",
       "    </tr>\n",
       "    <tr>\n",
       "      <th>62645</th>\n",
       "      <td>15</td>\n",
       "      <td>43</td>\n",
       "      <td>41</td>\n",
       "      <td>1</td>\n",
       "      <td>2019</td>\n",
       "      <td>41.825299</td>\n",
       "      <td>-87.606961</td>\n",
       "      <td>16</td>\n",
       "      <td>14</td>\n",
       "      <td>3</td>\n",
       "    </tr>\n",
       "  </tbody>\n",
       "</table>\n",
       "</div>"
      ],
      "text/plain": [
       "       Primary Type  Description  Location Description  Domestic  Year  \\\n",
       "60343            17           41                    27         0  2019   \n",
       "62270             2           55                    41         0  2019   \n",
       "62611            20            0                    34         0  2019   \n",
       "62644             2           55                    31         0  2019   \n",
       "62645            15           43                    41         1  2019   \n",
       "\n",
       "        Latitude  Longitude  Hour  Day  Month  \n",
       "60343  42.002816 -87.906094    19    3      1  \n",
       "62270  41.883369 -87.633860    18   16      3  \n",
       "62611  41.825347 -87.606781    22   12      3  \n",
       "62644  42.016542 -87.672499    19   14      3  \n",
       "62645  41.825299 -87.606961    16   14      3  "
      ]
     },
     "execution_count": 61,
     "metadata": {},
     "output_type": "execute_result"
    }
   ],
   "source": [
    "X.head()"
   ]
  },
  {
   "cell_type": "code",
   "execution_count": 62,
   "metadata": {},
   "outputs": [],
   "source": [
    "rf = RandomForestClassifier(n_jobs=-1)"
   ]
  },
  {
   "cell_type": "code",
   "execution_count": 63,
   "metadata": {},
   "outputs": [
    {
     "data": {
      "text/plain": [
       "RandomForestClassifier(bootstrap=True, class_weight=None, criterion='gini',\n",
       "            max_depth=None, max_features='auto', max_leaf_nodes=None,\n",
       "            min_impurity_decrease=0.0, min_impurity_split=None,\n",
       "            min_samples_leaf=1, min_samples_split=2,\n",
       "            min_weight_fraction_leaf=0.0, n_estimators=10, n_jobs=-1,\n",
       "            oob_score=False, random_state=None, verbose=0,\n",
       "            warm_start=False)"
      ]
     },
     "execution_count": 63,
     "metadata": {},
     "output_type": "execute_result"
    }
   ],
   "source": [
    "rf.fit(X_train, y_train)"
   ]
  },
  {
   "cell_type": "code",
   "execution_count": 64,
   "metadata": {},
   "outputs": [
    {
     "name": "stdout",
     "output_type": "stream",
     "text": [
      "Train accuray : 0.986, Valid accuracy : 0.882, Train F1 score : 0.975, Valid F1 score : 0.753\n"
     ]
    }
   ],
   "source": [
    "print_score(rf)"
   ]
  },
  {
   "cell_type": "code",
   "execution_count": 65,
   "metadata": {},
   "outputs": [],
   "source": [
    "pickle.dump((rf, cat_proc), open('data/randomforest.pkl', 'wb'))"
   ]
  },
  {
   "cell_type": "markdown",
   "metadata": {},
   "source": [
    "## XBG (boosting)"
   ]
  },
  {
   "cell_type": "code",
   "execution_count": 88,
   "metadata": {},
   "outputs": [],
   "source": [
    "from xgboost import XGBClassifier"
   ]
  },
  {
   "cell_type": "code",
   "execution_count": 89,
   "metadata": {},
   "outputs": [],
   "source": [
    "xg = XGBClassifier(n_jobs=-1)"
   ]
  },
  {
   "cell_type": "code",
   "execution_count": 90,
   "metadata": {},
   "outputs": [
    {
     "name": "stdout",
     "output_type": "stream",
     "text": [
      "[0]\tvalidation_0-logloss:0.648242\tvalidation_1-logloss:0.648311\n",
      "Multiple eval metrics have been passed: 'validation_1-logloss' will be used for early stopping.\n",
      "\n",
      "Will train until validation_1-logloss hasn't improved in 10 rounds.\n",
      "[1]\tvalidation_0-logloss:0.611639\tvalidation_1-logloss:0.611768\n",
      "[2]\tvalidation_0-logloss:0.581817\tvalidation_1-logloss:0.581996\n",
      "[3]\tvalidation_0-logloss:0.554158\tvalidation_1-logloss:0.554359\n",
      "[4]\tvalidation_0-logloss:0.53105\tvalidation_1-logloss:0.53127\n",
      "[5]\tvalidation_0-logloss:0.51163\tvalidation_1-logloss:0.511868\n",
      "[6]\tvalidation_0-logloss:0.495236\tvalidation_1-logloss:0.495489\n",
      "[7]\tvalidation_0-logloss:0.481302\tvalidation_1-logloss:0.481545\n",
      "[8]\tvalidation_0-logloss:0.469208\tvalidation_1-logloss:0.469484\n",
      "[9]\tvalidation_0-logloss:0.458989\tvalidation_1-logloss:0.459294\n",
      "[10]\tvalidation_0-logloss:0.449865\tvalidation_1-logloss:0.450203\n",
      "[11]\tvalidation_0-logloss:0.442406\tvalidation_1-logloss:0.44277\n",
      "[12]\tvalidation_0-logloss:0.435117\tvalidation_1-logloss:0.435485\n",
      "[13]\tvalidation_0-logloss:0.427952\tvalidation_1-logloss:0.428325\n",
      "[14]\tvalidation_0-logloss:0.421832\tvalidation_1-logloss:0.422204\n",
      "[15]\tvalidation_0-logloss:0.416942\tvalidation_1-logloss:0.417313\n",
      "[16]\tvalidation_0-logloss:0.412162\tvalidation_1-logloss:0.412556\n",
      "[17]\tvalidation_0-logloss:0.405273\tvalidation_1-logloss:0.405628\n",
      "[18]\tvalidation_0-logloss:0.401389\tvalidation_1-logloss:0.401765\n",
      "[19]\tvalidation_0-logloss:0.398005\tvalidation_1-logloss:0.398385\n",
      "[20]\tvalidation_0-logloss:0.395175\tvalidation_1-logloss:0.395559\n",
      "[21]\tvalidation_0-logloss:0.391733\tvalidation_1-logloss:0.392138\n",
      "[22]\tvalidation_0-logloss:0.386125\tvalidation_1-logloss:0.386496\n",
      "[23]\tvalidation_0-logloss:0.384079\tvalidation_1-logloss:0.384467\n",
      "[24]\tvalidation_0-logloss:0.379506\tvalidation_1-logloss:0.379854\n",
      "[25]\tvalidation_0-logloss:0.377909\tvalidation_1-logloss:0.378261\n",
      "[26]\tvalidation_0-logloss:0.374116\tvalidation_1-logloss:0.37444\n",
      "[27]\tvalidation_0-logloss:0.371698\tvalidation_1-logloss:0.372014\n",
      "[28]\tvalidation_0-logloss:0.370318\tvalidation_1-logloss:0.370639\n",
      "[29]\tvalidation_0-logloss:0.369346\tvalidation_1-logloss:0.369654\n",
      "[30]\tvalidation_0-logloss:0.368423\tvalidation_1-logloss:0.368725\n",
      "[31]\tvalidation_0-logloss:0.367629\tvalidation_1-logloss:0.367925\n",
      "[32]\tvalidation_0-logloss:0.366459\tvalidation_1-logloss:0.366754\n",
      "[33]\tvalidation_0-logloss:0.364652\tvalidation_1-logloss:0.364936\n",
      "[34]\tvalidation_0-logloss:0.363056\tvalidation_1-logloss:0.36333\n",
      "[35]\tvalidation_0-logloss:0.362111\tvalidation_1-logloss:0.362385\n",
      "[36]\tvalidation_0-logloss:0.361495\tvalidation_1-logloss:0.361759\n",
      "[37]\tvalidation_0-logloss:0.360781\tvalidation_1-logloss:0.361041\n",
      "[38]\tvalidation_0-logloss:0.35982\tvalidation_1-logloss:0.360092\n",
      "[39]\tvalidation_0-logloss:0.357093\tvalidation_1-logloss:0.357343\n",
      "[40]\tvalidation_0-logloss:0.356522\tvalidation_1-logloss:0.356767\n",
      "[41]\tvalidation_0-logloss:0.356079\tvalidation_1-logloss:0.35632\n",
      "[42]\tvalidation_0-logloss:0.355717\tvalidation_1-logloss:0.355954\n",
      "[43]\tvalidation_0-logloss:0.353472\tvalidation_1-logloss:0.353688\n",
      "[44]\tvalidation_0-logloss:0.352285\tvalidation_1-logloss:0.3525\n",
      "[45]\tvalidation_0-logloss:0.351561\tvalidation_1-logloss:0.351786\n",
      "[46]\tvalidation_0-logloss:0.351241\tvalidation_1-logloss:0.351461\n",
      "[47]\tvalidation_0-logloss:0.35016\tvalidation_1-logloss:0.350391\n",
      "[48]\tvalidation_0-logloss:0.348351\tvalidation_1-logloss:0.348564\n",
      "[49]\tvalidation_0-logloss:0.348004\tvalidation_1-logloss:0.348213\n",
      "[50]\tvalidation_0-logloss:0.347568\tvalidation_1-logloss:0.347769\n",
      "[51]\tvalidation_0-logloss:0.346223\tvalidation_1-logloss:0.346409\n",
      "[52]\tvalidation_0-logloss:0.345813\tvalidation_1-logloss:0.346002\n",
      "[53]\tvalidation_0-logloss:0.344203\tvalidation_1-logloss:0.344379\n",
      "[54]\tvalidation_0-logloss:0.343949\tvalidation_1-logloss:0.344121\n",
      "[55]\tvalidation_0-logloss:0.343676\tvalidation_1-logloss:0.343844\n",
      "[56]\tvalidation_0-logloss:0.343187\tvalidation_1-logloss:0.343354\n",
      "[57]\tvalidation_0-logloss:0.342721\tvalidation_1-logloss:0.342895\n",
      "[58]\tvalidation_0-logloss:0.341975\tvalidation_1-logloss:0.342147\n",
      "[59]\tvalidation_0-logloss:0.340981\tvalidation_1-logloss:0.341141\n",
      "[60]\tvalidation_0-logloss:0.340398\tvalidation_1-logloss:0.340552\n",
      "[61]\tvalidation_0-logloss:0.339949\tvalidation_1-logloss:0.340099\n",
      "[62]\tvalidation_0-logloss:0.339732\tvalidation_1-logloss:0.339884\n",
      "[63]\tvalidation_0-logloss:0.339572\tvalidation_1-logloss:0.339721\n",
      "[64]\tvalidation_0-logloss:0.339018\tvalidation_1-logloss:0.339172\n",
      "[65]\tvalidation_0-logloss:0.338333\tvalidation_1-logloss:0.338487\n",
      "[66]\tvalidation_0-logloss:0.338146\tvalidation_1-logloss:0.338302\n",
      "[67]\tvalidation_0-logloss:0.337708\tvalidation_1-logloss:0.337859\n",
      "[68]\tvalidation_0-logloss:0.337331\tvalidation_1-logloss:0.337476\n",
      "[69]\tvalidation_0-logloss:0.336803\tvalidation_1-logloss:0.336949\n",
      "[70]\tvalidation_0-logloss:0.336548\tvalidation_1-logloss:0.336693\n",
      "[71]\tvalidation_0-logloss:0.335865\tvalidation_1-logloss:0.336017\n",
      "[72]\tvalidation_0-logloss:0.335547\tvalidation_1-logloss:0.335712\n",
      "[73]\tvalidation_0-logloss:0.335013\tvalidation_1-logloss:0.335182\n",
      "[74]\tvalidation_0-logloss:0.334569\tvalidation_1-logloss:0.334732\n",
      "[75]\tvalidation_0-logloss:0.333922\tvalidation_1-logloss:0.334096\n",
      "[76]\tvalidation_0-logloss:0.333777\tvalidation_1-logloss:0.333949\n",
      "[77]\tvalidation_0-logloss:0.332852\tvalidation_1-logloss:0.333016\n",
      "[78]\tvalidation_0-logloss:0.332522\tvalidation_1-logloss:0.332678\n",
      "[79]\tvalidation_0-logloss:0.331985\tvalidation_1-logloss:0.332131\n",
      "[80]\tvalidation_0-logloss:0.331764\tvalidation_1-logloss:0.331922\n",
      "[81]\tvalidation_0-logloss:0.331359\tvalidation_1-logloss:0.331503\n",
      "[82]\tvalidation_0-logloss:0.330986\tvalidation_1-logloss:0.331135\n",
      "[83]\tvalidation_0-logloss:0.329994\tvalidation_1-logloss:0.330129\n",
      "[84]\tvalidation_0-logloss:0.3298\tvalidation_1-logloss:0.329934\n",
      "[85]\tvalidation_0-logloss:0.329185\tvalidation_1-logloss:0.329312\n",
      "[86]\tvalidation_0-logloss:0.328825\tvalidation_1-logloss:0.328952\n",
      "[87]\tvalidation_0-logloss:0.328656\tvalidation_1-logloss:0.328781\n",
      "[88]\tvalidation_0-logloss:0.328344\tvalidation_1-logloss:0.328467\n",
      "[89]\tvalidation_0-logloss:0.328178\tvalidation_1-logloss:0.328301\n",
      "[90]\tvalidation_0-logloss:0.327635\tvalidation_1-logloss:0.327752\n",
      "[91]\tvalidation_0-logloss:0.327396\tvalidation_1-logloss:0.327507\n",
      "[92]\tvalidation_0-logloss:0.327194\tvalidation_1-logloss:0.327301\n",
      "[93]\tvalidation_0-logloss:0.326852\tvalidation_1-logloss:0.32695\n",
      "[94]\tvalidation_0-logloss:0.326674\tvalidation_1-logloss:0.326774\n",
      "[95]\tvalidation_0-logloss:0.326526\tvalidation_1-logloss:0.326619\n",
      "[96]\tvalidation_0-logloss:0.326459\tvalidation_1-logloss:0.326554\n",
      "[97]\tvalidation_0-logloss:0.326091\tvalidation_1-logloss:0.326187\n",
      "[98]\tvalidation_0-logloss:0.325995\tvalidation_1-logloss:0.326094\n",
      "[99]\tvalidation_0-logloss:0.325758\tvalidation_1-logloss:0.325849\n"
     ]
    },
    {
     "data": {
      "text/plain": [
       "XGBClassifier(base_score=0.5, booster='gbtree', colsample_bylevel=1,\n",
       "       colsample_bytree=1, gamma=0, learning_rate=0.1, max_delta_step=0,\n",
       "       max_depth=3, min_child_weight=1, missing=None, n_estimators=100,\n",
       "       n_jobs=-1, nthread=None, objective='binary:logistic',\n",
       "       random_state=0, reg_alpha=0, reg_lambda=1, scale_pos_weight=1,\n",
       "       seed=None, silent=True, subsample=1)"
      ]
     },
     "execution_count": 90,
     "metadata": {},
     "output_type": "execute_result"
    }
   ],
   "source": [
    "xg.fit(X_train, y_train, eval_set=[(X_train, y_train), (X_test, y_test)], eval_metric='logloss', early_stopping_rounds=10, verbose=True)"
   ]
  },
  {
   "cell_type": "code",
   "execution_count": 91,
   "metadata": {},
   "outputs": [
    {
     "name": "stdout",
     "output_type": "stream",
     "text": [
      "Train accuray : 0.874, Valid accuracy : 0.873, Train F1 score : 0.726, Valid F1 score : 0.726\n"
     ]
    }
   ],
   "source": [
    "print_score(xg)"
   ]
  },
  {
   "cell_type": "code",
   "execution_count": 92,
   "metadata": {},
   "outputs": [],
   "source": [
    "pickle.dump((xg, cat_proc), open('data/xgb.pkl', 'wb'))"
   ]
  },
  {
   "cell_type": "markdown",
   "metadata": {},
   "source": [
    "## Feature importance"
   ]
  },
  {
   "cell_type": "code",
   "execution_count": 66,
   "metadata": {},
   "outputs": [],
   "source": [
    "rf_feat_imp = pd.DataFrame({'Feature' : X.columns, 'importance' : rf.feature_importances_})\n",
    "rf_feat_imp.sort_values('importance', inplace=True)"
   ]
  },
  {
   "cell_type": "code",
   "execution_count": 67,
   "metadata": {},
   "outputs": [
    {
     "data": {
      "image/png": "[encoded data removed]",
      "text/plain": [
       "<Figure size 864x504 with 1 Axes>"
      ]
     },
     "metadata": {
      "needs_background": "light"
     },
     "output_type": "display_data"
    }
   ],
   "source": [
    "rf_feat_imp.plot('Feature', 'importance', 'barh', figsize=(12, 7), legend=False)\n",
    "plt.show()"
   ]
  },
  {
   "cell_type": "markdown",
   "metadata": {},
   "source": [
    "# Type prediciton "
   ]
  },
  {
   "cell_type": "code",
   "execution_count": 7,
   "metadata": {},
   "outputs": [],
   "source": [
    "indep_vars = ['Arrest', 'Description', 'Location Description',\n",
    "       'Domestic', 'Year', 'Latitude', 'Longitude', 'Hour',\n",
    "       'Day', 'Month']\n",
    "dep_var = 'Primary Type'"
   ]
  },
  {
   "cell_type": "code",
   "execution_count": 8,
   "metadata": {},
   "outputs": [],
   "source": [
    "X, y = chicago_crime[indep_vars], chicago_crime[dep_var]"
   ]
  },
  {
   "cell_type": "code",
   "execution_count": 9,
   "metadata": {},
   "outputs": [
    {
     "data": {
      "text/html": [
       "<div>\n",
       "<style scoped>\n",
       "    .dataframe tbody tr th:only-of-type {\n",
       "        vertical-align: middle;\n",
       "    }\n",
       "\n",
       "    .dataframe tbody tr th {\n",
       "        vertical-align: top;\n",
       "    }\n",
       "\n",
       "    .dataframe thead th {\n",
       "        text-align: right;\n",
       "    }\n",
       "</style>\n",
       "<table border=\"1\" class=\"dataframe\">\n",
       "  <thead>\n",
       "    <tr style=\"text-align: right;\">\n",
       "      <th></th>\n",
       "      <th>Arrest</th>\n",
       "      <th>Description</th>\n",
       "      <th>Location Description</th>\n",
       "      <th>Domestic</th>\n",
       "      <th>Year</th>\n",
       "      <th>Latitude</th>\n",
       "      <th>Longitude</th>\n",
       "      <th>Hour</th>\n",
       "      <th>Day</th>\n",
       "      <th>Month</th>\n",
       "    </tr>\n",
       "  </thead>\n",
       "  <tbody>\n",
       "    <tr>\n",
       "      <th>60343</th>\n",
       "      <td>0</td>\n",
       "      <td>41</td>\n",
       "      <td>27</td>\n",
       "      <td>0</td>\n",
       "      <td>2019</td>\n",
       "      <td>42.002816</td>\n",
       "      <td>-87.906094</td>\n",
       "      <td>19</td>\n",
       "      <td>3</td>\n",
       "      <td>1</td>\n",
       "    </tr>\n",
       "    <tr>\n",
       "      <th>62270</th>\n",
       "      <td>0</td>\n",
       "      <td>55</td>\n",
       "      <td>41</td>\n",
       "      <td>0</td>\n",
       "      <td>2019</td>\n",
       "      <td>41.883369</td>\n",
       "      <td>-87.633860</td>\n",
       "      <td>18</td>\n",
       "      <td>16</td>\n",
       "      <td>3</td>\n",
       "    </tr>\n",
       "    <tr>\n",
       "      <th>62611</th>\n",
       "      <td>0</td>\n",
       "      <td>0</td>\n",
       "      <td>34</td>\n",
       "      <td>0</td>\n",
       "      <td>2019</td>\n",
       "      <td>41.825347</td>\n",
       "      <td>-87.606781</td>\n",
       "      <td>22</td>\n",
       "      <td>12</td>\n",
       "      <td>3</td>\n",
       "    </tr>\n",
       "    <tr>\n",
       "      <th>62644</th>\n",
       "      <td>0</td>\n",
       "      <td>55</td>\n",
       "      <td>31</td>\n",
       "      <td>0</td>\n",
       "      <td>2019</td>\n",
       "      <td>42.016542</td>\n",
       "      <td>-87.672499</td>\n",
       "      <td>19</td>\n",
       "      <td>14</td>\n",
       "      <td>3</td>\n",
       "    </tr>\n",
       "    <tr>\n",
       "      <th>62645</th>\n",
       "      <td>0</td>\n",
       "      <td>43</td>\n",
       "      <td>41</td>\n",
       "      <td>1</td>\n",
       "      <td>2019</td>\n",
       "      <td>41.825299</td>\n",
       "      <td>-87.606961</td>\n",
       "      <td>16</td>\n",
       "      <td>14</td>\n",
       "      <td>3</td>\n",
       "    </tr>\n",
       "  </tbody>\n",
       "</table>\n",
       "</div>"
      ],
      "text/plain": [
       "       Arrest  Description  Location Description  Domestic  Year   Latitude  \\\n",
       "60343       0           41                    27         0  2019  42.002816   \n",
       "62270       0           55                    41         0  2019  41.883369   \n",
       "62611       0            0                    34         0  2019  41.825347   \n",
       "62644       0           55                    31         0  2019  42.016542   \n",
       "62645       0           43                    41         1  2019  41.825299   \n",
       "\n",
       "       Longitude  Hour  Day  Month  \n",
       "60343 -87.906094    19    3      1  \n",
       "62270 -87.633860    18   16      3  \n",
       "62611 -87.606781    22   12      3  \n",
       "62644 -87.672499    19   14      3  \n",
       "62645 -87.606961    16   14      3  "
      ]
     },
     "execution_count": 9,
     "metadata": {},
     "output_type": "execute_result"
    }
   ],
   "source": [
    "X.head()"
   ]
  },
  {
   "cell_type": "code",
   "execution_count": 10,
   "metadata": {},
   "outputs": [
    {
     "data": {
      "text/plain": [
       "60343    17\n",
       "62270     2\n",
       "62611    20\n",
       "62644     2\n",
       "62645    15\n",
       "Name: Primary Type, dtype: int8"
      ]
     },
     "execution_count": 10,
     "metadata": {},
     "output_type": "execute_result"
    }
   ],
   "source": [
    "y.head()"
   ]
  },
  {
   "cell_type": "markdown",
   "metadata": {},
   "source": [
    "### Spitting train and valid"
   ]
  },
  {
   "cell_type": "code",
   "execution_count": 14,
   "metadata": {},
   "outputs": [],
   "source": [
    "X_sample, y_sample = get_sample(X, y, pctg=1)"
   ]
  },
  {
   "cell_type": "code",
   "execution_count": 15,
   "metadata": {},
   "outputs": [],
   "source": [
    "X_train, X_test, y_train, y_test = train_test_split(X_sample, y_sample, test_size=0.1)"
   ]
  },
  {
   "cell_type": "code",
   "execution_count": 16,
   "metadata": {},
   "outputs": [
    {
     "data": {
      "text/plain": [
       "((6260620, 10), (695625, 10), (6260620,), (695625,))"
      ]
     },
     "execution_count": 16,
     "metadata": {},
     "output_type": "execute_result"
    }
   ],
   "source": [
    "X_train.shape, X_test.shape, y_train.shape, y_test.shape"
   ]
  },
  {
   "cell_type": "code",
   "execution_count": 17,
   "metadata": {},
   "outputs": [
    {
     "data": {
      "text/html": [
       "<div>\n",
       "<style scoped>\n",
       "    .dataframe tbody tr th:only-of-type {\n",
       "        vertical-align: middle;\n",
       "    }\n",
       "\n",
       "    .dataframe tbody tr th {\n",
       "        vertical-align: top;\n",
       "    }\n",
       "\n",
       "    .dataframe thead th {\n",
       "        text-align: right;\n",
       "    }\n",
       "</style>\n",
       "<table border=\"1\" class=\"dataframe\">\n",
       "  <thead>\n",
       "    <tr style=\"text-align: right;\">\n",
       "      <th></th>\n",
       "      <th>Arrest</th>\n",
       "      <th>Description</th>\n",
       "      <th>Location Description</th>\n",
       "      <th>Domestic</th>\n",
       "      <th>Year</th>\n",
       "      <th>Latitude</th>\n",
       "      <th>Longitude</th>\n",
       "      <th>Hour</th>\n",
       "      <th>Day</th>\n",
       "      <th>Month</th>\n",
       "    </tr>\n",
       "  </thead>\n",
       "  <tbody>\n",
       "    <tr>\n",
       "      <th>4488084</th>\n",
       "      <td>0</td>\n",
       "      <td>31</td>\n",
       "      <td>5</td>\n",
       "      <td>0</td>\n",
       "      <td>2007</td>\n",
       "      <td>41.756701</td>\n",
       "      <td>-87.709927</td>\n",
       "      <td>22</td>\n",
       "      <td>9</td>\n",
       "      <td>11</td>\n",
       "    </tr>\n",
       "    <tr>\n",
       "      <th>5944517</th>\n",
       "      <td>1</td>\n",
       "      <td>4</td>\n",
       "      <td>3</td>\n",
       "      <td>1</td>\n",
       "      <td>2011</td>\n",
       "      <td>41.792134</td>\n",
       "      <td>-87.670992</td>\n",
       "      <td>9</td>\n",
       "      <td>31</td>\n",
       "      <td>8</td>\n",
       "    </tr>\n",
       "    <tr>\n",
       "      <th>3942340</th>\n",
       "      <td>0</td>\n",
       "      <td>22</td>\n",
       "      <td>31</td>\n",
       "      <td>1</td>\n",
       "      <td>2006</td>\n",
       "      <td>41.910417</td>\n",
       "      <td>-87.734893</td>\n",
       "      <td>6</td>\n",
       "      <td>30</td>\n",
       "      <td>8</td>\n",
       "    </tr>\n",
       "    <tr>\n",
       "      <th>2371740</th>\n",
       "      <td>0</td>\n",
       "      <td>2</td>\n",
       "      <td>32</td>\n",
       "      <td>0</td>\n",
       "      <td>2003</td>\n",
       "      <td>41.908636</td>\n",
       "      <td>-87.754700</td>\n",
       "      <td>19</td>\n",
       "      <td>30</td>\n",
       "      <td>3</td>\n",
       "    </tr>\n",
       "    <tr>\n",
       "      <th>4265264</th>\n",
       "      <td>0</td>\n",
       "      <td>64</td>\n",
       "      <td>3</td>\n",
       "      <td>0</td>\n",
       "      <td>2007</td>\n",
       "      <td>41.925635</td>\n",
       "      <td>-87.697434</td>\n",
       "      <td>1</td>\n",
       "      <td>26</td>\n",
       "      <td>5</td>\n",
       "    </tr>\n",
       "  </tbody>\n",
       "</table>\n",
       "</div>"
      ],
      "text/plain": [
       "         Arrest  Description  Location Description  Domestic  Year   Latitude  \\\n",
       "4488084       0           31                     5         0  2007  41.756701   \n",
       "5944517       1            4                     3         1  2011  41.792134   \n",
       "3942340       0           22                    31         1  2006  41.910417   \n",
       "2371740       0            2                    32         0  2003  41.908636   \n",
       "4265264       0           64                     3         0  2007  41.925635   \n",
       "\n",
       "         Longitude  Hour  Day  Month  \n",
       "4488084 -87.709927    22    9     11  \n",
       "5944517 -87.670992     9   31      8  \n",
       "3942340 -87.734893     6   30      8  \n",
       "2371740 -87.754700    19   30      3  \n",
       "4265264 -87.697434     1   26      5  "
      ]
     },
     "execution_count": 17,
     "metadata": {},
     "output_type": "execute_result"
    }
   ],
   "source": [
    "X_train.head()"
   ]
  },
  {
   "cell_type": "markdown",
   "metadata": {},
   "source": [
    "## Random forest"
   ]
  },
  {
   "cell_type": "code",
   "execution_count": 18,
   "metadata": {},
   "outputs": [],
   "source": [
    "rf_type = RandomForestClassifier(n_jobs=-1)"
   ]
  },
  {
   "cell_type": "code",
   "execution_count": 19,
   "metadata": {},
   "outputs": [
    {
     "data": {
      "text/plain": [
       "RandomForestClassifier(bootstrap=True, class_weight=None, criterion='gini',\n",
       "            max_depth=None, max_features='auto', max_leaf_nodes=None,\n",
       "            min_impurity_decrease=0.0, min_impurity_split=None,\n",
       "            min_samples_leaf=1, min_samples_split=2,\n",
       "            min_weight_fraction_leaf=0.0, n_estimators=10, n_jobs=-1,\n",
       "            oob_score=False, random_state=None, verbose=0,\n",
       "            warm_start=False)"
      ]
     },
     "execution_count": 19,
     "metadata": {},
     "output_type": "execute_result"
    }
   ],
   "source": [
    "rf_type.fit(X_train, y_train)"
   ]
  },
  {
   "cell_type": "code",
   "execution_count": null,
   "metadata": {},
   "outputs": [],
   "source": [
    "print_score(rf_type)"
   ]
  },
  {
   "cell_type": "code",
   "execution_count": 21,
   "metadata": {},
   "outputs": [],
   "source": [
    "pickle.dump(rf_type, open('data/randomforest_type.pkl', 'wb'))"
   ]
  },
  {
   "cell_type": "code",
   "execution_count": null,
   "metadata": {},
   "outputs": [],
   "source": []
  },
  {
   "cell_type": "code",
   "execution_count": null,
   "metadata": {},
   "outputs": [],
   "source": [
    "{'NARCOTICS' : ['NARCOTICS', 'OTHER NARCOTIC VIOLATION']}"
   ]
  }
 ],
 "metadata": {
  "kernelspec": {
   "display_name": "Python 3",
   "language": "python",
   "name": "python3"
  },
  "language_info": {
   "codemirror_mode": {
    "name": "ipython",
    "version": 3
   },
   "file_extension": ".py",
   "mimetype": "text/x-python",
   "name": "python",
   "nbconvert_exporter": "python",
   "pygments_lexer": "ipython3",
   "version": "3.7.2"
  }
 },
 "nbformat": 4,
 "nbformat_minor": 2
}
